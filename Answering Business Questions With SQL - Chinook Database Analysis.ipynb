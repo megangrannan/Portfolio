{
 "cells": [
  {
   "cell_type": "markdown",
   "metadata": {},
   "source": [
    "# Using SQL To Answer Business Questions on the Chinook Database\n",
    "\n",
    "In this project, we will use SQL to answer business questions on the Chinook company database. Chinook is a fictional online music store that sells music in a variety of formats. This database contains information about Chinook's sales, employees, and customers. \n",
    "\n",
    "We will run queries with the goal of answering the following questions:\n",
    "- We have a choice of 4 new albums to purchase, each from a different genre. Which ones should we choose?\n",
    "- How can we compare the performance of our company's sales agents?\n",
    "- Where are most of our sales? Which countries offer the best business opportunities?\n",
    "- Should we keep selling full albums, or just sell individual tracks?\n",
    "- Which artist is used most in playlists?\n",
    "- How many tracks have been purchased vs. not purchased?\n",
    "- What tracks, albums, and artists are most popular? \n",
    "- Is the range of tracks in the store reflective of their sales popularity? Are there any undervalued genres to expand in, or genres to cut back Chinook's offerings?\n",
    "- Do protected vs. non-protected music formats impact sales?"
   ]
  },
  {
   "cell_type": "markdown",
   "metadata": {},
   "source": [
    "## Read and Explore Database"
   ]
  },
  {
   "cell_type": "code",
   "execution_count": 1,
   "metadata": {
    "collapsed": false
   },
   "outputs": [
    {
     "data": {
      "text/plain": [
       "'Connected: None@chinook.db'"
      ]
     },
     "execution_count": 1,
     "metadata": {},
     "output_type": "execute_result"
    }
   ],
   "source": [
    "%%capture\n",
    "%load_ext sql\n",
    "%sql sqlite:///chinook.db"
   ]
  },
  {
   "cell_type": "code",
   "execution_count": 2,
   "metadata": {
    "collapsed": false,
    "scrolled": false
   },
   "outputs": [
    {
     "name": "stdout",
     "output_type": "stream",
     "text": [
      "Done.\n"
     ]
    },
    {
     "data": {
      "text/html": [
       "<table>\n",
       "    <tr>\n",
       "        <th>name</th>\n",
       "        <th>type</th>\n",
       "    </tr>\n",
       "    <tr>\n",
       "        <td>album</td>\n",
       "        <td>table</td>\n",
       "    </tr>\n",
       "    <tr>\n",
       "        <td>artist</td>\n",
       "        <td>table</td>\n",
       "    </tr>\n",
       "    <tr>\n",
       "        <td>customer</td>\n",
       "        <td>table</td>\n",
       "    </tr>\n",
       "    <tr>\n",
       "        <td>employee</td>\n",
       "        <td>table</td>\n",
       "    </tr>\n",
       "    <tr>\n",
       "        <td>genre</td>\n",
       "        <td>table</td>\n",
       "    </tr>\n",
       "    <tr>\n",
       "        <td>invoice</td>\n",
       "        <td>table</td>\n",
       "    </tr>\n",
       "    <tr>\n",
       "        <td>invoice_line</td>\n",
       "        <td>table</td>\n",
       "    </tr>\n",
       "    <tr>\n",
       "        <td>media_type</td>\n",
       "        <td>table</td>\n",
       "    </tr>\n",
       "    <tr>\n",
       "        <td>playlist</td>\n",
       "        <td>table</td>\n",
       "    </tr>\n",
       "    <tr>\n",
       "        <td>playlist_track</td>\n",
       "        <td>table</td>\n",
       "    </tr>\n",
       "    <tr>\n",
       "        <td>track</td>\n",
       "        <td>table</td>\n",
       "    </tr>\n",
       "</table>"
      ],
      "text/plain": [
       "[('album', 'table'),\n",
       " ('artist', 'table'),\n",
       " ('customer', 'table'),\n",
       " ('employee', 'table'),\n",
       " ('genre', 'table'),\n",
       " ('invoice', 'table'),\n",
       " ('invoice_line', 'table'),\n",
       " ('media_type', 'table'),\n",
       " ('playlist', 'table'),\n",
       " ('playlist_track', 'table'),\n",
       " ('track', 'table')]"
      ]
     },
     "execution_count": 2,
     "metadata": {},
     "output_type": "execute_result"
    }
   ],
   "source": [
    "%%sql\n",
    "SELECT \n",
    "    name, \n",
    "    type\n",
    "FROM sqlite_master\n",
    "WHERE type in ('table', 'VIEW');"
   ]
  },
  {
   "cell_type": "markdown",
   "metadata": {},
   "source": [
    "Chinook's database contains 11 tables, as listed above. The schema for the database can be found here:\n",
    "<img src=\"https://s3.amazonaws.com/dq-content/191/chinook-schema.svg\" alt=\"chinook schema\"/>"
   ]
  },
  {
   "cell_type": "code",
   "execution_count": 3,
   "metadata": {
    "collapsed": false
   },
   "outputs": [
    {
     "name": "stdout",
     "output_type": "stream",
     "text": [
      "Done.\n"
     ]
    },
    {
     "data": {
      "text/html": [
       "<table>\n",
       "    <tr>\n",
       "        <th>invoice_line_id</th>\n",
       "        <th>invoice_id</th>\n",
       "        <th>track_id</th>\n",
       "        <th>unit_price</th>\n",
       "        <th>quantity</th>\n",
       "    </tr>\n",
       "    <tr>\n",
       "        <td>1</td>\n",
       "        <td>1</td>\n",
       "        <td>1158</td>\n",
       "        <td>0.99</td>\n",
       "        <td>1</td>\n",
       "    </tr>\n",
       "    <tr>\n",
       "        <td>2</td>\n",
       "        <td>1</td>\n",
       "        <td>1159</td>\n",
       "        <td>0.99</td>\n",
       "        <td>1</td>\n",
       "    </tr>\n",
       "    <tr>\n",
       "        <td>3</td>\n",
       "        <td>1</td>\n",
       "        <td>1160</td>\n",
       "        <td>0.99</td>\n",
       "        <td>1</td>\n",
       "    </tr>\n",
       "    <tr>\n",
       "        <td>4</td>\n",
       "        <td>1</td>\n",
       "        <td>1161</td>\n",
       "        <td>0.99</td>\n",
       "        <td>1</td>\n",
       "    </tr>\n",
       "    <tr>\n",
       "        <td>5</td>\n",
       "        <td>1</td>\n",
       "        <td>1162</td>\n",
       "        <td>0.99</td>\n",
       "        <td>1</td>\n",
       "    </tr>\n",
       "</table>"
      ],
      "text/plain": [
       "[(1, 1, 1158, 0.99, 1),\n",
       " (2, 1, 1159, 0.99, 1),\n",
       " (3, 1, 1160, 0.99, 1),\n",
       " (4, 1, 1161, 0.99, 1),\n",
       " (5, 1, 1162, 0.99, 1)]"
      ]
     },
     "execution_count": 3,
     "metadata": {},
     "output_type": "execute_result"
    }
   ],
   "source": [
    "%%sql\n",
    "SELECT * \n",
    "FROM invoice_line\n",
    "LIMIT 5;"
   ]
  },
  {
   "cell_type": "markdown",
   "metadata": {},
   "source": [
    "## Selecting Albums to Purchase\n",
    "\n",
    "The Chinook record store has just signed a deal with a new record label, and we are asked to pick the first three albums the store should purchase, from a list of four. All four albums are by artists that don't have any tracks in the store right now - we have the artist names, and the genre of music they produce (Hip Hop, Punk, Pop, and Blues).  The record label specializes in artists from the USA, and they have given Chinook some money to advertise the new albums in the USA, so we're interested in finding out which genres sell the best in the USA."
   ]
  },
  {
   "cell_type": "code",
   "execution_count": 6,
   "metadata": {
    "collapsed": false
   },
   "outputs": [
    {
     "name": "stdout",
     "output_type": "stream",
     "text": [
      "Done.\n"
     ]
    },
    {
     "data": {
      "text/html": [
       "<table>\n",
       "    <tr>\n",
       "        <th>genre</th>\n",
       "        <th>total_tracks</th>\n",
       "        <th>percentage</th>\n",
       "    </tr>\n",
       "    <tr>\n",
       "        <td>Rock</td>\n",
       "        <td>561</td>\n",
       "        <td>53.38</td>\n",
       "    </tr>\n",
       "    <tr>\n",
       "        <td>Alternative &amp; Punk</td>\n",
       "        <td>130</td>\n",
       "        <td>12.37</td>\n",
       "    </tr>\n",
       "    <tr>\n",
       "        <td>Metal</td>\n",
       "        <td>124</td>\n",
       "        <td>11.8</td>\n",
       "    </tr>\n",
       "    <tr>\n",
       "        <td>R&amp;B/Soul</td>\n",
       "        <td>53</td>\n",
       "        <td>5.04</td>\n",
       "    </tr>\n",
       "    <tr>\n",
       "        <td>Blues</td>\n",
       "        <td>36</td>\n",
       "        <td>3.43</td>\n",
       "    </tr>\n",
       "    <tr>\n",
       "        <td>Alternative</td>\n",
       "        <td>35</td>\n",
       "        <td>3.33</td>\n",
       "    </tr>\n",
       "    <tr>\n",
       "        <td>Latin</td>\n",
       "        <td>22</td>\n",
       "        <td>2.09</td>\n",
       "    </tr>\n",
       "    <tr>\n",
       "        <td>Pop</td>\n",
       "        <td>22</td>\n",
       "        <td>2.09</td>\n",
       "    </tr>\n",
       "    <tr>\n",
       "        <td>Hip Hop/Rap</td>\n",
       "        <td>20</td>\n",
       "        <td>1.9</td>\n",
       "    </tr>\n",
       "    <tr>\n",
       "        <td>Jazz</td>\n",
       "        <td>14</td>\n",
       "        <td>1.33</td>\n",
       "    </tr>\n",
       "    <tr>\n",
       "        <td>Easy Listening</td>\n",
       "        <td>13</td>\n",
       "        <td>1.24</td>\n",
       "    </tr>\n",
       "    <tr>\n",
       "        <td>Reggae</td>\n",
       "        <td>6</td>\n",
       "        <td>0.57</td>\n",
       "    </tr>\n",
       "    <tr>\n",
       "        <td>Electronica/Dance</td>\n",
       "        <td>5</td>\n",
       "        <td>0.48</td>\n",
       "    </tr>\n",
       "    <tr>\n",
       "        <td>Classical</td>\n",
       "        <td>4</td>\n",
       "        <td>0.38</td>\n",
       "    </tr>\n",
       "    <tr>\n",
       "        <td>Heavy Metal</td>\n",
       "        <td>3</td>\n",
       "        <td>0.29</td>\n",
       "    </tr>\n",
       "    <tr>\n",
       "        <td>Soundtrack</td>\n",
       "        <td>2</td>\n",
       "        <td>0.19</td>\n",
       "    </tr>\n",
       "    <tr>\n",
       "        <td>TV Shows</td>\n",
       "        <td>1</td>\n",
       "        <td>0.1</td>\n",
       "    </tr>\n",
       "</table>"
      ],
      "text/plain": [
       "[('Rock', 561, 53.38),\n",
       " ('Alternative & Punk', 130, 12.37),\n",
       " ('Metal', 124, 11.8),\n",
       " ('R&B/Soul', 53, 5.04),\n",
       " ('Blues', 36, 3.43),\n",
       " ('Alternative', 35, 3.33),\n",
       " ('Latin', 22, 2.09),\n",
       " ('Pop', 22, 2.09),\n",
       " ('Hip Hop/Rap', 20, 1.9),\n",
       " ('Jazz', 14, 1.33),\n",
       " ('Easy Listening', 13, 1.24),\n",
       " ('Reggae', 6, 0.57),\n",
       " ('Electronica/Dance', 5, 0.48),\n",
       " ('Classical', 4, 0.38),\n",
       " ('Heavy Metal', 3, 0.29),\n",
       " ('Soundtrack', 2, 0.19),\n",
       " ('TV Shows', 1, 0.1)]"
      ]
     },
     "execution_count": 6,
     "metadata": {},
     "output_type": "execute_result"
    }
   ],
   "source": [
    "%%sql\n",
    "WITH usa AS\n",
    "    (\n",
    "    SELECT *\n",
    "    FROM customer c\n",
    "    INNER JOIN invoice i ON i.customer_id = c.customer_id\n",
    "    INNER JOIN invoice_line il ON il.invoice_id = i.invoice_id\n",
    "    WHERE country = 'USA'\n",
    "    )\n",
    "    \n",
    "SELECT \n",
    "    g.name AS genre,\n",
    "    COUNT(usa.invoice_line_id) AS total_tracks,\n",
    "    round(CAST(COUNT(usa.invoice_line_id) as float) / (SELECT COUNT(*) FROM usa) * 100, 2) percentage\n",
    "FROM usa\n",
    "INNER JOIN track t ON t.track_id = usa.track_id\n",
    "INNER JOIN genre g ON g.genre_id = t.genre_id\n",
    "GROUP BY 1\n",
    "ORDER BY 2 DESC;"
   ]
  },
  {
   "cell_type": "markdown",
   "metadata": {
    "collapsed": true
   },
   "source": [
    "The table above shows Chinook's best selling genres in the US. The genres of the potential new artists are Hip Hop, Punk, Pop, and Blues. Since this data shows that Punk, Pop and Blues are the 3 best selling of these 4 genres, Chinook may want to purchase the albums from Red Tone (Punk), Meteor and the Girls (Pop), and Slim Jim Bites (Blues). It is worth noting that there was very little difference in the popularity of Pop vs. Hip Hop (.19%), and each of these genres made up about 2% of total sales. Therefore, if Chinook was particularly interested in expanding its Hip Hop inventory, we could elect to purchase the Hip Hop album instead of the Pop album.\n",
    "\n",
    "Together, these 4 genres make up only about 20% of total US sales. Rock is by far the best selling genre, accounting for 53% of sales alone, so if a Rock album became available in the future Chinook may want to consider purchasing it."
   ]
  },
  {
   "cell_type": "markdown",
   "metadata": {},
   "source": [
    "## Analyzing Employee Sales Performance"
   ]
  },
  {
   "cell_type": "code",
   "execution_count": 6,
   "metadata": {
    "collapsed": false
   },
   "outputs": [
    {
     "name": "stdout",
     "output_type": "stream",
     "text": [
      "Done.\n"
     ]
    },
    {
     "data": {
      "text/html": [
       "<table>\n",
       "    <tr>\n",
       "        <th>employee_name</th>\n",
       "        <th>total_sales</th>\n",
       "        <th>employee_role</th>\n",
       "        <th>hire_date</th>\n",
       "    </tr>\n",
       "    <tr>\n",
       "        <td>Jane Peacock</td>\n",
       "        <td>1731.51</td>\n",
       "        <td>Sales Support Agent</td>\n",
       "        <td>2017-04-01 00:00:00</td>\n",
       "    </tr>\n",
       "    <tr>\n",
       "        <td>Margaret Park</td>\n",
       "        <td>1584.0</td>\n",
       "        <td>Sales Support Agent</td>\n",
       "        <td>2017-05-03 00:00:00</td>\n",
       "    </tr>\n",
       "    <tr>\n",
       "        <td>Steve Johnson</td>\n",
       "        <td>1393.92</td>\n",
       "        <td>Sales Support Agent</td>\n",
       "        <td>2017-10-17 00:00:00</td>\n",
       "    </tr>\n",
       "    <tr>\n",
       "        <td>Andrew Adams</td>\n",
       "        <td>None</td>\n",
       "        <td>General Manager</td>\n",
       "        <td>2016-08-14 00:00:00</td>\n",
       "    </tr>\n",
       "    <tr>\n",
       "        <td>Nancy Edwards</td>\n",
       "        <td>None</td>\n",
       "        <td>Sales Manager</td>\n",
       "        <td>2016-05-01 00:00:00</td>\n",
       "    </tr>\n",
       "    <tr>\n",
       "        <td>Michael Mitchell</td>\n",
       "        <td>None</td>\n",
       "        <td>IT Manager</td>\n",
       "        <td>2016-10-17 00:00:00</td>\n",
       "    </tr>\n",
       "    <tr>\n",
       "        <td>Robert King</td>\n",
       "        <td>None</td>\n",
       "        <td>IT Staff</td>\n",
       "        <td>2017-01-02 00:00:00</td>\n",
       "    </tr>\n",
       "    <tr>\n",
       "        <td>Laura Callahan</td>\n",
       "        <td>None</td>\n",
       "        <td>IT Staff</td>\n",
       "        <td>2017-03-04 00:00:00</td>\n",
       "    </tr>\n",
       "</table>"
      ],
      "text/plain": [
       "[('Jane Peacock', 1731.51, 'Sales Support Agent', '2017-04-01 00:00:00'),\n",
       " ('Margaret Park', 1584.0, 'Sales Support Agent', '2017-05-03 00:00:00'),\n",
       " ('Steve Johnson', 1393.92, 'Sales Support Agent', '2017-10-17 00:00:00'),\n",
       " ('Andrew Adams', None, 'General Manager', '2016-08-14 00:00:00'),\n",
       " ('Nancy Edwards', None, 'Sales Manager', '2016-05-01 00:00:00'),\n",
       " ('Michael Mitchell', None, 'IT Manager', '2016-10-17 00:00:00'),\n",
       " ('Robert King', None, 'IT Staff', '2017-01-02 00:00:00'),\n",
       " ('Laura Callahan', None, 'IT Staff', '2017-03-04 00:00:00')]"
      ]
     },
     "execution_count": 6,
     "metadata": {},
     "output_type": "execute_result"
    }
   ],
   "source": [
    "%%sql\n",
    "WITH total_per_agent AS\n",
    "    (\n",
    "    SELECT \n",
    "        c.customer_id,\n",
    "        c.support_rep_id,\n",
    "        SUM(i.total) agent_total\n",
    "    FROM customer c\n",
    "    LEFT JOIN invoice i ON i.customer_id = c.customer_id\n",
    "    GROUP BY 2\n",
    "    )\n",
    "\n",
    "SELECT \n",
    "    e.first_name || ' ' || e.last_name AS employee_name,\n",
    "    ROUND(t.agent_total, 2) AS total_sales,\n",
    "    e.title AS employee_role,\n",
    "    e.hire_date AS hire_date\n",
    "FROM employee e\n",
    "LEFT JOIN total_per_agent t ON t.support_rep_id = e.employee_id\n",
    "ORDER BY 2 DESC;\n"
   ]
  },
  {
   "cell_type": "markdown",
   "metadata": {},
   "source": [
    "Of Chinook's 8 employees, 3 are Sales Support Agents. The difference in sales between the employees may be a result of their hire date - the employee with the earliest hire date has the most sales, and the employee with the most recent hire date has the least sales, with a total difference of about 20%. As a result, we would need additional data to compare the performance of the Sales Support Agents."
   ]
  },
  {
   "cell_type": "markdown",
   "metadata": {},
   "source": [
    "## Analyzing Sales by Country"
   ]
  },
  {
   "cell_type": "code",
   "execution_count": 7,
   "metadata": {
    "collapsed": false
   },
   "outputs": [
    {
     "name": "stdout",
     "output_type": "stream",
     "text": [
      "Done.\n"
     ]
    },
    {
     "data": {
      "text/html": [
       "<table>\n",
       "    <tr>\n",
       "        <th>country</th>\n",
       "        <th>num_cust</th>\n",
       "        <th>total_sales</th>\n",
       "        <th>avg_total_sales_per_cust</th>\n",
       "        <th>avg_order_val</th>\n",
       "    </tr>\n",
       "    <tr>\n",
       "        <td>Czech Republic</td>\n",
       "        <td>2</td>\n",
       "        <td>273.24</td>\n",
       "        <td>136.62</td>\n",
       "        <td>9.11</td>\n",
       "    </tr>\n",
       "    <tr>\n",
       "        <td>United Kingdom</td>\n",
       "        <td>3</td>\n",
       "        <td>245.52</td>\n",
       "        <td>81.84</td>\n",
       "        <td>8.77</td>\n",
       "    </tr>\n",
       "    <tr>\n",
       "        <td>India</td>\n",
       "        <td>2</td>\n",
       "        <td>183.15</td>\n",
       "        <td>91.58</td>\n",
       "        <td>8.72</td>\n",
       "    </tr>\n",
       "    <tr>\n",
       "        <td>Germany</td>\n",
       "        <td>4</td>\n",
       "        <td>334.62</td>\n",
       "        <td>83.66</td>\n",
       "        <td>8.16</td>\n",
       "    </tr>\n",
       "    <tr>\n",
       "        <td>USA</td>\n",
       "        <td>13</td>\n",
       "        <td>1040.49</td>\n",
       "        <td>80.04</td>\n",
       "        <td>7.94</td>\n",
       "    </tr>\n",
       "    <tr>\n",
       "        <td>France</td>\n",
       "        <td>5</td>\n",
       "        <td>389.07</td>\n",
       "        <td>77.81</td>\n",
       "        <td>7.78</td>\n",
       "    </tr>\n",
       "    <tr>\n",
       "        <td>Canada</td>\n",
       "        <td>8</td>\n",
       "        <td>535.59</td>\n",
       "        <td>66.95</td>\n",
       "        <td>7.05</td>\n",
       "    </tr>\n",
       "    <tr>\n",
       "        <td>Brazil</td>\n",
       "        <td>5</td>\n",
       "        <td>427.68</td>\n",
       "        <td>85.54</td>\n",
       "        <td>7.01</td>\n",
       "    </tr>\n",
       "    <tr>\n",
       "        <td>Portugal</td>\n",
       "        <td>2</td>\n",
       "        <td>185.13</td>\n",
       "        <td>92.57</td>\n",
       "        <td>6.38</td>\n",
       "    </tr>\n",
       "    <tr>\n",
       "        <td>Other</td>\n",
       "        <td>15</td>\n",
       "        <td>1094.94</td>\n",
       "        <td>73.0</td>\n",
       "        <td>7.45</td>\n",
       "    </tr>\n",
       "</table>"
      ],
      "text/plain": [
       "[('Czech Republic', 2, 273.24, 136.62, 9.11),\n",
       " ('United Kingdom', 3, 245.52, 81.84, 8.77),\n",
       " ('India', 2, 183.15, 91.58, 8.72),\n",
       " ('Germany', 4, 334.62, 83.66, 8.16),\n",
       " ('USA', 13, 1040.49, 80.04, 7.94),\n",
       " ('France', 5, 389.07, 77.81, 7.78),\n",
       " ('Canada', 8, 535.59, 66.95, 7.05),\n",
       " ('Brazil', 5, 427.68, 85.54, 7.01),\n",
       " ('Portugal', 2, 185.13, 92.57, 6.38),\n",
       " ('Other', 15, 1094.94, 73.0, 7.45)]"
      ]
     },
     "execution_count": 7,
     "metadata": {},
     "output_type": "execute_result"
    }
   ],
   "source": [
    "%%sql\n",
    "\n",
    "WITH country_or_other AS \n",
    "    (\n",
    "    SELECT \n",
    "        CASE\n",
    "            WHEN (SELECT COUNT(*) \n",
    "                  FROM customer\n",
    "                  WHERE country = c.country) = 1\n",
    "            THEN 'Other'\n",
    "            ELSE c.country\n",
    "        END AS country,\n",
    "        c.customer_id,\n",
    "        il.*\n",
    "    FROM invoice_line il\n",
    "    INNER JOIN invoice i ON i.invoice_id = il.invoice_id\n",
    "    INNER JOIN customer c on c.customer_id = i.customer_id\n",
    "    )\n",
    "    \n",
    "SELECT \n",
    "    country,\n",
    "    num_cust,\n",
    "    total_sales,\n",
    "    avg_total_sales_per_cust,\n",
    "    avg_order_val\n",
    "FROM\n",
    "    (SELECT\n",
    "        country,\n",
    "        COUNT(DISTINCT customer_id) num_cust,\n",
    "        ROUND(SUM(unit_price), 2) total_sales,\n",
    "        ROUND(CAST(SUM(unit_price) as float) / CAST (COUNT(DISTINCT customer_id) as float), 2) avg_total_sales_per_cust,\n",
    "        ROUND(CAST(SUM(unit_price) as float) / CAST(COUNT(DISTINCT invoice_id) as float), 2) avg_order_val,\n",
    "        CASE\n",
    "            WHEN country = 'Other' THEN 1\n",
    "            ELSE 0\n",
    "        END AS sort\n",
    "    FROM country_or_other\n",
    "    GROUP BY 1\n",
    "    ORDER BY sort, 5 DESC);"
   ]
  },
  {
   "cell_type": "markdown",
   "metadata": {},
   "source": [
    "The largest portion of Chinook's customers and total sales is concentrated in the North America region, specifically the USA and Canada. Since this market accounts for a large volume of sales, it is important to consider their purchasing patterns when looking at new artists or albums to add to our inventory.\n",
    "\n",
    "However, other specific countries may offer good business opportunites. The Czech Republic, Portugal, and India have the highest average lifetime values per customer. The Czech Republic, UK, India, and Germany have the highest average order value. These observations are based on limited data, as each of these countries represents only 2-4 total customers."
   ]
  },
  {
   "cell_type": "markdown",
   "metadata": {},
   "source": [
    "## Albums vs. Individual Tracks "
   ]
  },
  {
   "cell_type": "markdown",
   "metadata": {},
   "source": [
    "Currently, Chinook sells music both as individual tracks and as complete albums. Due to the higher overhead cost of stocking full albums, Chinook is debating whether to continue selling full albums, or move towards selling only individual tracks. We will compare how many sales are complete albums vs. individual tracks."
   ]
  },
  {
   "cell_type": "code",
   "execution_count": 8,
   "metadata": {
    "collapsed": false
   },
   "outputs": [
    {
     "name": "stdout",
     "output_type": "stream",
     "text": [
      "Done.\n"
     ]
    },
    {
     "data": {
      "text/html": [
       "<table>\n",
       "    <tr>\n",
       "        <th>album_purchase</th>\n",
       "        <th>num_invoices</th>\n",
       "        <th>percent_invoices</th>\n",
       "    </tr>\n",
       "    <tr>\n",
       "        <td>Album</td>\n",
       "        <td>111</td>\n",
       "        <td>18.08</td>\n",
       "    </tr>\n",
       "    <tr>\n",
       "        <td>Not album</td>\n",
       "        <td>503</td>\n",
       "        <td>81.92</td>\n",
       "    </tr>\n",
       "</table>"
      ],
      "text/plain": [
       "[('Album', 111, 18.08), ('Not album', 503, 81.92)]"
      ]
     },
     "execution_count": 8,
     "metadata": {},
     "output_type": "execute_result"
    }
   ],
   "source": [
    "%%sql\n",
    "WITH invoice_info AS \n",
    "    (\n",
    "    SELECT \n",
    "        il.invoice_id,\n",
    "        t.album_id,\n",
    "        COUNT(il.track_id) num_tracks\n",
    "    FROM invoice_line il\n",
    "    LEFT JOIN track t on t.track_id = il.track_id\n",
    "    GROUP BY invoice_id, album_id\n",
    "    ),\n",
    "    \n",
    "album_info AS\n",
    "    (\n",
    "    SELECT \n",
    "        album_id,\n",
    "        COUNT(track_id) num_tracks\n",
    "    FROM track\n",
    "    GROUP BY 1\n",
    "    )\n",
    "    \n",
    "SELECT \n",
    "    CASE\n",
    "        WHEN (SELECT num_tracks FROM album_info WHERE album_id = iv.album_id) = iv.num_tracks AND al.num_tracks > 2\n",
    "        THEN 'Album'\n",
    "        ELSE 'Not album'\n",
    "        END AS album_purchase,\n",
    "    COUNT(DISTINCT invoice_id) num_invoices,\n",
    "    ROUND(CAST(COUNT(DISTINCT invoice_id) as float) / (SELECT COUNT(DISTINCT invoice_id) FROM invoice_info) * 100, 2) percent_invoices\n",
    "FROM invoice_info iv\n",
    "LEFT JOIN album_info al on al.album_id = iv.album_id\n",
    "GROUP BY album_purchase\n",
    "LIMIT 20;"
   ]
  },
  {
   "cell_type": "markdown",
   "metadata": {},
   "source": [
    "Purchases of full albums account for nearly 20% of total sales. Based on this, I would recommend that Chinook continue selling full albums, as this accounts for approximately 1/5 of total purchases. Customers are likely spending more when they decide to purchase a full album vs. only specific tracks from an album. Removing whole albums could signficantly cut revene as a result."
   ]
  },
  {
   "cell_type": "markdown",
   "metadata": {},
   "source": [
    "## Which artist is used most in playlists?\n",
    "\n",
    "We can measure the most popular artists in playlists in different ways. First, we can look at which artists have the largest number of tracks in playlists:"
   ]
  },
  {
   "cell_type": "code",
   "execution_count": 9,
   "metadata": {
    "collapsed": false,
    "scrolled": true
   },
   "outputs": [
    {
     "name": "stdout",
     "output_type": "stream",
     "text": [
      "Done.\n"
     ]
    },
    {
     "data": {
      "text/html": [
       "<table>\n",
       "    <tr>\n",
       "        <th>artist_name</th>\n",
       "        <th>num_tracks</th>\n",
       "        <th>genre</th>\n",
       "    </tr>\n",
       "    <tr>\n",
       "        <td>Iron Maiden</td>\n",
       "        <td>516</td>\n",
       "        <td>Rock</td>\n",
       "    </tr>\n",
       "    <tr>\n",
       "        <td>U2</td>\n",
       "        <td>333</td>\n",
       "        <td>Pop</td>\n",
       "    </tr>\n",
       "    <tr>\n",
       "        <td>Metallica</td>\n",
       "        <td>296</td>\n",
       "        <td>Metal</td>\n",
       "    </tr>\n",
       "    <tr>\n",
       "        <td>Led Zeppelin</td>\n",
       "        <td>252</td>\n",
       "        <td>Rock</td>\n",
       "    </tr>\n",
       "    <tr>\n",
       "        <td>Deep Purple</td>\n",
       "        <td>226</td>\n",
       "        <td>Rock</td>\n",
       "    </tr>\n",
       "    <tr>\n",
       "        <td>Lost</td>\n",
       "        <td>184</td>\n",
       "        <td>Drama</td>\n",
       "    </tr>\n",
       "    <tr>\n",
       "        <td>Pearl Jam</td>\n",
       "        <td>177</td>\n",
       "        <td>Rock</td>\n",
       "    </tr>\n",
       "    <tr>\n",
       "        <td>Eric Clapton</td>\n",
       "        <td>145</td>\n",
       "        <td>Latin</td>\n",
       "    </tr>\n",
       "    <tr>\n",
       "        <td>Faith No More</td>\n",
       "        <td>145</td>\n",
       "        <td>Alternative &amp; Punk</td>\n",
       "    </tr>\n",
       "    <tr>\n",
       "        <td>Lenny Kravitz</td>\n",
       "        <td>143</td>\n",
       "        <td>Metal</td>\n",
       "    </tr>\n",
       "</table>"
      ],
      "text/plain": [
       "[('Iron Maiden', 516, 'Rock'),\n",
       " ('U2', 333, 'Pop'),\n",
       " ('Metallica', 296, 'Metal'),\n",
       " ('Led Zeppelin', 252, 'Rock'),\n",
       " ('Deep Purple', 226, 'Rock'),\n",
       " ('Lost', 184, 'Drama'),\n",
       " ('Pearl Jam', 177, 'Rock'),\n",
       " ('Eric Clapton', 145, 'Latin'),\n",
       " ('Faith No More', 145, 'Alternative & Punk'),\n",
       " ('Lenny Kravitz', 143, 'Metal')]"
      ]
     },
     "execution_count": 9,
     "metadata": {},
     "output_type": "execute_result"
    }
   ],
   "source": [
    "%%sql\n",
    "SELECT \n",
    "    a.name artist_name,\n",
    "    COUNT(a.name) num_tracks,\n",
    "    g.name genre\n",
    "FROM artist a\n",
    "LEFT JOIN album al on al.artist_id = a.artist_id\n",
    "LEFT JOIN track t on t.album_id = al.album_id\n",
    "LEFT JOIN playlist_track pt on pt.track_id = t.track_id\n",
    "LEFT JOIN genre g on g.genre_id = t.genre_id\n",
    "GROUP BY artist_name\n",
    "ORDER BY 2 DESC\n",
    "LIMIT 10;"
   ]
  },
  {
   "cell_type": "markdown",
   "metadata": {},
   "source": [
    " Alternatively, we can also consider which artists appear in the largest number of playlists:"
   ]
  },
  {
   "cell_type": "code",
   "execution_count": 10,
   "metadata": {
    "collapsed": false
   },
   "outputs": [
    {
     "name": "stdout",
     "output_type": "stream",
     "text": [
      "Done.\n"
     ]
    },
    {
     "data": {
      "text/html": [
       "<table>\n",
       "    <tr>\n",
       "        <th>artist_name</th>\n",
       "        <th>num_playlists</th>\n",
       "        <th>genre</th>\n",
       "        <th>num_tracks</th>\n",
       "    </tr>\n",
       "    <tr>\n",
       "        <td>Eugene Ormandy</td>\n",
       "        <td>7</td>\n",
       "        <td>Classical</td>\n",
       "        <td>15</td>\n",
       "    </tr>\n",
       "    <tr>\n",
       "        <td>Academy of St. Martin in the Fields &amp; Sir Neville Marriner</td>\n",
       "        <td>6</td>\n",
       "        <td>Classical</td>\n",
       "        <td>10</td>\n",
       "    </tr>\n",
       "    <tr>\n",
       "        <td>Berliner Philharmoniker &amp; Herbert Von Karajan</td>\n",
       "        <td>6</td>\n",
       "        <td>Classical</td>\n",
       "        <td>13</td>\n",
       "    </tr>\n",
       "    <tr>\n",
       "        <td>English Concert &amp; Trevor Pinnock</td>\n",
       "        <td>6</td>\n",
       "        <td>Classical</td>\n",
       "        <td>9</td>\n",
       "    </tr>\n",
       "    <tr>\n",
       "        <td>The King&#x27;s Singers</td>\n",
       "        <td>6</td>\n",
       "        <td>Classical</td>\n",
       "        <td>10</td>\n",
       "    </tr>\n",
       "    <tr>\n",
       "        <td>Academy of St. Martin in the Fields, Sir Neville Marriner &amp; Thurston Dart</td>\n",
       "        <td>5</td>\n",
       "        <td>Classical</td>\n",
       "        <td>5</td>\n",
       "    </tr>\n",
       "    <tr>\n",
       "        <td>Adrian Leaper &amp; Doreen de Feis</td>\n",
       "        <td>5</td>\n",
       "        <td>Classical</td>\n",
       "        <td>5</td>\n",
       "    </tr>\n",
       "    <tr>\n",
       "        <td>Alberto Turco &amp; Nova Schola Gregoriana</td>\n",
       "        <td>5</td>\n",
       "        <td>Classical</td>\n",
       "        <td>5</td>\n",
       "    </tr>\n",
       "    <tr>\n",
       "        <td>Antal Doráti &amp; London Symphony Orchestra</td>\n",
       "        <td>5</td>\n",
       "        <td>Classical</td>\n",
       "        <td>5</td>\n",
       "    </tr>\n",
       "    <tr>\n",
       "        <td>Barry Wordsworth &amp; BBC Concert Orchestra</td>\n",
       "        <td>5</td>\n",
       "        <td>Classical</td>\n",
       "        <td>5</td>\n",
       "    </tr>\n",
       "</table>"
      ],
      "text/plain": [
       "[('Eugene Ormandy', 7, 'Classical', 15),\n",
       " ('Academy of St. Martin in the Fields & Sir Neville Marriner', 6, 'Classical', 10),\n",
       " ('Berliner Philharmoniker & Herbert Von Karajan', 6, 'Classical', 13),\n",
       " ('English Concert & Trevor Pinnock', 6, 'Classical', 9),\n",
       " (\"The King's Singers\", 6, 'Classical', 10),\n",
       " ('Academy of St. Martin in the Fields, Sir Neville Marriner & Thurston Dart', 5, 'Classical', 5),\n",
       " ('Adrian Leaper & Doreen de Feis', 5, 'Classical', 5),\n",
       " ('Alberto Turco & Nova Schola Gregoriana', 5, 'Classical', 5),\n",
       " ('Antal Doráti & London Symphony Orchestra', 5, 'Classical', 5),\n",
       " ('Barry Wordsworth & BBC Concert Orchestra', 5, 'Classical', 5)]"
      ]
     },
     "execution_count": 10,
     "metadata": {},
     "output_type": "execute_result"
    }
   ],
   "source": [
    "%%sql\n",
    "SELECT \n",
    "    a.name artist_name,\n",
    "    COUNT(DISTINCT pt.playlist_id) num_playlists,\n",
    "    g.name genre,\n",
    "    COUNT(pt.track_id) num_tracks\n",
    "FROM artist a\n",
    "LEFT JOIN album al on al.artist_id = a.artist_id\n",
    "LEFT JOIN track t on t.album_id = al.album_id\n",
    "LEFT JOIN playlist_track pt on pt.track_id = t.track_id\n",
    "LEFT JOIN genre g on g.genre_id = t.genre_id\n",
    "GROUP BY artist_name\n",
    "ORDER BY 2 DESC\n",
    "LIMIT 10;"
   ]
  },
  {
   "cell_type": "markdown",
   "metadata": {},
   "source": [
    "These two methods produce completely different results. Let's dig a little more into these playlists to find out more. Since Iron Maiden had the largest number of tracks in playlists, we will start by looking more specifically at where they appear in the playlists:"
   ]
  },
  {
   "cell_type": "code",
   "execution_count": 11,
   "metadata": {
    "collapsed": false,
    "scrolled": true
   },
   "outputs": [
    {
     "name": "stdout",
     "output_type": "stream",
     "text": [
      "Done.\n"
     ]
    },
    {
     "data": {
      "text/html": [
       "<table>\n",
       "    <tr>\n",
       "        <th>playlist_id</th>\n",
       "        <th>playlist_name</th>\n",
       "        <th>artist</th>\n",
       "        <th>num_tracks</th>\n",
       "    </tr>\n",
       "    <tr>\n",
       "        <td>1</td>\n",
       "        <td>Music</td>\n",
       "        <td>Iron Maiden</td>\n",
       "        <td>213</td>\n",
       "    </tr>\n",
       "    <tr>\n",
       "        <td>5</td>\n",
       "        <td>90’s Music</td>\n",
       "        <td>Iron Maiden</td>\n",
       "        <td>84</td>\n",
       "    </tr>\n",
       "    <tr>\n",
       "        <td>8</td>\n",
       "        <td>Music</td>\n",
       "        <td>Iron Maiden</td>\n",
       "        <td>213</td>\n",
       "    </tr>\n",
       "    <tr>\n",
       "        <td>17</td>\n",
       "        <td>Heavy Metal Classic</td>\n",
       "        <td>Iron Maiden</td>\n",
       "        <td>6</td>\n",
       "    </tr>\n",
       "</table>"
      ],
      "text/plain": [
       "[(1, 'Music', 'Iron Maiden', 213),\n",
       " (5, '90’s Music', 'Iron Maiden', 84),\n",
       " (8, 'Music', 'Iron Maiden', 213),\n",
       " (17, 'Heavy Metal Classic', 'Iron Maiden', 6)]"
      ]
     },
     "execution_count": 11,
     "metadata": {},
     "output_type": "execute_result"
    }
   ],
   "source": [
    "%%sql\n",
    "SELECT \n",
    "    pl.playlist_id,\n",
    "    pl.name playlist_name,\n",
    "    ar.name artist,\n",
    "    COUNT(pt.track_id) num_tracks\n",
    "FROM playlist pl\n",
    "LEFT JOIN playlist_track pt on pt.playlist_id = pl.playlist_id\n",
    "LEFT JOIN track t on t.track_id = pt.track_id\n",
    "LEFT JOIN album a on a.album_id = t.album_id\n",
    "LEFT JOIN artist ar on ar.artist_id = a.artist_id\n",
    "WHERE ar.name = 'Iron Maiden'\n",
    "GROUP BY pt.playlist_id;"
   ]
  },
  {
   "cell_type": "markdown",
   "metadata": {},
   "source": [
    "We will also look at all of Chinook's playlists, to get a general sense of their number, size, and genre:"
   ]
  },
  {
   "cell_type": "code",
   "execution_count": 12,
   "metadata": {
    "collapsed": false
   },
   "outputs": [
    {
     "name": "stdout",
     "output_type": "stream",
     "text": [
      "Done.\n"
     ]
    },
    {
     "data": {
      "text/html": [
       "<table>\n",
       "    <tr>\n",
       "        <th>playlist_id</th>\n",
       "        <th>name</th>\n",
       "        <th>COUNT(pt.track_id)</th>\n",
       "    </tr>\n",
       "    <tr>\n",
       "        <td>1</td>\n",
       "        <td>Music</td>\n",
       "        <td>3290</td>\n",
       "    </tr>\n",
       "    <tr>\n",
       "        <td>2</td>\n",
       "        <td>Movies</td>\n",
       "        <td>0</td>\n",
       "    </tr>\n",
       "    <tr>\n",
       "        <td>3</td>\n",
       "        <td>TV Shows</td>\n",
       "        <td>213</td>\n",
       "    </tr>\n",
       "    <tr>\n",
       "        <td>4</td>\n",
       "        <td>Audiobooks</td>\n",
       "        <td>0</td>\n",
       "    </tr>\n",
       "    <tr>\n",
       "        <td>5</td>\n",
       "        <td>90’s Music</td>\n",
       "        <td>1477</td>\n",
       "    </tr>\n",
       "    <tr>\n",
       "        <td>6</td>\n",
       "        <td>Audiobooks</td>\n",
       "        <td>0</td>\n",
       "    </tr>\n",
       "    <tr>\n",
       "        <td>7</td>\n",
       "        <td>Movies</td>\n",
       "        <td>0</td>\n",
       "    </tr>\n",
       "    <tr>\n",
       "        <td>8</td>\n",
       "        <td>Music</td>\n",
       "        <td>3290</td>\n",
       "    </tr>\n",
       "    <tr>\n",
       "        <td>9</td>\n",
       "        <td>Music Videos</td>\n",
       "        <td>1</td>\n",
       "    </tr>\n",
       "    <tr>\n",
       "        <td>10</td>\n",
       "        <td>TV Shows</td>\n",
       "        <td>213</td>\n",
       "    </tr>\n",
       "    <tr>\n",
       "        <td>11</td>\n",
       "        <td>Brazilian Music</td>\n",
       "        <td>39</td>\n",
       "    </tr>\n",
       "    <tr>\n",
       "        <td>12</td>\n",
       "        <td>Classical</td>\n",
       "        <td>75</td>\n",
       "    </tr>\n",
       "    <tr>\n",
       "        <td>13</td>\n",
       "        <td>Classical 101 - Deep Cuts</td>\n",
       "        <td>25</td>\n",
       "    </tr>\n",
       "    <tr>\n",
       "        <td>14</td>\n",
       "        <td>Classical 101 - Next Steps</td>\n",
       "        <td>25</td>\n",
       "    </tr>\n",
       "    <tr>\n",
       "        <td>15</td>\n",
       "        <td>Classical 101 - The Basics</td>\n",
       "        <td>25</td>\n",
       "    </tr>\n",
       "    <tr>\n",
       "        <td>16</td>\n",
       "        <td>Grunge</td>\n",
       "        <td>15</td>\n",
       "    </tr>\n",
       "    <tr>\n",
       "        <td>17</td>\n",
       "        <td>Heavy Metal Classic</td>\n",
       "        <td>26</td>\n",
       "    </tr>\n",
       "    <tr>\n",
       "        <td>18</td>\n",
       "        <td>On-The-Go 1</td>\n",
       "        <td>1</td>\n",
       "    </tr>\n",
       "</table>"
      ],
      "text/plain": [
       "[(1, 'Music', 3290),\n",
       " (2, 'Movies', 0),\n",
       " (3, 'TV Shows', 213),\n",
       " (4, 'Audiobooks', 0),\n",
       " (5, '90’s Music', 1477),\n",
       " (6, 'Audiobooks', 0),\n",
       " (7, 'Movies', 0),\n",
       " (8, 'Music', 3290),\n",
       " (9, 'Music Videos', 1),\n",
       " (10, 'TV Shows', 213),\n",
       " (11, 'Brazilian Music', 39),\n",
       " (12, 'Classical', 75),\n",
       " (13, 'Classical 101 - Deep Cuts', 25),\n",
       " (14, 'Classical 101 - Next Steps', 25),\n",
       " (15, 'Classical 101 - The Basics', 25),\n",
       " (16, 'Grunge', 15),\n",
       " (17, 'Heavy Metal Classic', 26),\n",
       " (18, 'On-The-Go 1', 1)]"
      ]
     },
     "execution_count": 12,
     "metadata": {},
     "output_type": "execute_result"
    }
   ],
   "source": [
    "%%sql\n",
    "SELECT \n",
    "    pl.playlist_id,\n",
    "    pl.name,\n",
    "    COUNT(pt.track_id)\n",
    "FROM playlist pl\n",
    "LEFT JOIN playlist_track pt on pt.playlist_id = pl.playlist_id\n",
    "GROUP BY pl.playlist_id"
   ]
  },
  {
   "cell_type": "markdown",
   "metadata": {},
   "source": [
    "In summary, we measured artist popularity in playlists by considering both the number of tracks they have in playlists and how many playlists they appear in. We also took a closer look at Chinook's playlists in general.\n",
    "\n",
    "The most frequently appearing artist in playlists is Iron Maiden, whose tracks appeared 516 times. They are followed by U2, Metallica, Led Zeppelin, and Deep Purple. Of the top 10 most popular playlist artists, 4 are Rock and 2 are Metal; the other 6 are from a range of different genres. However, if we look at all the playlists in the Chinook database, we see that there are only 14 playlists with tracks added to them; their sizes range from 1 track to over 3,000 tracks. As a result, those large numbers of tracks may only be coming from several specific playlists. For example, Iron Maiden appears only on 4 playlists, including 213 tracks on two of those playlists. This may respresent big Iron Maiden fans who are adding all available Iron Maiden tracks to their playlists.\n",
    "\n",
    "If we measure artist popularity in playlists by the number of playlists an artist appears on, we get very different results. The top 10 artists who appeared in the largest number of playlists were all Classical music, appearing on 5-7 playlists, with 5-15 tracks each. Four playlists have \"Classical\" in their title. There may be more demand for general classical music playlists, as opposed to fans of a specific classical artist."
   ]
  },
  {
   "cell_type": "markdown",
   "metadata": {},
   "source": [
    "## How many tracks have been purchased vs not purchased?"
   ]
  },
  {
   "cell_type": "code",
   "execution_count": 13,
   "metadata": {
    "collapsed": false,
    "scrolled": false
   },
   "outputs": [
    {
     "name": "stdout",
     "output_type": "stream",
     "text": [
      "Done.\n"
     ]
    },
    {
     "data": {
      "text/html": [
       "<table>\n",
       "    <tr>\n",
       "        <th>tracks_purchased</th>\n",
       "        <th>tracks_not_purchased</th>\n",
       "        <th>percent_purchased</th>\n",
       "        <th>percent_not_purchased</th>\n",
       "    </tr>\n",
       "    <tr>\n",
       "        <td>1806</td>\n",
       "        <td>1697</td>\n",
       "        <td>51.56</td>\n",
       "        <td>48.44</td>\n",
       "    </tr>\n",
       "</table>"
      ],
      "text/plain": [
       "[(1806, 1697, 51.56, 48.44)]"
      ]
     },
     "execution_count": 13,
     "metadata": {},
     "output_type": "execute_result"
    }
   ],
   "source": [
    "%%sql\n",
    "WITH no_purchased AS\n",
    "    (\n",
    "    SELECT \n",
    "        track_id,\n",
    "        COUNT(track_id) no_tracks\n",
    "    FROM invoice_line\n",
    "    GROUP BY 1\n",
    "    )\n",
    "    \n",
    "SELECT\n",
    "    (SELECT COUNT(*) FROM no_purchased) tracks_purchased,\n",
    "    (SELECT COUNT(*) FROM track) - (SELECT COUNT(*) FROM no_purchased) as tracks_not_purchased,\n",
    "    ROUND(CAST((SELECT COUNT(*) FROM no_purchased) as float) / CAST((SELECT COUNT(*) FROM track) as float) * 100, 2) percent_purchased,\n",
    "    ROUND(CAST((SELECT COUNT(*) FROM track) - (SELECT COUNT(*) FROM no_purchased) as float) / CAST((SELECT COUNT(*) FROM track) as float) * 100, 2) percent_not_purchased\n",
    "FROM track t\n",
    "LEFT JOIN no_purchased np on np.track_id = t.track_id\n",
    "GROUP BY 1;"
   ]
  },
  {
   "cell_type": "code",
   "execution_count": 14,
   "metadata": {
    "collapsed": false
   },
   "outputs": [
    {
     "name": "stdout",
     "output_type": "stream",
     "text": [
      "Done.\n"
     ]
    },
    {
     "data": {
      "text/html": [
       "<table>\n",
       "    <tr>\n",
       "        <th>COUNT(*)</th>\n",
       "    </tr>\n",
       "    <tr>\n",
       "        <td>3503</td>\n",
       "    </tr>\n",
       "</table>"
      ],
      "text/plain": [
       "[(3503,)]"
      ]
     },
     "execution_count": 14,
     "metadata": {},
     "output_type": "execute_result"
    }
   ],
   "source": [
    "%%sql\n",
    "SELECT\n",
    "    COUNT(*)\n",
    "FROM track"
   ]
  },
  {
   "cell_type": "markdown",
   "metadata": {},
   "source": [
    "Out of 3503 tracks available in Chinook's store, 1806 have been purchased, and 1697 have not been. Almost half of the tracks available have yet to be purchased by any customer. Chinook may want to remove some of these tracks from its inventory to reduce overhead costs. Later in this analysis, we will take a closer look at popularity vs. representation in the Chinook store and make some specific recommendations about music to add or remove from our inventory. "
   ]
  },
  {
   "cell_type": "markdown",
   "metadata": {},
   "source": [
    "## What tracks, albums, and artists are most popular?\n",
    "\n",
    "First, we will consider the most popular tracks:"
   ]
  },
  {
   "cell_type": "code",
   "execution_count": 15,
   "metadata": {
    "collapsed": false,
    "scrolled": true
   },
   "outputs": [
    {
     "name": "stdout",
     "output_type": "stream",
     "text": [
      "Done.\n"
     ]
    },
    {
     "data": {
      "text/html": [
       "<table>\n",
       "    <tr>\n",
       "        <th>track_name</th>\n",
       "        <th>artist</th>\n",
       "        <th>number_sold</th>\n",
       "        <th>genre</th>\n",
       "    </tr>\n",
       "    <tr>\n",
       "        <td>War Pigs</td>\n",
       "        <td>Cake</td>\n",
       "        <td>33</td>\n",
       "        <td>Alternative</td>\n",
       "    </tr>\n",
       "    <tr>\n",
       "        <td>Are You Experienced?</td>\n",
       "        <td>Jimi Hendrix</td>\n",
       "        <td>14</td>\n",
       "        <td>Rock</td>\n",
       "    </tr>\n",
       "    <tr>\n",
       "        <td>Changes</td>\n",
       "        <td>Godsmack</td>\n",
       "        <td>14</td>\n",
       "        <td>Metal</td>\n",
       "    </tr>\n",
       "    <tr>\n",
       "        <td>Highway Chile</td>\n",
       "        <td>Jimi Hendrix</td>\n",
       "        <td>14</td>\n",
       "        <td>Rock</td>\n",
       "    </tr>\n",
       "    <tr>\n",
       "        <td>Hey Joe</td>\n",
       "        <td>Jimi Hendrix</td>\n",
       "        <td>13</td>\n",
       "        <td>Rock</td>\n",
       "    </tr>\n",
       "    <tr>\n",
       "        <td>Put The Finger On You</td>\n",
       "        <td>AC/DC</td>\n",
       "        <td>13</td>\n",
       "        <td>Rock</td>\n",
       "    </tr>\n",
       "    <tr>\n",
       "        <td>Third Stone From The Sun</td>\n",
       "        <td>Jimi Hendrix</td>\n",
       "        <td>13</td>\n",
       "        <td>Rock</td>\n",
       "    </tr>\n",
       "    <tr>\n",
       "        <td>Drain You</td>\n",
       "        <td>Nirvana</td>\n",
       "        <td>12</td>\n",
       "        <td>Rock</td>\n",
       "    </tr>\n",
       "    <tr>\n",
       "        <td>Love Or Confusion</td>\n",
       "        <td>Jimi Hendrix</td>\n",
       "        <td>12</td>\n",
       "        <td>Rock</td>\n",
       "    </tr>\n",
       "    <tr>\n",
       "        <td>Radio/Video</td>\n",
       "        <td>System Of A Down</td>\n",
       "        <td>12</td>\n",
       "        <td>Metal</td>\n",
       "    </tr>\n",
       "</table>"
      ],
      "text/plain": [
       "[('War Pigs', 'Cake', 33, 'Alternative'),\n",
       " ('Are You Experienced?', 'Jimi Hendrix', 14, 'Rock'),\n",
       " ('Changes', 'Godsmack', 14, 'Metal'),\n",
       " ('Highway Chile', 'Jimi Hendrix', 14, 'Rock'),\n",
       " ('Hey Joe', 'Jimi Hendrix', 13, 'Rock'),\n",
       " ('Put The Finger On You', 'AC/DC', 13, 'Rock'),\n",
       " ('Third Stone From The Sun', 'Jimi Hendrix', 13, 'Rock'),\n",
       " ('Drain You', 'Nirvana', 12, 'Rock'),\n",
       " ('Love Or Confusion', 'Jimi Hendrix', 12, 'Rock'),\n",
       " ('Radio/Video', 'System Of A Down', 12, 'Metal')]"
      ]
     },
     "execution_count": 15,
     "metadata": {},
     "output_type": "execute_result"
    }
   ],
   "source": [
    "%%sql\n",
    "SELECT \n",
    "    t.name track_name,\n",
    "    ar.name artist,\n",
    "    COUNT(il.track_id) number_sold,\n",
    "    g.name genre\n",
    "FROM track t\n",
    "LEFT JOIN invoice_line il ON il.track_id = t.track_id\n",
    "LEFT JOIN album al on al.album_id = t.album_id\n",
    "LEFT JOIN artist ar on ar.artist_id = al.artist_id\n",
    "LEFT JOIN genre g on g.genre_id = t.genre_id\n",
    "GROUP BY 1\n",
    "ORDER BY 3 DESC\n",
    "LIMIT 10"
   ]
  },
  {
   "cell_type": "markdown",
   "metadata": {},
   "source": [
    "The best selling track is War Pigs by Cake, with 33 having been sold. The rest of the ten best selling tracks sold between 12 and 14 copies. 5 of the 10 best selling tracks are by Jimi Hendrix. 7 out of 10 are Rock, 2 are Metal, and 1 is Alternative. \n",
    "\n",
    "Next, we will look at the best selling artists:"
   ]
  },
  {
   "cell_type": "code",
   "execution_count": null,
   "metadata": {
    "collapsed": false
   },
   "outputs": [],
   "source": [
    "%%sql\n",
    "CREATE VIEW track_info AS\n",
    "    SELECT \n",
    "        il.track_id,\n",
    "        t.name track,\n",
    "        ar.name artist,\n",
    "        al.title album,\n",
    "        g.name genre,\n",
    "        t.media_type_id\n",
    "    FROM invoice_line il\n",
    "    LEFT JOIN track t on t.track_id = il.track_id\n",
    "    LEFT JOIN album al on al.album_id = t.album_id\n",
    "    LEFT JOIN artist ar on ar.artist_id = al.artist_id\n",
    "    LEFT JOIN genre g on g.genre_id = t.genre_id"
   ]
  },
  {
   "cell_type": "code",
   "execution_count": 11,
   "metadata": {
    "collapsed": false,
    "scrolled": true
   },
   "outputs": [
    {
     "name": "stdout",
     "output_type": "stream",
     "text": [
      "Done.\n"
     ]
    },
    {
     "data": {
      "text/html": [
       "<table>\n",
       "    <tr>\n",
       "        <th>artist</th>\n",
       "        <th>tracks_sold</th>\n",
       "        <th>percentage_total_sales</th>\n",
       "        <th>genre</th>\n",
       "    </tr>\n",
       "    <tr>\n",
       "        <td>Queen</td>\n",
       "        <td>192</td>\n",
       "        <td>4.04</td>\n",
       "        <td>Rock</td>\n",
       "    </tr>\n",
       "    <tr>\n",
       "        <td>Jimi Hendrix</td>\n",
       "        <td>187</td>\n",
       "        <td>3.93</td>\n",
       "        <td>Rock</td>\n",
       "    </tr>\n",
       "    <tr>\n",
       "        <td>Nirvana</td>\n",
       "        <td>130</td>\n",
       "        <td>2.73</td>\n",
       "        <td>Rock</td>\n",
       "    </tr>\n",
       "    <tr>\n",
       "        <td>Red Hot Chili Peppers</td>\n",
       "        <td>130</td>\n",
       "        <td>2.73</td>\n",
       "        <td>Rock</td>\n",
       "    </tr>\n",
       "    <tr>\n",
       "        <td>Pearl Jam</td>\n",
       "        <td>129</td>\n",
       "        <td>2.71</td>\n",
       "        <td>Rock</td>\n",
       "    </tr>\n",
       "    <tr>\n",
       "        <td>AC/DC</td>\n",
       "        <td>124</td>\n",
       "        <td>2.61</td>\n",
       "        <td>Rock</td>\n",
       "    </tr>\n",
       "    <tr>\n",
       "        <td>Guns N&#x27; Roses</td>\n",
       "        <td>124</td>\n",
       "        <td>2.61</td>\n",
       "        <td>Metal</td>\n",
       "    </tr>\n",
       "    <tr>\n",
       "        <td>Foo Fighters</td>\n",
       "        <td>121</td>\n",
       "        <td>2.54</td>\n",
       "        <td>Rock</td>\n",
       "    </tr>\n",
       "    <tr>\n",
       "        <td>The Rolling Stones</td>\n",
       "        <td>117</td>\n",
       "        <td>2.46</td>\n",
       "        <td>Rock</td>\n",
       "    </tr>\n",
       "    <tr>\n",
       "        <td>Metallica</td>\n",
       "        <td>106</td>\n",
       "        <td>2.23</td>\n",
       "        <td>Metal</td>\n",
       "    </tr>\n",
       "</table>"
      ],
      "text/plain": [
       "[('Queen', 192, 4.04, 'Rock'),\n",
       " ('Jimi Hendrix', 187, 3.93, 'Rock'),\n",
       " ('Nirvana', 130, 2.73, 'Rock'),\n",
       " ('Red Hot Chili Peppers', 130, 2.73, 'Rock'),\n",
       " ('Pearl Jam', 129, 2.71, 'Rock'),\n",
       " ('AC/DC', 124, 2.61, 'Rock'),\n",
       " (\"Guns N' Roses\", 124, 2.61, 'Metal'),\n",
       " ('Foo Fighters', 121, 2.54, 'Rock'),\n",
       " ('The Rolling Stones', 117, 2.46, 'Rock'),\n",
       " ('Metallica', 106, 2.23, 'Metal')]"
      ]
     },
     "execution_count": 11,
     "metadata": {},
     "output_type": "execute_result"
    }
   ],
   "source": [
    "%%sql\n",
    "SELECT \n",
    "    artist,\n",
    "    COUNT(track_id) tracks_sold,\n",
    "    ROUND(CAST(COUNT(track_id) as float) / (SELECT COUNT(track_id) FROM track_info) * 100, 2) percentage_total_sales,\n",
    "    genre\n",
    "FROM track_info\n",
    "GROUP BY 1\n",
    "ORDER BY 2 DESC\n",
    "LIMIT 10;"
   ]
  },
  {
   "cell_type": "markdown",
   "metadata": {},
   "source": [
    "The table above shows the top 10 best selling artists at Chinook. 3 of these artists also have top-10 selling tracks at Chinook: Jimi Hendrix, Nirvana, and AC/DC. Each of these top-10 artists represents 2-4% of total tracks purchased at the store. 8 out of 10 of these artists are from the Rock genre; the remaining 2 are Metal. Chinook may want to add more tracks by these top artists to the store, as a number of customers are fans of these artists and would likely buy more of their music. \n",
    "\n",
    "Now, we will look at the best selling albums:"
   ]
  },
  {
   "cell_type": "code",
   "execution_count": 18,
   "metadata": {
    "collapsed": false,
    "scrolled": true
   },
   "outputs": [
    {
     "name": "stdout",
     "output_type": "stream",
     "text": [
      "Done.\n"
     ]
    },
    {
     "data": {
      "text/html": [
       "<table>\n",
       "    <tr>\n",
       "        <th>album</th>\n",
       "        <th>artist</th>\n",
       "        <th>tracks_sold</th>\n",
       "        <th>percentage_total_sales</th>\n",
       "        <th>genre</th>\n",
       "    </tr>\n",
       "    <tr>\n",
       "        <td>Are You Experienced?</td>\n",
       "        <td>Jimi Hendrix</td>\n",
       "        <td>187</td>\n",
       "        <td>3.93</td>\n",
       "        <td>Rock</td>\n",
       "    </tr>\n",
       "    <tr>\n",
       "        <td>Faceless</td>\n",
       "        <td>Godsmack</td>\n",
       "        <td>96</td>\n",
       "        <td>2.02</td>\n",
       "        <td>Metal</td>\n",
       "    </tr>\n",
       "    <tr>\n",
       "        <td>Mezmerize</td>\n",
       "        <td>System Of A Down</td>\n",
       "        <td>93</td>\n",
       "        <td>1.96</td>\n",
       "        <td>Metal</td>\n",
       "    </tr>\n",
       "    <tr>\n",
       "        <td>Get Born</td>\n",
       "        <td>JET</td>\n",
       "        <td>90</td>\n",
       "        <td>1.89</td>\n",
       "        <td>Alternative &amp; Punk</td>\n",
       "    </tr>\n",
       "    <tr>\n",
       "        <td>The Doors</td>\n",
       "        <td>The Doors</td>\n",
       "        <td>83</td>\n",
       "        <td>1.74</td>\n",
       "        <td>Rock</td>\n",
       "    </tr>\n",
       "    <tr>\n",
       "        <td>Big Ones</td>\n",
       "        <td>Aerosmith</td>\n",
       "        <td>80</td>\n",
       "        <td>1.68</td>\n",
       "        <td>Rock</td>\n",
       "    </tr>\n",
       "    <tr>\n",
       "        <td>Greatest Hits I</td>\n",
       "        <td>Queen</td>\n",
       "        <td>80</td>\n",
       "        <td>1.68</td>\n",
       "        <td>Rock</td>\n",
       "    </tr>\n",
       "    <tr>\n",
       "        <td>The Police Greatest Hits</td>\n",
       "        <td>The Police</td>\n",
       "        <td>80</td>\n",
       "        <td>1.68</td>\n",
       "        <td>Rock</td>\n",
       "    </tr>\n",
       "    <tr>\n",
       "        <td>From The Muddy Banks Of The Wishkah [live]</td>\n",
       "        <td>Nirvana</td>\n",
       "        <td>78</td>\n",
       "        <td>1.64</td>\n",
       "        <td>Rock</td>\n",
       "    </tr>\n",
       "    <tr>\n",
       "        <td>My Generation - The Very Best Of The Who</td>\n",
       "        <td>The Who</td>\n",
       "        <td>76</td>\n",
       "        <td>1.6</td>\n",
       "        <td>Rock</td>\n",
       "    </tr>\n",
       "</table>"
      ],
      "text/plain": [
       "[('Are You Experienced?', 'Jimi Hendrix', 187, 3.93, 'Rock'),\n",
       " ('Faceless', 'Godsmack', 96, 2.02, 'Metal'),\n",
       " ('Mezmerize', 'System Of A Down', 93, 1.96, 'Metal'),\n",
       " ('Get Born', 'JET', 90, 1.89, 'Alternative & Punk'),\n",
       " ('The Doors', 'The Doors', 83, 1.74, 'Rock'),\n",
       " ('Big Ones', 'Aerosmith', 80, 1.68, 'Rock'),\n",
       " ('Greatest Hits I', 'Queen', 80, 1.68, 'Rock'),\n",
       " ('The Police Greatest Hits', 'The Police', 80, 1.68, 'Rock'),\n",
       " ('From The Muddy Banks Of The Wishkah [live]', 'Nirvana', 78, 1.64, 'Rock'),\n",
       " ('My Generation - The Very Best Of The Who', 'The Who', 76, 1.6, 'Rock')]"
      ]
     },
     "execution_count": 18,
     "metadata": {},
     "output_type": "execute_result"
    }
   ],
   "source": [
    "%%sql\n",
    "SELECT \n",
    "    album, \n",
    "    artist,\n",
    "    COUNT(track_id) tracks_sold,\n",
    "    ROUND(CAST(COUNT(track_id) as float) / (SELECT COUNT(track_id) FROM track_info) * 100, 2) percentage_total_sales,\n",
    "    genre\n",
    "FROM track_info\n",
    "GROUP BY 1\n",
    "ORDER BY 3 DESC\n",
    "LIMIT 10"
   ]
  },
  {
   "cell_type": "markdown",
   "metadata": {},
   "source": [
    "The table above shows the top selling albums, measured by total number of tracks sold from the album.\n",
    "\n",
    "Once again, Jimi Hendrix is at the top of the list. He is Chinook's overall best selling artist, so opportunities to sell more of his music will likely be good for the business. \n",
    "\n",
    "Rock, followed by Metal, once again dominate this list.\n",
    "As the top songs, albums, and artist are Rock musicians, followed by Metal musicians, Chinook may want to consider offering more music from these genres."
   ]
  },
  {
   "cell_type": "markdown",
   "metadata": {},
   "source": [
    "## Is the range of tracks in the store reflective of their sales popularity?\n",
    "\n",
    "We noted earlier that approximately half of tracks available in Chinook's store have never been purchased. Now, we will take a more detailed look at the variety of tracks in our inventory vs. sales popularity in order to better understand this issue."
   ]
  },
  {
   "cell_type": "code",
   "execution_count": 19,
   "metadata": {
    "collapsed": false,
    "scrolled": false
   },
   "outputs": [
    {
     "name": "stdout",
     "output_type": "stream",
     "text": [
      "Done.\n"
     ]
    },
    {
     "data": {
      "text/html": [
       "<table>\n",
       "    <tr>\n",
       "        <th>genre</th>\n",
       "        <th>tracks_available</th>\n",
       "        <th>percentage_tracks_avail</th>\n",
       "        <th>track_has_sold</th>\n",
       "        <th>percent_has_sold</th>\n",
       "        <th>number_sold</th>\n",
       "        <th>percentage_total_sales</th>\n",
       "    </tr>\n",
       "    <tr>\n",
       "        <td>Rock</td>\n",
       "        <td>1297</td>\n",
       "        <td>37.03</td>\n",
       "        <td>915</td>\n",
       "        <td>70.55</td>\n",
       "        <td>2635</td>\n",
       "        <td>55.39</td>\n",
       "    </tr>\n",
       "    <tr>\n",
       "        <td>Metal</td>\n",
       "        <td>374</td>\n",
       "        <td>10.68</td>\n",
       "        <td>238</td>\n",
       "        <td>63.64</td>\n",
       "        <td>619</td>\n",
       "        <td>13.01</td>\n",
       "    </tr>\n",
       "    <tr>\n",
       "        <td>Alternative &amp; Punk</td>\n",
       "        <td>332</td>\n",
       "        <td>9.48</td>\n",
       "        <td>176</td>\n",
       "        <td>53.01</td>\n",
       "        <td>492</td>\n",
       "        <td>10.34</td>\n",
       "    </tr>\n",
       "    <tr>\n",
       "        <td>Latin</td>\n",
       "        <td>579</td>\n",
       "        <td>16.53</td>\n",
       "        <td>119</td>\n",
       "        <td>20.55</td>\n",
       "        <td>167</td>\n",
       "        <td>3.51</td>\n",
       "    </tr>\n",
       "    <tr>\n",
       "        <td>R&amp;B/Soul</td>\n",
       "        <td>61</td>\n",
       "        <td>1.74</td>\n",
       "        <td>55</td>\n",
       "        <td>90.16</td>\n",
       "        <td>159</td>\n",
       "        <td>3.34</td>\n",
       "    </tr>\n",
       "    <tr>\n",
       "        <td>Blues</td>\n",
       "        <td>81</td>\n",
       "        <td>2.31</td>\n",
       "        <td>56</td>\n",
       "        <td>69.14</td>\n",
       "        <td>124</td>\n",
       "        <td>2.61</td>\n",
       "    </tr>\n",
       "    <tr>\n",
       "        <td>Jazz</td>\n",
       "        <td>130</td>\n",
       "        <td>3.71</td>\n",
       "        <td>61</td>\n",
       "        <td>46.92</td>\n",
       "        <td>121</td>\n",
       "        <td>2.54</td>\n",
       "    </tr>\n",
       "    <tr>\n",
       "        <td>Alternative</td>\n",
       "        <td>40</td>\n",
       "        <td>1.14</td>\n",
       "        <td>34</td>\n",
       "        <td>85.0</td>\n",
       "        <td>117</td>\n",
       "        <td>2.46</td>\n",
       "    </tr>\n",
       "    <tr>\n",
       "        <td>Easy Listening</td>\n",
       "        <td>24</td>\n",
       "        <td>0.69</td>\n",
       "        <td>24</td>\n",
       "        <td>100.0</td>\n",
       "        <td>74</td>\n",
       "        <td>1.56</td>\n",
       "    </tr>\n",
       "    <tr>\n",
       "        <td>Pop</td>\n",
       "        <td>48</td>\n",
       "        <td>1.37</td>\n",
       "        <td>25</td>\n",
       "        <td>52.08</td>\n",
       "        <td>63</td>\n",
       "        <td>1.32</td>\n",
       "    </tr>\n",
       "    <tr>\n",
       "        <td>Electronica/Dance</td>\n",
       "        <td>30</td>\n",
       "        <td>0.86</td>\n",
       "        <td>29</td>\n",
       "        <td>96.67</td>\n",
       "        <td>55</td>\n",
       "        <td>1.16</td>\n",
       "    </tr>\n",
       "    <tr>\n",
       "        <td>Classical</td>\n",
       "        <td>74</td>\n",
       "        <td>2.11</td>\n",
       "        <td>16</td>\n",
       "        <td>21.62</td>\n",
       "        <td>47</td>\n",
       "        <td>0.99</td>\n",
       "    </tr>\n",
       "    <tr>\n",
       "        <td>Reggae</td>\n",
       "        <td>58</td>\n",
       "        <td>1.66</td>\n",
       "        <td>22</td>\n",
       "        <td>37.93</td>\n",
       "        <td>35</td>\n",
       "        <td>0.74</td>\n",
       "    </tr>\n",
       "    <tr>\n",
       "        <td>Hip Hop/Rap</td>\n",
       "        <td>35</td>\n",
       "        <td>1.0</td>\n",
       "        <td>21</td>\n",
       "        <td>60.0</td>\n",
       "        <td>33</td>\n",
       "        <td>0.69</td>\n",
       "    </tr>\n",
       "    <tr>\n",
       "        <td>Heavy Metal</td>\n",
       "        <td>28</td>\n",
       "        <td>0.8</td>\n",
       "        <td>7</td>\n",
       "        <td>25.0</td>\n",
       "        <td>8</td>\n",
       "        <td>0.17</td>\n",
       "    </tr>\n",
       "    <tr>\n",
       "        <td>Soundtrack</td>\n",
       "        <td>43</td>\n",
       "        <td>1.23</td>\n",
       "        <td>5</td>\n",
       "        <td>11.63</td>\n",
       "        <td>5</td>\n",
       "        <td>0.11</td>\n",
       "    </tr>\n",
       "    <tr>\n",
       "        <td>TV Shows</td>\n",
       "        <td>93</td>\n",
       "        <td>2.65</td>\n",
       "        <td>2</td>\n",
       "        <td>2.15</td>\n",
       "        <td>2</td>\n",
       "        <td>0.04</td>\n",
       "    </tr>\n",
       "    <tr>\n",
       "        <td>Drama</td>\n",
       "        <td>64</td>\n",
       "        <td>1.83</td>\n",
       "        <td>1</td>\n",
       "        <td>1.56</td>\n",
       "        <td>1</td>\n",
       "        <td>0.02</td>\n",
       "    </tr>\n",
       "    <tr>\n",
       "        <td>Bossa Nova</td>\n",
       "        <td>15</td>\n",
       "        <td>0.43</td>\n",
       "        <td>0</td>\n",
       "        <td>0.0</td>\n",
       "        <td>0</td>\n",
       "        <td>0.0</td>\n",
       "    </tr>\n",
       "    <tr>\n",
       "        <td>Comedy</td>\n",
       "        <td>17</td>\n",
       "        <td>0.49</td>\n",
       "        <td>0</td>\n",
       "        <td>0.0</td>\n",
       "        <td>0</td>\n",
       "        <td>0.0</td>\n",
       "    </tr>\n",
       "    <tr>\n",
       "        <td>Opera</td>\n",
       "        <td>1</td>\n",
       "        <td>0.03</td>\n",
       "        <td>0</td>\n",
       "        <td>0.0</td>\n",
       "        <td>0</td>\n",
       "        <td>0.0</td>\n",
       "    </tr>\n",
       "    <tr>\n",
       "        <td>Rock And Roll</td>\n",
       "        <td>12</td>\n",
       "        <td>0.34</td>\n",
       "        <td>0</td>\n",
       "        <td>0.0</td>\n",
       "        <td>0</td>\n",
       "        <td>0.0</td>\n",
       "    </tr>\n",
       "    <tr>\n",
       "        <td>Sci Fi &amp; Fantasy</td>\n",
       "        <td>26</td>\n",
       "        <td>0.74</td>\n",
       "        <td>0</td>\n",
       "        <td>0.0</td>\n",
       "        <td>0</td>\n",
       "        <td>0.0</td>\n",
       "    </tr>\n",
       "    <tr>\n",
       "        <td>Science Fiction</td>\n",
       "        <td>13</td>\n",
       "        <td>0.37</td>\n",
       "        <td>0</td>\n",
       "        <td>0.0</td>\n",
       "        <td>0</td>\n",
       "        <td>0.0</td>\n",
       "    </tr>\n",
       "    <tr>\n",
       "        <td>World</td>\n",
       "        <td>28</td>\n",
       "        <td>0.8</td>\n",
       "        <td>0</td>\n",
       "        <td>0.0</td>\n",
       "        <td>0</td>\n",
       "        <td>0.0</td>\n",
       "    </tr>\n",
       "</table>"
      ],
      "text/plain": [
       "[('Rock', 1297, 37.03, 915, 70.55, 2635, 55.39),\n",
       " ('Metal', 374, 10.68, 238, 63.64, 619, 13.01),\n",
       " ('Alternative & Punk', 332, 9.48, 176, 53.01, 492, 10.34),\n",
       " ('Latin', 579, 16.53, 119, 20.55, 167, 3.51),\n",
       " ('R&B/Soul', 61, 1.74, 55, 90.16, 159, 3.34),\n",
       " ('Blues', 81, 2.31, 56, 69.14, 124, 2.61),\n",
       " ('Jazz', 130, 3.71, 61, 46.92, 121, 2.54),\n",
       " ('Alternative', 40, 1.14, 34, 85.0, 117, 2.46),\n",
       " ('Easy Listening', 24, 0.69, 24, 100.0, 74, 1.56),\n",
       " ('Pop', 48, 1.37, 25, 52.08, 63, 1.32),\n",
       " ('Electronica/Dance', 30, 0.86, 29, 96.67, 55, 1.16),\n",
       " ('Classical', 74, 2.11, 16, 21.62, 47, 0.99),\n",
       " ('Reggae', 58, 1.66, 22, 37.93, 35, 0.74),\n",
       " ('Hip Hop/Rap', 35, 1.0, 21, 60.0, 33, 0.69),\n",
       " ('Heavy Metal', 28, 0.8, 7, 25.0, 8, 0.17),\n",
       " ('Soundtrack', 43, 1.23, 5, 11.63, 5, 0.11),\n",
       " ('TV Shows', 93, 2.65, 2, 2.15, 2, 0.04),\n",
       " ('Drama', 64, 1.83, 1, 1.56, 1, 0.02),\n",
       " ('Bossa Nova', 15, 0.43, 0, 0.0, 0, 0.0),\n",
       " ('Comedy', 17, 0.49, 0, 0.0, 0, 0.0),\n",
       " ('Opera', 1, 0.03, 0, 0.0, 0, 0.0),\n",
       " ('Rock And Roll', 12, 0.34, 0, 0.0, 0, 0.0),\n",
       " ('Sci Fi & Fantasy', 26, 0.74, 0, 0.0, 0, 0.0),\n",
       " ('Science Fiction', 13, 0.37, 0, 0.0, 0, 0.0),\n",
       " ('World', 28, 0.8, 0, 0.0, 0, 0.0)]"
      ]
     },
     "execution_count": 19,
     "metadata": {},
     "output_type": "execute_result"
    }
   ],
   "source": [
    "%%sql\n",
    "SELECT\n",
    "    g.name genre,\n",
    "    COUNT(DISTINCT t.track_id) tracks_available,\n",
    "    ROUND(CAST(COUNT(DISTINCT t.track_id) as float) / CAST((SELECT COUNT(*) FROM track) as float) * 100, 2) percentage_tracks_avail,\n",
    "    COUNT(DISTINCT il.track_id) track_has_sold,\n",
    "    ROUND(CAST(COUNT(DISTINCT il.track_id) as float) / CAST(COUNT(DISTINCT t.track_id) as float) * 100, 2) as percent_has_sold,\n",
    "    COUNT(il.track_id) number_sold,\n",
    "    ROUND(CAST(COUNT(il.track_id) as float) / CAST((SELECT COUNT(track_id) FROM invoice_line) as float) * 100, 2) percentage_total_sales\n",
    "FROM track t\n",
    "LEFT JOIN genre g ON g.genre_id = t.genre_id\n",
    "LEFT JOIN invoice_line il ON il.track_id = t.track_id\n",
    "GROUP BY g.name\n",
    "ORDER BY 6 DESC"
   ]
  },
  {
   "cell_type": "markdown",
   "metadata": {},
   "source": [
    "In general, the range of tracks available for sale was reflective of that genre's popularity. \n",
    "\n",
    "For example, the 3 top selling genres had a larger variety of tracks available than other genres:\n",
    "* Rock - 55% of total sales, 1297 tracks available (37% of tracks available for purchase)\n",
    "* Metal - 13% of total sales, 374 tracks available (10% of tracks available for purchase)\n",
    "* Alternative & Punk - 10% of total sales, 332 tracks available (9% of tracks available for purchase)\n",
    "\n",
    "Within the Rock genre, 70% of tracks available have sold. The same is true of 63% of Metal tracks and 53% of Alternative & Punk tracks. Rock was by far the most represented genre in the top ten selling artists, albums, and tracks, followed by Metal. Chinook may want to continue to expand its music offerings in Rock and possibly Metal, or advertize its current catalog in these genres, as these are the best selling genres in the store. A relatively high percentage of Rock and Metal tracks sell, so additional purchases in these areas may be low-risk opportunities to increase business. As noted before, specific artists within these genres are especialy popular with our customers (i.e. Jimi Hendrix, Nirvana), so any additional offerings from these artists (i.e. rare recordings) would likely sell well.\n",
    "\n",
    "One noteable exception to this popularity vs. representation trend is the Latin genre, which represented only 3% of total sales but had 579 tracks available (16% of total tracks available for purchase). Moreover, only 20% of Latin tracks available at Chinook have ever been sold. As a result, Chinook may want to consider dropping some of these tracks from its collection.\n",
    "\n",
    "There are 7 genres that have not sold any tracks (Bossa Nova, Comedy, Opera, Rock and Roll, Sci Fi & Fantasy, Science Fiction, and World). 4 additional genres account for less than .5% of sales each (Heavy Metal, Sound Track, TV Shows, and Drama), and have sold less than a quarter of their tracks. Chinook may want to consider eliminating these offerings as well.\n",
    "\n",
    "There are 4 genres that may currently be underrepresented in the store, and where Chinook may want to experiment with expanding its offerings: Easy Listening, Electronic/Dance, R&B/Soul, and Alternative. Each of these genres currently accounts for a small percentage of total offerings (.69-1.74%) and sales (1-3% each). However, these genres are selling at a disproportionately rate as compared with the size of their inventory. As an example, the Alternative genre represents only 1.14% of tracks available in the store, but accounts for 2.46% of total sales. 85% of Alternative tracks have sold, in comparison to about half of tracks across our entire store. Chinook may want to experiment with a small expansion of offerings and/or advertising in these potentially underrepresented genres."
   ]
  },
  {
   "cell_type": "markdown",
   "metadata": {},
   "source": [
    "## Do protected vs non-protected media types have an effect on popularity?"
   ]
  },
  {
   "cell_type": "code",
   "execution_count": 20,
   "metadata": {
    "collapsed": false,
    "scrolled": true
   },
   "outputs": [
    {
     "name": "stdout",
     "output_type": "stream",
     "text": [
      "Done.\n"
     ]
    },
    {
     "data": {
      "text/html": [
       "<table>\n",
       "    <tr>\n",
       "        <th>media_type</th>\n",
       "        <th>tracks_sold</th>\n",
       "        <th>percentage_total_sold</th>\n",
       "        <th>percentage_available_tracks</th>\n",
       "        <th>protected</th>\n",
       "    </tr>\n",
       "    <tr>\n",
       "        <td>MPEG audio file</td>\n",
       "        <td>4259</td>\n",
       "        <td>89.53</td>\n",
       "        <td>86.61</td>\n",
       "        <td>Non-Protected</td>\n",
       "    </tr>\n",
       "    <tr>\n",
       "        <td>Protected AAC audio file</td>\n",
       "        <td>439</td>\n",
       "        <td>9.23</td>\n",
       "        <td>6.77</td>\n",
       "        <td>Protected</td>\n",
       "    </tr>\n",
       "    <tr>\n",
       "        <td>Purchased AAC audio file</td>\n",
       "        <td>35</td>\n",
       "        <td>0.74</td>\n",
       "        <td>0.2</td>\n",
       "        <td>Non-Protected</td>\n",
       "    </tr>\n",
       "    <tr>\n",
       "        <td>AAC audio file</td>\n",
       "        <td>21</td>\n",
       "        <td>0.44</td>\n",
       "        <td>0.31</td>\n",
       "        <td>Non-Protected</td>\n",
       "    </tr>\n",
       "    <tr>\n",
       "        <td>Protected MPEG-4 video file</td>\n",
       "        <td>3</td>\n",
       "        <td>0.06</td>\n",
       "        <td>6.11</td>\n",
       "        <td>Protected</td>\n",
       "    </tr>\n",
       "</table>"
      ],
      "text/plain": [
       "[('MPEG audio file', 4259, 89.53, 86.61, 'Non-Protected'),\n",
       " ('Protected AAC audio file', 439, 9.23, 6.77, 'Protected'),\n",
       " ('Purchased AAC audio file', 35, 0.74, 0.2, 'Non-Protected'),\n",
       " ('AAC audio file', 21, 0.44, 0.31, 'Non-Protected'),\n",
       " ('Protected MPEG-4 video file', 3, 0.06, 6.11, 'Protected')]"
      ]
     },
     "execution_count": 20,
     "metadata": {},
     "output_type": "execute_result"
    }
   ],
   "source": [
    "%%sql\n",
    "WITH media_info AS\n",
    "    (\n",
    "    SELECT\n",
    "        COUNT(DISTINCT track_id) num_tracks,\n",
    "        t.media_type_id,\n",
    "        mt.name media_type,\n",
    "        t.track_id\n",
    "    FROM track t\n",
    "    LEFT JOIN media_type mt on mt.media_type_id = t.media_type_id\n",
    "    GROUP BY 2\n",
    "    )\n",
    "\n",
    "SELECT \n",
    "    mi.media_type media_type,\n",
    "    COUNT(ti.track_id) tracks_sold,\n",
    "    ROUND(CAST(COUNT(ti.track_id) as float) / (SELECT COUNT(*) FROM track_info) * 100, 2) percentage_total_sold,\n",
    "    ROUND(CAST(mi.num_tracks as float) / (SELECT COUNT(*) FROM track) * 100, 2) percentage_available_tracks, \n",
    "    CASE\n",
    "        WHEN mi.media_type LIKE '%Protected%'\n",
    "            THEN 'Protected'\n",
    "        ELSE 'Non-Protected'\n",
    "        END AS protected\n",
    "FROM track_info ti\n",
    "LEFT JOIN media_info mi on ti.media_type_id = mi.media_type_id\n",
    "LEFT JOIN track t on t.track_id = ti.track_id\n",
    "GROUP BY 1\n",
    "ORDER BY 2 DESC"
   ]
  },
  {
   "cell_type": "markdown",
   "metadata": {},
   "source": [
    "Out of the 5 media types available, MPEG is by far the most popular, representing 89% of tracks sold and 86% of tracks available for purchase. This file format is non-protected. About 90% of tracks sold were non-protected, compared with about 87% of tracks available for purchase. Looking at this data, it is unclear WHY this format is by far the most popular. It could be because MPEG is the most common file type for sale at Chinook or because customers specifically like MPEG files. From this data alone, we can't determine if customers prefer to buy non-protected tracks, or if non-protected tracks are more popular simply because they make up the vast majority of our inventory."
   ]
  },
  {
   "cell_type": "markdown",
   "metadata": {},
   "source": [
    "## Project Summary \n",
    "\n",
    "In this project, we analyzed sales data from the fictional music store Chinook's database, using SQL queries.\n",
    "\n",
    "#### We analyzed this data to answer the following business questions:\n",
    "\n",
    "* What new albums should Chinook purchase, based on sales data for different genres of music?\n",
    "* What artists, tracks, and albums are most popular?\n",
    "* Is the range of tracks for sale reflective of their popularity? Are there areas where Chinook should add to or reduce its inventory?\n",
    "* What does sales data tell us about the performance of different employees in the sales department?\n",
    "* Should Chinook continue selling full albums, or just sell popular tracks from albums?\n",
    "* What can we learn from comparing sales data across different countries? Where is the highest volume of sales, and the higheset average sale value per customer? Are there areas where Chinook could expand its business?\n",
    "\n",
    "#### How this project helped me grow my skills:\n",
    "\n",
    "I gained a lot of experience writing and tweaking SQL queries. I felt my fluency with SQL improving as I moved through this project, especially as I was able to ask and answer my own questions on this data. I learned how to construct more complex queries peice by peice, as an iterative process. I am now more confident in understanding exactly what a query will produce, and better able do a quick \"sanity check\" on the results. I am beginning to understand how and when to use WITH, VIEW and CASE better, including to loop through a dataset looking for matches to a condition. Next, I'd like to continue to gain more fluency with SQL, especially with writing more complex queries and WITH, VIEW and CASE. I'd also like to practice using SQL with a larger dataset."
   ]
  }
 ],
 "metadata": {
  "kernelspec": {
   "display_name": "Python 3",
   "language": "python",
   "name": "python3"
  },
  "language_info": {
   "codemirror_mode": {
    "name": "ipython",
    "version": 3
   },
   "file_extension": ".py",
   "mimetype": "text/x-python",
   "name": "python",
   "nbconvert_exporter": "python",
   "pygments_lexer": "ipython3",
   "version": "3.4.3"
  }
 },
 "nbformat": 4,
 "nbformat_minor": 4
}
