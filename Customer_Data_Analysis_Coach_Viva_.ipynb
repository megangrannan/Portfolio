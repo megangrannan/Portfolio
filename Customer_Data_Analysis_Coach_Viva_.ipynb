{
  "nbformat": 4,
  "nbformat_minor": 0,
  "metadata": {
    "colab": {
      "name": "Customer Data Analysis Coach Viva .ipynb",
      "provenance": [],
      "mount_file_id": "1ioPhbpOUcQr70bIp1UxbrAC6mhtl5Wwg",
      "authorship_tag": "ABX9TyM4Rke9ynq+PdFDoaIlvEaJ",
      "include_colab_link": true
    },
    "kernelspec": {
      "name": "python3",
      "display_name": "Python 3"
    }
  },
  "cells": [
    {
      "cell_type": "markdown",
      "metadata": {
        "id": "view-in-github",
        "colab_type": "text"
      },
      "source": [
        "<a href=\"https://colab.research.google.com/github/megangrannan/Portfolio/blob/master/Customer_Data_Analysis_Coach_Viva_.ipynb\" target=\"_parent\"><img src=\"https://colab.research.google.com/assets/colab-badge.svg\" alt=\"Open In Colab\"/></a>"
      ]
    },
    {
      "cell_type": "markdown",
      "metadata": {
        "id": "HQ0LySubKpUt"
      },
      "source": [
        "# ConvertKit Data Analysis"
      ]
    },
    {
      "cell_type": "markdown",
      "metadata": {
        "id": "ZfgpHzYtGnWd"
      },
      "source": [
        "# Project Goals\n",
        "\n",
        "We will analyze data from ConvertKit's API to answer the following questions:\n",
        "\n",
        "*   Which tags and topics are the most popular among our email subscribers? \n",
        "*  What can we learn about our subscribers' purchasing patterns?\n",
        "  *   How long were subscribers on our list before making their first purchase? Did this vary by product purchased?\n",
        "  *   How long have subscribers been on our list, compared across purchasing categories (Product1, Product2, Other, None)?\n",
        "  *   What percentage of our subscribers have made a purchase? How does this vary in relation to time on our email list?\n",
        "  *   What can we learn about people who were on our email list but unsubscribed?\n",
        "* What recommendations can we make based on this analysis?\n",
        "  \n",
        "## Project Outline\n",
        "\n",
        "We will take the following steps to do this analysis:\n",
        "1.  API Requests - Make API requests to ConvertKit to gather data, and save relevant data in txt files\n",
        "2.  Import Libraries\n",
        "3.  Import and Clean Data - Tags: Import and clean data from the two txt files relating to tag data. Merge both into one dataframe. Classify tags into common topic groups.\n",
        "4.  Data Analysis - Tags : Aggregate data and answer the questions above relating to tag popularity.\n",
        "5.  Import and Clean Data - Subscribers and Purchases: Import and clean data from the three txt files relating to purchase and subscriber data, merge into one data frame.\n",
        "6.  Data Analysis - Subscribers and Purchases: Aggregate data and answer the questions above relating to purchases and subscribers"
      ]
    },
    {
      "cell_type": "markdown",
      "metadata": {
        "id": "4EID3ymw6UOf"
      },
      "source": [
        "# Code Excerpts\n",
        "\n",
        "Below are several code excerpts from my work on this project. \n",
        "\n",
        "Code exerpts follow the general workflow of the project - gathering data, cleaning/formatting data, and aggregating/analyzing data."
      ]
    },
    {
      "cell_type": "markdown",
      "metadata": {
        "id": "9XIrvDDln1xk"
      },
      "source": [
        "## Gathering Data "
      ]
    },
    {
      "cell_type": "markdown",
      "metadata": {
        "id": "D0C_WnZCCEUb"
      },
      "source": [
        "### Subscriber List Requests"
      ]
    },
    {
      "cell_type": "markdown",
      "metadata": {
        "id": "uzGsCaQ1n9e9"
      },
      "source": [
        "We will request data from the subscriber API endpoint in order to get a complete list of current subscribers, plus relevant information about the subscribers. We will make a separate request to get information on people who have unsubscribed. We will merge this list with information on purchases in order to learn more about subscriber purchasing patterns. Later, we will use this list to get individual subscribers' open and click rates for emails."
      ]
    },
    {
      "cell_type": "code",
      "metadata": {
        "id": "c3Ue8NGOhn38"
      },
      "source": [
        "# Create dictionary to store subscriber information\n",
        "subscribers_dict = defaultdict(list)"
      ],
      "execution_count": null,
      "outputs": []
    },
    {
      "cell_type": "code",
      "metadata": {
        "id": "YFyvvVlMiLlp"
      },
      "source": [
        "# API request for first page of subscribers\n",
        "api_string = 'https://api.convertkit.com/v3/subscribers?' + api_secret\n",
        "response = requests.get(api_string)\n",
        "response_j = response.json()\n",
        "\n",
        "# Find total number of pages and subscribers\n",
        "total_pages = response_j['total_pages']\n",
        "total_subscribers = response_j['total_subscribers']\n",
        "\n",
        "# Store relevant subscriber info in dictionary\n",
        "for subscriber in response_j['subscribers']:\n",
        "  id = subscriber['id']\n",
        "  subscribers_dict[id].append(subscriber['email_address'])\n",
        "  subscribers_dict[id].append(subscriber['first_name'])\n",
        "  subscribers_dict[id].append(subscriber['created_at'])\n",
        "  subscribers_dict[id].append(subscriber['fields']['legacy_optintime'])\n",
        "\n",
        "# Make API requests for rest of subscriber pages and store info in dictionary\n",
        "for i in range(2,total_pages+1):\n",
        "  api_string = 'https://api.convertkit.com/v3/subscribers?' + api_secret + '&page=' + str(i)\n",
        "  response = requests.get(api_string)\n",
        "  response_j = response.json()\n",
        "\n",
        "  for subscriber in response_j['subscribers']:\n",
        "    id = subscriber['id']\n",
        "    subscribers_dict[id].append(subscriber['email_address'])\n",
        "    subscribers_dict[id].append(subscriber['first_name'])\n",
        "    subscribers_dict[id].append(subscriber['created_at'])\n",
        "    subscribers_dict[id].append(subscriber['fields']['legacy_optintime'])"
      ],
      "execution_count": null,
      "outputs": []
    },
    {
      "cell_type": "code",
      "metadata": {
        "id": "rO_tPHzhoxJm",
        "outputId": "027cd036-32dc-43ce-9929-20bd359fda4b",
        "colab": {
          "base_uri": "https://localhost:8080/",
          "height": 34
        }
      },
      "source": [
        "# Verify we have captured all subscribers\n",
        "len(subscribers_dict) == total_subscribers"
      ],
      "execution_count": null,
      "outputs": [
        {
          "output_type": "execute_result",
          "data": {
            "text/plain": [
              "True"
            ]
          },
          "metadata": {
            "tags": []
          },
          "execution_count": 117
        }
      ]
    },
    {
      "cell_type": "code",
      "metadata": {
        "id": "tz3QUrMWrJAC"
      },
      "source": [
        "# Save subscriber information in `api_subscribers.txt` \n",
        "with open('api_subscribers.txt', 'w') as file:\n",
        "  json.dump(subscribers_dict, file)\n",
        "\n",
        "files.download('api_subscribers.txt')"
      ],
      "execution_count": null,
      "outputs": []
    },
    {
      "cell_type": "markdown",
      "metadata": {
        "id": "0_Q5HLS1Ouup"
      },
      "source": [
        "## Cleaning and Formatting Data"
      ]
    },
    {
      "cell_type": "markdown",
      "metadata": {
        "id": "EU5FbKg5CLF2"
      },
      "source": [
        "### Tag Subscription Data"
      ]
    },
    {
      "cell_type": "markdown",
      "metadata": {
        "id": "Xatmcd5UX2Rg"
      },
      "source": [
        "This is what our tag subscription data looks like before cleaning. The index represents the id number of each tag, column 0 represesnts the total number of subscribers to the tag, and the additional columns represent ids of email users who are subscribed to the tag."
      ]
    },
    {
      "cell_type": "code",
      "metadata": {
        "id": "GXuGHtFofaaa",
        "outputId": "b32d2978-9fcb-45d3-85b5-30c462b95c0c",
        "colab": {
          "base_uri": "https://localhost:8080/",
          "height": 253
        }
      },
      "source": [
        "# Preview data\n",
        "tag_sub.sample(5)"
      ],
      "execution_count": null,
      "outputs": [
        {
          "output_type": "execute_result",
          "data": {
            "text/html": [
              "<div>\n",
              "<style scoped>\n",
              "    .dataframe tbody tr th:only-of-type {\n",
              "        vertical-align: middle;\n",
              "    }\n",
              "\n",
              "    .dataframe tbody tr th {\n",
              "        vertical-align: top;\n",
              "    }\n",
              "\n",
              "    .dataframe thead th {\n",
              "        text-align: right;\n",
              "    }\n",
              "</style>\n",
              "<table border=\"1\" class=\"dataframe\">\n",
              "  <thead>\n",
              "    <tr style=\"text-align: right;\">\n",
              "      <th></th>\n",
              "      <th>0</th>\n",
              "      <th>1</th>\n",
              "      <th>2</th>\n",
              "      <th>3</th>\n",
              "      <th>4</th>\n",
              "      <th>5</th>\n",
              "      <th>6</th>\n",
              "      <th>7</th>\n",
              "      <th>8</th>\n",
              "      <th>9</th>\n",
              "      <th>10</th>\n",
              "      <th>11</th>\n",
              "      <th>12</th>\n",
              "      <th>13</th>\n",
              "      <th>14</th>\n",
              "      <th>15</th>\n",
              "      <th>16</th>\n",
              "      <th>17</th>\n",
              "      <th>18</th>\n",
              "      <th>19</th>\n",
              "      <th>20</th>\n",
              "      <th>21</th>\n",
              "      <th>22</th>\n",
              "      <th>23</th>\n",
              "      <th>24</th>\n",
              "      <th>25</th>\n",
              "      <th>26</th>\n",
              "      <th>27</th>\n",
              "      <th>28</th>\n",
              "      <th>29</th>\n",
              "      <th>30</th>\n",
              "      <th>31</th>\n",
              "      <th>32</th>\n",
              "      <th>33</th>\n",
              "      <th>34</th>\n",
              "      <th>35</th>\n",
              "      <th>36</th>\n",
              "      <th>37</th>\n",
              "      <th>38</th>\n",
              "      <th>39</th>\n",
              "      <th>...</th>\n",
              "      <th>224</th>\n",
              "      <th>225</th>\n",
              "      <th>226</th>\n",
              "      <th>227</th>\n",
              "      <th>228</th>\n",
              "      <th>229</th>\n",
              "      <th>230</th>\n",
              "      <th>231</th>\n",
              "      <th>232</th>\n",
              "      <th>233</th>\n",
              "      <th>234</th>\n",
              "      <th>235</th>\n",
              "      <th>236</th>\n",
              "      <th>237</th>\n",
              "      <th>238</th>\n",
              "      <th>239</th>\n",
              "      <th>240</th>\n",
              "      <th>241</th>\n",
              "      <th>242</th>\n",
              "      <th>243</th>\n",
              "      <th>244</th>\n",
              "      <th>245</th>\n",
              "      <th>246</th>\n",
              "      <th>247</th>\n",
              "      <th>248</th>\n",
              "      <th>249</th>\n",
              "      <th>250</th>\n",
              "      <th>251</th>\n",
              "      <th>252</th>\n",
              "      <th>253</th>\n",
              "      <th>254</th>\n",
              "      <th>255</th>\n",
              "      <th>256</th>\n",
              "      <th>257</th>\n",
              "      <th>258</th>\n",
              "      <th>259</th>\n",
              "      <th>260</th>\n",
              "      <th>261</th>\n",
              "      <th>262</th>\n",
              "      <th>263</th>\n",
              "    </tr>\n",
              "  </thead>\n",
              "  <tbody>\n",
              "    <tr>\n",
              "      <th>1329215</th>\n",
              "      <td>5.0</td>\n",
              "      <td>664953676.0</td>\n",
              "      <td>664944388.0</td>\n",
              "      <td>664946778.0</td>\n",
              "      <td>664944371.0</td>\n",
              "      <td>664953653.0</td>\n",
              "      <td>NaN</td>\n",
              "      <td>NaN</td>\n",
              "      <td>NaN</td>\n",
              "      <td>NaN</td>\n",
              "      <td>NaN</td>\n",
              "      <td>NaN</td>\n",
              "      <td>NaN</td>\n",
              "      <td>NaN</td>\n",
              "      <td>NaN</td>\n",
              "      <td>NaN</td>\n",
              "      <td>NaN</td>\n",
              "      <td>NaN</td>\n",
              "      <td>NaN</td>\n",
              "      <td>NaN</td>\n",
              "      <td>NaN</td>\n",
              "      <td>NaN</td>\n",
              "      <td>NaN</td>\n",
              "      <td>NaN</td>\n",
              "      <td>NaN</td>\n",
              "      <td>NaN</td>\n",
              "      <td>NaN</td>\n",
              "      <td>NaN</td>\n",
              "      <td>NaN</td>\n",
              "      <td>NaN</td>\n",
              "      <td>NaN</td>\n",
              "      <td>NaN</td>\n",
              "      <td>NaN</td>\n",
              "      <td>NaN</td>\n",
              "      <td>NaN</td>\n",
              "      <td>NaN</td>\n",
              "      <td>NaN</td>\n",
              "      <td>NaN</td>\n",
              "      <td>NaN</td>\n",
              "      <td>NaN</td>\n",
              "      <td>...</td>\n",
              "      <td>NaN</td>\n",
              "      <td>NaN</td>\n",
              "      <td>NaN</td>\n",
              "      <td>NaN</td>\n",
              "      <td>NaN</td>\n",
              "      <td>NaN</td>\n",
              "      <td>NaN</td>\n",
              "      <td>NaN</td>\n",
              "      <td>NaN</td>\n",
              "      <td>NaN</td>\n",
              "      <td>NaN</td>\n",
              "      <td>NaN</td>\n",
              "      <td>NaN</td>\n",
              "      <td>NaN</td>\n",
              "      <td>NaN</td>\n",
              "      <td>NaN</td>\n",
              "      <td>NaN</td>\n",
              "      <td>NaN</td>\n",
              "      <td>NaN</td>\n",
              "      <td>NaN</td>\n",
              "      <td>NaN</td>\n",
              "      <td>NaN</td>\n",
              "      <td>NaN</td>\n",
              "      <td>NaN</td>\n",
              "      <td>NaN</td>\n",
              "      <td>NaN</td>\n",
              "      <td>NaN</td>\n",
              "      <td>NaN</td>\n",
              "      <td>NaN</td>\n",
              "      <td>NaN</td>\n",
              "      <td>NaN</td>\n",
              "      <td>NaN</td>\n",
              "      <td>NaN</td>\n",
              "      <td>NaN</td>\n",
              "      <td>NaN</td>\n",
              "      <td>NaN</td>\n",
              "      <td>NaN</td>\n",
              "      <td>NaN</td>\n",
              "      <td>NaN</td>\n",
              "      <td>NaN</td>\n",
              "    </tr>\n",
              "    <tr>\n",
              "      <th>1232057</th>\n",
              "      <td>8.0</td>\n",
              "      <td>682624456.0</td>\n",
              "      <td>731116161.0</td>\n",
              "      <td>849293315.0</td>\n",
              "      <td>854832464.0</td>\n",
              "      <td>857251011.0</td>\n",
              "      <td>869337471.0</td>\n",
              "      <td>882994752.0</td>\n",
              "      <td>895691263.0</td>\n",
              "      <td>NaN</td>\n",
              "      <td>NaN</td>\n",
              "      <td>NaN</td>\n",
              "      <td>NaN</td>\n",
              "      <td>NaN</td>\n",
              "      <td>NaN</td>\n",
              "      <td>NaN</td>\n",
              "      <td>NaN</td>\n",
              "      <td>NaN</td>\n",
              "      <td>NaN</td>\n",
              "      <td>NaN</td>\n",
              "      <td>NaN</td>\n",
              "      <td>NaN</td>\n",
              "      <td>NaN</td>\n",
              "      <td>NaN</td>\n",
              "      <td>NaN</td>\n",
              "      <td>NaN</td>\n",
              "      <td>NaN</td>\n",
              "      <td>NaN</td>\n",
              "      <td>NaN</td>\n",
              "      <td>NaN</td>\n",
              "      <td>NaN</td>\n",
              "      <td>NaN</td>\n",
              "      <td>NaN</td>\n",
              "      <td>NaN</td>\n",
              "      <td>NaN</td>\n",
              "      <td>NaN</td>\n",
              "      <td>NaN</td>\n",
              "      <td>NaN</td>\n",
              "      <td>NaN</td>\n",
              "      <td>NaN</td>\n",
              "      <td>...</td>\n",
              "      <td>NaN</td>\n",
              "      <td>NaN</td>\n",
              "      <td>NaN</td>\n",
              "      <td>NaN</td>\n",
              "      <td>NaN</td>\n",
              "      <td>NaN</td>\n",
              "      <td>NaN</td>\n",
              "      <td>NaN</td>\n",
              "      <td>NaN</td>\n",
              "      <td>NaN</td>\n",
              "      <td>NaN</td>\n",
              "      <td>NaN</td>\n",
              "      <td>NaN</td>\n",
              "      <td>NaN</td>\n",
              "      <td>NaN</td>\n",
              "      <td>NaN</td>\n",
              "      <td>NaN</td>\n",
              "      <td>NaN</td>\n",
              "      <td>NaN</td>\n",
              "      <td>NaN</td>\n",
              "      <td>NaN</td>\n",
              "      <td>NaN</td>\n",
              "      <td>NaN</td>\n",
              "      <td>NaN</td>\n",
              "      <td>NaN</td>\n",
              "      <td>NaN</td>\n",
              "      <td>NaN</td>\n",
              "      <td>NaN</td>\n",
              "      <td>NaN</td>\n",
              "      <td>NaN</td>\n",
              "      <td>NaN</td>\n",
              "      <td>NaN</td>\n",
              "      <td>NaN</td>\n",
              "      <td>NaN</td>\n",
              "      <td>NaN</td>\n",
              "      <td>NaN</td>\n",
              "      <td>NaN</td>\n",
              "      <td>NaN</td>\n",
              "      <td>NaN</td>\n",
              "      <td>NaN</td>\n",
              "    </tr>\n",
              "    <tr>\n",
              "      <th>1304214</th>\n",
              "      <td>4.0</td>\n",
              "      <td>664944375.0</td>\n",
              "      <td>664953712.0</td>\n",
              "      <td>730847005.0</td>\n",
              "      <td>664940675.0</td>\n",
              "      <td>NaN</td>\n",
              "      <td>NaN</td>\n",
              "      <td>NaN</td>\n",
              "      <td>NaN</td>\n",
              "      <td>NaN</td>\n",
              "      <td>NaN</td>\n",
              "      <td>NaN</td>\n",
              "      <td>NaN</td>\n",
              "      <td>NaN</td>\n",
              "      <td>NaN</td>\n",
              "      <td>NaN</td>\n",
              "      <td>NaN</td>\n",
              "      <td>NaN</td>\n",
              "      <td>NaN</td>\n",
              "      <td>NaN</td>\n",
              "      <td>NaN</td>\n",
              "      <td>NaN</td>\n",
              "      <td>NaN</td>\n",
              "      <td>NaN</td>\n",
              "      <td>NaN</td>\n",
              "      <td>NaN</td>\n",
              "      <td>NaN</td>\n",
              "      <td>NaN</td>\n",
              "      <td>NaN</td>\n",
              "      <td>NaN</td>\n",
              "      <td>NaN</td>\n",
              "      <td>NaN</td>\n",
              "      <td>NaN</td>\n",
              "      <td>NaN</td>\n",
              "      <td>NaN</td>\n",
              "      <td>NaN</td>\n",
              "      <td>NaN</td>\n",
              "      <td>NaN</td>\n",
              "      <td>NaN</td>\n",
              "      <td>NaN</td>\n",
              "      <td>...</td>\n",
              "      <td>NaN</td>\n",
              "      <td>NaN</td>\n",
              "      <td>NaN</td>\n",
              "      <td>NaN</td>\n",
              "      <td>NaN</td>\n",
              "      <td>NaN</td>\n",
              "      <td>NaN</td>\n",
              "      <td>NaN</td>\n",
              "      <td>NaN</td>\n",
              "      <td>NaN</td>\n",
              "      <td>NaN</td>\n",
              "      <td>NaN</td>\n",
              "      <td>NaN</td>\n",
              "      <td>NaN</td>\n",
              "      <td>NaN</td>\n",
              "      <td>NaN</td>\n",
              "      <td>NaN</td>\n",
              "      <td>NaN</td>\n",
              "      <td>NaN</td>\n",
              "      <td>NaN</td>\n",
              "      <td>NaN</td>\n",
              "      <td>NaN</td>\n",
              "      <td>NaN</td>\n",
              "      <td>NaN</td>\n",
              "      <td>NaN</td>\n",
              "      <td>NaN</td>\n",
              "      <td>NaN</td>\n",
              "      <td>NaN</td>\n",
              "      <td>NaN</td>\n",
              "      <td>NaN</td>\n",
              "      <td>NaN</td>\n",
              "      <td>NaN</td>\n",
              "      <td>NaN</td>\n",
              "      <td>NaN</td>\n",
              "      <td>NaN</td>\n",
              "      <td>NaN</td>\n",
              "      <td>NaN</td>\n",
              "      <td>NaN</td>\n",
              "      <td>NaN</td>\n",
              "      <td>NaN</td>\n",
              "    </tr>\n",
              "    <tr>\n",
              "      <th>1202654</th>\n",
              "      <td>6.0</td>\n",
              "      <td>664946778.0</td>\n",
              "      <td>664948042.0</td>\n",
              "      <td>664948044.0</td>\n",
              "      <td>664948045.0</td>\n",
              "      <td>664948047.0</td>\n",
              "      <td>664948048.0</td>\n",
              "      <td>NaN</td>\n",
              "      <td>NaN</td>\n",
              "      <td>NaN</td>\n",
              "      <td>NaN</td>\n",
              "      <td>NaN</td>\n",
              "      <td>NaN</td>\n",
              "      <td>NaN</td>\n",
              "      <td>NaN</td>\n",
              "      <td>NaN</td>\n",
              "      <td>NaN</td>\n",
              "      <td>NaN</td>\n",
              "      <td>NaN</td>\n",
              "      <td>NaN</td>\n",
              "      <td>NaN</td>\n",
              "      <td>NaN</td>\n",
              "      <td>NaN</td>\n",
              "      <td>NaN</td>\n",
              "      <td>NaN</td>\n",
              "      <td>NaN</td>\n",
              "      <td>NaN</td>\n",
              "      <td>NaN</td>\n",
              "      <td>NaN</td>\n",
              "      <td>NaN</td>\n",
              "      <td>NaN</td>\n",
              "      <td>NaN</td>\n",
              "      <td>NaN</td>\n",
              "      <td>NaN</td>\n",
              "      <td>NaN</td>\n",
              "      <td>NaN</td>\n",
              "      <td>NaN</td>\n",
              "      <td>NaN</td>\n",
              "      <td>NaN</td>\n",
              "      <td>NaN</td>\n",
              "      <td>...</td>\n",
              "      <td>NaN</td>\n",
              "      <td>NaN</td>\n",
              "      <td>NaN</td>\n",
              "      <td>NaN</td>\n",
              "      <td>NaN</td>\n",
              "      <td>NaN</td>\n",
              "      <td>NaN</td>\n",
              "      <td>NaN</td>\n",
              "      <td>NaN</td>\n",
              "      <td>NaN</td>\n",
              "      <td>NaN</td>\n",
              "      <td>NaN</td>\n",
              "      <td>NaN</td>\n",
              "      <td>NaN</td>\n",
              "      <td>NaN</td>\n",
              "      <td>NaN</td>\n",
              "      <td>NaN</td>\n",
              "      <td>NaN</td>\n",
              "      <td>NaN</td>\n",
              "      <td>NaN</td>\n",
              "      <td>NaN</td>\n",
              "      <td>NaN</td>\n",
              "      <td>NaN</td>\n",
              "      <td>NaN</td>\n",
              "      <td>NaN</td>\n",
              "      <td>NaN</td>\n",
              "      <td>NaN</td>\n",
              "      <td>NaN</td>\n",
              "      <td>NaN</td>\n",
              "      <td>NaN</td>\n",
              "      <td>NaN</td>\n",
              "      <td>NaN</td>\n",
              "      <td>NaN</td>\n",
              "      <td>NaN</td>\n",
              "      <td>NaN</td>\n",
              "      <td>NaN</td>\n",
              "      <td>NaN</td>\n",
              "      <td>NaN</td>\n",
              "      <td>NaN</td>\n",
              "      <td>NaN</td>\n",
              "    </tr>\n",
              "    <tr>\n",
              "      <th>1429443</th>\n",
              "      <td>0.0</td>\n",
              "      <td>NaN</td>\n",
              "      <td>NaN</td>\n",
              "      <td>NaN</td>\n",
              "      <td>NaN</td>\n",
              "      <td>NaN</td>\n",
              "      <td>NaN</td>\n",
              "      <td>NaN</td>\n",
              "      <td>NaN</td>\n",
              "      <td>NaN</td>\n",
              "      <td>NaN</td>\n",
              "      <td>NaN</td>\n",
              "      <td>NaN</td>\n",
              "      <td>NaN</td>\n",
              "      <td>NaN</td>\n",
              "      <td>NaN</td>\n",
              "      <td>NaN</td>\n",
              "      <td>NaN</td>\n",
              "      <td>NaN</td>\n",
              "      <td>NaN</td>\n",
              "      <td>NaN</td>\n",
              "      <td>NaN</td>\n",
              "      <td>NaN</td>\n",
              "      <td>NaN</td>\n",
              "      <td>NaN</td>\n",
              "      <td>NaN</td>\n",
              "      <td>NaN</td>\n",
              "      <td>NaN</td>\n",
              "      <td>NaN</td>\n",
              "      <td>NaN</td>\n",
              "      <td>NaN</td>\n",
              "      <td>NaN</td>\n",
              "      <td>NaN</td>\n",
              "      <td>NaN</td>\n",
              "      <td>NaN</td>\n",
              "      <td>NaN</td>\n",
              "      <td>NaN</td>\n",
              "      <td>NaN</td>\n",
              "      <td>NaN</td>\n",
              "      <td>NaN</td>\n",
              "      <td>...</td>\n",
              "      <td>NaN</td>\n",
              "      <td>NaN</td>\n",
              "      <td>NaN</td>\n",
              "      <td>NaN</td>\n",
              "      <td>NaN</td>\n",
              "      <td>NaN</td>\n",
              "      <td>NaN</td>\n",
              "      <td>NaN</td>\n",
              "      <td>NaN</td>\n",
              "      <td>NaN</td>\n",
              "      <td>NaN</td>\n",
              "      <td>NaN</td>\n",
              "      <td>NaN</td>\n",
              "      <td>NaN</td>\n",
              "      <td>NaN</td>\n",
              "      <td>NaN</td>\n",
              "      <td>NaN</td>\n",
              "      <td>NaN</td>\n",
              "      <td>NaN</td>\n",
              "      <td>NaN</td>\n",
              "      <td>NaN</td>\n",
              "      <td>NaN</td>\n",
              "      <td>NaN</td>\n",
              "      <td>NaN</td>\n",
              "      <td>NaN</td>\n",
              "      <td>NaN</td>\n",
              "      <td>NaN</td>\n",
              "      <td>NaN</td>\n",
              "      <td>NaN</td>\n",
              "      <td>NaN</td>\n",
              "      <td>NaN</td>\n",
              "      <td>NaN</td>\n",
              "      <td>NaN</td>\n",
              "      <td>NaN</td>\n",
              "      <td>NaN</td>\n",
              "      <td>NaN</td>\n",
              "      <td>NaN</td>\n",
              "      <td>NaN</td>\n",
              "      <td>NaN</td>\n",
              "      <td>NaN</td>\n",
              "    </tr>\n",
              "  </tbody>\n",
              "</table>\n",
              "<p>5 rows × 264 columns</p>\n",
              "</div>"
            ],
            "text/plain": [
              "         0            1            2            3    ...  260  261  262  263\n",
              "1329215  5.0  664953676.0  664944388.0  664946778.0  ...  NaN  NaN  NaN  NaN\n",
              "1232057  8.0  682624456.0  731116161.0  849293315.0  ...  NaN  NaN  NaN  NaN\n",
              "1304214  4.0  664944375.0  664953712.0  730847005.0  ...  NaN  NaN  NaN  NaN\n",
              "1202654  6.0  664946778.0  664948042.0  664948044.0  ...  NaN  NaN  NaN  NaN\n",
              "1429443  0.0          NaN          NaN          NaN  ...  NaN  NaN  NaN  NaN\n",
              "\n",
              "[5 rows x 264 columns]"
            ]
          },
          "metadata": {
            "tags": []
          },
          "execution_count": 46
        }
      ]
    },
    {
      "cell_type": "markdown",
      "metadata": {
        "id": "TUCwtxqhO-R9"
      },
      "source": [
        "We will need to reformat the `tag_sub` dataframe to condense the data into two columns: `total_subscribers` and `subscriber_ids`. Subscriber ids will be stored as a list in this second column. We will clean the data by removing NaN values. Also, we will investigate why the dataframe has 273 rows when there are only 272 tags."
      ]
    },
    {
      "cell_type": "code",
      "metadata": {
        "id": "hRmuQq7RIZV1"
      },
      "source": [
        "# Create `user_ids` column to store a list of all user_ids associated with a tag in one column\n",
        "tag_sub['user_ids'] = tag_sub.iloc[:, 1:].to_numpy().tolist()"
      ],
      "execution_count": null,
      "outputs": []
    },
    {
      "cell_type": "code",
      "metadata": {
        "id": "Gdd-Q8LXdpw-"
      },
      "source": [
        "# Remove all other columns containing user ids\n",
        "tag_sub.drop(tag_sub.iloc[:, 1:264], axis=1, inplace=True)"
      ],
      "execution_count": null,
      "outputs": []
    },
    {
      "cell_type": "code",
      "metadata": {
        "id": "ZoMh77bmwGRD"
      },
      "source": [
        "# Remove NaN (empty) values from the list of user ids\n",
        "tag_sub['user_ids'] = tag_sub['user_ids'].apply(lambda x: [i for i in x if str(i) != 'nan'])"
      ],
      "execution_count": null,
      "outputs": []
    },
    {
      "cell_type": "code",
      "metadata": {
        "id": "78L9_zVOKsAZ"
      },
      "source": [
        "# Rename dataframe columns\n",
        "tag_sub.rename(columns={0: 'number_subscribers'}, inplace=True)"
      ],
      "execution_count": null,
      "outputs": []
    },
    {
      "cell_type": "code",
      "metadata": {
        "id": "4-i0Sy9eYK19",
        "outputId": "25a905c5-7dff-4675-9646-72dea321a088",
        "colab": {
          "base_uri": "https://localhost:8080/",
          "height": 204
        }
      },
      "source": [
        "# Preview data\n",
        "tag_sub.sample(5)"
      ],
      "execution_count": null,
      "outputs": [
        {
          "output_type": "execute_result",
          "data": {
            "text/html": [
              "<div>\n",
              "<style scoped>\n",
              "    .dataframe tbody tr th:only-of-type {\n",
              "        vertical-align: middle;\n",
              "    }\n",
              "\n",
              "    .dataframe tbody tr th {\n",
              "        vertical-align: top;\n",
              "    }\n",
              "\n",
              "    .dataframe thead th {\n",
              "        text-align: right;\n",
              "    }\n",
              "</style>\n",
              "<table border=\"1\" class=\"dataframe\">\n",
              "  <thead>\n",
              "    <tr style=\"text-align: right;\">\n",
              "      <th></th>\n",
              "      <th>number_subscribers</th>\n",
              "      <th>user_ids</th>\n",
              "    </tr>\n",
              "  </thead>\n",
              "  <tbody>\n",
              "    <tr>\n",
              "      <th>1397957</th>\n",
              "      <td>5.0</td>\n",
              "      <td>[821581036.0, 829513408.0, 664953628.0, 664953...</td>\n",
              "    </tr>\n",
              "    <tr>\n",
              "      <th>1398259</th>\n",
              "      <td>0.0</td>\n",
              "      <td>[]</td>\n",
              "    </tr>\n",
              "    <tr>\n",
              "      <th>1240718</th>\n",
              "      <td>0.0</td>\n",
              "      <td>[]</td>\n",
              "    </tr>\n",
              "    <tr>\n",
              "      <th>1277713</th>\n",
              "      <td>1.0</td>\n",
              "      <td>[664944371.0]</td>\n",
              "    </tr>\n",
              "    <tr>\n",
              "      <th>1240811</th>\n",
              "      <td>0.0</td>\n",
              "      <td>[]</td>\n",
              "    </tr>\n",
              "  </tbody>\n",
              "</table>\n",
              "</div>"
            ],
            "text/plain": [
              "         number_subscribers                                           user_ids\n",
              "1397957                 5.0  [821581036.0, 829513408.0, 664953628.0, 664953...\n",
              "1398259                 0.0                                                 []\n",
              "1240718                 0.0                                                 []\n",
              "1277713                 1.0                                      [664944371.0]\n",
              "1240811                 0.0                                                 []"
            ]
          },
          "metadata": {
            "tags": []
          },
          "execution_count": 51
        }
      ]
    },
    {
      "cell_type": "markdown",
      "metadata": {
        "id": "hAtvN2L6a3aW"
      },
      "source": [
        "`tag_sub` has 273 rows, but there are only 272 tags. If we look at the last row of the dataframe, it does not represent a legitimate tag id or data. We will drop this row and now we have 272 rows, as predicted."
      ]
    },
    {
      "cell_type": "code",
      "metadata": {
        "id": "i4ALMkFWatVe",
        "outputId": "8da26c51-5932-4ef6-aa5f-b8f6b481fb18",
        "colab": {
          "base_uri": "https://localhost:8080/",
          "height": 34
        }
      },
      "source": [
        "# Check size of dataframe\n",
        "tag_sub.shape"
      ],
      "execution_count": null,
      "outputs": [
        {
          "output_type": "execute_result",
          "data": {
            "text/plain": [
              "(273, 2)"
            ]
          },
          "metadata": {
            "tags": []
          },
          "execution_count": 30
        }
      ]
    },
    {
      "cell_type": "code",
      "metadata": {
        "id": "mUkeHH8Zax3T",
        "outputId": "0e6b98e6-bf46-4dd4-d52f-cb733b3affd4",
        "colab": {
          "base_uri": "https://localhost:8080/",
          "height": 204
        }
      },
      "source": [
        "# Examine last few rows of dataframe\n",
        "tag_sub.tail()"
      ],
      "execution_count": null,
      "outputs": [
        {
          "output_type": "execute_result",
          "data": {
            "text/html": [
              "<div>\n",
              "<style scoped>\n",
              "    .dataframe tbody tr th:only-of-type {\n",
              "        vertical-align: middle;\n",
              "    }\n",
              "\n",
              "    .dataframe tbody tr th {\n",
              "        vertical-align: top;\n",
              "    }\n",
              "\n",
              "    .dataframe thead th {\n",
              "        text-align: right;\n",
              "    }\n",
              "</style>\n",
              "<table border=\"1\" class=\"dataframe\">\n",
              "  <thead>\n",
              "    <tr style=\"text-align: right;\">\n",
              "      <th></th>\n",
              "      <th>number_subscribers</th>\n",
              "      <th>user_ids</th>\n",
              "    </tr>\n",
              "  </thead>\n",
              "  <tbody>\n",
              "    <tr>\n",
              "      <th>1453586</th>\n",
              "      <td>2.0</td>\n",
              "      <td>[676643172.0, 881534901.0]</td>\n",
              "    </tr>\n",
              "    <tr>\n",
              "      <th>1453849</th>\n",
              "      <td>4.0</td>\n",
              "      <td>[676643172.0, 850689384.0, 851366563.0, 881534...</td>\n",
              "    </tr>\n",
              "    <tr>\n",
              "      <th>1453584</th>\n",
              "      <td>1.0</td>\n",
              "      <td>[676643172.0]</td>\n",
              "    </tr>\n",
              "    <tr>\n",
              "      <th>1244470</th>\n",
              "      <td>23.0</td>\n",
              "      <td>[676643172.0, 683441994.0, 684009238.0, 685836...</td>\n",
              "    </tr>\n",
              "    <tr>\n",
              "      <th>5</th>\n",
              "      <td>NaN</td>\n",
              "      <td>[]</td>\n",
              "    </tr>\n",
              "  </tbody>\n",
              "</table>\n",
              "</div>"
            ],
            "text/plain": [
              "         number_subscribers                                           user_ids\n",
              "1453586                 2.0                         [676643172.0, 881534901.0]\n",
              "1453849                 4.0  [676643172.0, 850689384.0, 851366563.0, 881534...\n",
              "1453584                 1.0                                      [676643172.0]\n",
              "1244470                23.0  [676643172.0, 683441994.0, 684009238.0, 685836...\n",
              "5                       NaN                                                 []"
            ]
          },
          "metadata": {
            "tags": []
          },
          "execution_count": 31
        }
      ]
    },
    {
      "cell_type": "code",
      "metadata": {
        "id": "JGdGRKx1bQ32"
      },
      "source": [
        "# Drop last row from dataframe\n",
        "tag_sub.drop(index='5', inplace=True)"
      ],
      "execution_count": null,
      "outputs": []
    },
    {
      "cell_type": "code",
      "metadata": {
        "id": "gRAPrztWb5X0",
        "outputId": "c45e48d2-ad73-4b33-9da0-1fb54641738c",
        "colab": {
          "base_uri": "https://localhost:8080/",
          "height": 204
        }
      },
      "source": [
        "# Verify results\n",
        "tag_sub.tail()"
      ],
      "execution_count": null,
      "outputs": [
        {
          "output_type": "execute_result",
          "data": {
            "text/html": [
              "<div>\n",
              "<style scoped>\n",
              "    .dataframe tbody tr th:only-of-type {\n",
              "        vertical-align: middle;\n",
              "    }\n",
              "\n",
              "    .dataframe tbody tr th {\n",
              "        vertical-align: top;\n",
              "    }\n",
              "\n",
              "    .dataframe thead th {\n",
              "        text-align: right;\n",
              "    }\n",
              "</style>\n",
              "<table border=\"1\" class=\"dataframe\">\n",
              "  <thead>\n",
              "    <tr style=\"text-align: right;\">\n",
              "      <th></th>\n",
              "      <th>number_subscribers</th>\n",
              "      <th>user_ids</th>\n",
              "    </tr>\n",
              "  </thead>\n",
              "  <tbody>\n",
              "    <tr>\n",
              "      <th>1453585</th>\n",
              "      <td>3.0</td>\n",
              "      <td>[676643172.0, 850689384.0, 851366563.0]</td>\n",
              "    </tr>\n",
              "    <tr>\n",
              "      <th>1453586</th>\n",
              "      <td>2.0</td>\n",
              "      <td>[676643172.0, 881534901.0]</td>\n",
              "    </tr>\n",
              "    <tr>\n",
              "      <th>1453849</th>\n",
              "      <td>4.0</td>\n",
              "      <td>[676643172.0, 850689384.0, 851366563.0, 881534...</td>\n",
              "    </tr>\n",
              "    <tr>\n",
              "      <th>1453584</th>\n",
              "      <td>1.0</td>\n",
              "      <td>[676643172.0]</td>\n",
              "    </tr>\n",
              "    <tr>\n",
              "      <th>1244470</th>\n",
              "      <td>23.0</td>\n",
              "      <td>[676643172.0, 683441994.0, 684009238.0, 685836...</td>\n",
              "    </tr>\n",
              "  </tbody>\n",
              "</table>\n",
              "</div>"
            ],
            "text/plain": [
              "         number_subscribers                                           user_ids\n",
              "1453585                 3.0            [676643172.0, 850689384.0, 851366563.0]\n",
              "1453586                 2.0                         [676643172.0, 881534901.0]\n",
              "1453849                 4.0  [676643172.0, 850689384.0, 851366563.0, 881534...\n",
              "1453584                 1.0                                      [676643172.0]\n",
              "1244470                23.0  [676643172.0, 683441994.0, 684009238.0, 685836..."
            ]
          },
          "metadata": {
            "tags": []
          },
          "execution_count": 33
        }
      ]
    },
    {
      "cell_type": "code",
      "metadata": {
        "id": "zpGqF8cnabBu"
      },
      "source": [
        "# Reformat `number_subscribers` column as integers\n",
        "tag_sub['number_subscribers'] = tag_sub['number_subscribers'].astype(int)"
      ],
      "execution_count": null,
      "outputs": []
    },
    {
      "cell_type": "code",
      "metadata": {
        "id": "rqO8xTU5L7La"
      },
      "source": [
        "# Reformat `user_ids` column as integers\n",
        "def to_int(tags):\n",
        "  tag_list = []\n",
        "  for tag in tags:\n",
        "    tag = int(tag)\n",
        "    tag_list.append(tag)\n",
        "  return tag_list\n",
        "\n",
        "tag_sub['user_ids'] = tag_sub['user_ids'].apply(to_int)"
      ],
      "execution_count": null,
      "outputs": []
    },
    {
      "cell_type": "code",
      "metadata": {
        "id": "-m9BYX9WL0MD",
        "outputId": "74118b80-fd1f-4ba1-9a4d-c79a8866ff9c",
        "colab": {
          "base_uri": "https://localhost:8080/",
          "height": 204
        }
      },
      "source": [
        "# Verify results\n",
        "tag_sub.sample(5)"
      ],
      "execution_count": null,
      "outputs": [
        {
          "output_type": "execute_result",
          "data": {
            "text/html": [
              "<div>\n",
              "<style scoped>\n",
              "    .dataframe tbody tr th:only-of-type {\n",
              "        vertical-align: middle;\n",
              "    }\n",
              "\n",
              "    .dataframe tbody tr th {\n",
              "        vertical-align: top;\n",
              "    }\n",
              "\n",
              "    .dataframe thead th {\n",
              "        text-align: right;\n",
              "    }\n",
              "</style>\n",
              "<table border=\"1\" class=\"dataframe\">\n",
              "  <thead>\n",
              "    <tr style=\"text-align: right;\">\n",
              "      <th></th>\n",
              "      <th>number_subscribers</th>\n",
              "      <th>user_ids</th>\n",
              "    </tr>\n",
              "  </thead>\n",
              "  <tbody>\n",
              "    <tr>\n",
              "      <th>1264538</th>\n",
              "      <td>3</td>\n",
              "      <td>[664953722, 664944378, 664940675]</td>\n",
              "    </tr>\n",
              "    <tr>\n",
              "      <th>1256151</th>\n",
              "      <td>104</td>\n",
              "      <td>[664944364, 664953737, 664940675, 664944371, 6...</td>\n",
              "    </tr>\n",
              "    <tr>\n",
              "      <th>1240815</th>\n",
              "      <td>0</td>\n",
              "      <td>[]</td>\n",
              "    </tr>\n",
              "    <tr>\n",
              "      <th>1231652</th>\n",
              "      <td>26</td>\n",
              "      <td>[687487265, 692530513, 726985916, 731116161, 6...</td>\n",
              "    </tr>\n",
              "    <tr>\n",
              "      <th>1261329</th>\n",
              "      <td>22</td>\n",
              "      <td>[664943368, 717082207, 731116161, 734033266, 7...</td>\n",
              "    </tr>\n",
              "  </tbody>\n",
              "</table>\n",
              "</div>"
            ],
            "text/plain": [
              "         number_subscribers                                           user_ids\n",
              "1264538                   3                  [664953722, 664944378, 664940675]\n",
              "1256151                 104  [664944364, 664953737, 664940675, 664944371, 6...\n",
              "1240815                   0                                                 []\n",
              "1231652                  26  [687487265, 692530513, 726985916, 731116161, 6...\n",
              "1261329                  22  [664943368, 717082207, 731116161, 734033266, 7..."
            ]
          },
          "metadata": {
            "tags": []
          },
          "execution_count": 55
        }
      ]
    },
    {
      "cell_type": "markdown",
      "metadata": {
        "id": "lBmWMUKKPyxm"
      },
      "source": [
        "### Merge Data"
      ]
    },
    {
      "cell_type": "markdown",
      "metadata": {
        "id": "nm9eX48-QAvt"
      },
      "source": [
        "Now that we have cleaned and formatted `tag_sub` and `tag_data`, we are ready to merge these two dataframes into one."
      ]
    },
    {
      "cell_type": "code",
      "metadata": {
        "id": "rhbDdESXRRf2"
      },
      "source": [
        "# Convert `tag_sub` index to integer type so that index matches `tag_data` for merging\n",
        "tag_sub.index = tag_sub.index.astype(int)"
      ],
      "execution_count": null,
      "outputs": []
    },
    {
      "cell_type": "code",
      "metadata": {
        "id": "afkxbTztg1w7"
      },
      "source": [
        "# Merge `tag_sub` and `tag_data` into one dataframe\n",
        "all_tag_data = tag_data.merge(tag_sub, how='left', left_index=True, right_index=True)"
      ],
      "execution_count": null,
      "outputs": []
    },
    {
      "cell_type": "code",
      "metadata": {
        "id": "cf7NXZL9QSqz",
        "outputId": "7cd93d1a-b115-48e7-9c0e-c5cd2ab43883",
        "colab": {
          "base_uri": "https://localhost:8080/",
          "height": 303
        }
      },
      "source": [
        "# Preview `all_tag_data`\n",
        "all_tag_data.sample(5)"
      ],
      "execution_count": null,
      "outputs": [
        {
          "output_type": "execute_result",
          "data": {
            "text/html": [
              "<div>\n",
              "<style scoped>\n",
              "    .dataframe tbody tr th:only-of-type {\n",
              "        vertical-align: middle;\n",
              "    }\n",
              "\n",
              "    .dataframe tbody tr th {\n",
              "        vertical-align: top;\n",
              "    }\n",
              "\n",
              "    .dataframe thead th {\n",
              "        text-align: right;\n",
              "    }\n",
              "</style>\n",
              "<table border=\"1\" class=\"dataframe\">\n",
              "  <thead>\n",
              "    <tr style=\"text-align: right;\">\n",
              "      <th></th>\n",
              "      <th>name</th>\n",
              "      <th>Topic</th>\n",
              "      <th>number_subscribers</th>\n",
              "      <th>user_ids</th>\n",
              "    </tr>\n",
              "    <tr>\n",
              "      <th>id</th>\n",
              "      <th></th>\n",
              "      <th></th>\n",
              "      <th></th>\n",
              "      <th></th>\n",
              "    </tr>\n",
              "  </thead>\n",
              "  <tbody>\n",
              "    <tr>\n",
              "      <th>1561864</th>\n",
              "      <td>Link-Video-Recomp-Women</td>\n",
              "      <td>[Recomp, Women]</td>\n",
              "      <td>10</td>\n",
              "      <td>[664953628, 664953735, 812597413, 664946781, 6...</td>\n",
              "    </tr>\n",
              "    <tr>\n",
              "      <th>1256389</th>\n",
              "      <td>BoT-Link-Feedback-WantTroubleshootTool</td>\n",
              "      <td>[]</td>\n",
              "      <td>0</td>\n",
              "      <td>[]</td>\n",
              "    </tr>\n",
              "    <tr>\n",
              "      <th>1261319</th>\n",
              "      <td>Past-CalorieMacroCount</td>\n",
              "      <td>[Calorie]</td>\n",
              "      <td>23</td>\n",
              "      <td>[664944388, 664943368, 726985916, 731116161, 7...</td>\n",
              "    </tr>\n",
              "    <tr>\n",
              "      <th>1259834</th>\n",
              "      <td>BoT-Link-Exercise-Glutes</td>\n",
              "      <td>[Exercise]</td>\n",
              "      <td>0</td>\n",
              "      <td>[]</td>\n",
              "    </tr>\n",
              "    <tr>\n",
              "      <th>1261332</th>\n",
              "      <td>Need-StepByStepCoach</td>\n",
              "      <td>[Coach]</td>\n",
              "      <td>13</td>\n",
              "      <td>[733396202, 734033266, 779708759, 783470093, 8...</td>\n",
              "    </tr>\n",
              "  </tbody>\n",
              "</table>\n",
              "</div>"
            ],
            "text/plain": [
              "                                           name  ...                                           user_ids\n",
              "id                                               ...                                                   \n",
              "1561864                 Link-Video-Recomp-Women  ...  [664953628, 664953735, 812597413, 664946781, 6...\n",
              "1256389  BoT-Link-Feedback-WantTroubleshootTool  ...                                                 []\n",
              "1261319                  Past-CalorieMacroCount  ...  [664944388, 664943368, 726985916, 731116161, 7...\n",
              "1259834                BoT-Link-Exercise-Glutes  ...                                                 []\n",
              "1261332                    Need-StepByStepCoach  ...  [733396202, 734033266, 779708759, 783470093, 8...\n",
              "\n",
              "[5 rows x 4 columns]"
            ]
          },
          "metadata": {
            "tags": []
          },
          "execution_count": 43
        }
      ]
    },
    {
      "cell_type": "markdown",
      "metadata": {
        "id": "lYnWRjReGiVE"
      },
      "source": [
        "### Purchase Data"
      ]
    },
    {
      "cell_type": "markdown",
      "metadata": {
        "id": "tVYWlSEzGiVH"
      },
      "source": [
        "First, we will import the `api_purchases.txt` file where the purchase information is stored. We will then load the data into a dataframe and clean it. We will categorize purchases into `Product1`, `Product2`, and `Other`. Note: Product names have been changed."
      ]
    },
    {
      "cell_type": "code",
      "metadata": {
        "id": "X_a-324r2Mqj",
        "outputId": "34cfdd18-ed5c-49b7-b756-7eda9b6baf8d",
        "colab": {
          "resources": {
            "http://localhost:8080/nbextensions/google.colab/files.js": {
              "data": "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",
              "ok": true,
              "headers": [
                [
                  "content-type",
                  "application/javascript"
                ]
              ],
              "status": 200,
              "status_text": ""
            }
          },
          "base_uri": "https://localhost:8080/",
          "height": 72
        }
      },
      "source": [
        "# Import `api_purchases.txt`\n",
        "uploaded = files.upload()"
      ],
      "execution_count": null,
      "outputs": [
        {
          "output_type": "display_data",
          "data": {
            "text/html": [
              "\n",
              "     <input type=\"file\" id=\"files-ce83480b-1486-4585-8f5a-b814c6bae6ad\" name=\"files[]\" multiple disabled\n",
              "        style=\"border:none\" />\n",
              "     <output id=\"result-ce83480b-1486-4585-8f5a-b814c6bae6ad\">\n",
              "      Upload widget is only available when the cell has been executed in the\n",
              "      current browser session. Please rerun this cell to enable.\n",
              "      </output>\n",
              "      <script src=\"/nbextensions/google.colab/files.js\"></script> "
            ],
            "text/plain": [
              "<IPython.core.display.HTML object>"
            ]
          },
          "metadata": {
            "tags": []
          }
        },
        {
          "output_type": "stream",
          "text": [
            "Saving api_purchases.txt to api_purchases.txt\n"
          ],
          "name": "stdout"
        }
      ]
    },
    {
      "cell_type": "code",
      "metadata": {
        "id": "Zj7yEbx62cyV"
      },
      "source": [
        "# Load results into a python dictionary\n",
        "purchases = json.loads(uploaded[\"api_purchases.txt\"].decode('utf-8'))"
      ],
      "execution_count": null,
      "outputs": []
    },
    {
      "cell_type": "code",
      "metadata": {
        "id": "JGgadGMGGiVX"
      },
      "source": [
        "# Store purchase info in a dataframe\n",
        "purchases = pd.DataFrame.from_dict(purchases, orient='index')"
      ],
      "execution_count": null,
      "outputs": []
    },
    {
      "cell_type": "code",
      "metadata": {
        "id": "RMMNV9GnGiVc"
      },
      "source": [
        "# Rename columns\n",
        "purchases.columns=['email', 'product', 'total_1', 'total_2', 'purchase_time']"
      ],
      "execution_count": null,
      "outputs": []
    },
    {
      "cell_type": "code",
      "metadata": {
        "id": "m9l1kQLYGiVg",
        "outputId": "eb3b2886-1463-4414-9de4-9657bd737266",
        "colab": {
          "base_uri": "https://localhost:8080/",
          "height": 34
        }
      },
      "source": [
        "# Verify that we have all 269 purchases in the dataframe\n",
        "purchases.shape"
      ],
      "execution_count": null,
      "outputs": [
        {
          "output_type": "execute_result",
          "data": {
            "text/plain": [
              "(269, 5)"
            ]
          },
          "metadata": {
            "tags": []
          },
          "execution_count": 6
        }
      ]
    },
    {
      "cell_type": "code",
      "metadata": {
        "id": "VCm3XPPZFN3v"
      },
      "source": [
        "# Drop email - privacy\n",
        "purchases.drop(columns=['email'], inplace=True)"
      ],
      "execution_count": null,
      "outputs": []
    },
    {
      "cell_type": "code",
      "metadata": {
        "id": "H6ftD22AGiVo",
        "outputId": "72b903db-b24d-4849-947d-50a0bb71eac4",
        "colab": {
          "base_uri": "https://localhost:8080/",
          "height": 204
        }
      },
      "source": [
        "# Preview data\n",
        "purchases.sample(5)"
      ],
      "execution_count": null,
      "outputs": [
        {
          "output_type": "execute_result",
          "data": {
            "text/html": [
              "<div>\n",
              "<style scoped>\n",
              "    .dataframe tbody tr th:only-of-type {\n",
              "        vertical-align: middle;\n",
              "    }\n",
              "\n",
              "    .dataframe tbody tr th {\n",
              "        vertical-align: top;\n",
              "    }\n",
              "\n",
              "    .dataframe thead th {\n",
              "        text-align: right;\n",
              "    }\n",
              "</style>\n",
              "<table border=\"1\" class=\"dataframe\">\n",
              "  <thead>\n",
              "    <tr style=\"text-align: right;\">\n",
              "      <th></th>\n",
              "      <th>product</th>\n",
              "      <th>total_1</th>\n",
              "      <th>total_2</th>\n",
              "      <th>purchase_time</th>\n",
              "    </tr>\n",
              "  </thead>\n",
              "  <tbody>\n",
              "    <tr>\n",
              "      <th>10246604</th>\n",
              "      <td>Coach Viva</td>\n",
              "      <td>0.0</td>\n",
              "      <td>36.32</td>\n",
              "      <td>2019-09-05T21:30:10Z</td>\n",
              "    </tr>\n",
              "    <tr>\n",
              "      <th>10246744</th>\n",
              "      <td>Coach Viva 25-monthly</td>\n",
              "      <td>0.0</td>\n",
              "      <td>26.03</td>\n",
              "      <td>2019-03-10T22:46:41Z</td>\n",
              "    </tr>\n",
              "    <tr>\n",
              "      <th>10246717</th>\n",
              "      <td>Coach Viva</td>\n",
              "      <td>0.0</td>\n",
              "      <td>51.75</td>\n",
              "      <td>2019-04-21T17:56:10Z</td>\n",
              "    </tr>\n",
              "    <tr>\n",
              "      <th>10246584</th>\n",
              "      <td>Stripe Payment</td>\n",
              "      <td>14.0</td>\n",
              "      <td>0.00</td>\n",
              "      <td>2019-09-30T05:28:35Z</td>\n",
              "    </tr>\n",
              "    <tr>\n",
              "      <th>10246660</th>\n",
              "      <td>Coach Viva</td>\n",
              "      <td>0.0</td>\n",
              "      <td>36.32</td>\n",
              "      <td>2019-07-04T01:56:35Z</td>\n",
              "    </tr>\n",
              "  </tbody>\n",
              "</table>\n",
              "</div>"
            ],
            "text/plain": [
              "                        product  total_1  total_2         purchase_time\n",
              "10246604             Coach Viva      0.0    36.32  2019-09-05T21:30:10Z\n",
              "10246744  Coach Viva 25-monthly      0.0    26.03  2019-03-10T22:46:41Z\n",
              "10246717             Coach Viva      0.0    51.75  2019-04-21T17:56:10Z\n",
              "10246584         Stripe Payment     14.0     0.00  2019-09-30T05:28:35Z\n",
              "10246660             Coach Viva      0.0    36.32  2019-07-04T01:56:35Z"
            ]
          },
          "metadata": {
            "tags": []
          },
          "execution_count": 9
        }
      ]
    },
    {
      "cell_type": "markdown",
      "metadata": {
        "id": "Ph4vXpG9GiVs"
      },
      "source": [
        "Purchase totals were recorded in two different places in our records, depending on how and when the purchase was made. We will clean this information by combining `total_1` and `total_2` into one column with the true total for the purchase. Also, we will need to convert the `purchase_time` column to datetime objects to make it easier to work with. Finally, we will clean up the `product` category by classifying products into the following 3 categories: Product1, Product2, and Other."
      ]
    },
    {
      "cell_type": "code",
      "metadata": {
        "id": "1sAYoZUGGiVs"
      },
      "source": [
        "# Combine two total columns into one and drop old total columns\n",
        "purchases['total'] = purchases['total_1'] + purchases['total_2']\n",
        "purchases = purchases.drop(['total_1', 'total_2'], axis=1)"
      ],
      "execution_count": null,
      "outputs": []
    },
    {
      "cell_type": "code",
      "metadata": {
        "id": "jp3bDN2MGiVv"
      },
      "source": [
        "# Write a function to convert the dates into datetime objects\n",
        "def convert_date(d):\n",
        "  new_date = dt.datetime.strptime(d, \"%Y-%m-%dT%H:%M:%SZ\")\n",
        "  return new_date.date()"
      ],
      "execution_count": null,
      "outputs": []
    },
    {
      "cell_type": "code",
      "metadata": {
        "id": "kBAPdgq8GiVx"
      },
      "source": [
        "# Apply this function to the `purchase_time` column\n",
        "purchases['purchase_time'] = purchases['purchase_time'].apply(convert_date)"
      ],
      "execution_count": null,
      "outputs": []
    },
    {
      "cell_type": "code",
      "metadata": {
        "id": "5OKkbxmmGiV0"
      },
      "source": [
        "# Look at different total amounts to decide how to classify them - output removed for privacy\n",
        "purchases['total'].value_counts().sort_index()"
      ],
      "execution_count": null,
      "outputs": []
    },
    {
      "cell_type": "markdown",
      "metadata": {
        "id": "qKg7D9lEGiV3"
      },
      "source": [
        "We will classify all purchases of \\$500 or more as Product1, all purchases of \\$47 or \\$97 as Product2, and all other purchases as Other."
      ]
    },
    {
      "cell_type": "code",
      "metadata": {
        "id": "0vcirbrHGiV3"
      },
      "source": [
        "# Write a function to categorize purchases \n",
        "def purchase_cat(x):\n",
        "  if x >= 500:\n",
        "    return 'Product1'\n",
        "  elif x == 47 or x == 97:\n",
        "    return 'Product2'\n",
        "  else:\n",
        "    return 'Other'"
      ],
      "execution_count": null,
      "outputs": []
    },
    {
      "cell_type": "code",
      "metadata": {
        "id": "tOkxFq47GiV6"
      },
      "source": [
        "# Use the function to categorize purchases\n",
        "purchases['purchase_cat'] = purchases['total'].apply(purchase_cat)"
      ],
      "execution_count": null,
      "outputs": []
    },
    {
      "cell_type": "code",
      "metadata": {
        "id": "budtdrnJGiV8"
      },
      "source": [
        "# Drop `product` category as we don't need this anymore\n",
        "purchases.drop('product', axis=1, inplace=True)"
      ],
      "execution_count": null,
      "outputs": []
    },
    {
      "cell_type": "code",
      "metadata": {
        "id": "o9__AQPxGiV-",
        "outputId": "0c3507c8-3e03-4111-87b4-480599c1c71e",
        "colab": {
          "base_uri": "https://localhost:8080/",
          "height": 204
        }
      },
      "source": [
        "# Verify results\n",
        "purchases.sample(5)"
      ],
      "execution_count": null,
      "outputs": [
        {
          "output_type": "execute_result",
          "data": {
            "text/html": [
              "<div>\n",
              "<style scoped>\n",
              "    .dataframe tbody tr th:only-of-type {\n",
              "        vertical-align: middle;\n",
              "    }\n",
              "\n",
              "    .dataframe tbody tr th {\n",
              "        vertical-align: top;\n",
              "    }\n",
              "\n",
              "    .dataframe thead th {\n",
              "        text-align: right;\n",
              "    }\n",
              "</style>\n",
              "<table border=\"1\" class=\"dataframe\">\n",
              "  <thead>\n",
              "    <tr style=\"text-align: right;\">\n",
              "      <th></th>\n",
              "      <th>purchase_time</th>\n",
              "      <th>total</th>\n",
              "      <th>purchase_cat</th>\n",
              "    </tr>\n",
              "  </thead>\n",
              "  <tbody>\n",
              "    <tr>\n",
              "      <th>10246723</th>\n",
              "      <td>2019-04-10</td>\n",
              "      <td>26.03</td>\n",
              "      <td>Other</td>\n",
              "    </tr>\n",
              "    <tr>\n",
              "      <th>10412504</th>\n",
              "      <td>2019-12-16</td>\n",
              "      <td>69.31</td>\n",
              "      <td>Other</td>\n",
              "    </tr>\n",
              "    <tr>\n",
              "      <th>10246661</th>\n",
              "      <td>2019-07-03</td>\n",
              "      <td>26.03</td>\n",
              "      <td>Other</td>\n",
              "    </tr>\n",
              "    <tr>\n",
              "      <th>10246549</th>\n",
              "      <td>2019-11-09</td>\n",
              "      <td>69.31</td>\n",
              "      <td>Other</td>\n",
              "    </tr>\n",
              "    <tr>\n",
              "      <th>12989055</th>\n",
              "      <td>2020-04-08</td>\n",
              "      <td>600.00</td>\n",
              "      <td>Product1</td>\n",
              "    </tr>\n",
              "  </tbody>\n",
              "</table>\n",
              "</div>"
            ],
            "text/plain": [
              "         purchase_time   total purchase_cat\n",
              "10246723    2019-04-10   26.03        Other\n",
              "10412504    2019-12-16   69.31        Other\n",
              "10246661    2019-07-03   26.03        Other\n",
              "10246549    2019-11-09   69.31        Other\n",
              "12989055    2020-04-08  600.00     Product1"
            ]
          },
          "metadata": {
            "tags": []
          },
          "execution_count": 17
        }
      ]
    },
    {
      "cell_type": "markdown",
      "metadata": {
        "id": "-tw2caa_Inlq"
      },
      "source": [
        "## Aggregation and Analysis \n"
      ]
    },
    {
      "cell_type": "markdown",
      "metadata": {
        "id": "7Vcl77kLG8Vr"
      },
      "source": [
        "### Most Popular Topics"
      ]
    },
    {
      "cell_type": "markdown",
      "metadata": {
        "id": "sUkUlESJIlkJ"
      },
      "source": [
        "Prior to this, I analyzed the most popular tags and grouped similar tags into topics. Each tag is classified as belonging to a list of topics, as seen in `Topics` column of the dataframe below.\n",
        "\n",
        "In this section, we will look at the most popular topics to gain a broader view of subscriber interests."
      ]
    },
    {
      "cell_type": "code",
      "metadata": {
        "id": "GXI0lhLwItP6",
        "outputId": "7cd93d1a-b115-48e7-9c0e-c5cd2ab43883",
        "colab": {
          "base_uri": "https://localhost:8080/",
          "height": 303
        }
      },
      "source": [
        "# Preview `all_tag_data`\n",
        "all_tag_data.sample(5)"
      ],
      "execution_count": null,
      "outputs": [
        {
          "output_type": "execute_result",
          "data": {
            "text/html": [
              "<div>\n",
              "<style scoped>\n",
              "    .dataframe tbody tr th:only-of-type {\n",
              "        vertical-align: middle;\n",
              "    }\n",
              "\n",
              "    .dataframe tbody tr th {\n",
              "        vertical-align: top;\n",
              "    }\n",
              "\n",
              "    .dataframe thead th {\n",
              "        text-align: right;\n",
              "    }\n",
              "</style>\n",
              "<table border=\"1\" class=\"dataframe\">\n",
              "  <thead>\n",
              "    <tr style=\"text-align: right;\">\n",
              "      <th></th>\n",
              "      <th>name</th>\n",
              "      <th>Topic</th>\n",
              "      <th>number_subscribers</th>\n",
              "      <th>user_ids</th>\n",
              "    </tr>\n",
              "    <tr>\n",
              "      <th>id</th>\n",
              "      <th></th>\n",
              "      <th></th>\n",
              "      <th></th>\n",
              "      <th></th>\n",
              "    </tr>\n",
              "  </thead>\n",
              "  <tbody>\n",
              "    <tr>\n",
              "      <th>1561864</th>\n",
              "      <td>Link-Video-Recomp-Women</td>\n",
              "      <td>[Recomp, Women]</td>\n",
              "      <td>10</td>\n",
              "      <td>[664953628, 664953735, 812597413, 664946781, 6...</td>\n",
              "    </tr>\n",
              "    <tr>\n",
              "      <th>1256389</th>\n",
              "      <td>BoT-Link-Feedback-WantTroubleshootTool</td>\n",
              "      <td>[]</td>\n",
              "      <td>0</td>\n",
              "      <td>[]</td>\n",
              "    </tr>\n",
              "    <tr>\n",
              "      <th>1261319</th>\n",
              "      <td>Past-CalorieMacroCount</td>\n",
              "      <td>[Calorie]</td>\n",
              "      <td>23</td>\n",
              "      <td>[664944388, 664943368, 726985916, 731116161, 7...</td>\n",
              "    </tr>\n",
              "    <tr>\n",
              "      <th>1259834</th>\n",
              "      <td>BoT-Link-Exercise-Glutes</td>\n",
              "      <td>[Exercise]</td>\n",
              "      <td>0</td>\n",
              "      <td>[]</td>\n",
              "    </tr>\n",
              "    <tr>\n",
              "      <th>1261332</th>\n",
              "      <td>Need-StepByStepCoach</td>\n",
              "      <td>[Coach]</td>\n",
              "      <td>13</td>\n",
              "      <td>[733396202, 734033266, 779708759, 783470093, 8...</td>\n",
              "    </tr>\n",
              "  </tbody>\n",
              "</table>\n",
              "</div>"
            ],
            "text/plain": [
              "                                           name  ...                                           user_ids\n",
              "id                                               ...                                                   \n",
              "1561864                 Link-Video-Recomp-Women  ...  [664953628, 664953735, 812597413, 664946781, 6...\n",
              "1256389  BoT-Link-Feedback-WantTroubleshootTool  ...                                                 []\n",
              "1261319                  Past-CalorieMacroCount  ...  [664944388, 664943368, 726985916, 731116161, 7...\n",
              "1259834                BoT-Link-Exercise-Glutes  ...                                                 []\n",
              "1261332                    Need-StepByStepCoach  ...  [733396202, 734033266, 779708759, 783470093, 8...\n",
              "\n",
              "[5 rows x 4 columns]"
            ]
          },
          "metadata": {
            "tags": []
          },
          "execution_count": 43
        }
      ]
    },
    {
      "cell_type": "markdown",
      "metadata": {
        "id": "MpcZfZgbMCgb"
      },
      "source": [
        "First, we need break tags that belong to multiple topics out into one row for each topic. Then, we'll aggregate our data by topic and analyze the findings."
      ]
    },
    {
      "cell_type": "code",
      "metadata": {
        "id": "rdpUxQGCKF67"
      },
      "source": [
        "# Explode list in `Tag_Group` column to prepare to aggregate \n",
        "all_tag_data_group = all_tag_data.explode('Topic')"
      ],
      "execution_count": null,
      "outputs": []
    },
    {
      "cell_type": "code",
      "metadata": {
        "id": "RCkbrRQHQoJm"
      },
      "source": [
        "# Add `% Subscribed` column: percentage of email list subscribed to each tag\n",
        "all_tag_data_group['% Subscribed'] = round(all_tag_data_group['number_subscribers'] / total_subscribers * 100, 2)"
      ],
      "execution_count": null,
      "outputs": []
    },
    {
      "cell_type": "code",
      "metadata": {
        "id": "o15lJcVvJl_x",
        "outputId": "b4d9928d-27fd-4a50-80f4-f9789a7220cb",
        "colab": {
          "base_uri": "https://localhost:8080/",
          "height": 303
        }
      },
      "source": [
        "# Preview data\n",
        "all_tag_data_group.sample(5)"
      ],
      "execution_count": null,
      "outputs": [
        {
          "output_type": "execute_result",
          "data": {
            "text/html": [
              "<div>\n",
              "<style scoped>\n",
              "    .dataframe tbody tr th:only-of-type {\n",
              "        vertical-align: middle;\n",
              "    }\n",
              "\n",
              "    .dataframe tbody tr th {\n",
              "        vertical-align: top;\n",
              "    }\n",
              "\n",
              "    .dataframe thead th {\n",
              "        text-align: right;\n",
              "    }\n",
              "</style>\n",
              "<table border=\"1\" class=\"dataframe\">\n",
              "  <thead>\n",
              "    <tr style=\"text-align: right;\">\n",
              "      <th></th>\n",
              "      <th>name</th>\n",
              "      <th>Topic</th>\n",
              "      <th>number_subscribers</th>\n",
              "      <th>user_ids</th>\n",
              "      <th>% Subscribed</th>\n",
              "    </tr>\n",
              "    <tr>\n",
              "      <th>id</th>\n",
              "      <th></th>\n",
              "      <th></th>\n",
              "      <th></th>\n",
              "      <th></th>\n",
              "      <th></th>\n",
              "    </tr>\n",
              "  </thead>\n",
              "  <tbody>\n",
              "    <tr>\n",
              "      <th>1304214</th>\n",
              "      <td>Link-Video-Podcast-Episode3</td>\n",
              "      <td>NaN</td>\n",
              "      <td>4</td>\n",
              "      <td>[664944375, 664953712, 730847005, 664940675]</td>\n",
              "      <td>1.00</td>\n",
              "    </tr>\n",
              "    <tr>\n",
              "      <th>1216035</th>\n",
              "      <td>Tendency-Upholder</td>\n",
              "      <td>NaN</td>\n",
              "      <td>32</td>\n",
              "      <td>[664940672, 664946777, 664948040, 664948048, 6...</td>\n",
              "      <td>8.00</td>\n",
              "    </tr>\n",
              "    <tr>\n",
              "      <th>1277719</th>\n",
              "      <td>Feedback-WantOther</td>\n",
              "      <td>NaN</td>\n",
              "      <td>0</td>\n",
              "      <td>[]</td>\n",
              "      <td>0.00</td>\n",
              "    </tr>\n",
              "    <tr>\n",
              "      <th>1334670</th>\n",
              "      <td>TPPurchased-Course-Lesson-3.7</td>\n",
              "      <td>NaN</td>\n",
              "      <td>0</td>\n",
              "      <td>[]</td>\n",
              "      <td>0.00</td>\n",
              "    </tr>\n",
              "    <tr>\n",
              "      <th>1261330</th>\n",
              "      <td>Need-Knowledge</td>\n",
              "      <td>NaN</td>\n",
              "      <td>13</td>\n",
              "      <td>[664944388, 664943368, 731116161, 754416722, 7...</td>\n",
              "      <td>3.25</td>\n",
              "    </tr>\n",
              "  </tbody>\n",
              "</table>\n",
              "</div>"
            ],
            "text/plain": [
              "                                  name  ... % Subscribed\n",
              "id                                      ...             \n",
              "1304214    Link-Video-Podcast-Episode3  ...         1.00\n",
              "1216035              Tendency-Upholder  ...         8.00\n",
              "1277719             Feedback-WantOther  ...         0.00\n",
              "1334670  TPPurchased-Course-Lesson-3.7  ...         0.00\n",
              "1261330                 Need-Knowledge  ...         3.25\n",
              "\n",
              "[5 rows x 5 columns]"
            ]
          },
          "metadata": {
            "tags": []
          },
          "execution_count": 46
        }
      ]
    },
    {
      "cell_type": "code",
      "metadata": {
        "id": "BkJlhLh1LUkR",
        "outputId": "7cff87d5-a4e8-4b23-d844-b25129fb7a1f",
        "colab": {
          "base_uri": "https://localhost:8080/",
          "height": 948
        }
      },
      "source": [
        "# Aggregate data by topic\n",
        "tag_topics = all_tag_data_group.groupby('Topic')['number_subscribers'].agg(['count','sum'])\n",
        "tag_topics.columns=['Total_tags', 'Total_subscribers']\n",
        "tag_topics.sort_values('Total_subscribers', ascending=False, inplace=True)\n",
        "tag_topics['% Subscribed'] = round(tag_topics['Total_subscribers'] / total_subscribers * 100, 2)\n",
        "tag_topics"
      ],
      "execution_count": null,
      "outputs": [
        {
          "output_type": "execute_result",
          "data": {
            "text/html": [
              "<div>\n",
              "<style scoped>\n",
              "    .dataframe tbody tr th:only-of-type {\n",
              "        vertical-align: middle;\n",
              "    }\n",
              "\n",
              "    .dataframe tbody tr th {\n",
              "        vertical-align: top;\n",
              "    }\n",
              "\n",
              "    .dataframe thead th {\n",
              "        text-align: right;\n",
              "    }\n",
              "</style>\n",
              "<table border=\"1\" class=\"dataframe\">\n",
              "  <thead>\n",
              "    <tr style=\"text-align: right;\">\n",
              "      <th></th>\n",
              "      <th>Total_tags</th>\n",
              "      <th>Total_subscribers</th>\n",
              "      <th>% Subscribed</th>\n",
              "    </tr>\n",
              "    <tr>\n",
              "      <th>Topic</th>\n",
              "      <th></th>\n",
              "      <th></th>\n",
              "      <th></th>\n",
              "    </tr>\n",
              "  </thead>\n",
              "  <tbody>\n",
              "    <tr>\n",
              "      <th>Coach</th>\n",
              "      <td>24</td>\n",
              "      <td>375</td>\n",
              "      <td>93.75</td>\n",
              "    </tr>\n",
              "    <tr>\n",
              "      <th>Women</th>\n",
              "      <td>2</td>\n",
              "      <td>177</td>\n",
              "      <td>44.25</td>\n",
              "    </tr>\n",
              "    <tr>\n",
              "      <th>FatLoss</th>\n",
              "      <td>16</td>\n",
              "      <td>116</td>\n",
              "      <td>29.00</td>\n",
              "    </tr>\n",
              "    <tr>\n",
              "      <th>CaseStudy</th>\n",
              "      <td>13</td>\n",
              "      <td>102</td>\n",
              "      <td>25.50</td>\n",
              "    </tr>\n",
              "    <tr>\n",
              "      <th>PCOS</th>\n",
              "      <td>5</td>\n",
              "      <td>96</td>\n",
              "      <td>24.00</td>\n",
              "    </tr>\n",
              "    <tr>\n",
              "      <th>Cravings</th>\n",
              "      <td>9</td>\n",
              "      <td>93</td>\n",
              "      <td>23.25</td>\n",
              "    </tr>\n",
              "    <tr>\n",
              "      <th>Diet</th>\n",
              "      <td>8</td>\n",
              "      <td>62</td>\n",
              "      <td>15.50</td>\n",
              "    </tr>\n",
              "    <tr>\n",
              "      <th>Muscle</th>\n",
              "      <td>7</td>\n",
              "      <td>45</td>\n",
              "      <td>11.25</td>\n",
              "    </tr>\n",
              "    <tr>\n",
              "      <th>Recomp</th>\n",
              "      <td>5</td>\n",
              "      <td>44</td>\n",
              "      <td>11.00</td>\n",
              "    </tr>\n",
              "    <tr>\n",
              "      <th>Calorie</th>\n",
              "      <td>6</td>\n",
              "      <td>37</td>\n",
              "      <td>9.25</td>\n",
              "    </tr>\n",
              "    <tr>\n",
              "      <th>Accountability</th>\n",
              "      <td>8</td>\n",
              "      <td>37</td>\n",
              "      <td>9.25</td>\n",
              "    </tr>\n",
              "    <tr>\n",
              "      <th>Men</th>\n",
              "      <td>2</td>\n",
              "      <td>31</td>\n",
              "      <td>7.75</td>\n",
              "    </tr>\n",
              "    <tr>\n",
              "      <th>IF</th>\n",
              "      <td>8</td>\n",
              "      <td>30</td>\n",
              "      <td>7.50</td>\n",
              "    </tr>\n",
              "    <tr>\n",
              "      <th>Exercise</th>\n",
              "      <td>17</td>\n",
              "      <td>29</td>\n",
              "      <td>7.25</td>\n",
              "    </tr>\n",
              "    <tr>\n",
              "      <th>Toning</th>\n",
              "      <td>4</td>\n",
              "      <td>26</td>\n",
              "      <td>6.50</td>\n",
              "    </tr>\n",
              "    <tr>\n",
              "      <th>Coronavirus</th>\n",
              "      <td>2</td>\n",
              "      <td>23</td>\n",
              "      <td>5.75</td>\n",
              "    </tr>\n",
              "    <tr>\n",
              "      <th>Review</th>\n",
              "      <td>4</td>\n",
              "      <td>14</td>\n",
              "      <td>3.50</td>\n",
              "    </tr>\n",
              "    <tr>\n",
              "      <th>Mindset</th>\n",
              "      <td>13</td>\n",
              "      <td>8</td>\n",
              "      <td>2.00</td>\n",
              "    </tr>\n",
              "    <tr>\n",
              "      <th>Metabolism</th>\n",
              "      <td>4</td>\n",
              "      <td>7</td>\n",
              "      <td>1.75</td>\n",
              "    </tr>\n",
              "    <tr>\n",
              "      <th>Carb</th>\n",
              "      <td>1</td>\n",
              "      <td>5</td>\n",
              "      <td>1.25</td>\n",
              "    </tr>\n",
              "    <tr>\n",
              "      <th>Detox</th>\n",
              "      <td>2</td>\n",
              "      <td>4</td>\n",
              "      <td>1.00</td>\n",
              "    </tr>\n",
              "    <tr>\n",
              "      <th>MealP&amp;P</th>\n",
              "      <td>2</td>\n",
              "      <td>3</td>\n",
              "      <td>0.75</td>\n",
              "    </tr>\n",
              "    <tr>\n",
              "      <th>GeneralHealth</th>\n",
              "      <td>1</td>\n",
              "      <td>3</td>\n",
              "      <td>0.75</td>\n",
              "    </tr>\n",
              "    <tr>\n",
              "      <th>FlatStomach</th>\n",
              "      <td>2</td>\n",
              "      <td>3</td>\n",
              "      <td>0.75</td>\n",
              "    </tr>\n",
              "    <tr>\n",
              "      <th>Insulin</th>\n",
              "      <td>1</td>\n",
              "      <td>2</td>\n",
              "      <td>0.50</td>\n",
              "    </tr>\n",
              "    <tr>\n",
              "      <th>Mobility</th>\n",
              "      <td>1</td>\n",
              "      <td>1</td>\n",
              "      <td>0.25</td>\n",
              "    </tr>\n",
              "    <tr>\n",
              "      <th>Cardio</th>\n",
              "      <td>1</td>\n",
              "      <td>1</td>\n",
              "      <td>0.25</td>\n",
              "    </tr>\n",
              "    <tr>\n",
              "      <th>Protein</th>\n",
              "      <td>1</td>\n",
              "      <td>1</td>\n",
              "      <td>0.25</td>\n",
              "    </tr>\n",
              "  </tbody>\n",
              "</table>\n",
              "</div>"
            ],
            "text/plain": [
              "                Total_tags  Total_subscribers  % Subscribed\n",
              "Topic                                                      \n",
              "Coach                   24                375         93.75\n",
              "Women                    2                177         44.25\n",
              "FatLoss                 16                116         29.00\n",
              "CaseStudy               13                102         25.50\n",
              "PCOS                     5                 96         24.00\n",
              "Cravings                 9                 93         23.25\n",
              "Diet                     8                 62         15.50\n",
              "Muscle                   7                 45         11.25\n",
              "Recomp                   5                 44         11.00\n",
              "Calorie                  6                 37          9.25\n",
              "Accountability           8                 37          9.25\n",
              "Men                      2                 31          7.75\n",
              "IF                       8                 30          7.50\n",
              "Exercise                17                 29          7.25\n",
              "Toning                   4                 26          6.50\n",
              "Coronavirus              2                 23          5.75\n",
              "Review                   4                 14          3.50\n",
              "Mindset                 13                  8          2.00\n",
              "Metabolism               4                  7          1.75\n",
              "Carb                     1                  5          1.25\n",
              "Detox                    2                  4          1.00\n",
              "MealP&P                  2                  3          0.75\n",
              "GeneralHealth            1                  3          0.75\n",
              "FlatStomach              2                  3          0.75\n",
              "Insulin                  1                  2          0.50\n",
              "Mobility                 1                  1          0.25\n",
              "Cardio                   1                  1          0.25\n",
              "Protein                  1                  1          0.25"
            ]
          },
          "metadata": {
            "tags": []
          },
          "execution_count": 57
        }
      ]
    },
    {
      "cell_type": "markdown",
      "metadata": {
        "id": "KnnjZD63K44a"
      },
      "source": [
        "Above we can see the tag topics, number of tags associated with that topic, number of subscribers to the topic, and percent of total subscribers that are subscribed to the topic. For example, 24% of subscribers are subscribed to PCOS topic tags (see cell below to explore specific tags for a topic). Popular topics include: `PCOS`, `Women`, `FatLoss`, `Cravings`, `CaseStudy`, and `Diet`."
      ]
    },
    {
      "cell_type": "code",
      "metadata": {
        "id": "xMh69vopSmV5",
        "outputId": "4eda98dc-9639-4eec-d2a5-3d9c2c6ad224",
        "colab": {
          "base_uri": "https://localhost:8080/",
          "height": 303
        }
      },
      "source": [
        "# To see data for tags associated with a specific topic: put topic name after ==\n",
        "all_tag_data_group[all_tag_data_group['Topic'] == 'PCOS'].sort_values('number_subscribers', ascending=False )"
      ],
      "execution_count": null,
      "outputs": [
        {
          "output_type": "execute_result",
          "data": {
            "text/html": [
              "<div>\n",
              "<style scoped>\n",
              "    .dataframe tbody tr th:only-of-type {\n",
              "        vertical-align: middle;\n",
              "    }\n",
              "\n",
              "    .dataframe tbody tr th {\n",
              "        vertical-align: top;\n",
              "    }\n",
              "\n",
              "    .dataframe thead th {\n",
              "        text-align: right;\n",
              "    }\n",
              "</style>\n",
              "<table border=\"1\" class=\"dataframe\">\n",
              "  <thead>\n",
              "    <tr style=\"text-align: right;\">\n",
              "      <th></th>\n",
              "      <th>name</th>\n",
              "      <th>Topic</th>\n",
              "      <th>number_subscribers</th>\n",
              "      <th>user_ids</th>\n",
              "      <th>% Subscribed</th>\n",
              "    </tr>\n",
              "    <tr>\n",
              "      <th>id</th>\n",
              "      <th></th>\n",
              "      <th></th>\n",
              "      <th></th>\n",
              "      <th></th>\n",
              "      <th></th>\n",
              "    </tr>\n",
              "  </thead>\n",
              "  <tbody>\n",
              "    <tr>\n",
              "      <th>1231666</th>\n",
              "      <td>PCOS-Yes</td>\n",
              "      <td>PCOS</td>\n",
              "      <td>84</td>\n",
              "      <td>[689730129, 690703724, 692485528, 692524536, 6...</td>\n",
              "      <td>21.00</td>\n",
              "    </tr>\n",
              "    <tr>\n",
              "      <th>1329215</th>\n",
              "      <td>Link-Video-PCOS-LowCarb</td>\n",
              "      <td>PCOS</td>\n",
              "      <td>5</td>\n",
              "      <td>[664953676, 664944388, 664946778, 664944371, 6...</td>\n",
              "      <td>1.25</td>\n",
              "    </tr>\n",
              "    <tr>\n",
              "      <th>1347865</th>\n",
              "      <td>Link-Video-PCOS-Wimpee</td>\n",
              "      <td>PCOS</td>\n",
              "      <td>3</td>\n",
              "      <td>[664940675, 664944371, 664944381]</td>\n",
              "      <td>0.75</td>\n",
              "    </tr>\n",
              "    <tr>\n",
              "      <th>1351800</th>\n",
              "      <td>Link-Video-PCOS-IF</td>\n",
              "      <td>PCOS</td>\n",
              "      <td>2</td>\n",
              "      <td>[664944388, 664953685]</td>\n",
              "      <td>0.50</td>\n",
              "    </tr>\n",
              "    <tr>\n",
              "      <th>1333199</th>\n",
              "      <td>Link-Video-PCOS-InsulinResistanceWeight</td>\n",
              "      <td>PCOS</td>\n",
              "      <td>2</td>\n",
              "      <td>[664953583, 664944371]</td>\n",
              "      <td>0.50</td>\n",
              "    </tr>\n",
              "  </tbody>\n",
              "</table>\n",
              "</div>"
            ],
            "text/plain": [
              "                                            name  ... % Subscribed\n",
              "id                                                ...             \n",
              "1231666                                 PCOS-Yes  ...        21.00\n",
              "1329215                  Link-Video-PCOS-LowCarb  ...         1.25\n",
              "1347865                   Link-Video-PCOS-Wimpee  ...         0.75\n",
              "1351800                       Link-Video-PCOS-IF  ...         0.50\n",
              "1333199  Link-Video-PCOS-InsulinResistanceWeight  ...         0.50\n",
              "\n",
              "[5 rows x 5 columns]"
            ]
          },
          "metadata": {
            "tags": []
          },
          "execution_count": 108
        }
      ]
    },
    {
      "cell_type": "markdown",
      "metadata": {
        "id": "-7r8fICBRoI4"
      },
      "source": [
        "We can gain some interesting information about subscribers from looking at what tags and topics are most popular. However, subscribers are not consistently subscribed to all relevant tags, and not all of these tags tell us useful information about subscribers. Tags also reflect what email broadcasts have focused on - not what subscribers have chosen to subscribe to - so we cannot infer cause and effect of subscriber interests from this data. This may be an opportunity for Viva to think about how they will want to use tag data in the future, and optimize tag categories and organization while the subscriber list is still a relatively manageable size."
      ]
    },
    {
      "cell_type": "markdown",
      "metadata": {
        "id": "heHJFga-ArRM"
      },
      "source": [
        "### Subscribers and Purchases"
      ]
    },
    {
      "cell_type": "markdown",
      "metadata": {
        "id": "QC9DFPyjrgnc"
      },
      "source": [
        "Now that we have combined the subscriber and purchase information into one dataframe, we will investigate:\n",
        "* How long were users on our email list before they made their first purchase?\n",
        "* How many of our subscribers are active vs. unsubscribed?\n",
        "* How does time on email list correlate with the different purchase categories (Product1, Product2, Other, None)?\n",
        "* How many of our subscribers have made purchases?"
      ]
    },
    {
      "cell_type": "markdown",
      "metadata": {
        "id": "mWWvW_SFJgS2"
      },
      "source": [
        "Here is our merged purchase and subscriber dataframe:"
      ]
    },
    {
      "cell_type": "code",
      "metadata": {
        "id": "breZgMHx1ojk",
        "outputId": "2380e2f5-6ea9-4f13-b450-41f72c29db77",
        "colab": {
          "base_uri": "https://localhost:8080/",
          "height": 204
        }
      },
      "source": [
        "purchase_sub.sample(5)"
      ],
      "execution_count": null,
      "outputs": [
        {
          "output_type": "execute_result",
          "data": {
            "text/html": [
              "<div>\n",
              "<style scoped>\n",
              "    .dataframe tbody tr th:only-of-type {\n",
              "        vertical-align: middle;\n",
              "    }\n",
              "\n",
              "    .dataframe tbody tr th {\n",
              "        vertical-align: top;\n",
              "    }\n",
              "\n",
              "    .dataframe thead th {\n",
              "        text-align: right;\n",
              "    }\n",
              "</style>\n",
              "<table border=\"1\" class=\"dataframe\">\n",
              "  <thead>\n",
              "    <tr style=\"text-align: right;\">\n",
              "      <th></th>\n",
              "      <th>user_id</th>\n",
              "      <th>status</th>\n",
              "      <th>subscription_date</th>\n",
              "      <th>purchase_time</th>\n",
              "      <th>total</th>\n",
              "      <th>purchase_cat</th>\n",
              "      <th>time_to_buy</th>\n",
              "      <th>time_since_sub</th>\n",
              "    </tr>\n",
              "  </thead>\n",
              "  <tbody>\n",
              "    <tr>\n",
              "      <th>730</th>\n",
              "      <td>882580998</td>\n",
              "      <td>inactive</td>\n",
              "      <td>2020-06-11</td>\n",
              "      <td>NaN</td>\n",
              "      <td>NaN</td>\n",
              "      <td>None</td>\n",
              "      <td>NaT</td>\n",
              "      <td>104 days</td>\n",
              "    </tr>\n",
              "    <tr>\n",
              "      <th>281</th>\n",
              "      <td>664953580</td>\n",
              "      <td>active</td>\n",
              "      <td>2019-09-16</td>\n",
              "      <td>2019-09-16</td>\n",
              "      <td>7.00</td>\n",
              "      <td>Other</td>\n",
              "      <td>0 days</td>\n",
              "      <td>373 days</td>\n",
              "    </tr>\n",
              "    <tr>\n",
              "      <th>443</th>\n",
              "      <td>865058556</td>\n",
              "      <td>active</td>\n",
              "      <td>2020-05-29</td>\n",
              "      <td>NaN</td>\n",
              "      <td>NaN</td>\n",
              "      <td>None</td>\n",
              "      <td>NaT</td>\n",
              "      <td>117 days</td>\n",
              "    </tr>\n",
              "    <tr>\n",
              "      <th>314</th>\n",
              "      <td>664953599</td>\n",
              "      <td>active</td>\n",
              "      <td>2019-03-17</td>\n",
              "      <td>2019-09-27</td>\n",
              "      <td>42.54</td>\n",
              "      <td>Other</td>\n",
              "      <td>194 days</td>\n",
              "      <td>556 days</td>\n",
              "    </tr>\n",
              "    <tr>\n",
              "      <th>270</th>\n",
              "      <td>664953757</td>\n",
              "      <td>active</td>\n",
              "      <td>2018-07-04</td>\n",
              "      <td>NaN</td>\n",
              "      <td>NaN</td>\n",
              "      <td>None</td>\n",
              "      <td>NaT</td>\n",
              "      <td>812 days</td>\n",
              "    </tr>\n",
              "  </tbody>\n",
              "</table>\n",
              "</div>"
            ],
            "text/plain": [
              "       user_id    status  ... time_to_buy time_since_sub\n",
              "730  882580998  inactive  ...         NaT       104 days\n",
              "281  664953580    active  ...      0 days       373 days\n",
              "443  865058556    active  ...         NaT       117 days\n",
              "314  664953599    active  ...    194 days       556 days\n",
              "270  664953757    active  ...         NaT       812 days\n",
              "\n",
              "[5 rows x 8 columns]"
            ]
          },
          "metadata": {
            "tags": []
          },
          "execution_count": 64
        }
      ]
    },
    {
      "cell_type": "markdown",
      "metadata": {
        "id": "bEJeCWqJ6awp"
      },
      "source": [
        "First, we will filter our results to just look at users who have made a purchase, and identify how long it took them to make their first purchase."
      ]
    },
    {
      "cell_type": "code",
      "metadata": {
        "id": "SzNBYQao59MU"
      },
      "source": [
        "# Filter the dataframe to only those users that have purchased\n",
        "made_purchase = purchase_sub[purchase_sub['time_to_buy'].notnull()].copy()"
      ],
      "execution_count": null,
      "outputs": []
    },
    {
      "cell_type": "code",
      "metadata": {
        "id": "seZy0eMw53eU"
      },
      "source": [
        "# Find the first purchase of each client\n",
        "first = made_purchase.groupby('user_id').agg({'time_to_buy':min})"
      ],
      "execution_count": null,
      "outputs": []
    },
    {
      "cell_type": "markdown",
      "metadata": {
        "id": "la6ZqbY_-R5A"
      },
      "source": [
        "Let's look more closely at how long customers have been on our email list before they make their first purchase."
      ]
    },
    {
      "cell_type": "code",
      "metadata": {
        "id": "IC-i4ekaHbiB",
        "outputId": "0e7ca9cc-d38f-4f03-eda2-dbbb8a7213f4",
        "colab": {
          "base_uri": "https://localhost:8080/",
          "height": 527
        }
      },
      "source": [
        "# Number of customers who were on the list for 0, 1, 2, etc. days before making their first purchase\n",
        "first['time_to_buy'].dt.days.value_counts().sort_index()"
      ],
      "execution_count": null,
      "outputs": [
        {
          "output_type": "execute_result",
          "data": {
            "text/plain": [
              "0      11\n",
              "1       5\n",
              "2       2\n",
              "3       6\n",
              "5       3\n",
              "7       1\n",
              "8       4\n",
              "9       6\n",
              "11      4\n",
              "12      2\n",
              "13      1\n",
              "15      2\n",
              "26      1\n",
              "35      1\n",
              "40      1\n",
              "50      1\n",
              "54      1\n",
              "59      1\n",
              "167     1\n",
              "175     1\n",
              "191     1\n",
              "205     1\n",
              "219     1\n",
              "310     1\n",
              "418     1\n",
              "431     1\n",
              "584     1\n",
              "605     1\n",
              "637     1\n",
              "Name: time_to_buy, dtype: int64"
            ]
          },
          "metadata": {
            "tags": []
          },
          "execution_count": 53
        }
      ]
    },
    {
      "cell_type": "markdown",
      "metadata": {
        "id": "Tg3qpemq_hzF"
      },
      "source": [
        "We can see that most customers who make a purchase do so soon after joining our email list. Based on this data, we will sort customers into the following groups:\n",
        "Those who make their first purchase within 0 days, 1 day, 3 days, 7 days, 14 days, 30 days, 90 days, 180 days, 1 year, and 2 years. We will plot these individual and cumulative groups below."
      ]
    },
    {
      "cell_type": "code",
      "metadata": {
        "id": "485D3Saj6M2o"
      },
      "source": [
        "# Sort purchases into groups by purchase date\n",
        "cut_bins=[0, .9, 1.9, 3.9,7.9,14.9,30.9,90.9,180.9,365.9,730.9]\n",
        "cut_labels=['0 days', '1 day', '3 days', '7 days', '14 days', '30 days', '90 days', '180 days', '1 year', '2 years']\n",
        "made_purchase['buy_group'] = pd.cut(made_purchase['time_to_buy'].dt.days, bins=cut_bins, labels=cut_labels, include_lowest=True)\n",
        "first['buy_group'] = pd.cut(first['time_to_buy'].dt.days, bins=cut_bins, labels=cut_labels, include_lowest=True)"
      ],
      "execution_count": null,
      "outputs": []
    },
    {
      "cell_type": "code",
      "metadata": {
        "id": "ZFUwKYulVajM",
        "outputId": "d37b9ee0-57a7-4922-883c-1e0b653f8067",
        "colab": {
          "base_uri": "https://localhost:8080/",
          "height": 204
        }
      },
      "source": [
        "# Percentage of customers who make their first purchase within the given time bucket\n",
        "sorted_first_purchase = first['buy_group'].value_counts(normalize=True).iloc[[1,5,2,-3,0,-2,4,-1,-4,3]]\n",
        "sorted_first_purchase = round(sorted_first_purchase * 100, 2)\n",
        "sorted_first_purchase"
      ],
      "execution_count": null,
      "outputs": [
        {
          "output_type": "execute_result",
          "data": {
            "text/plain": [
              "0 days      17.19\n",
              "1 day        7.81\n",
              "3 days      12.50\n",
              "7 days       6.25\n",
              "14 days     26.56\n",
              "30 days      4.69\n",
              "90 days      7.81\n",
              "180 days     3.12\n",
              "1 year       6.25\n",
              "2 years      7.81\n",
              "Name: buy_group, dtype: float64"
            ]
          },
          "metadata": {
            "tags": []
          },
          "execution_count": 55
        }
      ]
    },
    {
      "cell_type": "code",
      "metadata": {
        "id": "lpj_9QXeV6hG",
        "outputId": "ce0b58d1-83f6-4b9e-8841-dcdb309d218a",
        "colab": {
          "base_uri": "https://localhost:8080/",
          "height": 204
        }
      },
      "source": [
        "# Cumulative percentage of customers who make their first purchase within the given timeframe\n",
        "np.cumsum(sorted_first_purchase)"
      ],
      "execution_count": null,
      "outputs": [
        {
          "output_type": "execute_result",
          "data": {
            "text/plain": [
              "0 days      17.19\n",
              "1 day       25.00\n",
              "3 days      37.50\n",
              "7 days      43.75\n",
              "14 days     70.31\n",
              "30 days     75.00\n",
              "90 days     82.81\n",
              "180 days    85.93\n",
              "1 year      92.18\n",
              "2 years     99.99\n",
              "Name: buy_group, dtype: float64"
            ]
          },
          "metadata": {
            "tags": []
          },
          "execution_count": 56
        }
      ]
    },
    {
      "cell_type": "code",
      "metadata": {
        "id": "x0QMiPVJRT-c",
        "outputId": "b8dd2614-85ca-41fb-c490-bd4992c80156",
        "colab": {
          "base_uri": "https://localhost:8080/",
          "height": 474
        }
      },
      "source": [
        "# Create plot to visualize time until first purchase\n",
        "fig, ax = plt.subplots(figsize=(10,7))\n",
        "sorted_first_purchase.plot.bar(ax=ax, rot=30, label = 'group', color='navy')\n",
        "np.cumsum(sorted_first_purchase).plot(ax=ax, label = 'cumulative', color='navy')\n",
        "plt.ylabel('Percentage of Purchases', fontsize=14)\n",
        "plt.title('Time Until First Purchase', fontsize=16)\n",
        "plt.ylim(0,100)\n",
        "plt.legend(fontsize=14, bbox_to_anchor=(.3, .97))\n",
        "plt.show()"
      ],
      "execution_count": null,
      "outputs": [
        {
          "output_type": "display_data",
          "data": {
            "image/png": "[encoded data removed]",
            "text/plain": [
              "<Figure size 720x504 with 1 Axes>"
            ]
          },
          "metadata": {
            "tags": []
          }
        }
      ]
    },
    {
      "cell_type": "markdown",
      "metadata": {
        "id": "nhK8pZgZAKUj"
      },
      "source": [
        "Of our users who made a purchase:\n",
        "* 25% made their first purchase within 0 or 1 days of being on our email list\n",
        "* 44% made thier first purchase within 1 week of being on our email list\n",
        "* 75% made their first purchase within 1 month of being on our email list\n",
        "* 92% made their first purchase within 1 year of being on our email list\n"
      ]
    },
    {
      "cell_type": "markdown",
      "metadata": {
        "id": "kq-sOX4iMEHI"
      },
      "source": [
        "Next, we will look at how long customers were on our email list before purchasing for different products."
      ]
    },
    {
      "cell_type": "code",
      "metadata": {
        "id": "4a63JyvHBviI",
        "outputId": "e2e079f9-b51d-4634-9f9d-0d44a36f32cf",
        "colab": {
          "base_uri": "https://localhost:8080/",
          "height": 1000
        }
      },
      "source": [
        "purchase_group = pd.DataFrame(made_purchase.groupby(['purchase_cat', 'buy_group'])['user_id'].nunique())\n",
        "purchase_group['percent_group'] = purchase_group.groupby(level=0).apply(lambda x: round(x * 100 / x.sum(), 2))\n",
        "purchase_group"
      ],
      "execution_count": null,
      "outputs": [
        {
          "output_type": "execute_result",
          "data": {
            "text/html": [
              "<div>\n",
              "<style scoped>\n",
              "    .dataframe tbody tr th:only-of-type {\n",
              "        vertical-align: middle;\n",
              "    }\n",
              "\n",
              "    .dataframe tbody tr th {\n",
              "        vertical-align: top;\n",
              "    }\n",
              "\n",
              "    .dataframe thead th {\n",
              "        text-align: right;\n",
              "    }\n",
              "</style>\n",
              "<table border=\"1\" class=\"dataframe\">\n",
              "  <thead>\n",
              "    <tr style=\"text-align: right;\">\n",
              "      <th></th>\n",
              "      <th></th>\n",
              "      <th>user_id</th>\n",
              "      <th>percent_group</th>\n",
              "    </tr>\n",
              "    <tr>\n",
              "      <th>purchase_cat</th>\n",
              "      <th>buy_group</th>\n",
              "      <th></th>\n",
              "      <th></th>\n",
              "    </tr>\n",
              "  </thead>\n",
              "  <tbody>\n",
              "    <tr>\n",
              "      <th rowspan=\"10\" valign=\"top\">Other</th>\n",
              "      <th>0 days</th>\n",
              "      <td>7</td>\n",
              "      <td>6.25</td>\n",
              "    </tr>\n",
              "    <tr>\n",
              "      <th>1 day</th>\n",
              "      <td>2</td>\n",
              "      <td>1.79</td>\n",
              "    </tr>\n",
              "    <tr>\n",
              "      <th>3 days</th>\n",
              "      <td>2</td>\n",
              "      <td>1.79</td>\n",
              "    </tr>\n",
              "    <tr>\n",
              "      <th>7 days</th>\n",
              "      <td>1</td>\n",
              "      <td>0.89</td>\n",
              "    </tr>\n",
              "    <tr>\n",
              "      <th>14 days</th>\n",
              "      <td>14</td>\n",
              "      <td>12.50</td>\n",
              "    </tr>\n",
              "    <tr>\n",
              "      <th>30 days</th>\n",
              "      <td>5</td>\n",
              "      <td>4.46</td>\n",
              "    </tr>\n",
              "    <tr>\n",
              "      <th>90 days</th>\n",
              "      <td>27</td>\n",
              "      <td>24.11</td>\n",
              "    </tr>\n",
              "    <tr>\n",
              "      <th>180 days</th>\n",
              "      <td>26</td>\n",
              "      <td>23.21</td>\n",
              "    </tr>\n",
              "    <tr>\n",
              "      <th>1 year</th>\n",
              "      <td>18</td>\n",
              "      <td>16.07</td>\n",
              "    </tr>\n",
              "    <tr>\n",
              "      <th>2 years</th>\n",
              "      <td>10</td>\n",
              "      <td>8.93</td>\n",
              "    </tr>\n",
              "    <tr>\n",
              "      <th rowspan=\"10\" valign=\"top\">Product1</th>\n",
              "      <th>0 days</th>\n",
              "      <td>0</td>\n",
              "      <td>0.00</td>\n",
              "    </tr>\n",
              "    <tr>\n",
              "      <th>1 day</th>\n",
              "      <td>4</td>\n",
              "      <td>22.22</td>\n",
              "    </tr>\n",
              "    <tr>\n",
              "      <th>3 days</th>\n",
              "      <td>6</td>\n",
              "      <td>33.33</td>\n",
              "    </tr>\n",
              "    <tr>\n",
              "      <th>7 days</th>\n",
              "      <td>3</td>\n",
              "      <td>16.67</td>\n",
              "    </tr>\n",
              "    <tr>\n",
              "      <th>14 days</th>\n",
              "      <td>3</td>\n",
              "      <td>16.67</td>\n",
              "    </tr>\n",
              "    <tr>\n",
              "      <th>30 days</th>\n",
              "      <td>0</td>\n",
              "      <td>0.00</td>\n",
              "    </tr>\n",
              "    <tr>\n",
              "      <th>90 days</th>\n",
              "      <td>1</td>\n",
              "      <td>5.56</td>\n",
              "    </tr>\n",
              "    <tr>\n",
              "      <th>180 days</th>\n",
              "      <td>0</td>\n",
              "      <td>0.00</td>\n",
              "    </tr>\n",
              "    <tr>\n",
              "      <th>1 year</th>\n",
              "      <td>0</td>\n",
              "      <td>0.00</td>\n",
              "    </tr>\n",
              "    <tr>\n",
              "      <th>2 years</th>\n",
              "      <td>1</td>\n",
              "      <td>5.56</td>\n",
              "    </tr>\n",
              "    <tr>\n",
              "      <th rowspan=\"10\" valign=\"top\">Product2</th>\n",
              "      <th>0 days</th>\n",
              "      <td>4</td>\n",
              "      <td>66.67</td>\n",
              "    </tr>\n",
              "    <tr>\n",
              "      <th>1 day</th>\n",
              "      <td>0</td>\n",
              "      <td>0.00</td>\n",
              "    </tr>\n",
              "    <tr>\n",
              "      <th>3 days</th>\n",
              "      <td>0</td>\n",
              "      <td>0.00</td>\n",
              "    </tr>\n",
              "    <tr>\n",
              "      <th>7 days</th>\n",
              "      <td>0</td>\n",
              "      <td>0.00</td>\n",
              "    </tr>\n",
              "    <tr>\n",
              "      <th>14 days</th>\n",
              "      <td>0</td>\n",
              "      <td>0.00</td>\n",
              "    </tr>\n",
              "    <tr>\n",
              "      <th>30 days</th>\n",
              "      <td>0</td>\n",
              "      <td>0.00</td>\n",
              "    </tr>\n",
              "    <tr>\n",
              "      <th>90 days</th>\n",
              "      <td>0</td>\n",
              "      <td>0.00</td>\n",
              "    </tr>\n",
              "    <tr>\n",
              "      <th>180 days</th>\n",
              "      <td>0</td>\n",
              "      <td>0.00</td>\n",
              "    </tr>\n",
              "    <tr>\n",
              "      <th>1 year</th>\n",
              "      <td>1</td>\n",
              "      <td>16.67</td>\n",
              "    </tr>\n",
              "    <tr>\n",
              "      <th>2 years</th>\n",
              "      <td>1</td>\n",
              "      <td>16.67</td>\n",
              "    </tr>\n",
              "  </tbody>\n",
              "</table>\n",
              "</div>"
            ],
            "text/plain": [
              "                        user_id  percent_group\n",
              "purchase_cat buy_group                        \n",
              "Other        0 days           7           6.25\n",
              "             1 day            2           1.79\n",
              "             3 days           2           1.79\n",
              "             7 days           1           0.89\n",
              "             14 days         14          12.50\n",
              "             30 days          5           4.46\n",
              "             90 days         27          24.11\n",
              "             180 days        26          23.21\n",
              "             1 year          18          16.07\n",
              "             2 years         10           8.93\n",
              "Product1     0 days           0           0.00\n",
              "             1 day            4          22.22\n",
              "             3 days           6          33.33\n",
              "             7 days           3          16.67\n",
              "             14 days          3          16.67\n",
              "             30 days          0           0.00\n",
              "             90 days          1           5.56\n",
              "             180 days         0           0.00\n",
              "             1 year           0           0.00\n",
              "             2 years          1           5.56\n",
              "Product2     0 days           4          66.67\n",
              "             1 day            0           0.00\n",
              "             3 days           0           0.00\n",
              "             7 days           0           0.00\n",
              "             14 days          0           0.00\n",
              "             30 days          0           0.00\n",
              "             90 days          0           0.00\n",
              "             180 days         0           0.00\n",
              "             1 year           1          16.67\n",
              "             2 years          1          16.67"
            ]
          },
          "metadata": {
            "tags": []
          },
          "execution_count": 84
        }
      ]
    },
    {
      "cell_type": "markdown",
      "metadata": {
        "id": "zPWvdb88D6l4"
      },
      "source": [
        "Customers who purchased Product1 tended to have been on our email list for 2 weeks or less at the time of purchase. About half purchased within 2 days of being on the list. It is possible that many of these customers were added to the email list upon purchasing Product1, or scheduling a sales call for Product1. Most of Product2 customers seemed to have joined our email list when they made a purchase, although 2 people did make this purchase after being on our list for a longer time. In contrast, customers who purchased Other products tended to have been on our email list longer. Many of these customers may represent chat coaching clients from our old email list, along with customers who have purchased lower value products."
      ]
    }
  ]
}