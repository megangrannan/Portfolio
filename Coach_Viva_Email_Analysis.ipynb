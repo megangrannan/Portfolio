{
  "nbformat": 4,
  "nbformat_minor": 0,
  "metadata": {
    "colab": {
      "name": "Coach Viva Email Analysis.ipynb",
      "provenance": [],
      "authorship_tag": "ABX9TyOUhrQidzL2SijxBRtx6JLk",
      "include_colab_link": true
    },
    "kernelspec": {
      "name": "python3",
      "display_name": "Python 3"
    }
  },
  "cells": [
    {
      "cell_type": "markdown",
      "metadata": {
        "id": "view-in-github",
        "colab_type": "text"
      },
      "source": [
        "<a href=\"https://colab.research.google.com/github/megangrannan/Portfolio/blob/master/Coach_Viva_Email_Analysis.ipynb\" target=\"_parent\"><img src=\"https://colab.research.google.com/assets/colab-badge.svg\" alt=\"Open In Colab\"/></a>"
      ]
    },
    {
      "cell_type": "markdown",
      "metadata": {
        "id": "KBDFJ4EgBc1f"
      },
      "source": [
        "# Coach Viva Email Analysis - Hot Subscribers"
      ]
    },
    {
      "cell_type": "markdown",
      "metadata": {
        "id": "kn7hXVoOjBPm"
      },
      "source": [
        "# Project Goals:\n",
        "\n",
        "Use email list data to:\n",
        "1. Identify \"hot\" subscribers to target in our 30 day action plan, leading to an increase in sales conversions\n",
        "2. Improve the quality of our email list by removing unengaged subscribers who are unlikely to ever make a purchase\n",
        "3. Automate output - 2 CSV files with hot subscribers and inactive subscribers\n",
        "\n",
        "In order to meet these goals, we will investigate the following questions:\n",
        "\n",
        "- What is our average open and click rate for emails?\n",
        "- How do open and click rates correlate with time on email list?\n",
        "- How can we identify subscribers who are \"hot\", i.e. more engaged than typical?\n",
        "- How can we reliably identify subscribers who have low engagement levels?\n",
        "\n",
        "\n",
        "# Project Outline:\n",
        "1. Obtain data: API requests and web scraping\n",
        "2. Clean and format data: \n",
        "    - Clean, format, and filter email data from `email_conversions.txt`\n",
        "    -  Aggregate data on the subscriber level\n",
        "3. Preliminary analysis - mean and median open and click rates across subscribers\n",
        "4. Gather and merge additional data into dataframe \n",
        "    - API requests - subscriber and purchase data\n",
        "    - Clean and format new data  \n",
        "    - Merge new data into dataframe\n",
        "5. Analysis \n",
        "    - Aggregate subscribers based on time on email list\n",
        "    - Analysis of time on email list vs. open and click rates for subscribers who have and haven't purchased our target product\n",
        "    - Identifying hot subscribers - high click and/or open rates compared to segment and typical activity. Special case - new subscribers\n",
        "    - Identifying inactive subscribers \n",
        "6. Output - 2 CSV files with hot subscriber and inactive subscriber customer segments to target during our 30 day action plan\n",
        "\n",
        "  \n",
        "\n"
      ]
    },
    {
      "cell_type": "markdown",
      "metadata": {
        "id": "DGpLgx81mFuF"
      },
      "source": [
        "# Code Excerpts\n",
        "Below are several code excerpts from my work on this project.\n",
        "\n",
        "Code exerpts follow the general workflow of the project - gathering data, cleaning/formatting data, and aggregating/analyzing data.\n",
        "\n"
      ]
    },
    {
      "cell_type": "markdown",
      "metadata": {
        "id": "bEBXq3izk5Hs"
      },
      "source": [
        "# Prepare Data for Analysis"
      ]
    },
    {
      "cell_type": "markdown",
      "metadata": {
        "id": "xjBD1EvOhl77"
      },
      "source": [
        "Now that we have gathered the relevant email data, we will import this file and clean the data in preparation for analysis."
      ]
    },
    {
      "cell_type": "markdown",
      "metadata": {
        "id": "vBEZNs-yODaA"
      },
      "source": [
        "## Import and clean data from `email_conversions.txt`"
      ]
    },
    {
      "cell_type": "markdown",
      "metadata": {
        "id": "zGyAghw5OGdx"
      },
      "source": [
        "First, we will import the data from the `email_conversions.txt` file into a dataframe. Then, we will clean and format the data."
      ]
    },
    {
      "cell_type": "code",
      "metadata": {
        "id": "ePa1z1Jch0qQ"
      },
      "source": [
        "# Import 'email_conversions.txt'\n",
        "uploaded = files.upload()"
      ],
      "execution_count": null,
      "outputs": []
    },
    {
      "cell_type": "code",
      "metadata": {
        "id": "PijqaOrUiQBm"
      },
      "source": [
        "# Load data into dictionary\n",
        "email_conversions = json.loads(uploaded['email_conversions.txt'].decode('utf-8'))"
      ],
      "execution_count": null,
      "outputs": []
    },
    {
      "cell_type": "code",
      "metadata": {
        "id": "gfqVTqcpiqak"
      },
      "source": [
        "# Load the dictionary as a dataframe\n",
        "email_conversions = pd.DataFrame.from_dict(email_conversions, orient='index')"
      ],
      "execution_count": null,
      "outputs": []
    },
    {
      "cell_type": "code",
      "metadata": {
        "id": "O57Z6GiNrJjZ",
        "outputId": "fda854c0-a85e-4517-d4f3-4460280a8e77",
        "colab": {
          "base_uri": "https://localhost:8080/",
          "height": 231
        }
      },
      "source": [
        "email_conversions.sample()"
      ],
      "execution_count": null,
      "outputs": [
        {
          "output_type": "execute_result",
          "data": {
            "text/html": [
              "<div>\n",
              "<style scoped>\n",
              "    .dataframe tbody tr th:only-of-type {\n",
              "        vertical-align: middle;\n",
              "    }\n",
              "\n",
              "    .dataframe tbody tr th {\n",
              "        vertical-align: top;\n",
              "    }\n",
              "\n",
              "    .dataframe thead th {\n",
              "        text-align: right;\n",
              "    }\n",
              "</style>\n",
              "<table border=\"1\" class=\"dataframe\">\n",
              "  <thead>\n",
              "    <tr style=\"text-align: right;\">\n",
              "      <th></th>\n",
              "      <th>0</th>\n",
              "      <th>1</th>\n",
              "      <th>2</th>\n",
              "      <th>3</th>\n",
              "      <th>4</th>\n",
              "      <th>5</th>\n",
              "      <th>6</th>\n",
              "      <th>7</th>\n",
              "      <th>8</th>\n",
              "      <th>9</th>\n",
              "      <th>10</th>\n",
              "      <th>11</th>\n",
              "      <th>12</th>\n",
              "      <th>13</th>\n",
              "      <th>14</th>\n",
              "      <th>15</th>\n",
              "      <th>16</th>\n",
              "      <th>17</th>\n",
              "      <th>18</th>\n",
              "      <th>19</th>\n",
              "      <th>20</th>\n",
              "      <th>21</th>\n",
              "      <th>22</th>\n",
              "      <th>23</th>\n",
              "      <th>24</th>\n",
              "      <th>25</th>\n",
              "      <th>26</th>\n",
              "      <th>27</th>\n",
              "      <th>28</th>\n",
              "      <th>29</th>\n",
              "      <th>30</th>\n",
              "      <th>31</th>\n",
              "      <th>32</th>\n",
              "      <th>33</th>\n",
              "      <th>34</th>\n",
              "      <th>35</th>\n",
              "      <th>36</th>\n",
              "      <th>37</th>\n",
              "      <th>38</th>\n",
              "      <th>39</th>\n",
              "      <th>...</th>\n",
              "      <th>180</th>\n",
              "      <th>181</th>\n",
              "      <th>182</th>\n",
              "      <th>183</th>\n",
              "      <th>184</th>\n",
              "      <th>185</th>\n",
              "      <th>186</th>\n",
              "      <th>187</th>\n",
              "      <th>188</th>\n",
              "      <th>189</th>\n",
              "      <th>190</th>\n",
              "      <th>191</th>\n",
              "      <th>192</th>\n",
              "      <th>193</th>\n",
              "      <th>194</th>\n",
              "      <th>195</th>\n",
              "      <th>196</th>\n",
              "      <th>197</th>\n",
              "      <th>198</th>\n",
              "      <th>199</th>\n",
              "      <th>200</th>\n",
              "      <th>201</th>\n",
              "      <th>202</th>\n",
              "      <th>203</th>\n",
              "      <th>204</th>\n",
              "      <th>205</th>\n",
              "      <th>206</th>\n",
              "      <th>207</th>\n",
              "      <th>208</th>\n",
              "      <th>209</th>\n",
              "      <th>210</th>\n",
              "      <th>211</th>\n",
              "      <th>212</th>\n",
              "      <th>213</th>\n",
              "      <th>214</th>\n",
              "      <th>215</th>\n",
              "      <th>216</th>\n",
              "      <th>217</th>\n",
              "      <th>218</th>\n",
              "      <th>219</th>\n",
              "    </tr>\n",
              "  </thead>\n",
              "  <tbody>\n",
              "    <tr>\n",
              "      <th>686867598</th>\n",
              "      <td>[[delivered, ], Delivered Oct 07, 2020 at 12:4...</td>\n",
              "      <td>[[delivered, ], Delivered Oct 04, 2020 at 6:11...</td>\n",
              "      <td>[[delivered, ], Delivered Oct 02, 2020 at 7:06...</td>\n",
              "      <td>[[delivered, ], Delivered Sep 30, 2020 at 9:10...</td>\n",
              "      <td>[[delivered, ], Delivered Sep 27, 2020 at 5:30...</td>\n",
              "      <td>[[delivered, ], Delivered Sep 25, 2020 at 5:30...</td>\n",
              "      <td>[[delivered, ], Delivered Sep 23, 2020 at 9:10...</td>\n",
              "      <td>[[delivered, ], Delivered Sep 20, 2020 at 5:42...</td>\n",
              "      <td>[[delivered, ], Delivered Sep 16, 2020 at 11:1...</td>\n",
              "      <td>[[opened, ], Opened Sep 11, 2020 at 9:33pm PDT...</td>\n",
              "      <td>[[delivered, ], Delivered Sep 09, 2020 at 5:36...</td>\n",
              "      <td>[[delivered, ], Delivered Sep 06, 2020 at 5:30...</td>\n",
              "      <td>[[delivered, ], Delivered Sep 02, 2020 at 5:30...</td>\n",
              "      <td>[[delivered, ], Delivered Aug 30, 2020 at 5:30...</td>\n",
              "      <td>[[delivered, ], Delivered Aug 28, 2020 at 5:30...</td>\n",
              "      <td>[[delivered, ], Delivered Aug 26, 2020 at 3:28...</td>\n",
              "      <td>[[delivered, ], Delivered Aug 23, 2020 at 7:00...</td>\n",
              "      <td>[[delivered, ], Delivered Aug 21, 2020 at 5:30...</td>\n",
              "      <td>[[delivered, opened, ], Opened Aug 20, 2020 at...</td>\n",
              "      <td>[[delivered, ], Delivered Aug 16, 2020 at 5:30...</td>\n",
              "      <td>[[delivered, ], Delivered Aug 14, 2020 at 4:36...</td>\n",
              "      <td>[[delivered, ], Delivered Aug 12, 2020 at 5:15...</td>\n",
              "      <td>[[delivered, ], Delivered Aug 09, 2020 at 7:17...</td>\n",
              "      <td>[[delivered, ], Delivered Aug 07, 2020 at 5:30...</td>\n",
              "      <td>[[delivered, ], Delivered Aug 05, 2020 at 1:30...</td>\n",
              "      <td>[[delivered, ], Delivered Aug 02, 2020 at 6:01...</td>\n",
              "      <td>[[delivered, ], Delivered Aug 01, 2020 at 6:00...</td>\n",
              "      <td>[[delivered, ], Delivered Jul 31, 2020 at 6:02...</td>\n",
              "      <td>[[delivered, ], Delivered Jul 30, 2020 at 5:05...</td>\n",
              "      <td>[[delivered, ], Delivered Jul 30, 2020 at 5:00...</td>\n",
              "      <td>[[delivered, ], Delivered Jul 30, 2020 at 4:45...</td>\n",
              "      <td>[[delivered, ], Delivered Jul 30, 2020 at 4:00...</td>\n",
              "      <td>[[delivered, ], Delivered Jul 30, 2020 at 6:00...</td>\n",
              "      <td>[[delivered, ], Delivered Jul 29, 2020 at 6:00...</td>\n",
              "      <td>[[delivered, ], Delivered Jul 28, 2020 at 6:04...</td>\n",
              "      <td>[[delivered, opened, ], Opened Jul 27, 2020 at...</td>\n",
              "      <td>[[delivered, ], Delivered Jul 26, 2020 at 4:11...</td>\n",
              "      <td>[[delivered, opened, ], Opened Jul 26, 2020 at...</td>\n",
              "      <td>[[delivered, ], Delivered Jul 24, 2020 at 4:54...</td>\n",
              "      <td>[[delivered, ], Delivered Jul 22, 2020 at 1:10...</td>\n",
              "      <td>...</td>\n",
              "      <td>[[delivered, ], Delivered Jan 07, 2020 at 4:15...</td>\n",
              "      <td>[[delivered, ], Delivered Jan 06, 2020 at 7:12...</td>\n",
              "      <td>[[delivered, ], Delivered Jan 06, 2020 at 4:15...</td>\n",
              "      <td>[[delivered, ], Delivered Jan 05, 2020 at 7:13...</td>\n",
              "      <td>[[delivered, ], Delivered Jan 04, 2020 at 7:13...</td>\n",
              "      <td>[[delivered, ], Delivered Jan 03, 2020 at 7:11...</td>\n",
              "      <td>[[delivered, opened, ], Opened Jan 02, 2020 at...</td>\n",
              "      <td>[[delivered, opened, clicked], Clicked Jan 02,...</td>\n",
              "      <td>[[delivered, opened, clicked], Clicked Jan 03,...</td>\n",
              "      <td>[[delivered, opened, clicked], Clicked Jan 02,...</td>\n",
              "      <td>190</td>\n",
              "      <td>[All Prospects, Broadcast Audience]</td>\n",
              "      <td>None, None</td>\n",
              "      <td>None</td>\n",
              "      <td>None</td>\n",
              "      <td>None</td>\n",
              "      <td>None</td>\n",
              "      <td>None</td>\n",
              "      <td>None</td>\n",
              "      <td>None</td>\n",
              "      <td>None</td>\n",
              "      <td>None</td>\n",
              "      <td>None</td>\n",
              "      <td>None</td>\n",
              "      <td>None</td>\n",
              "      <td>None</td>\n",
              "      <td>None</td>\n",
              "      <td>None</td>\n",
              "      <td>None</td>\n",
              "      <td>None</td>\n",
              "      <td>None</td>\n",
              "      <td>None</td>\n",
              "      <td>None</td>\n",
              "      <td>None</td>\n",
              "      <td>None</td>\n",
              "      <td>None</td>\n",
              "      <td>None</td>\n",
              "      <td>NaN</td>\n",
              "      <td>None</td>\n",
              "      <td>None</td>\n",
              "    </tr>\n",
              "  </tbody>\n",
              "</table>\n",
              "<p>1 rows × 220 columns</p>\n",
              "</div>"
            ],
            "text/plain": [
              "                                                         0    ...   219\n",
              "686867598  [[delivered, ], Delivered Oct 07, 2020 at 12:4...  ...  None\n",
              "\n",
              "[1 rows x 220 columns]"
            ]
          },
          "metadata": {
            "tags": []
          },
          "execution_count": 10
        }
      ]
    },
    {
      "cell_type": "code",
      "metadata": {
        "id": "hgIhF9PBjNNe"
      },
      "source": [
        "# Save all email data in 1 column\n",
        "email_conversions['email_data'] = email_conversions.iloc[:, :].to_numpy().tolist()"
      ],
      "execution_count": null,
      "outputs": []
    },
    {
      "cell_type": "code",
      "metadata": {
        "id": "wNmpwxvToyqE"
      },
      "source": [
        "# Drop other columns from dataframe\n",
        "email_conversions.drop(email_conversions.iloc[:, :-1], inplace=True, axis=1)"
      ],
      "execution_count": null,
      "outputs": []
    },
    {
      "cell_type": "code",
      "metadata": {
        "id": "RgG9dhHtpONq"
      },
      "source": [
        "# Drop null values from email_data column\n",
        "email_conversions['email_data'] = email_conversions['email_data'].apply(lambda x: [i for i in x if str(i) != 'None'])\n",
        "email_conversions['email_data'] = email_conversions['email_data'].apply(lambda x: [i for i in x if str(i) != 'nan'])"
      ],
      "execution_count": null,
      "outputs": []
    },
    {
      "cell_type": "code",
      "metadata": {
        "id": "awXpfjizrHHu"
      },
      "source": [
        "# Store number of emails and segments in separate columns and drop from `email_data`\n",
        "email_conversions['number_emails'] = email_conversions['email_data'].apply(lambda x: x[-3]).astype(int)\n",
        "email_conversions['segments'] = email_conversions['email_data'].apply(lambda x: x[-2])\n",
        "email_conversions['location'] = email_conversions['email_data'].apply(lambda x: x[-1])\n",
        "email_conversions['email_data'] = email_conversions['email_data'].apply(lambda x: x[:-3])"
      ],
      "execution_count": null,
      "outputs": []
    },
    {
      "cell_type": "code",
      "metadata": {
        "id": "bqb_GQ85D3DA"
      },
      "source": [
        "# Clean `segments` column: subscriber in Broadcast or other\n",
        "email_conversions['segments'] = email_conversions['segments'].apply(lambda x: 'Broadcast' if 'Broadcast Audience' in x else 'Other')"
      ],
      "execution_count": null,
      "outputs": []
    },
    {
      "cell_type": "code",
      "metadata": {
        "id": "SRfZSxdFEhuX",
        "outputId": "123cda6a-6218-4e8e-d81b-d27edcd802b2",
        "colab": {
          "base_uri": "https://localhost:8080/"
        }
      },
      "source": [
        "# Broadcast vs other subscribers\n",
        "email_conversions['segments'].value_counts(dropna=False)"
      ],
      "execution_count": null,
      "outputs": [
        {
          "output_type": "execute_result",
          "data": {
            "text/plain": [
              "Broadcast    666\n",
              "Other        101\n",
              "Name: segments, dtype: int64"
            ]
          },
          "metadata": {
            "tags": []
          },
          "execution_count": 16
        }
      ]
    },
    {
      "cell_type": "code",
      "metadata": {
        "id": "gCJWdmuXfS9o",
        "outputId": "db1e4604-43b7-4ec1-ddca-5af0662da7c5",
        "colab": {
          "base_uri": "https://localhost:8080/",
          "height": 142
        }
      },
      "source": [
        "# Check data\n",
        "email_conversions.sample(3)"
      ],
      "execution_count": null,
      "outputs": [
        {
          "output_type": "execute_result",
          "data": {
            "text/html": [
              "<div>\n",
              "<style scoped>\n",
              "    .dataframe tbody tr th:only-of-type {\n",
              "        vertical-align: middle;\n",
              "    }\n",
              "\n",
              "    .dataframe tbody tr th {\n",
              "        vertical-align: top;\n",
              "    }\n",
              "\n",
              "    .dataframe thead th {\n",
              "        text-align: right;\n",
              "    }\n",
              "</style>\n",
              "<table border=\"1\" class=\"dataframe\">\n",
              "  <thead>\n",
              "    <tr style=\"text-align: right;\">\n",
              "      <th></th>\n",
              "      <th>email_data</th>\n",
              "      <th>number_emails</th>\n",
              "      <th>segments</th>\n",
              "      <th>location</th>\n",
              "    </tr>\n",
              "  </thead>\n",
              "  <tbody>\n",
              "    <tr>\n",
              "      <th>981621975</th>\n",
              "      <td>[[[delivered, opened, ], Opened Oct 07, 2020 a...</td>\n",
              "      <td>18</td>\n",
              "      <td>Broadcast</td>\n",
              "      <td>New York, New York</td>\n",
              "    </tr>\n",
              "    <tr>\n",
              "      <th>906078991</th>\n",
              "      <td>[[[delivered, ], Delivered Oct 07, 2020 at 12:...</td>\n",
              "      <td>53</td>\n",
              "      <td>Broadcast</td>\n",
              "      <td>Mumbai, Maharashtra</td>\n",
              "    </tr>\n",
              "    <tr>\n",
              "      <th>1021874855</th>\n",
              "      <td>[[[delivered, ], Delivered Oct 07, 2020 at 12:...</td>\n",
              "      <td>5</td>\n",
              "      <td>Broadcast</td>\n",
              "      <td>Philadelphia, Pennsylvania</td>\n",
              "    </tr>\n",
              "  </tbody>\n",
              "</table>\n",
              "</div>"
            ],
            "text/plain": [
              "                                                   email_data  ...                    location\n",
              "981621975   [[[delivered, opened, ], Opened Oct 07, 2020 a...  ...          New York, New York\n",
              "906078991   [[[delivered, ], Delivered Oct 07, 2020 at 12:...  ...         Mumbai, Maharashtra\n",
              "1021874855  [[[delivered, ], Delivered Oct 07, 2020 at 12:...  ...  Philadelphia, Pennsylvania\n",
              "\n",
              "[3 rows x 4 columns]"
            ]
          },
          "metadata": {
            "tags": []
          },
          "execution_count": 23
        }
      ]
    },
    {
      "cell_type": "code",
      "metadata": {
        "id": "3ChCymtbsdT8"
      },
      "source": [
        "# Copy total emails per subscriber for later use\n",
        "total_emails = email_conversions['number_emails'].copy()"
      ],
      "execution_count": null,
      "outputs": []
    },
    {
      "cell_type": "code",
      "metadata": {
        "id": "N-Q1I9KR8JN3"
      },
      "source": [
        "# Copy location data for later use\n",
        "location_data = email_conversions['location'].copy()"
      ],
      "execution_count": null,
      "outputs": []
    },
    {
      "cell_type": "code",
      "metadata": {
        "id": "qZoXoe5IsUHy"
      },
      "source": [
        "# Create new data frame with each individual email in its own row\n",
        "email_each = email_conversions.copy()\n",
        "email_each = email_each.explode('email_data')"
      ],
      "execution_count": null,
      "outputs": []
    },
    {
      "cell_type": "code",
      "metadata": {
        "id": "g0UKq5Yhgjl6",
        "outputId": "bd503ba5-5593-4fa4-8228-14e1ef39e0d5",
        "colab": {
          "base_uri": "https://localhost:8080/",
          "height": 204
        }
      },
      "source": [
        "# Preview data\n",
        "email_each.tail()"
      ],
      "execution_count": null,
      "outputs": [
        {
          "output_type": "execute_result",
          "data": {
            "text/html": [
              "<div>\n",
              "<style scoped>\n",
              "    .dataframe tbody tr th:only-of-type {\n",
              "        vertical-align: middle;\n",
              "    }\n",
              "\n",
              "    .dataframe tbody tr th {\n",
              "        vertical-align: top;\n",
              "    }\n",
              "\n",
              "    .dataframe thead th {\n",
              "        text-align: right;\n",
              "    }\n",
              "</style>\n",
              "<table border=\"1\" class=\"dataframe\">\n",
              "  <thead>\n",
              "    <tr style=\"text-align: right;\">\n",
              "      <th></th>\n",
              "      <th>email_data</th>\n",
              "      <th>number_emails</th>\n",
              "      <th>segments</th>\n",
              "      <th>location</th>\n",
              "    </tr>\n",
              "  </thead>\n",
              "  <tbody>\n",
              "    <tr>\n",
              "      <th>1027376462</th>\n",
              "      <td>[[delivered, opened, clicked], Clicked Oct 06,...</td>\n",
              "      <td>6</td>\n",
              "      <td>Other</td>\n",
              "      <td>None, None</td>\n",
              "    </tr>\n",
              "    <tr>\n",
              "      <th>1027376462</th>\n",
              "      <td>[[delivered, opened, clicked], Clicked Oct 06,...</td>\n",
              "      <td>6</td>\n",
              "      <td>Other</td>\n",
              "      <td>None, None</td>\n",
              "    </tr>\n",
              "    <tr>\n",
              "      <th>1027376462</th>\n",
              "      <td>[[delivered, opened, clicked], Clicked Oct 06,...</td>\n",
              "      <td>6</td>\n",
              "      <td>Other</td>\n",
              "      <td>None, None</td>\n",
              "    </tr>\n",
              "    <tr>\n",
              "      <th>1027376462</th>\n",
              "      <td>[[delivered, opened, clicked], Clicked Oct 06,...</td>\n",
              "      <td>6</td>\n",
              "      <td>Other</td>\n",
              "      <td>None, None</td>\n",
              "    </tr>\n",
              "    <tr>\n",
              "      <th>1028504022</th>\n",
              "      <td>[[delivered, opened, clicked], Clicked Oct 07,...</td>\n",
              "      <td>1</td>\n",
              "      <td>Other</td>\n",
              "      <td>Kissimmee, Florida</td>\n",
              "    </tr>\n",
              "  </tbody>\n",
              "</table>\n",
              "</div>"
            ],
            "text/plain": [
              "                                                   email_data  ...            location\n",
              "1027376462  [[delivered, opened, clicked], Clicked Oct 06,...  ...          None, None\n",
              "1027376462  [[delivered, opened, clicked], Clicked Oct 06,...  ...          None, None\n",
              "1027376462  [[delivered, opened, clicked], Clicked Oct 06,...  ...          None, None\n",
              "1027376462  [[delivered, opened, clicked], Clicked Oct 06,...  ...          None, None\n",
              "1028504022  [[delivered, opened, clicked], Clicked Oct 07,...  ...  Kissimmee, Florida\n",
              "\n",
              "[5 rows x 4 columns]"
            ]
          },
          "metadata": {
            "tags": []
          },
          "execution_count": 51
        }
      ]
    },
    {
      "cell_type": "code",
      "metadata": {
        "id": "k6AGWAnvv9tF"
      },
      "source": [
        "# Separate email_status, date_received, and date_sent into separate columns and drop original column\n",
        "email_each[['email_status', 'date_received', 'date_sent']] = pd.DataFrame(email_each['email_data'].tolist(), index=email_each.index)\n",
        "email_each.drop('email_data', axis=1, inplace=True)"
      ],
      "execution_count": null,
      "outputs": []
    },
    {
      "cell_type": "code",
      "metadata": {
        "id": "U8ClDyv215ky"
      },
      "source": [
        "# Reset index and make subscriber_id a column\n",
        "email_each.reset_index(inplace=True)\n",
        "email_each.rename(columns={'index':'subscriber_id'}, inplace=True)"
      ],
      "execution_count": null,
      "outputs": []
    },
    {
      "cell_type": "code",
      "metadata": {
        "id": "KZvVVhQmGbww"
      },
      "source": [
        "# Locate and drop emails missing email status\n",
        "drop_list = email_each.loc[email_each['email_status'].map(len)==1].index\n",
        "email_each.drop(drop_list, inplace=True)"
      ],
      "execution_count": null,
      "outputs": []
    },
    {
      "cell_type": "code",
      "metadata": {
        "id": "9jGUP2_TFvdJ",
        "outputId": "3081d775-fd70-4004-ebf3-204fc243b069",
        "colab": {
          "base_uri": "https://localhost:8080/",
          "height": 289
        }
      },
      "source": [
        "# Preview data\n",
        "email_each.tail()"
      ],
      "execution_count": null,
      "outputs": [
        {
          "output_type": "execute_result",
          "data": {
            "text/html": [
              "<div>\n",
              "<style scoped>\n",
              "    .dataframe tbody tr th:only-of-type {\n",
              "        vertical-align: middle;\n",
              "    }\n",
              "\n",
              "    .dataframe tbody tr th {\n",
              "        vertical-align: top;\n",
              "    }\n",
              "\n",
              "    .dataframe thead th {\n",
              "        text-align: right;\n",
              "    }\n",
              "</style>\n",
              "<table border=\"1\" class=\"dataframe\">\n",
              "  <thead>\n",
              "    <tr style=\"text-align: right;\">\n",
              "      <th></th>\n",
              "      <th>subscriber_id</th>\n",
              "      <th>number_emails</th>\n",
              "      <th>segments</th>\n",
              "      <th>location</th>\n",
              "      <th>email_status</th>\n",
              "      <th>date_received</th>\n",
              "      <th>date_sent</th>\n",
              "    </tr>\n",
              "  </thead>\n",
              "  <tbody>\n",
              "    <tr>\n",
              "      <th>57246</th>\n",
              "      <td>1027376462</td>\n",
              "      <td>6</td>\n",
              "      <td>Other</td>\n",
              "      <td>None, None</td>\n",
              "      <td>[delivered, opened, clicked]</td>\n",
              "      <td>Clicked Oct 06, 2020 at 6:35pm PDT</td>\n",
              "      <td>Oct 06, 2020 at 6:31pm PDT</td>\n",
              "    </tr>\n",
              "    <tr>\n",
              "      <th>57247</th>\n",
              "      <td>1027376462</td>\n",
              "      <td>6</td>\n",
              "      <td>Other</td>\n",
              "      <td>None, None</td>\n",
              "      <td>[delivered, opened, clicked]</td>\n",
              "      <td>Clicked Oct 06, 2020 at 6:31pm PDT</td>\n",
              "      <td>Oct 06, 2020 at 5:22pm PDT</td>\n",
              "    </tr>\n",
              "    <tr>\n",
              "      <th>57248</th>\n",
              "      <td>1027376462</td>\n",
              "      <td>6</td>\n",
              "      <td>Other</td>\n",
              "      <td>None, None</td>\n",
              "      <td>[delivered, opened, clicked]</td>\n",
              "      <td>Clicked Oct 06, 2020 at 4:30pm PDT</td>\n",
              "      <td>Oct 06, 2020 at 4:22pm PDT</td>\n",
              "    </tr>\n",
              "    <tr>\n",
              "      <th>57249</th>\n",
              "      <td>1027376462</td>\n",
              "      <td>6</td>\n",
              "      <td>Other</td>\n",
              "      <td>None, None</td>\n",
              "      <td>[delivered, opened, clicked]</td>\n",
              "      <td>Clicked Oct 06, 2020 at 4:22pm PDT</td>\n",
              "      <td>Oct 06, 2020 at 4:21pm PDT</td>\n",
              "    </tr>\n",
              "    <tr>\n",
              "      <th>57250</th>\n",
              "      <td>1028504022</td>\n",
              "      <td>1</td>\n",
              "      <td>Other</td>\n",
              "      <td>Kissimmee, Florida</td>\n",
              "      <td>[delivered, opened, clicked]</td>\n",
              "      <td>Clicked Oct 07, 2020 at 1:03pm PDT</td>\n",
              "      <td>Oct 07, 2020 at 1:03pm PDT</td>\n",
              "    </tr>\n",
              "  </tbody>\n",
              "</table>\n",
              "</div>"
            ],
            "text/plain": [
              "      subscriber_id  ...                   date_sent\n",
              "57246    1027376462  ...  Oct 06, 2020 at 6:31pm PDT\n",
              "57247    1027376462  ...  Oct 06, 2020 at 5:22pm PDT\n",
              "57248    1027376462  ...  Oct 06, 2020 at 4:22pm PDT\n",
              "57249    1027376462  ...  Oct 06, 2020 at 4:21pm PDT\n",
              "57250    1028504022  ...  Oct 07, 2020 at 1:03pm PDT\n",
              "\n",
              "[5 rows x 7 columns]"
            ]
          },
          "metadata": {
            "tags": []
          },
          "execution_count": 55
        }
      ]
    },
    {
      "cell_type": "code",
      "metadata": {
        "id": "z36jKoLo8eHQ"
      },
      "source": [
        "# Write a function to categorize emails\n",
        "def email_cat(x):\n",
        "  if 'clicked' in x:\n",
        "    status = 'clicked'\n",
        "  elif 'opened' in x:\n",
        "    status = 'opened'\n",
        "  else:\n",
        "    status = 'delivered'\n",
        "  return status"
      ],
      "execution_count": null,
      "outputs": []
    },
    {
      "cell_type": "code",
      "metadata": {
        "id": "yXFQfXhr89Ha"
      },
      "source": [
        "# Categorize emails according to their status\n",
        "email_each['email_status'] = email_each['email_status'].apply(email_cat)"
      ],
      "execution_count": null,
      "outputs": []
    },
    {
      "cell_type": "code",
      "metadata": {
        "id": "lGmDUwxvF6rt",
        "outputId": "d5857db8-8080-4765-dd35-c73ea0d80401",
        "colab": {
          "base_uri": "https://localhost:8080/",
          "height": 289
        }
      },
      "source": [
        "email_each.tail()"
      ],
      "execution_count": null,
      "outputs": [
        {
          "output_type": "execute_result",
          "data": {
            "text/html": [
              "<div>\n",
              "<style scoped>\n",
              "    .dataframe tbody tr th:only-of-type {\n",
              "        vertical-align: middle;\n",
              "    }\n",
              "\n",
              "    .dataframe tbody tr th {\n",
              "        vertical-align: top;\n",
              "    }\n",
              "\n",
              "    .dataframe thead th {\n",
              "        text-align: right;\n",
              "    }\n",
              "</style>\n",
              "<table border=\"1\" class=\"dataframe\">\n",
              "  <thead>\n",
              "    <tr style=\"text-align: right;\">\n",
              "      <th></th>\n",
              "      <th>subscriber_id</th>\n",
              "      <th>number_emails</th>\n",
              "      <th>segments</th>\n",
              "      <th>location</th>\n",
              "      <th>email_status</th>\n",
              "      <th>date_received</th>\n",
              "      <th>date_sent</th>\n",
              "    </tr>\n",
              "  </thead>\n",
              "  <tbody>\n",
              "    <tr>\n",
              "      <th>57246</th>\n",
              "      <td>1027376462</td>\n",
              "      <td>6</td>\n",
              "      <td>Other</td>\n",
              "      <td>None, None</td>\n",
              "      <td>clicked</td>\n",
              "      <td>Clicked Oct 06, 2020 at 6:35pm PDT</td>\n",
              "      <td>Oct 06, 2020 at 6:31pm PDT</td>\n",
              "    </tr>\n",
              "    <tr>\n",
              "      <th>57247</th>\n",
              "      <td>1027376462</td>\n",
              "      <td>6</td>\n",
              "      <td>Other</td>\n",
              "      <td>None, None</td>\n",
              "      <td>clicked</td>\n",
              "      <td>Clicked Oct 06, 2020 at 6:31pm PDT</td>\n",
              "      <td>Oct 06, 2020 at 5:22pm PDT</td>\n",
              "    </tr>\n",
              "    <tr>\n",
              "      <th>57248</th>\n",
              "      <td>1027376462</td>\n",
              "      <td>6</td>\n",
              "      <td>Other</td>\n",
              "      <td>None, None</td>\n",
              "      <td>clicked</td>\n",
              "      <td>Clicked Oct 06, 2020 at 4:30pm PDT</td>\n",
              "      <td>Oct 06, 2020 at 4:22pm PDT</td>\n",
              "    </tr>\n",
              "    <tr>\n",
              "      <th>57249</th>\n",
              "      <td>1027376462</td>\n",
              "      <td>6</td>\n",
              "      <td>Other</td>\n",
              "      <td>None, None</td>\n",
              "      <td>clicked</td>\n",
              "      <td>Clicked Oct 06, 2020 at 4:22pm PDT</td>\n",
              "      <td>Oct 06, 2020 at 4:21pm PDT</td>\n",
              "    </tr>\n",
              "    <tr>\n",
              "      <th>57250</th>\n",
              "      <td>1028504022</td>\n",
              "      <td>1</td>\n",
              "      <td>Other</td>\n",
              "      <td>Kissimmee, Florida</td>\n",
              "      <td>clicked</td>\n",
              "      <td>Clicked Oct 07, 2020 at 1:03pm PDT</td>\n",
              "      <td>Oct 07, 2020 at 1:03pm PDT</td>\n",
              "    </tr>\n",
              "  </tbody>\n",
              "</table>\n",
              "</div>"
            ],
            "text/plain": [
              "      subscriber_id  ...                   date_sent\n",
              "57246    1027376462  ...  Oct 06, 2020 at 6:31pm PDT\n",
              "57247    1027376462  ...  Oct 06, 2020 at 5:22pm PDT\n",
              "57248    1027376462  ...  Oct 06, 2020 at 4:22pm PDT\n",
              "57249    1027376462  ...  Oct 06, 2020 at 4:21pm PDT\n",
              "57250    1028504022  ...  Oct 07, 2020 at 1:03pm PDT\n",
              "\n",
              "[5 rows x 7 columns]"
            ]
          },
          "metadata": {
            "tags": []
          },
          "execution_count": 58
        }
      ]
    },
    {
      "cell_type": "markdown",
      "metadata": {
        "id": "Pc8OSAwdOn1S"
      },
      "source": [
        "Since we are interested in analyzing subscribers who have received 5 or more emails, we will filter the data to only focus on this group."
      ]
    },
    {
      "cell_type": "code",
      "metadata": {
        "id": "c4fhRVRXBy2-"
      },
      "source": [
        "# Filter data set to only include subscribers who have received 5 or more emails\n",
        "email_each_5 = email_each.loc[email_each['number_emails'] >= 5].copy()"
      ],
      "execution_count": null,
      "outputs": []
    },
    {
      "cell_type": "code",
      "metadata": {
        "id": "oQ0OKofnGxgv"
      },
      "source": [
        "# Get segment by subscriber id\n",
        "segs = email_each_5.groupby('subscriber_id')['segments'].first()\n",
        "segs"
      ],
      "execution_count": null,
      "outputs": []
    },
    {
      "cell_type": "markdown",
      "metadata": {
        "id": "rPi_GTUDO74E"
      },
      "source": [
        "## Data aggregation "
      ]
    },
    {
      "cell_type": "markdown",
      "metadata": {
        "id": "CZyDBIoqPAYS"
      },
      "source": [
        "Next, we will aggregate the emails by unique subscriber id in order to find each subscriber's individual open and click rates."
      ]
    },
    {
      "cell_type": "code",
      "metadata": {
        "id": "bBGr3DPHyfmv",
        "outputId": "f392bf9d-ceae-47c9-f8b0-1796c695efbb",
        "colab": {
          "base_uri": "https://localhost:8080/",
          "height": 450
        }
      },
      "source": [
        "# Aggregate emails to see the open and click rate for each subscriber\n",
        "email_test = email_each_5.groupby(['subscriber_id', 'email_status'])['subscriber_id'].count().to_frame()\n",
        "email_test['percentage'] = email_test.groupby(level=0).apply(lambda x: round(x / x.sum() * 100, 2))\n",
        "email_test"
      ],
      "execution_count": null,
      "outputs": [
        {
          "output_type": "execute_result",
          "data": {
            "text/html": [
              "<div>\n",
              "<style scoped>\n",
              "    .dataframe tbody tr th:only-of-type {\n",
              "        vertical-align: middle;\n",
              "    }\n",
              "\n",
              "    .dataframe tbody tr th {\n",
              "        vertical-align: top;\n",
              "    }\n",
              "\n",
              "    .dataframe thead th {\n",
              "        text-align: right;\n",
              "    }\n",
              "</style>\n",
              "<table border=\"1\" class=\"dataframe\">\n",
              "  <thead>\n",
              "    <tr style=\"text-align: right;\">\n",
              "      <th></th>\n",
              "      <th></th>\n",
              "      <th>subscriber_id</th>\n",
              "      <th>percentage</th>\n",
              "    </tr>\n",
              "    <tr>\n",
              "      <th>subscriber_id</th>\n",
              "      <th>email_status</th>\n",
              "      <th></th>\n",
              "      <th></th>\n",
              "    </tr>\n",
              "  </thead>\n",
              "  <tbody>\n",
              "    <tr>\n",
              "      <th rowspan=\"2\" valign=\"top\">1000528074</th>\n",
              "      <th>delivered</th>\n",
              "      <td>12</td>\n",
              "      <td>92.31</td>\n",
              "    </tr>\n",
              "    <tr>\n",
              "      <th>opened</th>\n",
              "      <td>1</td>\n",
              "      <td>7.69</td>\n",
              "    </tr>\n",
              "    <tr>\n",
              "      <th rowspan=\"2\" valign=\"top\">1000550785</th>\n",
              "      <th>delivered</th>\n",
              "      <td>6</td>\n",
              "      <td>46.15</td>\n",
              "    </tr>\n",
              "    <tr>\n",
              "      <th>opened</th>\n",
              "      <td>7</td>\n",
              "      <td>53.85</td>\n",
              "    </tr>\n",
              "    <tr>\n",
              "      <th>1000619946</th>\n",
              "      <th>clicked</th>\n",
              "      <td>1</td>\n",
              "      <td>7.69</td>\n",
              "    </tr>\n",
              "    <tr>\n",
              "      <th>...</th>\n",
              "      <th>...</th>\n",
              "      <td>...</td>\n",
              "      <td>...</td>\n",
              "    </tr>\n",
              "    <tr>\n",
              "      <th>999434449</th>\n",
              "      <th>opened</th>\n",
              "      <td>2</td>\n",
              "      <td>15.38</td>\n",
              "    </tr>\n",
              "    <tr>\n",
              "      <th rowspan=\"2\" valign=\"top\">999859113</th>\n",
              "      <th>clicked</th>\n",
              "      <td>1</td>\n",
              "      <td>7.14</td>\n",
              "    </tr>\n",
              "    <tr>\n",
              "      <th>delivered</th>\n",
              "      <td>13</td>\n",
              "      <td>92.86</td>\n",
              "    </tr>\n",
              "    <tr>\n",
              "      <th rowspan=\"2\" valign=\"top\">999908122</th>\n",
              "      <th>delivered</th>\n",
              "      <td>11</td>\n",
              "      <td>84.62</td>\n",
              "    </tr>\n",
              "    <tr>\n",
              "      <th>opened</th>\n",
              "      <td>2</td>\n",
              "      <td>15.38</td>\n",
              "    </tr>\n",
              "  </tbody>\n",
              "</table>\n",
              "<p>1815 rows × 2 columns</p>\n",
              "</div>"
            ],
            "text/plain": [
              "                            subscriber_id  percentage\n",
              "subscriber_id email_status                           \n",
              "1000528074    delivered                12       92.31\n",
              "              opened                    1        7.69\n",
              "1000550785    delivered                 6       46.15\n",
              "              opened                    7       53.85\n",
              "1000619946    clicked                   1        7.69\n",
              "...                                   ...         ...\n",
              "999434449     opened                    2       15.38\n",
              "999859113     clicked                   1        7.14\n",
              "              delivered                13       92.86\n",
              "999908122     delivered                11       84.62\n",
              "              opened                    2       15.38\n",
              "\n",
              "[1815 rows x 2 columns]"
            ]
          },
          "metadata": {
            "tags": []
          },
          "execution_count": 37
        }
      ]
    },
    {
      "cell_type": "code",
      "metadata": {
        "id": "c7nj6uwNFvvy",
        "outputId": "d7f00902-bc43-4b66-b189-78cc0c461726",
        "colab": {
          "base_uri": "https://localhost:8080/",
          "height": 224
        }
      },
      "source": [
        "# Summary of open and click rates\n",
        "email_test.groupby(level='email_status').describe()"
      ],
      "execution_count": null,
      "outputs": [
        {
          "output_type": "execute_result",
          "data": {
            "text/html": [
              "<div>\n",
              "<style scoped>\n",
              "    .dataframe tbody tr th:only-of-type {\n",
              "        vertical-align: middle;\n",
              "    }\n",
              "\n",
              "    .dataframe tbody tr th {\n",
              "        vertical-align: top;\n",
              "    }\n",
              "\n",
              "    .dataframe thead tr th {\n",
              "        text-align: left;\n",
              "    }\n",
              "\n",
              "    .dataframe thead tr:last-of-type th {\n",
              "        text-align: right;\n",
              "    }\n",
              "</style>\n",
              "<table border=\"1\" class=\"dataframe\">\n",
              "  <thead>\n",
              "    <tr>\n",
              "      <th></th>\n",
              "      <th colspan=\"8\" halign=\"left\">subscriber_id</th>\n",
              "      <th colspan=\"8\" halign=\"left\">percentage</th>\n",
              "    </tr>\n",
              "    <tr>\n",
              "      <th></th>\n",
              "      <th>count</th>\n",
              "      <th>mean</th>\n",
              "      <th>std</th>\n",
              "      <th>min</th>\n",
              "      <th>25%</th>\n",
              "      <th>50%</th>\n",
              "      <th>75%</th>\n",
              "      <th>max</th>\n",
              "      <th>count</th>\n",
              "      <th>mean</th>\n",
              "      <th>std</th>\n",
              "      <th>min</th>\n",
              "      <th>25%</th>\n",
              "      <th>50%</th>\n",
              "      <th>75%</th>\n",
              "      <th>max</th>\n",
              "    </tr>\n",
              "    <tr>\n",
              "      <th>email_status</th>\n",
              "      <th></th>\n",
              "      <th></th>\n",
              "      <th></th>\n",
              "      <th></th>\n",
              "      <th></th>\n",
              "      <th></th>\n",
              "      <th></th>\n",
              "      <th></th>\n",
              "      <th></th>\n",
              "      <th></th>\n",
              "      <th></th>\n",
              "      <th></th>\n",
              "      <th></th>\n",
              "      <th></th>\n",
              "      <th></th>\n",
              "      <th></th>\n",
              "    </tr>\n",
              "  </thead>\n",
              "  <tbody>\n",
              "    <tr>\n",
              "      <th>clicked</th>\n",
              "      <td>443.0</td>\n",
              "      <td>2.812641</td>\n",
              "      <td>3.184894</td>\n",
              "      <td>1.0</td>\n",
              "      <td>1.0</td>\n",
              "      <td>2.0</td>\n",
              "      <td>3.0</td>\n",
              "      <td>26.0</td>\n",
              "      <td>443.0</td>\n",
              "      <td>7.620293</td>\n",
              "      <td>9.352524</td>\n",
              "      <td>0.53</td>\n",
              "      <td>1.6850</td>\n",
              "      <td>3.87</td>\n",
              "      <td>9.090</td>\n",
              "      <td>66.67</td>\n",
              "    </tr>\n",
              "    <tr>\n",
              "      <th>delivered</th>\n",
              "      <td>736.0</td>\n",
              "      <td>53.330163</td>\n",
              "      <td>51.909009</td>\n",
              "      <td>1.0</td>\n",
              "      <td>12.0</td>\n",
              "      <td>37.0</td>\n",
              "      <td>79.0</td>\n",
              "      <td>197.0</td>\n",
              "      <td>736.0</td>\n",
              "      <td>72.099701</td>\n",
              "      <td>26.709676</td>\n",
              "      <td>0.56</td>\n",
              "      <td>56.1450</td>\n",
              "      <td>81.25</td>\n",
              "      <td>93.945</td>\n",
              "      <td>100.00</td>\n",
              "    </tr>\n",
              "    <tr>\n",
              "      <th>opened</th>\n",
              "      <td>636.0</td>\n",
              "      <td>25.915094</td>\n",
              "      <td>38.731123</td>\n",
              "      <td>1.0</td>\n",
              "      <td>3.0</td>\n",
              "      <td>9.0</td>\n",
              "      <td>30.0</td>\n",
              "      <td>178.0</td>\n",
              "      <td>636.0</td>\n",
              "      <td>29.023302</td>\n",
              "      <td>24.846583</td>\n",
              "      <td>0.54</td>\n",
              "      <td>7.9225</td>\n",
              "      <td>21.49</td>\n",
              "      <td>42.860</td>\n",
              "      <td>99.44</td>\n",
              "    </tr>\n",
              "  </tbody>\n",
              "</table>\n",
              "</div>"
            ],
            "text/plain": [
              "             subscriber_id                        ... percentage                \n",
              "                     count       mean        std  ...        50%     75%     max\n",
              "email_status                                      ...                           \n",
              "clicked              443.0   2.812641   3.184894  ...       3.87   9.090   66.67\n",
              "delivered            736.0  53.330163  51.909009  ...      81.25  93.945  100.00\n",
              "opened               636.0  25.915094  38.731123  ...      21.49  42.860   99.44\n",
              "\n",
              "[3 rows x 16 columns]"
            ]
          },
          "metadata": {
            "tags": []
          },
          "execution_count": 38
        }
      ]
    },
    {
      "cell_type": "markdown",
      "metadata": {
        "id": "9ZFxnFvo0B__"
      },
      "source": [
        "For our email subscribers who have received 5 or more emails:\n",
        "* The average (mean) open rate is 29%, and the median open rate is 21%\n",
        "* The average (mean) click rate is 7.6%, and the median click rate is 3.9%"
      ]
    },
    {
      "cell_type": "code",
      "metadata": {
        "id": "456XbfVVLDX1"
      },
      "source": [
        "# Save total median click and open rates\n",
        "total_median_click = email_test.groupby(level='email_status')['percentage'].median().loc['clicked']\n",
        "total_median_open = email_test.groupby(level='email_status')['percentage'].median().loc['opened']"
      ],
      "execution_count": null,
      "outputs": []
    },
    {
      "cell_type": "markdown",
      "metadata": {
        "id": "1wG2ciI8P7Jn"
      },
      "source": [
        "Finally, we will reformat the dataframe so that each subscriber's open and click rate data is in one row. Later, this will allow us to merge this dataframe with data from other sources."
      ]
    },
    {
      "cell_type": "code",
      "metadata": {
        "id": "dn5xKOzN00DN",
        "outputId": "c432bf11-09d3-4979-bd2a-921b030bcd1a",
        "colab": {
          "base_uri": "https://localhost:8080/",
          "height": 481
        }
      },
      "source": [
        "# Reformat dataframe\n",
        "email_rates = email_test.unstack()\n",
        "email_rates"
      ],
      "execution_count": null,
      "outputs": [
        {
          "output_type": "execute_result",
          "data": {
            "text/html": [
              "<div>\n",
              "<style scoped>\n",
              "    .dataframe tbody tr th:only-of-type {\n",
              "        vertical-align: middle;\n",
              "    }\n",
              "\n",
              "    .dataframe tbody tr th {\n",
              "        vertical-align: top;\n",
              "    }\n",
              "\n",
              "    .dataframe thead tr th {\n",
              "        text-align: left;\n",
              "    }\n",
              "\n",
              "    .dataframe thead tr:last-of-type th {\n",
              "        text-align: right;\n",
              "    }\n",
              "</style>\n",
              "<table border=\"1\" class=\"dataframe\">\n",
              "  <thead>\n",
              "    <tr>\n",
              "      <th></th>\n",
              "      <th colspan=\"3\" halign=\"left\">subscriber_id</th>\n",
              "      <th colspan=\"3\" halign=\"left\">percentage</th>\n",
              "    </tr>\n",
              "    <tr>\n",
              "      <th>email_status</th>\n",
              "      <th>clicked</th>\n",
              "      <th>delivered</th>\n",
              "      <th>opened</th>\n",
              "      <th>clicked</th>\n",
              "      <th>delivered</th>\n",
              "      <th>opened</th>\n",
              "    </tr>\n",
              "    <tr>\n",
              "      <th>subscriber_id</th>\n",
              "      <th></th>\n",
              "      <th></th>\n",
              "      <th></th>\n",
              "      <th></th>\n",
              "      <th></th>\n",
              "      <th></th>\n",
              "    </tr>\n",
              "  </thead>\n",
              "  <tbody>\n",
              "    <tr>\n",
              "      <th>1000528074</th>\n",
              "      <td>NaN</td>\n",
              "      <td>12.0</td>\n",
              "      <td>1.0</td>\n",
              "      <td>NaN</td>\n",
              "      <td>92.31</td>\n",
              "      <td>7.69</td>\n",
              "    </tr>\n",
              "    <tr>\n",
              "      <th>1000550785</th>\n",
              "      <td>NaN</td>\n",
              "      <td>6.0</td>\n",
              "      <td>7.0</td>\n",
              "      <td>NaN</td>\n",
              "      <td>46.15</td>\n",
              "      <td>53.85</td>\n",
              "    </tr>\n",
              "    <tr>\n",
              "      <th>1000619946</th>\n",
              "      <td>1.0</td>\n",
              "      <td>4.0</td>\n",
              "      <td>8.0</td>\n",
              "      <td>7.69</td>\n",
              "      <td>30.77</td>\n",
              "      <td>61.54</td>\n",
              "    </tr>\n",
              "    <tr>\n",
              "      <th>1000894846</th>\n",
              "      <td>NaN</td>\n",
              "      <td>11.0</td>\n",
              "      <td>1.0</td>\n",
              "      <td>NaN</td>\n",
              "      <td>91.67</td>\n",
              "      <td>8.33</td>\n",
              "    </tr>\n",
              "    <tr>\n",
              "      <th>1000904683</th>\n",
              "      <td>1.0</td>\n",
              "      <td>12.0</td>\n",
              "      <td>NaN</td>\n",
              "      <td>7.69</td>\n",
              "      <td>92.31</td>\n",
              "      <td>NaN</td>\n",
              "    </tr>\n",
              "    <tr>\n",
              "      <th>...</th>\n",
              "      <td>...</td>\n",
              "      <td>...</td>\n",
              "      <td>...</td>\n",
              "      <td>...</td>\n",
              "      <td>...</td>\n",
              "      <td>...</td>\n",
              "    </tr>\n",
              "    <tr>\n",
              "      <th>998392933</th>\n",
              "      <td>NaN</td>\n",
              "      <td>13.0</td>\n",
              "      <td>2.0</td>\n",
              "      <td>NaN</td>\n",
              "      <td>86.67</td>\n",
              "      <td>13.33</td>\n",
              "    </tr>\n",
              "    <tr>\n",
              "      <th>998667509</th>\n",
              "      <td>NaN</td>\n",
              "      <td>5.0</td>\n",
              "      <td>8.0</td>\n",
              "      <td>NaN</td>\n",
              "      <td>38.46</td>\n",
              "      <td>61.54</td>\n",
              "    </tr>\n",
              "    <tr>\n",
              "      <th>999434449</th>\n",
              "      <td>NaN</td>\n",
              "      <td>11.0</td>\n",
              "      <td>2.0</td>\n",
              "      <td>NaN</td>\n",
              "      <td>84.62</td>\n",
              "      <td>15.38</td>\n",
              "    </tr>\n",
              "    <tr>\n",
              "      <th>999859113</th>\n",
              "      <td>1.0</td>\n",
              "      <td>13.0</td>\n",
              "      <td>NaN</td>\n",
              "      <td>7.14</td>\n",
              "      <td>92.86</td>\n",
              "      <td>NaN</td>\n",
              "    </tr>\n",
              "    <tr>\n",
              "      <th>999908122</th>\n",
              "      <td>NaN</td>\n",
              "      <td>11.0</td>\n",
              "      <td>2.0</td>\n",
              "      <td>NaN</td>\n",
              "      <td>84.62</td>\n",
              "      <td>15.38</td>\n",
              "    </tr>\n",
              "  </tbody>\n",
              "</table>\n",
              "<p>749 rows × 6 columns</p>\n",
              "</div>"
            ],
            "text/plain": [
              "              subscriber_id                  percentage                 \n",
              "email_status        clicked delivered opened    clicked delivered opened\n",
              "subscriber_id                                                           \n",
              "1000528074              NaN      12.0    1.0        NaN     92.31   7.69\n",
              "1000550785              NaN       6.0    7.0        NaN     46.15  53.85\n",
              "1000619946              1.0       4.0    8.0       7.69     30.77  61.54\n",
              "1000894846              NaN      11.0    1.0        NaN     91.67   8.33\n",
              "1000904683              1.0      12.0    NaN       7.69     92.31    NaN\n",
              "...                     ...       ...    ...        ...       ...    ...\n",
              "998392933               NaN      13.0    2.0        NaN     86.67  13.33\n",
              "998667509               NaN       5.0    8.0        NaN     38.46  61.54\n",
              "999434449               NaN      11.0    2.0        NaN     84.62  15.38\n",
              "999859113               1.0      13.0    NaN       7.14     92.86    NaN\n",
              "999908122               NaN      11.0    2.0        NaN     84.62  15.38\n",
              "\n",
              "[749 rows x 6 columns]"
            ]
          },
          "metadata": {
            "tags": []
          },
          "execution_count": 43
        }
      ]
    },
    {
      "cell_type": "markdown",
      "metadata": {
        "id": "dvZJNWegQTcq"
      },
      "source": [
        "# Gather and Merge Additional Data Into Dataframe"
      ]
    },
    {
      "cell_type": "markdown",
      "metadata": {
        "id": "Uzzg8sZGQrQH"
      },
      "source": [
        "We will make additional API requests to gather the following information: subscriber email address, subscriber purchased target product, and subscriber time on email list. As we gather this information, we will clean and format it, and merge it into our `email_rates` dataframe.\n",
        "\n",
        "First, we'll make an API request for subscribers who have purchased target product."
      ]
    },
    {
      "cell_type": "markdown",
      "metadata": {
        "id": "suKLnDntSXM_"
      },
      "source": [
        "Now, we will add this purchase data to our dataframe."
      ]
    },
    {
      "cell_type": "code",
      "metadata": {
        "id": "WDdjhXy1MSYy"
      },
      "source": [
        "# Convert to flat index and rename columns\n",
        "email_rates.columns = ['_'.join(col) for col in email_rates.columns.values]\n",
        "email_rates.columns = ['emails_clicked', 'emails_delivered', 'emails_opened', 'percent_clicked', 'percent_delivered', 'percent_opened']"
      ],
      "execution_count": null,
      "outputs": []
    },
    {
      "cell_type": "code",
      "metadata": {
        "id": "G3muusDWabgz"
      },
      "source": [
        "# Merge subscriber purchase info into `email_rates` dataframe\n",
        "email_rates = email_rates.join(chat_coaching_purchased)"
      ],
      "execution_count": null,
      "outputs": []
    },
    {
      "cell_type": "code",
      "metadata": {
        "id": "KvF0MgnFLGYp"
      },
      "source": [
        "# Merge subscriber segment into `email_rates` dataframe\n",
        "email_rates = email_rates.join(segs)"
      ],
      "execution_count": null,
      "outputs": []
    },
    {
      "cell_type": "code",
      "metadata": {
        "id": "X70IPlJyNnX2",
        "outputId": "f6640546-ff4c-4c20-8d02-6d1b90a1ef98",
        "colab": {
          "base_uri": "https://localhost:8080/"
        }
      },
      "source": [
        "# Preview data\n",
        "email_rates.sample(5)"
      ],
      "execution_count": null,
      "outputs": [
        {
          "output_type": "execute_result",
          "data": {
            "text/html": [
              "<div>\n",
              "<style scoped>\n",
              "    .dataframe tbody tr th:only-of-type {\n",
              "        vertical-align: middle;\n",
              "    }\n",
              "\n",
              "    .dataframe tbody tr th {\n",
              "        vertical-align: top;\n",
              "    }\n",
              "\n",
              "    .dataframe thead th {\n",
              "        text-align: right;\n",
              "    }\n",
              "</style>\n",
              "<table border=\"1\" class=\"dataframe\">\n",
              "  <thead>\n",
              "    <tr style=\"text-align: right;\">\n",
              "      <th></th>\n",
              "      <th>emails_clicked</th>\n",
              "      <th>emails_delivered</th>\n",
              "      <th>emails_opened</th>\n",
              "      <th>percent_clicked</th>\n",
              "      <th>percent_delivered</th>\n",
              "      <th>percent_opened</th>\n",
              "      <th>BBB_Purchased</th>\n",
              "      <th>segments</th>\n",
              "    </tr>\n",
              "    <tr>\n",
              "      <th>subscriber_id</th>\n",
              "      <th></th>\n",
              "      <th></th>\n",
              "      <th></th>\n",
              "      <th></th>\n",
              "      <th></th>\n",
              "      <th></th>\n",
              "      <th></th>\n",
              "      <th></th>\n",
              "    </tr>\n",
              "  </thead>\n",
              "  <tbody>\n",
              "    <tr>\n",
              "      <th>968158319</th>\n",
              "      <td>NaN</td>\n",
              "      <td>14.0</td>\n",
              "      <td>3.0</td>\n",
              "      <td>NaN</td>\n",
              "      <td>82.35</td>\n",
              "      <td>17.65</td>\n",
              "      <td>NaN</td>\n",
              "      <td>Broadcast</td>\n",
              "    </tr>\n",
              "    <tr>\n",
              "      <th>829184062</th>\n",
              "      <td>1.0</td>\n",
              "      <td>85.0</td>\n",
              "      <td>3.0</td>\n",
              "      <td>1.12</td>\n",
              "      <td>95.51</td>\n",
              "      <td>3.37</td>\n",
              "      <td>NaN</td>\n",
              "      <td>Broadcast</td>\n",
              "    </tr>\n",
              "    <tr>\n",
              "      <th>974566184</th>\n",
              "      <td>3.0</td>\n",
              "      <td>7.0</td>\n",
              "      <td>1.0</td>\n",
              "      <td>27.27</td>\n",
              "      <td>63.64</td>\n",
              "      <td>9.09</td>\n",
              "      <td>NaN</td>\n",
              "      <td>Other</td>\n",
              "    </tr>\n",
              "    <tr>\n",
              "      <th>909928016</th>\n",
              "      <td>12.0</td>\n",
              "      <td>12.0</td>\n",
              "      <td>25.0</td>\n",
              "      <td>24.49</td>\n",
              "      <td>24.49</td>\n",
              "      <td>51.02</td>\n",
              "      <td>NaN</td>\n",
              "      <td>Broadcast</td>\n",
              "    </tr>\n",
              "    <tr>\n",
              "      <th>894400194</th>\n",
              "      <td>NaN</td>\n",
              "      <td>48.0</td>\n",
              "      <td>13.0</td>\n",
              "      <td>NaN</td>\n",
              "      <td>78.69</td>\n",
              "      <td>21.31</td>\n",
              "      <td>NaN</td>\n",
              "      <td>Broadcast</td>\n",
              "    </tr>\n",
              "  </tbody>\n",
              "</table>\n",
              "</div>"
            ],
            "text/plain": [
              "               emails_clicked  emails_delivered  ...  BBB_Purchased   segments\n",
              "subscriber_id                                    ...                          \n",
              "968158319                 NaN              14.0  ...            NaN  Broadcast\n",
              "829184062                 1.0              85.0  ...            NaN  Broadcast\n",
              "974566184                 3.0               7.0  ...            NaN      Other\n",
              "909928016                12.0              12.0  ...            NaN  Broadcast\n",
              "894400194                 NaN              48.0  ...            NaN  Broadcast\n",
              "\n",
              "[5 rows x 8 columns]"
            ]
          },
          "metadata": {
            "tags": []
          },
          "execution_count": 35
        }
      ]
    },
    {
      "cell_type": "code",
      "metadata": {
        "id": "Tu8zs8USf6CU"
      },
      "source": [
        "# Create `BBB_Purchased` column in data frame and fill 'No' for subscribers who haven't purchased BBB\n",
        "email_rates['BBB_Purchased'].fillna('No', inplace=True)"
      ],
      "execution_count": null,
      "outputs": []
    },
    {
      "cell_type": "code",
      "metadata": {
        "id": "AiqyM-Oid8vy"
      },
      "source": [
        "# Fill `BBB_Purchased` column with 'Yes' for subscribers who have purchased BBB\n",
        "email_rates['BBB_Purchased'] = email_rates['BBB_Purchased'].apply(lambda x:'Yes' if x != 'No' else x)"
      ],
      "execution_count": null,
      "outputs": []
    },
    {
      "cell_type": "code",
      "metadata": {
        "id": "OEqC9z6sSej0",
        "outputId": "11efdcd6-a525-48a6-cbaa-816c8f1805fc",
        "colab": {
          "base_uri": "https://localhost:8080/"
        }
      },
      "source": [
        "# Preview data\n",
        "email_rates.sample(5)"
      ],
      "execution_count": null,
      "outputs": [
        {
          "output_type": "execute_result",
          "data": {
            "text/html": [
              "<div>\n",
              "<style scoped>\n",
              "    .dataframe tbody tr th:only-of-type {\n",
              "        vertical-align: middle;\n",
              "    }\n",
              "\n",
              "    .dataframe tbody tr th {\n",
              "        vertical-align: top;\n",
              "    }\n",
              "\n",
              "    .dataframe thead th {\n",
              "        text-align: right;\n",
              "    }\n",
              "</style>\n",
              "<table border=\"1\" class=\"dataframe\">\n",
              "  <thead>\n",
              "    <tr style=\"text-align: right;\">\n",
              "      <th></th>\n",
              "      <th>emails_clicked</th>\n",
              "      <th>emails_delivered</th>\n",
              "      <th>emails_opened</th>\n",
              "      <th>percent_clicked</th>\n",
              "      <th>percent_delivered</th>\n",
              "      <th>percent_opened</th>\n",
              "      <th>BBB_Purchased</th>\n",
              "      <th>segments</th>\n",
              "    </tr>\n",
              "    <tr>\n",
              "      <th>subscriber_id</th>\n",
              "      <th></th>\n",
              "      <th></th>\n",
              "      <th></th>\n",
              "      <th></th>\n",
              "      <th></th>\n",
              "      <th></th>\n",
              "      <th></th>\n",
              "      <th></th>\n",
              "    </tr>\n",
              "  </thead>\n",
              "  <tbody>\n",
              "    <tr>\n",
              "      <th>664953675</th>\n",
              "      <td>1.0</td>\n",
              "      <td>117.0</td>\n",
              "      <td>62.0</td>\n",
              "      <td>0.56</td>\n",
              "      <td>65.00</td>\n",
              "      <td>34.44</td>\n",
              "      <td>No</td>\n",
              "      <td>Broadcast</td>\n",
              "    </tr>\n",
              "    <tr>\n",
              "      <th>1015002175</th>\n",
              "      <td>NaN</td>\n",
              "      <td>7.0</td>\n",
              "      <td>1.0</td>\n",
              "      <td>NaN</td>\n",
              "      <td>87.50</td>\n",
              "      <td>12.50</td>\n",
              "      <td>No</td>\n",
              "      <td>Broadcast</td>\n",
              "    </tr>\n",
              "    <tr>\n",
              "      <th>914358619</th>\n",
              "      <td>6.0</td>\n",
              "      <td>42.0</td>\n",
              "      <td>13.0</td>\n",
              "      <td>9.84</td>\n",
              "      <td>68.85</td>\n",
              "      <td>21.31</td>\n",
              "      <td>No</td>\n",
              "      <td>Broadcast</td>\n",
              "    </tr>\n",
              "    <tr>\n",
              "      <th>847799702</th>\n",
              "      <td>1.0</td>\n",
              "      <td>79.0</td>\n",
              "      <td>1.0</td>\n",
              "      <td>1.23</td>\n",
              "      <td>97.53</td>\n",
              "      <td>1.23</td>\n",
              "      <td>No</td>\n",
              "      <td>Broadcast</td>\n",
              "    </tr>\n",
              "    <tr>\n",
              "      <th>664953721</th>\n",
              "      <td>3.0</td>\n",
              "      <td>98.0</td>\n",
              "      <td>61.0</td>\n",
              "      <td>1.85</td>\n",
              "      <td>60.49</td>\n",
              "      <td>37.65</td>\n",
              "      <td>No</td>\n",
              "      <td>Broadcast</td>\n",
              "    </tr>\n",
              "  </tbody>\n",
              "</table>\n",
              "</div>"
            ],
            "text/plain": [
              "               emails_clicked  emails_delivered  ...  BBB_Purchased   segments\n",
              "subscriber_id                                    ...                          \n",
              "664953675                 1.0             117.0  ...             No  Broadcast\n",
              "1015002175                NaN               7.0  ...             No  Broadcast\n",
              "914358619                 6.0              42.0  ...             No  Broadcast\n",
              "847799702                 1.0              79.0  ...             No  Broadcast\n",
              "664953721                 3.0              98.0  ...             No  Broadcast\n",
              "\n",
              "[5 rows x 8 columns]"
            ]
          },
          "metadata": {
            "tags": []
          },
          "execution_count": 38
        }
      ]
    },
    {
      "cell_type": "markdown",
      "metadata": {
        "id": "547kuW2bIQej"
      },
      "source": [
        "Next, we'll make another API request to gather the subscriber's email address, id, and subscription date."
      ]
    },
    {
      "cell_type": "code",
      "metadata": {
        "id": "0UxUA5baJWs5"
      },
      "source": [
        "# Creat dictionary to store email address, subscriber id, and subscription date\n",
        "subscriber_data = defaultdict(list)\n",
        "\n",
        "# Base url to make request\n",
        "url = 'https://api.convertkit.com/v3/subscribers?api_secret=REMOVED'\n",
        "response = requests.get(url)\n",
        "response_j = response.json() \n",
        "\n",
        "# Count total pages in response\n",
        "total_pages = response_j['total_pages']\n",
        "  \n",
        "# Store relevant subscriber info in dictionary\n",
        "for subscriber in response_j['subscribers']:\n",
        "  id = subscriber['id']\n",
        "  subscriber_data[id].append(subscriber['email_address'])\n",
        "  subscriber_data[id].append(subscriber['first_name'])\n",
        "  subscriber_data[id].append(subscriber['created_at'])\n",
        "  subscriber_data[id].append(subscriber['fields']['legacy_optintime'])\n",
        "\n",
        "# Make requests for any additional pages, and count results \n",
        "for i in range(2, total_pages+1):\n",
        "  new_url = url + '&page=' + str(i)\n",
        "  response = requests.get(new_url)\n",
        "  response_j = response.json()\n",
        "\n",
        "  for subscriber in response_j['subscribers']:\n",
        "    id = subscriber['id']\n",
        "    subscriber_data[id].append(subscriber['email_address'])\n",
        "    subscriber_data[id].append(subscriber['first_name'])\n",
        "    subscriber_data[id].append(subscriber['created_at'])\n",
        "    subscriber_data[id].append(subscriber['fields']['legacy_optintime'])"
      ],
      "execution_count": null,
      "outputs": []
    },
    {
      "cell_type": "code",
      "metadata": {
        "id": "ckfguJs0Jiv1",
        "outputId": "7887e82b-55de-48bb-cca4-064e31429985",
        "colab": {
          "base_uri": "https://localhost:8080/",
          "height": 204
        }
      },
      "source": [
        "# Preview data - personal info removed\n",
        "subscriber_data[['CK_subscription', 'legacy_subscription']].sample(5)"
      ],
      "execution_count": null,
      "outputs": [
        {
          "output_type": "execute_result",
          "data": {
            "text/html": [
              "<div>\n",
              "<style scoped>\n",
              "    .dataframe tbody tr th:only-of-type {\n",
              "        vertical-align: middle;\n",
              "    }\n",
              "\n",
              "    .dataframe tbody tr th {\n",
              "        vertical-align: top;\n",
              "    }\n",
              "\n",
              "    .dataframe thead th {\n",
              "        text-align: right;\n",
              "    }\n",
              "</style>\n",
              "<table border=\"1\" class=\"dataframe\">\n",
              "  <thead>\n",
              "    <tr style=\"text-align: right;\">\n",
              "      <th></th>\n",
              "      <th>CK_subscription</th>\n",
              "      <th>legacy_subscription</th>\n",
              "    </tr>\n",
              "  </thead>\n",
              "  <tbody>\n",
              "    <tr>\n",
              "      <th>664953729</th>\n",
              "      <td>2019-12-07T01:38:34.000Z</td>\n",
              "      <td>2018-07-04 11:18:12</td>\n",
              "    </tr>\n",
              "    <tr>\n",
              "      <th>1070916550</th>\n",
              "      <td>2020-11-15T02:35:40.000Z</td>\n",
              "      <td>None</td>\n",
              "    </tr>\n",
              "    <tr>\n",
              "      <th>1035545365</th>\n",
              "      <td>2020-10-14T13:07:28.000Z</td>\n",
              "      <td>None</td>\n",
              "    </tr>\n",
              "    <tr>\n",
              "      <th>914942911</th>\n",
              "      <td>2020-07-09T14:03:06.000Z</td>\n",
              "      <td>None</td>\n",
              "    </tr>\n",
              "    <tr>\n",
              "      <th>978347736</th>\n",
              "      <td>2020-08-27T16:04:28.000Z</td>\n",
              "      <td>None</td>\n",
              "    </tr>\n",
              "  </tbody>\n",
              "</table>\n",
              "</div>"
            ],
            "text/plain": [
              "                     CK_subscription  legacy_subscription\n",
              "664953729   2019-12-07T01:38:34.000Z  2018-07-04 11:18:12\n",
              "1070916550  2020-11-15T02:35:40.000Z                 None\n",
              "1035545365  2020-10-14T13:07:28.000Z                 None\n",
              "914942911   2020-07-09T14:03:06.000Z                 None\n",
              "978347736   2020-08-27T16:04:28.000Z                 None"
            ]
          },
          "metadata": {
            "tags": []
          },
          "execution_count": 72
        }
      ]
    },
    {
      "cell_type": "markdown",
      "metadata": {
        "id": "gfa01dNcTGDa"
      },
      "source": [
        "We will need to clean this data. We'll extract the correct subscription time (this information is spread across two columns due to a legacy email list, before we switched to our current email management system). We will use that to calculate how long the subscriber has been on our email list."
      ]
    },
    {
      "cell_type": "code",
      "metadata": {
        "id": "kbPwQqibK9aD"
      },
      "source": [
        "# Write a function to convert the `CK_subscription` dates into datetime objects\n",
        "def convert_date(d):\n",
        "  new_date = dt.datetime.strptime(d, \"%Y-%m-%dT%H:%M:%S.%fZ\")\n",
        "  return new_date.date()"
      ],
      "execution_count": null,
      "outputs": []
    },
    {
      "cell_type": "code",
      "metadata": {
        "id": "FK50AECGLBCb"
      },
      "source": [
        "# Convert `CK_subscription` column to datetime\n",
        "subscriber_data['CK_subscription'] = subscriber_data['CK_subscription'].apply(convert_date)"
      ],
      "execution_count": null,
      "outputs": []
    },
    {
      "cell_type": "code",
      "metadata": {
        "id": "4oxKtX37MT5V"
      },
      "source": [
        "# Modify above function for `legacy_subscription` column\n",
        "def convert_date(d):\n",
        "  if d != None:\n",
        "    new_date = dt.datetime.strptime(d, \"%Y-%m-%d %H:%M:%S\")\n",
        "    return new_date.date()"
      ],
      "execution_count": null,
      "outputs": []
    },
    {
      "cell_type": "code",
      "metadata": {
        "id": "9U2EcG2yMlkm"
      },
      "source": [
        "# Convert `legacy_subscription` column to datetime\n",
        "subscriber_data['legacy_subscription'] = subscriber_data['legacy_subscription'].apply(convert_date)"
      ],
      "execution_count": null,
      "outputs": []
    },
    {
      "cell_type": "code",
      "metadata": {
        "id": "_FxtHLoyNP5D"
      },
      "source": [
        "# Define a function to choose the correct subscription date\n",
        "def sub_date(row):\n",
        "  if row['legacy_subscription'] != None:\n",
        "    return row['legacy_subscription']\n",
        "  else:\n",
        "    return row['CK_subscription']"
      ],
      "execution_count": null,
      "outputs": []
    },
    {
      "cell_type": "code",
      "metadata": {
        "id": "HK9IbvXmNu7R"
      },
      "source": [
        "# Create a new `subscription_date` column with the correct subscription date\n",
        "subscriber_data['subscription_date'] = subscriber_data.apply(sub_date, axis=1)"
      ],
      "execution_count": null,
      "outputs": []
    },
    {
      "cell_type": "code",
      "metadata": {
        "id": "6RDE0JxFPV4t"
      },
      "source": [
        "# Drop `CK_subscription` and `legacy_subscription`\n",
        "subscriber_data.drop(['CK_subscription', 'legacy_subscription'], axis=1, inplace=True)"
      ],
      "execution_count": null,
      "outputs": []
    },
    {
      "cell_type": "code",
      "metadata": {
        "id": "LpD-K0HZoPHM"
      },
      "source": [
        "# Add a new column that tells how long the subscriber has been on our email list\n",
        "subscriber_data['time_since_sub'] = pd.to_datetime('now').date() - subscriber_data['subscription_date']"
      ],
      "execution_count": null,
      "outputs": []
    },
    {
      "cell_type": "code",
      "metadata": {
        "id": "K70TrC1wIuZd",
        "outputId": "f926b035-31e9-4759-b4d0-52e6e0330ab9",
        "colab": {
          "base_uri": "https://localhost:8080/",
          "height": 204
        }
      },
      "source": [
        "# Preview data - personal info removed\n",
        "subscriber_data[['subscription_date', 'time_since_sub']].sample(5)"
      ],
      "execution_count": null,
      "outputs": [
        {
          "output_type": "execute_result",
          "data": {
            "text/html": [
              "<div>\n",
              "<style scoped>\n",
              "    .dataframe tbody tr th:only-of-type {\n",
              "        vertical-align: middle;\n",
              "    }\n",
              "\n",
              "    .dataframe tbody tr th {\n",
              "        vertical-align: top;\n",
              "    }\n",
              "\n",
              "    .dataframe thead th {\n",
              "        text-align: right;\n",
              "    }\n",
              "</style>\n",
              "<table border=\"1\" class=\"dataframe\">\n",
              "  <thead>\n",
              "    <tr style=\"text-align: right;\">\n",
              "      <th></th>\n",
              "      <th>subscription_date</th>\n",
              "      <th>time_since_sub</th>\n",
              "    </tr>\n",
              "  </thead>\n",
              "  <tbody>\n",
              "    <tr>\n",
              "      <th>1051627077</th>\n",
              "      <td>2020-10-28</td>\n",
              "      <td>18 days</td>\n",
              "    </tr>\n",
              "    <tr>\n",
              "      <th>664953699</th>\n",
              "      <td>2018-08-13</td>\n",
              "      <td>825 days</td>\n",
              "    </tr>\n",
              "    <tr>\n",
              "      <th>664953614</th>\n",
              "      <td>2018-11-20</td>\n",
              "      <td>726 days</td>\n",
              "    </tr>\n",
              "    <tr>\n",
              "      <th>1025086074</th>\n",
              "      <td>2020-10-05</td>\n",
              "      <td>41 days</td>\n",
              "    </tr>\n",
              "    <tr>\n",
              "      <th>906123346</th>\n",
              "      <td>2020-07-01</td>\n",
              "      <td>137 days</td>\n",
              "    </tr>\n",
              "  </tbody>\n",
              "</table>\n",
              "</div>"
            ],
            "text/plain": [
              "           subscription_date time_since_sub\n",
              "1051627077        2020-10-28        18 days\n",
              "664953699         2018-08-13       825 days\n",
              "664953614         2018-11-20       726 days\n",
              "1025086074        2020-10-05        41 days\n",
              "906123346         2020-07-01       137 days"
            ]
          },
          "metadata": {
            "tags": []
          },
          "execution_count": 81
        }
      ]
    },
    {
      "cell_type": "markdown",
      "metadata": {
        "id": "biY6OUnjTzc4"
      },
      "source": [
        "We are ready to merge this data into our dataframe."
      ]
    },
    {
      "cell_type": "code",
      "metadata": {
        "id": "1eu3nx9qrAR6"
      },
      "source": [
        "# Merge subscriber data into `email_rates` dataframe\n",
        "email_rates = email_rates.join(subscriber_data)"
      ],
      "execution_count": null,
      "outputs": []
    },
    {
      "cell_type": "code",
      "metadata": {
        "id": "eUlnid6LKKOD",
        "outputId": "4bdf5a63-b4b6-4747-acd3-212b3546c89b",
        "colab": {
          "base_uri": "https://localhost:8080/",
          "height": 255
        }
      },
      "source": [
        "# Preview data\n",
        "email_rates[['emails_clicked',\n",
        " 'emails_delivered',\n",
        " 'emails_opened',\n",
        " 'percent_clicked',\n",
        " 'percent_delivered',\n",
        " 'percent_opened',\n",
        " 'BBB_Purchased',\n",
        " 'segments',\n",
        " 'subscription_date',\n",
        " 'time_since_sub']].sample(5)"
      ],
      "execution_count": null,
      "outputs": [
        {
          "output_type": "execute_result",
          "data": {
            "text/html": [
              "<div>\n",
              "<style scoped>\n",
              "    .dataframe tbody tr th:only-of-type {\n",
              "        vertical-align: middle;\n",
              "    }\n",
              "\n",
              "    .dataframe tbody tr th {\n",
              "        vertical-align: top;\n",
              "    }\n",
              "\n",
              "    .dataframe thead th {\n",
              "        text-align: right;\n",
              "    }\n",
              "</style>\n",
              "<table border=\"1\" class=\"dataframe\">\n",
              "  <thead>\n",
              "    <tr style=\"text-align: right;\">\n",
              "      <th></th>\n",
              "      <th>emails_clicked</th>\n",
              "      <th>emails_delivered</th>\n",
              "      <th>emails_opened</th>\n",
              "      <th>percent_clicked</th>\n",
              "      <th>percent_delivered</th>\n",
              "      <th>percent_opened</th>\n",
              "      <th>BBB_Purchased</th>\n",
              "      <th>segments</th>\n",
              "      <th>subscription_date</th>\n",
              "      <th>time_since_sub</th>\n",
              "    </tr>\n",
              "    <tr>\n",
              "      <th>subscriber_id</th>\n",
              "      <th></th>\n",
              "      <th></th>\n",
              "      <th></th>\n",
              "      <th></th>\n",
              "      <th></th>\n",
              "      <th></th>\n",
              "      <th></th>\n",
              "      <th></th>\n",
              "      <th></th>\n",
              "      <th></th>\n",
              "    </tr>\n",
              "  </thead>\n",
              "  <tbody>\n",
              "    <tr>\n",
              "      <th>849586657</th>\n",
              "      <td>2.0</td>\n",
              "      <td>51.0</td>\n",
              "      <td>4.0</td>\n",
              "      <td>3.51</td>\n",
              "      <td>89.47</td>\n",
              "      <td>7.02</td>\n",
              "      <td>No</td>\n",
              "      <td>Broadcast</td>\n",
              "      <td>2020-05-17</td>\n",
              "      <td>182 days</td>\n",
              "    </tr>\n",
              "    <tr>\n",
              "      <th>969364947</th>\n",
              "      <td>5.0</td>\n",
              "      <td>NaN</td>\n",
              "      <td>9.0</td>\n",
              "      <td>35.71</td>\n",
              "      <td>NaN</td>\n",
              "      <td>64.29</td>\n",
              "      <td>No</td>\n",
              "      <td>Other</td>\n",
              "      <td>2020-08-20</td>\n",
              "      <td>87 days</td>\n",
              "    </tr>\n",
              "    <tr>\n",
              "      <th>915187503</th>\n",
              "      <td>1.0</td>\n",
              "      <td>41.0</td>\n",
              "      <td>10.0</td>\n",
              "      <td>1.92</td>\n",
              "      <td>78.85</td>\n",
              "      <td>19.23</td>\n",
              "      <td>No</td>\n",
              "      <td>Broadcast</td>\n",
              "      <td>2020-07-09</td>\n",
              "      <td>129 days</td>\n",
              "    </tr>\n",
              "    <tr>\n",
              "      <th>821581036</th>\n",
              "      <td>14.0</td>\n",
              "      <td>80.0</td>\n",
              "      <td>1.0</td>\n",
              "      <td>14.74</td>\n",
              "      <td>84.21</td>\n",
              "      <td>1.05</td>\n",
              "      <td>No</td>\n",
              "      <td>Broadcast</td>\n",
              "      <td>2020-04-24</td>\n",
              "      <td>205 days</td>\n",
              "    </tr>\n",
              "    <tr>\n",
              "      <th>924783676</th>\n",
              "      <td>1.0</td>\n",
              "      <td>37.0</td>\n",
              "      <td>4.0</td>\n",
              "      <td>2.38</td>\n",
              "      <td>88.10</td>\n",
              "      <td>9.52</td>\n",
              "      <td>No</td>\n",
              "      <td>Broadcast</td>\n",
              "      <td>2020-07-17</td>\n",
              "      <td>121 days</td>\n",
              "    </tr>\n",
              "  </tbody>\n",
              "</table>\n",
              "</div>"
            ],
            "text/plain": [
              "               emails_clicked  ...  time_since_sub\n",
              "subscriber_id                  ...                \n",
              "849586657                 2.0  ...        182 days\n",
              "969364947                 5.0  ...         87 days\n",
              "915187503                 1.0  ...        129 days\n",
              "821581036                14.0  ...        205 days\n",
              "924783676                 1.0  ...        121 days\n",
              "\n",
              "[5 rows x 10 columns]"
            ]
          },
          "metadata": {
            "tags": []
          },
          "execution_count": 88
        }
      ]
    },
    {
      "cell_type": "markdown",
      "metadata": {
        "id": "LZI9kcEtWHti"
      },
      "source": [
        "# Aggregate subscribers by time on email list"
      ]
    },
    {
      "cell_type": "markdown",
      "metadata": {
        "id": "w2j7ee_fWMO6"
      },
      "source": [
        "Now that we know our overall open and click rates, and have compared this to our subscribers who have purchased BBB, we will look at subscribers' open and click rates on a more granular level. We will now only look at subscribers who have not purchased BBB.\n",
        "\n",
        "Specifically, we will group subscribers by how long they have been on our email list (<1 month, 1-3 months, 3-6 months, 6-12 months, 12-24 months, and >24 months). For each of these groups, we will find the mean and median open and click rates. "
      ]
    },
    {
      "cell_type": "markdown",
      "metadata": {
        "id": "h-ljSHz6ZTvP"
      },
      "source": [
        "First, we will classify subscribers based on how long they have been on our email list."
      ]
    },
    {
      "cell_type": "code",
      "metadata": {
        "id": "FeVKuAjEZFQX"
      },
      "source": [
        "# Format time since subscription as an integer\n",
        "email_rates['time_since_sub'] = email_rates['time_since_sub'].dt.days"
      ],
      "execution_count": null,
      "outputs": []
    },
    {
      "cell_type": "code",
      "metadata": {
        "id": "XtQAs8Ssh4D7"
      },
      "source": [
        "# Drop 4 rows with inaccurate data from people who are now unsubscribed\n",
        "email_rates.dropna(subset=['email'], inplace=True)"
      ],
      "execution_count": null,
      "outputs": []
    },
    {
      "cell_type": "code",
      "metadata": {
        "id": "3GEm4k7nZavM"
      },
      "source": [
        "# Write a function to classify subscribers based on time on list\n",
        "def time_cat(x):\n",
        "  if x <30:\n",
        "    return '< 1 mo'\n",
        "  elif x < 91:\n",
        "    return '1-3 mos'\n",
        "  elif x < 183:\n",
        "    return '3-6 mos'\n",
        "  elif x < 365:\n",
        "    return '6-12 mos'\n",
        "  elif x < 730:\n",
        "    return '12-24 mos'\n",
        "  else:\n",
        "    return '> 24 mos'"
      ],
      "execution_count": null,
      "outputs": []
    },
    {
      "cell_type": "code",
      "metadata": {
        "id": "KUsovk_FZ-9w"
      },
      "source": [
        "# Apply function to categorize subscribers\n",
        "email_rates['time_cat'] = email_rates['time_since_sub'].apply(time_cat)"
      ],
      "execution_count": null,
      "outputs": []
    },
    {
      "cell_type": "code",
      "metadata": {
        "id": "EZcWwjmkPeN3",
        "outputId": "b5fbf5e5-0669-4de7-a68f-84761057e88d",
        "colab": {
          "base_uri": "https://localhost:8080/",
          "height": 272
        }
      },
      "source": [
        "# Preview data - personal info removed\n",
        "email_rates[['emails_clicked',\n",
        " 'emails_delivered',\n",
        " 'emails_opened',\n",
        " 'percent_clicked',\n",
        " 'percent_delivered',\n",
        " 'percent_opened',\n",
        " 'BBB_Purchased',\n",
        " 'segments',\n",
        " 'subscription_date',\n",
        " 'time_since_sub',\n",
        " 'time_cat']].sample(5)"
      ],
      "execution_count": null,
      "outputs": [
        {
          "output_type": "execute_result",
          "data": {
            "text/html": [
              "<div>\n",
              "<style scoped>\n",
              "    .dataframe tbody tr th:only-of-type {\n",
              "        vertical-align: middle;\n",
              "    }\n",
              "\n",
              "    .dataframe tbody tr th {\n",
              "        vertical-align: top;\n",
              "    }\n",
              "\n",
              "    .dataframe thead th {\n",
              "        text-align: right;\n",
              "    }\n",
              "</style>\n",
              "<table border=\"1\" class=\"dataframe\">\n",
              "  <thead>\n",
              "    <tr style=\"text-align: right;\">\n",
              "      <th></th>\n",
              "      <th>emails_clicked</th>\n",
              "      <th>emails_delivered</th>\n",
              "      <th>emails_opened</th>\n",
              "      <th>percent_clicked</th>\n",
              "      <th>percent_delivered</th>\n",
              "      <th>percent_opened</th>\n",
              "      <th>BBB_Purchased</th>\n",
              "      <th>segments</th>\n",
              "      <th>subscription_date</th>\n",
              "      <th>time_since_sub</th>\n",
              "      <th>time_cat</th>\n",
              "    </tr>\n",
              "    <tr>\n",
              "      <th>subscriber_id</th>\n",
              "      <th></th>\n",
              "      <th></th>\n",
              "      <th></th>\n",
              "      <th></th>\n",
              "      <th></th>\n",
              "      <th></th>\n",
              "      <th></th>\n",
              "      <th></th>\n",
              "      <th></th>\n",
              "      <th></th>\n",
              "      <th></th>\n",
              "    </tr>\n",
              "  </thead>\n",
              "  <tbody>\n",
              "    <tr>\n",
              "      <th>726985916</th>\n",
              "      <td>3.0</td>\n",
              "      <td>112.0</td>\n",
              "      <td>63.0</td>\n",
              "      <td>1.69</td>\n",
              "      <td>62.92</td>\n",
              "      <td>35.39</td>\n",
              "      <td>No</td>\n",
              "      <td>Broadcast</td>\n",
              "      <td>2020-02-09</td>\n",
              "      <td>280</td>\n",
              "      <td>6-12 mos</td>\n",
              "    </tr>\n",
              "    <tr>\n",
              "      <th>664953610</th>\n",
              "      <td>NaN</td>\n",
              "      <td>123.0</td>\n",
              "      <td>84.0</td>\n",
              "      <td>NaN</td>\n",
              "      <td>59.42</td>\n",
              "      <td>40.58</td>\n",
              "      <td>No</td>\n",
              "      <td>Broadcast</td>\n",
              "      <td>2018-12-28</td>\n",
              "      <td>688</td>\n",
              "      <td>12-24 mos</td>\n",
              "    </tr>\n",
              "    <tr>\n",
              "      <th>664953718</th>\n",
              "      <td>NaN</td>\n",
              "      <td>168.0</td>\n",
              "      <td>38.0</td>\n",
              "      <td>NaN</td>\n",
              "      <td>81.55</td>\n",
              "      <td>18.45</td>\n",
              "      <td>No</td>\n",
              "      <td>Broadcast</td>\n",
              "      <td>2018-08-09</td>\n",
              "      <td>829</td>\n",
              "      <td>&gt; 24 mos</td>\n",
              "    </tr>\n",
              "    <tr>\n",
              "      <th>993810842</th>\n",
              "      <td>1.0</td>\n",
              "      <td>39.0</td>\n",
              "      <td>1.0</td>\n",
              "      <td>2.44</td>\n",
              "      <td>95.12</td>\n",
              "      <td>2.44</td>\n",
              "      <td>No</td>\n",
              "      <td>Broadcast</td>\n",
              "      <td>2020-09-08</td>\n",
              "      <td>68</td>\n",
              "      <td>1-3 mos</td>\n",
              "    </tr>\n",
              "    <tr>\n",
              "      <th>899118793</th>\n",
              "      <td>NaN</td>\n",
              "      <td>74.0</td>\n",
              "      <td>8.0</td>\n",
              "      <td>NaN</td>\n",
              "      <td>90.24</td>\n",
              "      <td>9.76</td>\n",
              "      <td>No</td>\n",
              "      <td>Broadcast</td>\n",
              "      <td>2020-06-25</td>\n",
              "      <td>143</td>\n",
              "      <td>3-6 mos</td>\n",
              "    </tr>\n",
              "  </tbody>\n",
              "</table>\n",
              "</div>"
            ],
            "text/plain": [
              "               emails_clicked  emails_delivered  ...  time_since_sub   time_cat\n",
              "subscriber_id                                    ...                           \n",
              "726985916                 3.0             112.0  ...             280   6-12 mos\n",
              "664953610                 NaN             123.0  ...             688  12-24 mos\n",
              "664953718                 NaN             168.0  ...             829   > 24 mos\n",
              "993810842                 1.0              39.0  ...              68    1-3 mos\n",
              "899118793                 NaN              74.0  ...             143    3-6 mos\n",
              "\n",
              "[5 rows x 11 columns]"
            ]
          },
          "metadata": {
            "tags": []
          },
          "execution_count": 173
        }
      ]
    },
    {
      "cell_type": "markdown",
      "metadata": {
        "id": "tvQVbC3yY4yd"
      },
      "source": [
        "Next, we'll filter our data to only include subscribers who haven't purchased BBB."
      ]
    },
    {
      "cell_type": "code",
      "metadata": {
        "id": "Up65BGqUN8wy"
      },
      "source": [
        "# Filter for subscribers who haven't purchased BBB\n",
        "no_bbb = email_rates.loc[email_rates['BBB_Purchased']=='No'].copy()\n",
        "no_bbb.sample(5)"
      ],
      "execution_count": null,
      "outputs": []
    },
    {
      "cell_type": "code",
      "metadata": {
        "id": "sWvwtWV2avTw"
      },
      "source": [
        "# Save subscriber id, open rate, click rate, time category in another dataframe for later use\n",
        "subscriber_summary = no_bbb[['percent_clicked', 'percent_opened', 'time_cat']].copy()"
      ],
      "execution_count": null,
      "outputs": []
    },
    {
      "cell_type": "markdown",
      "metadata": {
        "id": "rBtNM1kkT2Xe"
      },
      "source": [
        "Next, we'll calculate the mean and median open and click rates for subscribers in each time category."
      ]
    },
    {
      "cell_type": "code",
      "metadata": {
        "id": "kEtkUsYTbBe4",
        "outputId": "73163d99-d295-4978-8f84-ccefe186e705",
        "colab": {
          "base_uri": "https://localhost:8080/",
          "height": 297
        }
      },
      "source": [
        "# Calculate the mean and median open and click rates\n",
        "summary_rates = no_bbb.groupby('time_cat')[['percent_opened', 'percent_clicked']].agg(['mean', 'median'])\n",
        "summary_rates = summary_rates.iloc[[-2,0,2,3,1,-1]]\n",
        "summary_rates = summary_rates.round(2)\n",
        "summary_rates"
      ],
      "execution_count": null,
      "outputs": [
        {
          "output_type": "execute_result",
          "data": {
            "text/html": [
              "<div>\n",
              "<style scoped>\n",
              "    .dataframe tbody tr th:only-of-type {\n",
              "        vertical-align: middle;\n",
              "    }\n",
              "\n",
              "    .dataframe tbody tr th {\n",
              "        vertical-align: top;\n",
              "    }\n",
              "\n",
              "    .dataframe thead tr th {\n",
              "        text-align: left;\n",
              "    }\n",
              "\n",
              "    .dataframe thead tr:last-of-type th {\n",
              "        text-align: right;\n",
              "    }\n",
              "</style>\n",
              "<table border=\"1\" class=\"dataframe\">\n",
              "  <thead>\n",
              "    <tr>\n",
              "      <th></th>\n",
              "      <th colspan=\"2\" halign=\"left\">percent_opened</th>\n",
              "      <th colspan=\"2\" halign=\"left\">percent_clicked</th>\n",
              "    </tr>\n",
              "    <tr>\n",
              "      <th></th>\n",
              "      <th>mean</th>\n",
              "      <th>median</th>\n",
              "      <th>mean</th>\n",
              "      <th>median</th>\n",
              "    </tr>\n",
              "    <tr>\n",
              "      <th>time_cat</th>\n",
              "      <th></th>\n",
              "      <th></th>\n",
              "      <th></th>\n",
              "      <th></th>\n",
              "    </tr>\n",
              "  </thead>\n",
              "  <tbody>\n",
              "    <tr>\n",
              "      <th>&lt; 1 mo</th>\n",
              "      <td>35.54</td>\n",
              "      <td>33.33</td>\n",
              "      <td>15.39</td>\n",
              "      <td>11.11</td>\n",
              "    </tr>\n",
              "    <tr>\n",
              "      <th>1-3 mos</th>\n",
              "      <td>21.71</td>\n",
              "      <td>14.29</td>\n",
              "      <td>7.61</td>\n",
              "      <td>4.76</td>\n",
              "    </tr>\n",
              "    <tr>\n",
              "      <th>3-6 mos</th>\n",
              "      <td>18.87</td>\n",
              "      <td>12.80</td>\n",
              "      <td>3.24</td>\n",
              "      <td>1.90</td>\n",
              "    </tr>\n",
              "    <tr>\n",
              "      <th>6-12 mos</th>\n",
              "      <td>13.84</td>\n",
              "      <td>7.81</td>\n",
              "      <td>3.02</td>\n",
              "      <td>1.72</td>\n",
              "    </tr>\n",
              "    <tr>\n",
              "      <th>12-24 mos</th>\n",
              "      <td>27.18</td>\n",
              "      <td>14.69</td>\n",
              "      <td>2.20</td>\n",
              "      <td>1.44</td>\n",
              "    </tr>\n",
              "    <tr>\n",
              "      <th>&gt; 24 mos</th>\n",
              "      <td>38.30</td>\n",
              "      <td>33.01</td>\n",
              "      <td>1.55</td>\n",
              "      <td>0.97</td>\n",
              "    </tr>\n",
              "  </tbody>\n",
              "</table>\n",
              "</div>"
            ],
            "text/plain": [
              "          percent_opened        percent_clicked       \n",
              "                    mean median            mean median\n",
              "time_cat                                              \n",
              "< 1 mo             35.54  33.33           15.39  11.11\n",
              "1-3 mos            21.71  14.29            7.61   4.76\n",
              "3-6 mos            18.87  12.80            3.24   1.90\n",
              "6-12 mos           13.84   7.81            3.02   1.72\n",
              "12-24 mos          27.18  14.69            2.20   1.44\n",
              "> 24 mos           38.30  33.01            1.55   0.97"
            ]
          },
          "metadata": {
            "tags": []
          },
          "execution_count": 166
        }
      ]
    },
    {
      "cell_type": "code",
      "metadata": {
        "id": "S5sOCqfJu4z3"
      },
      "source": [
        "# Rename columns\n",
        "summary_rates.columns = [' '.join(col).strip() for col in summary_rates.columns.values]"
      ],
      "execution_count": null,
      "outputs": []
    },
    {
      "cell_type": "code",
      "metadata": {
        "id": "igQN1o0CuzqN"
      },
      "source": [
        "# Save median open and click rates for later use\n",
        "median_click_cats = dict(zip(summary_rates.index, summary_rates['percent_clicked median']))\n",
        "median_open_cats = dict(zip(summary_rates.index, summary_rates['percent_opened median']))"
      ],
      "execution_count": null,
      "outputs": []
    },
    {
      "cell_type": "code",
      "metadata": {
        "id": "Tb1hi5SUduAD",
        "outputId": "527fa88f-a3b4-485b-d56b-037a3d575a85",
        "colab": {
          "base_uri": "https://localhost:8080/",
          "height": 431
        }
      },
      "source": [
        "# Open and click rates vs. time on list\n",
        "fig, ax = plt.subplots(figsize=(8,6))\n",
        "summary_rates.plot(kind='bar', ax=ax)\n",
        "plt.legend(bbox_to_anchor = (1, .6))\n",
        "plt.xlabel('')\n",
        "plt.title('Time on list vs. open and click rates')\n",
        "plt.show()"
      ],
      "execution_count": null,
      "outputs": [
        {
          "output_type": "display_data",
          "data": {
            "image/png": "[encoded data removed]",
            "text/plain": [
              "<Figure size 576x432 with 1 Axes>"
            ]
          },
          "metadata": {
            "tags": [],
            "needs_background": "light"
          }
        }
      ]
    },
    {
      "cell_type": "markdown",
      "metadata": {
        "id": "cYndswZnUQR_"
      },
      "source": [
        "We can observe the following:\n",
        "* New subscribers who have been on our email list for < 1 month have high open and click rates\n",
        "* Open and click rates decline for subscribers who have been on our email list for longer than a month, up to 1 year\n",
        "* Interestingly, subscribers who have been on our list for > 1 year have the highest open rates. In contrast, they have the lowest click rates. This category includes any subscribers from our ambassador list. \n",
        "\n",
        "Let's take a closer look at these > 1 year old subscribers (removed)."
      ]
    },
    {
      "cell_type": "markdown",
      "metadata": {
        "id": "255lH2UbV40q"
      },
      "source": [
        "Many of these veteran subscribers with high open rates are from our ambassador list. This includes family members and friends, along with former chat coaching clients, who may be very interested in following Coach Viva, but who are not likely to purchase BBB. We can observe that many of these same subscribers have very low click rates.\n",
        "\n",
        "Previosly, we used open rates to identify and remove inactive subscribers from our email list. This analysis suggests that click rates may be a better metric to use."
      ]
    },
    {
      "cell_type": "markdown",
      "metadata": {
        "id": "XvJnHHOIWcbM"
      },
      "source": [
        "# Hot and Inactive Subscriber Analysis"
      ]
    },
    {
      "cell_type": "markdown",
      "metadata": {
        "id": "cRSQSI9PN1Ga"
      },
      "source": [
        "Since we want to target subscribers in the Broadcast Audience segment, we'll first filter our data to only focus on this target segment."
      ]
    },
    {
      "cell_type": "code",
      "metadata": {
        "id": "qqIiu6BmN9fW"
      },
      "source": [
        "# Filter dataframe for broadcast segment\n",
        "bcast_seg = no_bbb.loc[no_bbb.segments == 'Broadcast'].copy()"
      ],
      "execution_count": null,
      "outputs": []
    },
    {
      "cell_type": "code",
      "metadata": {
        "id": "WRp4AVZCOK12",
        "outputId": "aa8be6a0-7627-4625-9ae5-80dd40c311d3",
        "colab": {
          "base_uri": "https://localhost:8080/"
        }
      },
      "source": [
        "# Subscribers vs. time on list\n",
        "bcast_seg['time_cat'].value_counts()"
      ],
      "execution_count": null,
      "outputs": [
        {
          "output_type": "execute_result",
          "data": {
            "text/plain": [
              "1-3 mos      234\n",
              "3-6 mos      204\n",
              "> 24 mos     127\n",
              "< 1 mo       119\n",
              "6-12 mos      68\n",
              "12-24 mos     52\n",
              "Name: time_cat, dtype: int64"
            ]
          },
          "metadata": {
            "tags": []
          },
          "execution_count": 184
        }
      ]
    },
    {
      "cell_type": "markdown",
      "metadata": {
        "id": "qRuv2HGxhHTo"
      },
      "source": [
        "## Top Click Rates vs. Time on List"
      ]
    },
    {
      "cell_type": "markdown",
      "metadata": {
        "id": "MhurV7NuhYC5"
      },
      "source": [
        "We will identify the top 10 subscribers with the highest click rates from each time category. "
      ]
    },
    {
      "cell_type": "code",
      "metadata": {
        "id": "RUM1s4I8Omm4"
      },
      "source": [
        "# Sort by click rate\n",
        "bcast_seg.sort_values('percent_clicked', ascending=False, inplace=True)"
      ],
      "execution_count": null,
      "outputs": []
    },
    {
      "cell_type": "code",
      "metadata": {
        "id": "2G2H4nN3PoDE"
      },
      "source": [
        "# Aggregate by top 10 clickers per time on list\n",
        "top_clicks = bcast_seg.groupby(['time_cat'])['percent_clicked'].nlargest(10)"
      ],
      "execution_count": null,
      "outputs": []
    },
    {
      "cell_type": "code",
      "metadata": {
        "id": "lvfpx36FTHyM"
      },
      "source": [
        "# Reformat to dataframe\n",
        "top_clicks = top_clicks.to_frame()\n",
        "top_clicks = top_clicks.reset_index(level=[1])"
      ],
      "execution_count": null,
      "outputs": []
    },
    {
      "cell_type": "code",
      "metadata": {
        "id": "UPy8qdE-Tf81"
      },
      "source": [
        "# Add subscribers' emails and see results\n",
        "top_clicks = top_clicks.join(bcast_seg.email, on='subscriber_id')"
      ],
      "execution_count": null,
      "outputs": []
    },
    {
      "cell_type": "code",
      "metadata": {
        "id": "luqYMxowUh0L",
        "outputId": "43354241-ef1c-40f6-bed5-cab440c69c2e",
        "colab": {
          "base_uri": "https://localhost:8080/",
          "height": 1000
        }
      },
      "source": [
        "# Subscribers with highest click rates per time category\n",
        "top_clicks[[\"subscriber_id\", \"percent_clicked\"]]"
      ],
      "execution_count": null,
      "outputs": [
        {
          "output_type": "execute_result",
          "data": {
            "text/html": [
              "<div>\n",
              "<style scoped>\n",
              "    .dataframe tbody tr th:only-of-type {\n",
              "        vertical-align: middle;\n",
              "    }\n",
              "\n",
              "    .dataframe tbody tr th {\n",
              "        vertical-align: top;\n",
              "    }\n",
              "\n",
              "    .dataframe thead th {\n",
              "        text-align: right;\n",
              "    }\n",
              "</style>\n",
              "<table border=\"1\" class=\"dataframe\">\n",
              "  <thead>\n",
              "    <tr style=\"text-align: right;\">\n",
              "      <th></th>\n",
              "      <th>subscriber_id</th>\n",
              "      <th>percent_clicked</th>\n",
              "    </tr>\n",
              "    <tr>\n",
              "      <th>time_cat</th>\n",
              "      <th></th>\n",
              "      <th></th>\n",
              "    </tr>\n",
              "  </thead>\n",
              "  <tbody>\n",
              "    <tr>\n",
              "      <th>1-3 mos</th>\n",
              "      <td>1023214905</td>\n",
              "      <td>19.35</td>\n",
              "    </tr>\n",
              "    <tr>\n",
              "      <th>1-3 mos</th>\n",
              "      <td>1031297781</td>\n",
              "      <td>17.86</td>\n",
              "    </tr>\n",
              "    <tr>\n",
              "      <th>1-3 mos</th>\n",
              "      <td>1004842004</td>\n",
              "      <td>17.78</td>\n",
              "    </tr>\n",
              "    <tr>\n",
              "      <th>1-3 mos</th>\n",
              "      <td>1027376462</td>\n",
              "      <td>14.71</td>\n",
              "    </tr>\n",
              "    <tr>\n",
              "      <th>1-3 mos</th>\n",
              "      <td>1023765079</td>\n",
              "      <td>12.90</td>\n",
              "    </tr>\n",
              "    <tr>\n",
              "      <th>1-3 mos</th>\n",
              "      <td>1011278102</td>\n",
              "      <td>12.82</td>\n",
              "    </tr>\n",
              "    <tr>\n",
              "      <th>1-3 mos</th>\n",
              "      <td>1031420140</td>\n",
              "      <td>12.50</td>\n",
              "    </tr>\n",
              "    <tr>\n",
              "      <th>1-3 mos</th>\n",
              "      <td>1035446598</td>\n",
              "      <td>10.71</td>\n",
              "    </tr>\n",
              "    <tr>\n",
              "      <th>1-3 mos</th>\n",
              "      <td>1009139809</td>\n",
              "      <td>10.53</td>\n",
              "    </tr>\n",
              "    <tr>\n",
              "      <th>1-3 mos</th>\n",
              "      <td>1005468909</td>\n",
              "      <td>10.26</td>\n",
              "    </tr>\n",
              "    <tr>\n",
              "      <th>12-24 mos</th>\n",
              "      <td>664944378</td>\n",
              "      <td>10.67</td>\n",
              "    </tr>\n",
              "    <tr>\n",
              "      <th>12-24 mos</th>\n",
              "      <td>664953588</td>\n",
              "      <td>7.77</td>\n",
              "    </tr>\n",
              "    <tr>\n",
              "      <th>12-24 mos</th>\n",
              "      <td>664944381</td>\n",
              "      <td>6.31</td>\n",
              "    </tr>\n",
              "    <tr>\n",
              "      <th>12-24 mos</th>\n",
              "      <td>664953615</td>\n",
              "      <td>3.38</td>\n",
              "    </tr>\n",
              "    <tr>\n",
              "      <th>12-24 mos</th>\n",
              "      <td>664953608</td>\n",
              "      <td>2.44</td>\n",
              "    </tr>\n",
              "    <tr>\n",
              "      <th>12-24 mos</th>\n",
              "      <td>664953601</td>\n",
              "      <td>2.40</td>\n",
              "    </tr>\n",
              "    <tr>\n",
              "      <th>12-24 mos</th>\n",
              "      <td>664944376</td>\n",
              "      <td>2.26</td>\n",
              "    </tr>\n",
              "    <tr>\n",
              "      <th>12-24 mos</th>\n",
              "      <td>664953583</td>\n",
              "      <td>1.94</td>\n",
              "    </tr>\n",
              "    <tr>\n",
              "      <th>12-24 mos</th>\n",
              "      <td>664953572</td>\n",
              "      <td>1.94</td>\n",
              "    </tr>\n",
              "    <tr>\n",
              "      <th>12-24 mos</th>\n",
              "      <td>664953711</td>\n",
              "      <td>1.92</td>\n",
              "    </tr>\n",
              "    <tr>\n",
              "      <th>3-6 mos</th>\n",
              "      <td>909928016</td>\n",
              "      <td>17.33</td>\n",
              "    </tr>\n",
              "    <tr>\n",
              "      <th>3-6 mos</th>\n",
              "      <td>904570038</td>\n",
              "      <td>16.47</td>\n",
              "    </tr>\n",
              "    <tr>\n",
              "      <th>3-6 mos</th>\n",
              "      <td>906771335</td>\n",
              "      <td>10.71</td>\n",
              "    </tr>\n",
              "    <tr>\n",
              "      <th>3-6 mos</th>\n",
              "      <td>895691263</td>\n",
              "      <td>10.42</td>\n",
              "    </tr>\n",
              "    <tr>\n",
              "      <th>3-6 mos</th>\n",
              "      <td>919010439</td>\n",
              "      <td>10.00</td>\n",
              "    </tr>\n",
              "    <tr>\n",
              "      <th>3-6 mos</th>\n",
              "      <td>865058556</td>\n",
              "      <td>7.62</td>\n",
              "    </tr>\n",
              "    <tr>\n",
              "      <th>3-6 mos</th>\n",
              "      <td>951582430</td>\n",
              "      <td>7.14</td>\n",
              "    </tr>\n",
              "    <tr>\n",
              "      <th>3-6 mos</th>\n",
              "      <td>914358619</td>\n",
              "      <td>6.90</td>\n",
              "    </tr>\n",
              "    <tr>\n",
              "      <th>3-6 mos</th>\n",
              "      <td>851598727</td>\n",
              "      <td>6.67</td>\n",
              "    </tr>\n",
              "    <tr>\n",
              "      <th>3-6 mos</th>\n",
              "      <td>897522475</td>\n",
              "      <td>6.59</td>\n",
              "    </tr>\n",
              "    <tr>\n",
              "      <th>6-12 mos</th>\n",
              "      <td>793309663</td>\n",
              "      <td>19.63</td>\n",
              "    </tr>\n",
              "    <tr>\n",
              "      <th>6-12 mos</th>\n",
              "      <td>686032856</td>\n",
              "      <td>12.50</td>\n",
              "    </tr>\n",
              "    <tr>\n",
              "      <th>6-12 mos</th>\n",
              "      <td>676643172</td>\n",
              "      <td>11.72</td>\n",
              "    </tr>\n",
              "    <tr>\n",
              "      <th>6-12 mos</th>\n",
              "      <td>821581036</td>\n",
              "      <td>11.57</td>\n",
              "    </tr>\n",
              "    <tr>\n",
              "      <th>6-12 mos</th>\n",
              "      <td>676667798</td>\n",
              "      <td>9.38</td>\n",
              "    </tr>\n",
              "    <tr>\n",
              "      <th>6-12 mos</th>\n",
              "      <td>717082207</td>\n",
              "      <td>7.47</td>\n",
              "    </tr>\n",
              "    <tr>\n",
              "      <th>6-12 mos</th>\n",
              "      <td>730847005</td>\n",
              "      <td>6.16</td>\n",
              "    </tr>\n",
              "    <tr>\n",
              "      <th>6-12 mos</th>\n",
              "      <td>734033266</td>\n",
              "      <td>6.06</td>\n",
              "    </tr>\n",
              "    <tr>\n",
              "      <th>6-12 mos</th>\n",
              "      <td>679872876</td>\n",
              "      <td>5.17</td>\n",
              "    </tr>\n",
              "    <tr>\n",
              "      <th>6-12 mos</th>\n",
              "      <td>748357622</td>\n",
              "      <td>4.92</td>\n",
              "    </tr>\n",
              "    <tr>\n",
              "      <th>&lt; 1 mo</th>\n",
              "      <td>1066508183</td>\n",
              "      <td>57.14</td>\n",
              "    </tr>\n",
              "    <tr>\n",
              "      <th>&lt; 1 mo</th>\n",
              "      <td>1060929923</td>\n",
              "      <td>40.00</td>\n",
              "    </tr>\n",
              "    <tr>\n",
              "      <th>&lt; 1 mo</th>\n",
              "      <td>1063677492</td>\n",
              "      <td>28.57</td>\n",
              "    </tr>\n",
              "    <tr>\n",
              "      <th>&lt; 1 mo</th>\n",
              "      <td>1053323752</td>\n",
              "      <td>27.27</td>\n",
              "    </tr>\n",
              "    <tr>\n",
              "      <th>&lt; 1 mo</th>\n",
              "      <td>1060901892</td>\n",
              "      <td>27.27</td>\n",
              "    </tr>\n",
              "    <tr>\n",
              "      <th>&lt; 1 mo</th>\n",
              "      <td>1050712067</td>\n",
              "      <td>26.67</td>\n",
              "    </tr>\n",
              "    <tr>\n",
              "      <th>&lt; 1 mo</th>\n",
              "      <td>1056407140</td>\n",
              "      <td>23.08</td>\n",
              "    </tr>\n",
              "    <tr>\n",
              "      <th>&lt; 1 mo</th>\n",
              "      <td>1066209280</td>\n",
              "      <td>22.22</td>\n",
              "    </tr>\n",
              "    <tr>\n",
              "      <th>&lt; 1 mo</th>\n",
              "      <td>1056532645</td>\n",
              "      <td>20.00</td>\n",
              "    </tr>\n",
              "    <tr>\n",
              "      <th>&lt; 1 mo</th>\n",
              "      <td>1053919330</td>\n",
              "      <td>18.18</td>\n",
              "    </tr>\n",
              "    <tr>\n",
              "      <th>&gt; 24 mos</th>\n",
              "      <td>664944388</td>\n",
              "      <td>9.88</td>\n",
              "    </tr>\n",
              "    <tr>\n",
              "      <th>&gt; 24 mos</th>\n",
              "      <td>664946781</td>\n",
              "      <td>5.34</td>\n",
              "    </tr>\n",
              "    <tr>\n",
              "      <th>&gt; 24 mos</th>\n",
              "      <td>664953651</td>\n",
              "      <td>4.85</td>\n",
              "    </tr>\n",
              "    <tr>\n",
              "      <th>&gt; 24 mos</th>\n",
              "      <td>664946779</td>\n",
              "      <td>4.85</td>\n",
              "    </tr>\n",
              "    <tr>\n",
              "      <th>&gt; 24 mos</th>\n",
              "      <td>664943373</td>\n",
              "      <td>2.93</td>\n",
              "    </tr>\n",
              "    <tr>\n",
              "      <th>&gt; 24 mos</th>\n",
              "      <td>664953738</td>\n",
              "      <td>2.91</td>\n",
              "    </tr>\n",
              "    <tr>\n",
              "      <th>&gt; 24 mos</th>\n",
              "      <td>664953664</td>\n",
              "      <td>2.91</td>\n",
              "    </tr>\n",
              "    <tr>\n",
              "      <th>&gt; 24 mos</th>\n",
              "      <td>664953712</td>\n",
              "      <td>2.90</td>\n",
              "    </tr>\n",
              "    <tr>\n",
              "      <th>&gt; 24 mos</th>\n",
              "      <td>664953661</td>\n",
              "      <td>2.90</td>\n",
              "    </tr>\n",
              "    <tr>\n",
              "      <th>&gt; 24 mos</th>\n",
              "      <td>664953634</td>\n",
              "      <td>2.82</td>\n",
              "    </tr>\n",
              "  </tbody>\n",
              "</table>\n",
              "</div>"
            ],
            "text/plain": [
              "          subscriber_id  percent_clicked\n",
              "time_cat                                \n",
              "1-3 mos      1023214905            19.35\n",
              "1-3 mos      1031297781            17.86\n",
              "1-3 mos      1004842004            17.78\n",
              "1-3 mos      1027376462            14.71\n",
              "1-3 mos      1023765079            12.90\n",
              "1-3 mos      1011278102            12.82\n",
              "1-3 mos      1031420140            12.50\n",
              "1-3 mos      1035446598            10.71\n",
              "1-3 mos      1009139809            10.53\n",
              "1-3 mos      1005468909            10.26\n",
              "12-24 mos     664944378            10.67\n",
              "12-24 mos     664953588             7.77\n",
              "12-24 mos     664944381             6.31\n",
              "12-24 mos     664953615             3.38\n",
              "12-24 mos     664953608             2.44\n",
              "12-24 mos     664953601             2.40\n",
              "12-24 mos     664944376             2.26\n",
              "12-24 mos     664953583             1.94\n",
              "12-24 mos     664953572             1.94\n",
              "12-24 mos     664953711             1.92\n",
              "3-6 mos       909928016            17.33\n",
              "3-6 mos       904570038            16.47\n",
              "3-6 mos       906771335            10.71\n",
              "3-6 mos       895691263            10.42\n",
              "3-6 mos       919010439            10.00\n",
              "3-6 mos       865058556             7.62\n",
              "3-6 mos       951582430             7.14\n",
              "3-6 mos       914358619             6.90\n",
              "3-6 mos       851598727             6.67\n",
              "3-6 mos       897522475             6.59\n",
              "6-12 mos      793309663            19.63\n",
              "6-12 mos      686032856            12.50\n",
              "6-12 mos      676643172            11.72\n",
              "6-12 mos      821581036            11.57\n",
              "6-12 mos      676667798             9.38\n",
              "6-12 mos      717082207             7.47\n",
              "6-12 mos      730847005             6.16\n",
              "6-12 mos      734033266             6.06\n",
              "6-12 mos      679872876             5.17\n",
              "6-12 mos      748357622             4.92\n",
              "< 1 mo       1066508183            57.14\n",
              "< 1 mo       1060929923            40.00\n",
              "< 1 mo       1063677492            28.57\n",
              "< 1 mo       1053323752            27.27\n",
              "< 1 mo       1060901892            27.27\n",
              "< 1 mo       1050712067            26.67\n",
              "< 1 mo       1056407140            23.08\n",
              "< 1 mo       1066209280            22.22\n",
              "< 1 mo       1056532645            20.00\n",
              "< 1 mo       1053919330            18.18\n",
              "> 24 mos      664944388             9.88\n",
              "> 24 mos      664946781             5.34\n",
              "> 24 mos      664953651             4.85\n",
              "> 24 mos      664946779             4.85\n",
              "> 24 mos      664943373             2.93\n",
              "> 24 mos      664953738             2.91\n",
              "> 24 mos      664953664             2.91\n",
              "> 24 mos      664953712             2.90\n",
              "> 24 mos      664953661             2.90\n",
              "> 24 mos      664953634             2.82"
            ]
          },
          "metadata": {
            "tags": []
          },
          "execution_count": 196
        }
      ]
    },
    {
      "cell_type": "code",
      "metadata": {
        "id": "fn7N2wenop4F",
        "outputId": "a3f2ab6e-e666-413d-f408-d0b731c6d265",
        "colab": {
          "base_uri": "https://localhost:8080/"
        }
      },
      "source": [
        "# Create time group segments\n",
        "groups = top_clicks.index.unique()\n",
        "groups"
      ],
      "execution_count": null,
      "outputs": [
        {
          "output_type": "execute_result",
          "data": {
            "text/plain": [
              "Index(['1-3 mos', '12-24 mos', '3-6 mos', '6-12 mos', '< 1 mo', '> 24 mos'], dtype='object', name='time_cat')"
            ]
          },
          "metadata": {
            "tags": []
          },
          "execution_count": 191
        }
      ]
    },
    {
      "cell_type": "code",
      "metadata": {
        "id": "cWnsNDzjnOjS"
      },
      "source": [
        "# Order time group segments\n",
        "order = [4, 0, 2, 3, 1, 5]\n",
        "groups_ordered = [groups[i] for i in order]"
      ],
      "execution_count": null,
      "outputs": []
    },
    {
      "cell_type": "code",
      "metadata": {
        "id": "lDFyhuEXobUV",
        "outputId": "371fac84-5099-43bc-c3ca-71b80a77f57f",
        "colab": {
          "base_uri": "https://localhost:8080/"
        }
      },
      "source": [
        "#Check groups have been ordered correctly\n",
        "groups_ordered"
      ],
      "execution_count": null,
      "outputs": [
        {
          "output_type": "execute_result",
          "data": {
            "text/plain": [
              "['< 1 mo', '1-3 mos', '3-6 mos', '6-12 mos', '12-24 mos', '> 24 mos']"
            ]
          },
          "metadata": {
            "tags": []
          },
          "execution_count": 194
        }
      ]
    },
    {
      "cell_type": "code",
      "metadata": {
        "id": "YaZ1f9asbSWv",
        "outputId": "c36014c7-c59b-4eb5-d250-bd24072eb4f1",
        "colab": {
          "base_uri": "https://localhost:8080/",
          "height": 500
        }
      },
      "source": [
        "# Plot the top 10 highest click rates for each time group\n",
        "fig, ax = plt.subplots(figsize=(10,8))\n",
        "sns.stripplot(x=top_clicks.index, y='percent_clicked', data=top_clicks, order=groups_ordered, s=8, linewidth=1, jitter=.25)\n",
        "plt.ylabel('Percent Clicked')\n",
        "plt.xlabel('Time On Email List')\n",
        "plt.xticks(labels=None)\n",
        "plt.legend(groups_ordered, bbox_to_anchor=[.96, .96])\n",
        "ax.set_xticks([])\n",
        "ax.tick_params(colors='white')\n",
        "plt.title('Top 10 Click Rates Per Age Group')\n",
        "plt.show()"
      ],
      "execution_count": null,
      "outputs": [
        {
          "output_type": "display_data",
          "data": {
            "image/png": "[encoded data removed]",
            "text/plain": [
              "<Figure size 720x576 with 1 Axes>"
            ]
          },
          "metadata": {
            "tags": [],
            "needs_background": "dark"
          }
        }
      ]
    },
    {
      "cell_type": "markdown",
      "metadata": {
        "id": "P9Vhh9MGg_E6"
      },
      "source": [
        "## Inactive Subscribers "
      ]
    },
    {
      "cell_type": "markdown",
      "metadata": {
        "id": "53o46-LChWNI"
      },
      "source": [
        "We want to reliably identify inactive subscribers based on email data. \n",
        "\n",
        "We will explore our email data to understand what inactive subscribers look like. We will start by looking at subscribers who have opened no emails in the past 1, 2, 3, 4, 5, or 6 months. We will compare this to subscribers who have not clicked on any emails in the past 1, 2, 3, 4, 5, or 6 months.\n",
        "\n",
        "Since we're only interested in looking at subscribers in the broadcast segment, we'll first get a list of their subscriber ids and use this to filter our email data."
      ]
    },
    {
      "cell_type": "code",
      "metadata": {
        "id": "S8trdhnfi0nZ"
      },
      "source": [
        "# Generate list of subscriber ids for broadcast segment and filter data\n",
        "bcast_subs = bcast_seg.index.to_list()\n",
        "email_each_bcast = email_each_5.loc[email_each_5['subscriber_id'].isin(bcast_subs)].copy()"
      ],
      "execution_count": null,
      "outputs": []
    },
    {
      "cell_type": "code",
      "metadata": {
        "id": "OrKpfwinP-Q6"
      },
      "source": [
        "# Merge with subscriber data\n",
        "email_each_bcast = email_each_bcast.join(subscriber_data, on='subscriber_id')"
      ],
      "execution_count": null,
      "outputs": []
    },
    {
      "cell_type": "code",
      "metadata": {
        "id": "TuXWMEXxj0Qy"
      },
      "source": [
        "# Create list of cutoff dates for past 6 months\n",
        "cutoff_dates = list()\n",
        "for i in range(1,7):\n",
        "  cutoff_date = dt.date.today() - dateutil.relativedelta.relativedelta(months=i)\n",
        "  cutoff_dates.append(np.datetime64(cutoff_date))"
      ],
      "execution_count": null,
      "outputs": []
    },
    {
      "cell_type": "code",
      "metadata": {
        "id": "YHTWmFgYPTxz",
        "outputId": "d90c83e9-4c9f-443d-b6b1-f06dcb404c08",
        "colab": {
          "base_uri": "https://localhost:8080/"
        }
      },
      "source": [
        "# Cutoff dates for past 6 months\n",
        "cutoff_dates"
      ],
      "execution_count": null,
      "outputs": [
        {
          "output_type": "execute_result",
          "data": {
            "text/plain": [
              "[numpy.datetime64('2020-10-15'),\n",
              " numpy.datetime64('2020-09-15'),\n",
              " numpy.datetime64('2020-08-15'),\n",
              " numpy.datetime64('2020-07-15'),\n",
              " numpy.datetime64('2020-06-15'),\n",
              " numpy.datetime64('2020-05-15')]"
            ]
          },
          "metadata": {
            "tags": []
          },
          "execution_count": 200
        }
      ]
    },
    {
      "cell_type": "code",
      "metadata": {
        "id": "7crs846_pSSZ"
      },
      "source": [
        "# Reformat `date_sent` column to datetime format\n",
        "email_each_bcast['date_sent'] = email_each_bcast['date_sent'].apply(lambda x: x[:-4]).apply(lambda x: dt.datetime.strptime(x, '%b %d, %Y at %I:%M%p'))"
      ],
      "execution_count": null,
      "outputs": []
    },
    {
      "cell_type": "code",
      "metadata": {
        "id": "WWeDtEnJej_v",
        "outputId": "69648fb0-8de8-4a86-dccb-207fbe0a611c",
        "colab": {
          "base_uri": "https://localhost:8080/"
        }
      },
      "source": [
        "# Find the number of subscribers who haven't opened/clicked on any emails in the past x months\n",
        "# Make a list of subscriber emails for subscribers who haven't clicked any emails in past 6 months\n",
        "for idx, date in enumerate(cutoff_dates):\n",
        "  filtered_data =  email_each_bcast.loc[(email_each_bcast['date_sent'] > cutoff_dates[idx]) & (email_each_bcast['subscription_date'] <= cutoff_dates[idx])]\n",
        "  date_emails = filtered_data.groupby(['subscriber_id', 'email_status'])['subscriber_id'].count()\n",
        "  date_emails = date_emails.to_frame().unstack()\n",
        "  date_emails.fillna(0, inplace=True)\n",
        "  date_emails.columns = date_emails.columns.get_level_values(1)\n",
        "  no_opens = date_emails.loc[date_emails['opened']==0].shape[0]\n",
        "  no_clicks = date_emails.loc[date_emails['clicked']==0].shape[0]\n",
        "  print(f'No opens in past {idx+1} months:', no_opens)\n",
        "  print(f'No clicks in past {idx+1} months:', no_clicks)\n",
        "  if idx == 5:\n",
        "    date_emails = date_emails.join(subscriber_data['email'])\n",
        "    no_clicks_6_mo = date_emails.loc[date_emails['clicked']==0]['email'].to_list()"
      ],
      "execution_count": null,
      "outputs": [
        {
          "output_type": "stream",
          "text": [
            "No opens in past 1 months: 273\n",
            "No clicks in past 1 months: 635\n",
            "No opens in past 2 months: 155\n",
            "No clicks in past 2 months: 498\n",
            "No opens in past 3 months: 103\n",
            "No clicks in past 3 months: 393\n",
            "No opens in past 4 months: 64\n",
            "No clicks in past 4 months: 317\n",
            "No opens in past 5 months: 36\n",
            "No clicks in past 5 months: 231\n",
            "No opens in past 6 months: 24\n",
            "No clicks in past 6 months: 178\n"
          ],
          "name": "stdout"
        }
      ]
    },
    {
      "cell_type": "code",
      "metadata": {
        "id": "HZIFL8XjW0_d",
        "outputId": "9fff021d-c81e-41e5-b22d-0db9b924c922",
        "colab": {
          "base_uri": "https://localhost:8080/"
        }
      },
      "source": [
        "# Number of subscribers with no clicks in past 6 monts\n",
        "len(no_clicks_6_mo)"
      ],
      "execution_count": null,
      "outputs": [
        {
          "output_type": "execute_result",
          "data": {
            "text/plain": [
              "178"
            ]
          },
          "metadata": {
            "tags": []
          },
          "execution_count": 203
        }
      ]
    },
    {
      "cell_type": "code",
      "metadata": {
        "id": "Sd2-KzJlXFG7"
      },
      "source": [
        "# Save this list of inactive subscribers to a CSV for download later\n",
        "no_clicks_6_mo = pd.DataFrame(no_clicks_6_mo)\n",
        "no_clicks_6_mo.to_csv('no_clicks_past_6_mos.csv', index=True, header=False)"
      ],
      "execution_count": null,
      "outputs": []
    },
    {
      "cell_type": "markdown",
      "metadata": {
        "id": "X-37YNZYk9pP"
      },
      "source": [
        "## Identifying \"Hot\" Subscribers"
      ]
    },
    {
      "cell_type": "markdown",
      "metadata": {
        "id": "O8bd2-VglGmZ"
      },
      "source": [
        "In order to identify \"hot\" subscribers, we'll analyze each subscriber's open and click rate for the last 10 emails. \n",
        "\n",
        "We'll compare that to their average open and click rates, as well as to the average open and click rates of their age cohort."
      ]
    },
    {
      "cell_type": "code",
      "metadata": {
        "id": "V9HbjzvEl80N"
      },
      "source": [
        "# Filter for subscribers who have received >= 10 emails\n",
        "email_each_bcast_10 = email_each_bcast.loc[email_each_bcast['number_emails'] >= 10].copy()\n",
        "email_each_bcast_10.sort_values(['subscriber_id', 'date_sent'], ascending=False, inplace=True)"
      ],
      "execution_count": null,
      "outputs": []
    },
    {
      "cell_type": "code",
      "metadata": {
        "id": "KzSrU-HCRFkC",
        "outputId": "c84e502d-9091-436e-9218-ae7dc7d41499",
        "colab": {
          "base_uri": "https://localhost:8080/",
          "height": 374
        }
      },
      "source": [
        "# Select the 10 most recent emails for each subscriber\n",
        "email_bcast_group = email_each_bcast_10.groupby(['subscriber_id']).head(10)\n",
        "# Preview data\n",
        "email_bcast_group.drop(columns=['location', 'email', 'first_name']).sample(5)"
      ],
      "execution_count": null,
      "outputs": [
        {
          "output_type": "execute_result",
          "data": {
            "text/html": [
              "<div>\n",
              "<style scoped>\n",
              "    .dataframe tbody tr th:only-of-type {\n",
              "        vertical-align: middle;\n",
              "    }\n",
              "\n",
              "    .dataframe tbody tr th {\n",
              "        vertical-align: top;\n",
              "    }\n",
              "\n",
              "    .dataframe thead th {\n",
              "        text-align: right;\n",
              "    }\n",
              "</style>\n",
              "<table border=\"1\" class=\"dataframe\">\n",
              "  <thead>\n",
              "    <tr style=\"text-align: right;\">\n",
              "      <th></th>\n",
              "      <th>subscriber_id</th>\n",
              "      <th>number_emails</th>\n",
              "      <th>segments</th>\n",
              "      <th>email_status</th>\n",
              "      <th>date_received</th>\n",
              "      <th>date_sent</th>\n",
              "      <th>subscription_date</th>\n",
              "      <th>time_since_sub</th>\n",
              "    </tr>\n",
              "  </thead>\n",
              "  <tbody>\n",
              "    <tr>\n",
              "      <th>65619</th>\n",
              "      <td>987194793</td>\n",
              "      <td>42</td>\n",
              "      <td>Broadcast</td>\n",
              "      <td>opened</td>\n",
              "      <td>Opened Nov 08, 2020 at 2:18pm PST</td>\n",
              "      <td>2020-11-08 06:00:00</td>\n",
              "      <td>2020-09-03</td>\n",
              "      <td>75 days</td>\n",
              "    </tr>\n",
              "    <tr>\n",
              "      <th>43695</th>\n",
              "      <td>818200701</td>\n",
              "      <td>113</td>\n",
              "      <td>Broadcast</td>\n",
              "      <td>delivered</td>\n",
              "      <td>Delivered Nov 13, 2020 at 6:03am PST</td>\n",
              "      <td>2020-11-13 06:03:00</td>\n",
              "      <td>2020-04-21</td>\n",
              "      <td>210 days</td>\n",
              "    </tr>\n",
              "    <tr>\n",
              "      <th>26028</th>\n",
              "      <td>664953713</td>\n",
              "      <td>207</td>\n",
              "      <td>Broadcast</td>\n",
              "      <td>delivered</td>\n",
              "      <td>Delivered Nov 08, 2020 at 6:00am PST</td>\n",
              "      <td>2020-11-08 06:00:00</td>\n",
              "      <td>2018-08-09</td>\n",
              "      <td>831 days</td>\n",
              "    </tr>\n",
              "    <tr>\n",
              "      <th>71718</th>\n",
              "      <td>1029509842</td>\n",
              "      <td>28</td>\n",
              "      <td>Broadcast</td>\n",
              "      <td>delivered</td>\n",
              "      <td>Delivered Nov 08, 2020 at 6:00am PST</td>\n",
              "      <td>2020-11-08 06:00:00</td>\n",
              "      <td>2020-10-08</td>\n",
              "      <td>40 days</td>\n",
              "    </tr>\n",
              "    <tr>\n",
              "      <th>61286</th>\n",
              "      <td>946404018</td>\n",
              "      <td>66</td>\n",
              "      <td>Broadcast</td>\n",
              "      <td>delivered</td>\n",
              "      <td>Delivered Nov 08, 2020 at 6:00am PST</td>\n",
              "      <td>2020-11-08 06:00:00</td>\n",
              "      <td>2020-08-03</td>\n",
              "      <td>106 days</td>\n",
              "    </tr>\n",
              "  </tbody>\n",
              "</table>\n",
              "</div>"
            ],
            "text/plain": [
              "      subscriber_id  number_emails  ... subscription_date time_since_sub\n",
              "65619     987194793             42  ...        2020-09-03        75 days\n",
              "43695     818200701            113  ...        2020-04-21       210 days\n",
              "26028     664953713            207  ...        2018-08-09       831 days\n",
              "71718    1029509842             28  ...        2020-10-08        40 days\n",
              "61286     946404018             66  ...        2020-08-03       106 days\n",
              "\n",
              "[5 rows x 8 columns]"
            ]
          },
          "metadata": {
            "tags": []
          },
          "execution_count": 166
        }
      ]
    },
    {
      "cell_type": "code",
      "metadata": {
        "id": "vdl-sGrJXgXs"
      },
      "source": [
        "# Count number of clicked, opened, delivered emails for each subscriber, reformat data frame\n",
        "past_10_emails = email_bcast_group.groupby(['subscriber_id', 'email_status'])['email_status'].count()\n",
        "past_10_emails = past_10_emails.to_frame().unstack().fillna(0)"
      ],
      "execution_count": null,
      "outputs": []
    },
    {
      "cell_type": "code",
      "metadata": {
        "id": "n7EhuhNxX4fb"
      },
      "source": [
        "# Rename columns\n",
        "past_10_emails.columns = past_10_emails.columns.get_level_values(1)"
      ],
      "execution_count": null,
      "outputs": []
    },
    {
      "cell_type": "code",
      "metadata": {
        "id": "z4onre8OYEe1",
        "outputId": "831f4d44-fe68-4e25-84d9-036e38ab63dc",
        "colab": {
          "base_uri": "https://localhost:8080/",
          "height": 450
        }
      },
      "source": [
        "# Calculate % opened and % clicked for each subscriber for past 10 emails\n",
        "past_10_emails['percent_opened'] = past_10_emails['opened'] * 10\n",
        "past_10_emails['percent_clicked'] = past_10_emails['clicked'] * 10\n",
        "past_10_emails"
      ],
      "execution_count": null,
      "outputs": [
        {
          "output_type": "execute_result",
          "data": {
            "text/html": [
              "<div>\n",
              "<style scoped>\n",
              "    .dataframe tbody tr th:only-of-type {\n",
              "        vertical-align: middle;\n",
              "    }\n",
              "\n",
              "    .dataframe tbody tr th {\n",
              "        vertical-align: top;\n",
              "    }\n",
              "\n",
              "    .dataframe thead th {\n",
              "        text-align: right;\n",
              "    }\n",
              "</style>\n",
              "<table border=\"1\" class=\"dataframe\">\n",
              "  <thead>\n",
              "    <tr style=\"text-align: right;\">\n",
              "      <th>email_status</th>\n",
              "      <th>clicked</th>\n",
              "      <th>delivered</th>\n",
              "      <th>opened</th>\n",
              "      <th>percent_opened</th>\n",
              "      <th>percent_clicked</th>\n",
              "    </tr>\n",
              "    <tr>\n",
              "      <th>subscriber_id</th>\n",
              "      <th></th>\n",
              "      <th></th>\n",
              "      <th></th>\n",
              "      <th></th>\n",
              "      <th></th>\n",
              "    </tr>\n",
              "  </thead>\n",
              "  <tbody>\n",
              "    <tr>\n",
              "      <th>1000528074</th>\n",
              "      <td>0.0</td>\n",
              "      <td>9.0</td>\n",
              "      <td>1.0</td>\n",
              "      <td>10.0</td>\n",
              "      <td>0.0</td>\n",
              "    </tr>\n",
              "    <tr>\n",
              "      <th>1000894846</th>\n",
              "      <td>0.0</td>\n",
              "      <td>10.0</td>\n",
              "      <td>0.0</td>\n",
              "      <td>0.0</td>\n",
              "      <td>0.0</td>\n",
              "    </tr>\n",
              "    <tr>\n",
              "      <th>1000904683</th>\n",
              "      <td>0.0</td>\n",
              "      <td>10.0</td>\n",
              "      <td>0.0</td>\n",
              "      <td>0.0</td>\n",
              "      <td>0.0</td>\n",
              "    </tr>\n",
              "    <tr>\n",
              "      <th>1001155544</th>\n",
              "      <td>0.0</td>\n",
              "      <td>10.0</td>\n",
              "      <td>0.0</td>\n",
              "      <td>0.0</td>\n",
              "      <td>0.0</td>\n",
              "    </tr>\n",
              "    <tr>\n",
              "      <th>1001181990</th>\n",
              "      <td>0.0</td>\n",
              "      <td>10.0</td>\n",
              "      <td>0.0</td>\n",
              "      <td>0.0</td>\n",
              "      <td>0.0</td>\n",
              "    </tr>\n",
              "    <tr>\n",
              "      <th>...</th>\n",
              "      <td>...</td>\n",
              "      <td>...</td>\n",
              "      <td>...</td>\n",
              "      <td>...</td>\n",
              "      <td>...</td>\n",
              "    </tr>\n",
              "    <tr>\n",
              "      <th>998061600</th>\n",
              "      <td>0.0</td>\n",
              "      <td>10.0</td>\n",
              "      <td>0.0</td>\n",
              "      <td>0.0</td>\n",
              "      <td>0.0</td>\n",
              "    </tr>\n",
              "    <tr>\n",
              "      <th>998392933</th>\n",
              "      <td>0.0</td>\n",
              "      <td>9.0</td>\n",
              "      <td>1.0</td>\n",
              "      <td>10.0</td>\n",
              "      <td>0.0</td>\n",
              "    </tr>\n",
              "    <tr>\n",
              "      <th>998667509</th>\n",
              "      <td>1.0</td>\n",
              "      <td>4.0</td>\n",
              "      <td>5.0</td>\n",
              "      <td>50.0</td>\n",
              "      <td>10.0</td>\n",
              "    </tr>\n",
              "    <tr>\n",
              "      <th>999859113</th>\n",
              "      <td>0.0</td>\n",
              "      <td>10.0</td>\n",
              "      <td>0.0</td>\n",
              "      <td>0.0</td>\n",
              "      <td>0.0</td>\n",
              "    </tr>\n",
              "    <tr>\n",
              "      <th>999908122</th>\n",
              "      <td>0.0</td>\n",
              "      <td>10.0</td>\n",
              "      <td>0.0</td>\n",
              "      <td>0.0</td>\n",
              "      <td>0.0</td>\n",
              "    </tr>\n",
              "  </tbody>\n",
              "</table>\n",
              "<p>771 rows × 5 columns</p>\n",
              "</div>"
            ],
            "text/plain": [
              "email_status   clicked  delivered  opened  percent_opened  percent_clicked\n",
              "subscriber_id                                                             \n",
              "1000528074         0.0        9.0     1.0            10.0              0.0\n",
              "1000894846         0.0       10.0     0.0             0.0              0.0\n",
              "1000904683         0.0       10.0     0.0             0.0              0.0\n",
              "1001155544         0.0       10.0     0.0             0.0              0.0\n",
              "1001181990         0.0       10.0     0.0             0.0              0.0\n",
              "...                ...        ...     ...             ...              ...\n",
              "998061600          0.0       10.0     0.0             0.0              0.0\n",
              "998392933          0.0        9.0     1.0            10.0              0.0\n",
              "998667509          1.0        4.0     5.0            50.0             10.0\n",
              "999859113          0.0       10.0     0.0             0.0              0.0\n",
              "999908122          0.0       10.0     0.0             0.0              0.0\n",
              "\n",
              "[771 rows x 5 columns]"
            ]
          },
          "metadata": {
            "tags": []
          },
          "execution_count": 169
        }
      ]
    },
    {
      "cell_type": "code",
      "metadata": {
        "id": "4ea_dZDoYeui",
        "outputId": "c70f6297-82ac-4278-a4bc-7b9c4a7a2bbe",
        "colab": {
          "base_uri": "https://localhost:8080/"
        }
      },
      "source": [
        "# Check distribution of data - % of subscribers with 0%, 10%, 20% etc of past 10 emails clicked\n",
        "past_10_emails['percent_clicked'].value_counts(normalize=True)"
      ],
      "execution_count": null,
      "outputs": [
        {
          "output_type": "execute_result",
          "data": {
            "text/plain": [
              "0.0     0.949416\n",
              "10.0    0.035019\n",
              "20.0    0.014267\n",
              "40.0    0.001297\n",
              "Name: percent_clicked, dtype: float64"
            ]
          },
          "metadata": {
            "tags": []
          },
          "execution_count": 170
        }
      ]
    },
    {
      "cell_type": "code",
      "metadata": {
        "id": "XD8KkTRSZ0DJ",
        "outputId": "71388f44-3b15-4290-e8e4-837a1fcd6143",
        "colab": {
          "base_uri": "https://localhost:8080/",
          "height": 291
        }
      },
      "source": [
        "# Check distribution of data - % of subscribers with 0%, 10%, 20% etc of past 10 emails clicked\n",
        "past_10_emails['percent_clicked'].value_counts(normalize=True).plot.bar()"
      ],
      "execution_count": null,
      "outputs": [
        {
          "output_type": "execute_result",
          "data": {
            "text/plain": [
              "<matplotlib.axes._subplots.AxesSubplot at 0x7ff045ce8cf8>"
            ]
          },
          "metadata": {
            "tags": []
          },
          "execution_count": 171
        },
        {
          "output_type": "display_data",
          "data": {
            "image/png": "[encoded data removed]",
            "text/plain": [
              "<Figure size 432x288 with 1 Axes>"
            ]
          },
          "metadata": {
            "tags": [],
            "needs_background": "light"
          }
        }
      ]
    },
    {
      "cell_type": "code",
      "metadata": {
        "id": "ojGxe5_oYj8u",
        "outputId": "e446dc8e-3126-4ee7-d15f-702469c9809a",
        "colab": {
          "base_uri": "https://localhost:8080/"
        }
      },
      "source": [
        "# Check distribution of data - % of subscribers with 0%, 10%, 20% etc of past 10 emails opened\n",
        "past_10_emails['percent_opened'].value_counts(normalize=True).sort_index()"
      ],
      "execution_count": null,
      "outputs": [
        {
          "output_type": "execute_result",
          "data": {
            "text/plain": [
              "0.0      0.526589\n",
              "10.0     0.140078\n",
              "20.0     0.088197\n",
              "30.0     0.049287\n",
              "40.0     0.045396\n",
              "50.0     0.045396\n",
              "60.0     0.033722\n",
              "70.0     0.023346\n",
              "80.0     0.025940\n",
              "90.0     0.010376\n",
              "100.0    0.011673\n",
              "Name: percent_opened, dtype: float64"
            ]
          },
          "metadata": {
            "tags": []
          },
          "execution_count": 172
        }
      ]
    },
    {
      "cell_type": "code",
      "metadata": {
        "id": "yyBnodAVaE1K",
        "outputId": "f2c9d35e-c526-4d8a-8337-3483e7d3615b",
        "colab": {
          "base_uri": "https://localhost:8080/",
          "height": 297
        }
      },
      "source": [
        "# Check distribution of data - % of subscribers with 0%, 10%, 20% etc of past 10 emails opened\n",
        "past_10_emails['percent_opened'].value_counts(normalize=True).sort_index().plot.bar()"
      ],
      "execution_count": null,
      "outputs": [
        {
          "output_type": "execute_result",
          "data": {
            "text/plain": [
              "<matplotlib.axes._subplots.AxesSubplot at 0x7ff045bf39e8>"
            ]
          },
          "metadata": {
            "tags": []
          },
          "execution_count": 173
        },
        {
          "output_type": "display_data",
          "data": {
            "image/png": "[encoded data removed]",
            "text/plain": [
              "<Figure size 432x288 with 1 Axes>"
            ]
          },
          "metadata": {
            "tags": [],
            "needs_background": "light"
          }
        }
      ]
    },
    {
      "cell_type": "code",
      "metadata": {
        "id": "VajynMrVcR-7",
        "outputId": "6cbbfc56-bb45-426c-d4c2-e45e4cefffea",
        "colab": {
          "base_uri": "https://localhost:8080/",
          "height": 235
        }
      },
      "source": [
        "# Rename subscriber summary columns\n",
        "subscriber_summary.columns=['avg_click_rate', 'avg_open_rate', 'time_cat']\n",
        "subscriber_summary.fillna(0, inplace=True)\n",
        "subscriber_summary.sample(5)"
      ],
      "execution_count": null,
      "outputs": [
        {
          "output_type": "execute_result",
          "data": {
            "text/html": [
              "<div>\n",
              "<style scoped>\n",
              "    .dataframe tbody tr th:only-of-type {\n",
              "        vertical-align: middle;\n",
              "    }\n",
              "\n",
              "    .dataframe tbody tr th {\n",
              "        vertical-align: top;\n",
              "    }\n",
              "\n",
              "    .dataframe thead th {\n",
              "        text-align: right;\n",
              "    }\n",
              "</style>\n",
              "<table border=\"1\" class=\"dataframe\">\n",
              "  <thead>\n",
              "    <tr style=\"text-align: right;\">\n",
              "      <th></th>\n",
              "      <th>avg_click_rate</th>\n",
              "      <th>avg_open_rate</th>\n",
              "      <th>time_cat</th>\n",
              "    </tr>\n",
              "    <tr>\n",
              "      <th>subscriber_id</th>\n",
              "      <th></th>\n",
              "      <th></th>\n",
              "      <th></th>\n",
              "    </tr>\n",
              "  </thead>\n",
              "  <tbody>\n",
              "    <tr>\n",
              "      <th>1037165496</th>\n",
              "      <td>3.85</td>\n",
              "      <td>3.85</td>\n",
              "      <td>1-3 mos</td>\n",
              "    </tr>\n",
              "    <tr>\n",
              "      <th>1036792717</th>\n",
              "      <td>6.25</td>\n",
              "      <td>93.75</td>\n",
              "      <td>1-3 mos</td>\n",
              "    </tr>\n",
              "    <tr>\n",
              "      <th>1009581932</th>\n",
              "      <td>0.00</td>\n",
              "      <td>0.00</td>\n",
              "      <td>1-3 mos</td>\n",
              "    </tr>\n",
              "    <tr>\n",
              "      <th>972894669</th>\n",
              "      <td>15.00</td>\n",
              "      <td>0.00</td>\n",
              "      <td>1-3 mos</td>\n",
              "    </tr>\n",
              "    <tr>\n",
              "      <th>664953580</th>\n",
              "      <td>0.00</td>\n",
              "      <td>6.80</td>\n",
              "      <td>12-24 mos</td>\n",
              "    </tr>\n",
              "  </tbody>\n",
              "</table>\n",
              "</div>"
            ],
            "text/plain": [
              "               avg_click_rate  avg_open_rate   time_cat\n",
              "subscriber_id                                          \n",
              "1037165496               3.85           3.85    1-3 mos\n",
              "1036792717               6.25          93.75    1-3 mos\n",
              "1009581932               0.00           0.00    1-3 mos\n",
              "972894669               15.00           0.00    1-3 mos\n",
              "664953580                0.00           6.80  12-24 mos"
            ]
          },
          "metadata": {
            "tags": []
          },
          "execution_count": 176
        }
      ]
    },
    {
      "cell_type": "code",
      "metadata": {
        "id": "kErGJu5Gaip1"
      },
      "source": [
        "# Join subscriber summary data into past 10 emails dataframe\n",
        "past_10_emails = past_10_emails.join(subscriber_summary)"
      ],
      "execution_count": null,
      "outputs": []
    },
    {
      "cell_type": "code",
      "metadata": {
        "id": "sWqEgZTa8mHP"
      },
      "source": [
        "# Join location data into past 10 emails dataframe\n",
        "past_10_emails = past_10_emails.join(location_data)"
      ],
      "execution_count": null,
      "outputs": []
    },
    {
      "cell_type": "code",
      "metadata": {
        "id": "k6TPAw2abian",
        "outputId": "7c4596bd-e111-4ec0-ab7b-857dd62c822f",
        "colab": {
          "base_uri": "https://localhost:8080/",
          "height": 306
        }
      },
      "source": [
        "# Preview data\n",
        "past_10_emails.sample(5)"
      ],
      "execution_count": null,
      "outputs": [
        {
          "output_type": "execute_result",
          "data": {
            "text/html": [
              "<div>\n",
              "<style scoped>\n",
              "    .dataframe tbody tr th:only-of-type {\n",
              "        vertical-align: middle;\n",
              "    }\n",
              "\n",
              "    .dataframe tbody tr th {\n",
              "        vertical-align: top;\n",
              "    }\n",
              "\n",
              "    .dataframe thead th {\n",
              "        text-align: right;\n",
              "    }\n",
              "</style>\n",
              "<table border=\"1\" class=\"dataframe\">\n",
              "  <thead>\n",
              "    <tr style=\"text-align: right;\">\n",
              "      <th></th>\n",
              "      <th>clicked</th>\n",
              "      <th>delivered</th>\n",
              "      <th>opened</th>\n",
              "      <th>percent_opened</th>\n",
              "      <th>percent_clicked</th>\n",
              "      <th>avg_click_rate</th>\n",
              "      <th>avg_open_rate</th>\n",
              "      <th>time_cat</th>\n",
              "      <th>location</th>\n",
              "    </tr>\n",
              "    <tr>\n",
              "      <th>subscriber_id</th>\n",
              "      <th></th>\n",
              "      <th></th>\n",
              "      <th></th>\n",
              "      <th></th>\n",
              "      <th></th>\n",
              "      <th></th>\n",
              "      <th></th>\n",
              "      <th></th>\n",
              "      <th></th>\n",
              "    </tr>\n",
              "  </thead>\n",
              "  <tbody>\n",
              "    <tr>\n",
              "      <th>996786149</th>\n",
              "      <td>0.0</td>\n",
              "      <td>9.0</td>\n",
              "      <td>1.0</td>\n",
              "      <td>10.0</td>\n",
              "      <td>0.0</td>\n",
              "      <td>0.00</td>\n",
              "      <td>7.69</td>\n",
              "      <td>1-3 mos</td>\n",
              "      <td>N/A, N/A</td>\n",
              "    </tr>\n",
              "    <tr>\n",
              "      <th>664953712</th>\n",
              "      <td>1.0</td>\n",
              "      <td>4.0</td>\n",
              "      <td>5.0</td>\n",
              "      <td>50.0</td>\n",
              "      <td>10.0</td>\n",
              "      <td>2.90</td>\n",
              "      <td>62.32</td>\n",
              "      <td>&gt; 24 mos</td>\n",
              "      <td>Kirkland, Washington</td>\n",
              "    </tr>\n",
              "    <tr>\n",
              "      <th>1016285429</th>\n",
              "      <td>0.0</td>\n",
              "      <td>10.0</td>\n",
              "      <td>0.0</td>\n",
              "      <td>0.0</td>\n",
              "      <td>0.0</td>\n",
              "      <td>0.00</td>\n",
              "      <td>0.00</td>\n",
              "      <td>1-3 mos</td>\n",
              "      <td>N/A, N/A</td>\n",
              "    </tr>\n",
              "    <tr>\n",
              "      <th>664953608</th>\n",
              "      <td>0.0</td>\n",
              "      <td>1.0</td>\n",
              "      <td>9.0</td>\n",
              "      <td>90.0</td>\n",
              "      <td>0.0</td>\n",
              "      <td>2.44</td>\n",
              "      <td>91.71</td>\n",
              "      <td>12-24 mos</td>\n",
              "      <td>Sarnia, Ontario</td>\n",
              "    </tr>\n",
              "    <tr>\n",
              "      <th>881553249</th>\n",
              "      <td>0.0</td>\n",
              "      <td>9.0</td>\n",
              "      <td>1.0</td>\n",
              "      <td>10.0</td>\n",
              "      <td>0.0</td>\n",
              "      <td>2.06</td>\n",
              "      <td>10.31</td>\n",
              "      <td>3-6 mos</td>\n",
              "      <td>Alhambra, California</td>\n",
              "    </tr>\n",
              "  </tbody>\n",
              "</table>\n",
              "</div>"
            ],
            "text/plain": [
              "               clicked  delivered  ...   time_cat              location\n",
              "subscriber_id                      ...                                 \n",
              "996786149          0.0        9.0  ...    1-3 mos              N/A, N/A\n",
              "664953712          1.0        4.0  ...   > 24 mos  Kirkland, Washington\n",
              "1016285429         0.0       10.0  ...    1-3 mos              N/A, N/A\n",
              "664953608          0.0        1.0  ...  12-24 mos       Sarnia, Ontario\n",
              "881553249          0.0        9.0  ...    3-6 mos  Alhambra, California\n",
              "\n",
              "[5 rows x 9 columns]"
            ]
          },
          "metadata": {
            "tags": []
          },
          "execution_count": 181
        }
      ]
    },
    {
      "cell_type": "code",
      "metadata": {
        "id": "Sp4qXhtydzUb"
      },
      "source": [
        "# Add column - is current % clicked higher than subscriber's average % clicked\n",
        "past_10_emails['higher_click'] = past_10_emails['percent_clicked'] > past_10_emails['avg_click_rate']"
      ],
      "execution_count": null,
      "outputs": []
    },
    {
      "cell_type": "code",
      "metadata": {
        "id": "x1aQgw9LeCmp",
        "outputId": "1f99c56e-fb79-4791-cdd8-21e5ba143241",
        "colab": {
          "base_uri": "https://localhost:8080/"
        }
      },
      "source": [
        "# Subscribers who did vs did not have a higher click rate than their average for the past 10 emails\n",
        "past_10_emails['higher_click'].value_counts()"
      ],
      "execution_count": null,
      "outputs": [
        {
          "output_type": "execute_result",
          "data": {
            "text/plain": [
              "False    746\n",
              "True      25\n",
              "Name: higher_click, dtype: int64"
            ]
          },
          "metadata": {
            "tags": []
          },
          "execution_count": 186
        }
      ]
    },
    {
      "cell_type": "code",
      "metadata": {
        "id": "Z1sjFPQSS0PE",
        "outputId": "9fe3ac95-c415-4bd2-f565-ea63c531a26b",
        "colab": {
          "base_uri": "https://localhost:8080/",
          "height": 909
        }
      },
      "source": [
        "# Inspect subscribers with a higher click rate\n",
        "past_10_emails.loc[past_10_emails['higher_click']==True].drop(columns='location')"
      ],
      "execution_count": null,
      "outputs": [
        {
          "output_type": "execute_result",
          "data": {
            "text/html": [
              "<div>\n",
              "<style scoped>\n",
              "    .dataframe tbody tr th:only-of-type {\n",
              "        vertical-align: middle;\n",
              "    }\n",
              "\n",
              "    .dataframe tbody tr th {\n",
              "        vertical-align: top;\n",
              "    }\n",
              "\n",
              "    .dataframe thead th {\n",
              "        text-align: right;\n",
              "    }\n",
              "</style>\n",
              "<table border=\"1\" class=\"dataframe\">\n",
              "  <thead>\n",
              "    <tr style=\"text-align: right;\">\n",
              "      <th></th>\n",
              "      <th>clicked</th>\n",
              "      <th>delivered</th>\n",
              "      <th>opened</th>\n",
              "      <th>percent_opened</th>\n",
              "      <th>percent_clicked</th>\n",
              "      <th>avg_click_rate</th>\n",
              "      <th>avg_open_rate</th>\n",
              "      <th>time_cat</th>\n",
              "      <th>higher_click</th>\n",
              "    </tr>\n",
              "    <tr>\n",
              "      <th>subscriber_id</th>\n",
              "      <th></th>\n",
              "      <th></th>\n",
              "      <th></th>\n",
              "      <th></th>\n",
              "      <th></th>\n",
              "      <th></th>\n",
              "      <th></th>\n",
              "      <th></th>\n",
              "      <th></th>\n",
              "    </tr>\n",
              "  </thead>\n",
              "  <tbody>\n",
              "    <tr>\n",
              "      <th>1008557711</th>\n",
              "      <td>2.0</td>\n",
              "      <td>7.0</td>\n",
              "      <td>1.0</td>\n",
              "      <td>10.0</td>\n",
              "      <td>20.0</td>\n",
              "      <td>7.50</td>\n",
              "      <td>17.50</td>\n",
              "      <td>1-3 mos</td>\n",
              "      <td>True</td>\n",
              "    </tr>\n",
              "    <tr>\n",
              "      <th>1017376884</th>\n",
              "      <td>1.0</td>\n",
              "      <td>7.0</td>\n",
              "      <td>2.0</td>\n",
              "      <td>20.0</td>\n",
              "      <td>10.0</td>\n",
              "      <td>3.03</td>\n",
              "      <td>57.58</td>\n",
              "      <td>1-3 mos</td>\n",
              "      <td>True</td>\n",
              "    </tr>\n",
              "    <tr>\n",
              "      <th>1023765079</th>\n",
              "      <td>2.0</td>\n",
              "      <td>6.0</td>\n",
              "      <td>2.0</td>\n",
              "      <td>20.0</td>\n",
              "      <td>20.0</td>\n",
              "      <td>12.90</td>\n",
              "      <td>19.35</td>\n",
              "      <td>1-3 mos</td>\n",
              "      <td>True</td>\n",
              "    </tr>\n",
              "    <tr>\n",
              "      <th>1024783122</th>\n",
              "      <td>1.0</td>\n",
              "      <td>4.0</td>\n",
              "      <td>5.0</td>\n",
              "      <td>50.0</td>\n",
              "      <td>10.0</td>\n",
              "      <td>8.33</td>\n",
              "      <td>19.44</td>\n",
              "      <td>1-3 mos</td>\n",
              "      <td>True</td>\n",
              "    </tr>\n",
              "    <tr>\n",
              "      <th>1035257622</th>\n",
              "      <td>1.0</td>\n",
              "      <td>1.0</td>\n",
              "      <td>8.0</td>\n",
              "      <td>80.0</td>\n",
              "      <td>10.0</td>\n",
              "      <td>7.14</td>\n",
              "      <td>67.86</td>\n",
              "      <td>1-3 mos</td>\n",
              "      <td>True</td>\n",
              "    </tr>\n",
              "    <tr>\n",
              "      <th>1041338971</th>\n",
              "      <td>2.0</td>\n",
              "      <td>7.0</td>\n",
              "      <td>1.0</td>\n",
              "      <td>10.0</td>\n",
              "      <td>20.0</td>\n",
              "      <td>17.39</td>\n",
              "      <td>4.35</td>\n",
              "      <td>1-3 mos</td>\n",
              "      <td>True</td>\n",
              "    </tr>\n",
              "    <tr>\n",
              "      <th>1045330124</th>\n",
              "      <td>2.0</td>\n",
              "      <td>8.0</td>\n",
              "      <td>0.0</td>\n",
              "      <td>0.0</td>\n",
              "      <td>20.0</td>\n",
              "      <td>12.50</td>\n",
              "      <td>8.33</td>\n",
              "      <td>&lt; 1 mo</td>\n",
              "      <td>True</td>\n",
              "    </tr>\n",
              "    <tr>\n",
              "      <th>1050368065</th>\n",
              "      <td>2.0</td>\n",
              "      <td>3.0</td>\n",
              "      <td>5.0</td>\n",
              "      <td>50.0</td>\n",
              "      <td>20.0</td>\n",
              "      <td>9.52</td>\n",
              "      <td>66.67</td>\n",
              "      <td>&lt; 1 mo</td>\n",
              "      <td>True</td>\n",
              "    </tr>\n",
              "    <tr>\n",
              "      <th>1051363688</th>\n",
              "      <td>1.0</td>\n",
              "      <td>9.0</td>\n",
              "      <td>0.0</td>\n",
              "      <td>0.0</td>\n",
              "      <td>10.0</td>\n",
              "      <td>6.67</td>\n",
              "      <td>13.33</td>\n",
              "      <td>&lt; 1 mo</td>\n",
              "      <td>True</td>\n",
              "    </tr>\n",
              "    <tr>\n",
              "      <th>1053919330</th>\n",
              "      <td>2.0</td>\n",
              "      <td>8.0</td>\n",
              "      <td>0.0</td>\n",
              "      <td>0.0</td>\n",
              "      <td>20.0</td>\n",
              "      <td>18.18</td>\n",
              "      <td>0.00</td>\n",
              "      <td>&lt; 1 mo</td>\n",
              "      <td>True</td>\n",
              "    </tr>\n",
              "    <tr>\n",
              "      <th>1058260604</th>\n",
              "      <td>1.0</td>\n",
              "      <td>9.0</td>\n",
              "      <td>0.0</td>\n",
              "      <td>0.0</td>\n",
              "      <td>10.0</td>\n",
              "      <td>9.09</td>\n",
              "      <td>0.00</td>\n",
              "      <td>&lt; 1 mo</td>\n",
              "      <td>True</td>\n",
              "    </tr>\n",
              "    <tr>\n",
              "      <th>664943371</th>\n",
              "      <td>1.0</td>\n",
              "      <td>4.0</td>\n",
              "      <td>5.0</td>\n",
              "      <td>50.0</td>\n",
              "      <td>10.0</td>\n",
              "      <td>0.49</td>\n",
              "      <td>25.24</td>\n",
              "      <td>&gt; 24 mos</td>\n",
              "      <td>True</td>\n",
              "    </tr>\n",
              "    <tr>\n",
              "      <th>664944388</th>\n",
              "      <td>1.0</td>\n",
              "      <td>9.0</td>\n",
              "      <td>0.0</td>\n",
              "      <td>0.0</td>\n",
              "      <td>10.0</td>\n",
              "      <td>9.88</td>\n",
              "      <td>36.21</td>\n",
              "      <td>&gt; 24 mos</td>\n",
              "      <td>True</td>\n",
              "    </tr>\n",
              "    <tr>\n",
              "      <th>664948043</th>\n",
              "      <td>1.0</td>\n",
              "      <td>4.0</td>\n",
              "      <td>5.0</td>\n",
              "      <td>50.0</td>\n",
              "      <td>10.0</td>\n",
              "      <td>0.96</td>\n",
              "      <td>78.37</td>\n",
              "      <td>&gt; 24 mos</td>\n",
              "      <td>True</td>\n",
              "    </tr>\n",
              "    <tr>\n",
              "      <th>664953588</th>\n",
              "      <td>1.0</td>\n",
              "      <td>3.0</td>\n",
              "      <td>6.0</td>\n",
              "      <td>60.0</td>\n",
              "      <td>10.0</td>\n",
              "      <td>7.77</td>\n",
              "      <td>44.66</td>\n",
              "      <td>12-24 mos</td>\n",
              "      <td>True</td>\n",
              "    </tr>\n",
              "    <tr>\n",
              "      <th>664953597</th>\n",
              "      <td>1.0</td>\n",
              "      <td>9.0</td>\n",
              "      <td>0.0</td>\n",
              "      <td>0.0</td>\n",
              "      <td>10.0</td>\n",
              "      <td>1.69</td>\n",
              "      <td>37.08</td>\n",
              "      <td>12-24 mos</td>\n",
              "      <td>True</td>\n",
              "    </tr>\n",
              "    <tr>\n",
              "      <th>664953641</th>\n",
              "      <td>1.0</td>\n",
              "      <td>7.0</td>\n",
              "      <td>2.0</td>\n",
              "      <td>20.0</td>\n",
              "      <td>10.0</td>\n",
              "      <td>0.49</td>\n",
              "      <td>31.55</td>\n",
              "      <td>&gt; 24 mos</td>\n",
              "      <td>True</td>\n",
              "    </tr>\n",
              "    <tr>\n",
              "      <th>664953712</th>\n",
              "      <td>1.0</td>\n",
              "      <td>4.0</td>\n",
              "      <td>5.0</td>\n",
              "      <td>50.0</td>\n",
              "      <td>10.0</td>\n",
              "      <td>2.90</td>\n",
              "      <td>62.32</td>\n",
              "      <td>&gt; 24 mos</td>\n",
              "      <td>True</td>\n",
              "    </tr>\n",
              "    <tr>\n",
              "      <th>748357622</th>\n",
              "      <td>1.0</td>\n",
              "      <td>6.0</td>\n",
              "      <td>3.0</td>\n",
              "      <td>30.0</td>\n",
              "      <td>10.0</td>\n",
              "      <td>4.92</td>\n",
              "      <td>55.74</td>\n",
              "      <td>6-12 mos</td>\n",
              "      <td>True</td>\n",
              "    </tr>\n",
              "    <tr>\n",
              "      <th>865058556</th>\n",
              "      <td>2.0</td>\n",
              "      <td>8.0</td>\n",
              "      <td>0.0</td>\n",
              "      <td>0.0</td>\n",
              "      <td>20.0</td>\n",
              "      <td>7.62</td>\n",
              "      <td>23.81</td>\n",
              "      <td>3-6 mos</td>\n",
              "      <td>True</td>\n",
              "    </tr>\n",
              "    <tr>\n",
              "      <th>915775592</th>\n",
              "      <td>1.0</td>\n",
              "      <td>8.0</td>\n",
              "      <td>1.0</td>\n",
              "      <td>10.0</td>\n",
              "      <td>10.0</td>\n",
              "      <td>5.33</td>\n",
              "      <td>12.00</td>\n",
              "      <td>3-6 mos</td>\n",
              "      <td>True</td>\n",
              "    </tr>\n",
              "    <tr>\n",
              "      <th>952103533</th>\n",
              "      <td>2.0</td>\n",
              "      <td>2.0</td>\n",
              "      <td>6.0</td>\n",
              "      <td>60.0</td>\n",
              "      <td>20.0</td>\n",
              "      <td>4.84</td>\n",
              "      <td>16.13</td>\n",
              "      <td>3-6 mos</td>\n",
              "      <td>True</td>\n",
              "    </tr>\n",
              "    <tr>\n",
              "      <th>959862152</th>\n",
              "      <td>1.0</td>\n",
              "      <td>8.0</td>\n",
              "      <td>1.0</td>\n",
              "      <td>10.0</td>\n",
              "      <td>10.0</td>\n",
              "      <td>4.76</td>\n",
              "      <td>23.81</td>\n",
              "      <td>3-6 mos</td>\n",
              "      <td>True</td>\n",
              "    </tr>\n",
              "    <tr>\n",
              "      <th>996806497</th>\n",
              "      <td>1.0</td>\n",
              "      <td>7.0</td>\n",
              "      <td>2.0</td>\n",
              "      <td>20.0</td>\n",
              "      <td>10.0</td>\n",
              "      <td>4.76</td>\n",
              "      <td>11.90</td>\n",
              "      <td>1-3 mos</td>\n",
              "      <td>True</td>\n",
              "    </tr>\n",
              "    <tr>\n",
              "      <th>998667509</th>\n",
              "      <td>1.0</td>\n",
              "      <td>4.0</td>\n",
              "      <td>5.0</td>\n",
              "      <td>50.0</td>\n",
              "      <td>10.0</td>\n",
              "      <td>2.56</td>\n",
              "      <td>43.59</td>\n",
              "      <td>1-3 mos</td>\n",
              "      <td>True</td>\n",
              "    </tr>\n",
              "  </tbody>\n",
              "</table>\n",
              "</div>"
            ],
            "text/plain": [
              "               clicked  delivered  ...   time_cat  higher_click\n",
              "subscriber_id                      ...                         \n",
              "1008557711         2.0        7.0  ...    1-3 mos          True\n",
              "1017376884         1.0        7.0  ...    1-3 mos          True\n",
              "1023765079         2.0        6.0  ...    1-3 mos          True\n",
              "1024783122         1.0        4.0  ...    1-3 mos          True\n",
              "1035257622         1.0        1.0  ...    1-3 mos          True\n",
              "1041338971         2.0        7.0  ...    1-3 mos          True\n",
              "1045330124         2.0        8.0  ...     < 1 mo          True\n",
              "1050368065         2.0        3.0  ...     < 1 mo          True\n",
              "1051363688         1.0        9.0  ...     < 1 mo          True\n",
              "1053919330         2.0        8.0  ...     < 1 mo          True\n",
              "1058260604         1.0        9.0  ...     < 1 mo          True\n",
              "664943371          1.0        4.0  ...   > 24 mos          True\n",
              "664944388          1.0        9.0  ...   > 24 mos          True\n",
              "664948043          1.0        4.0  ...   > 24 mos          True\n",
              "664953588          1.0        3.0  ...  12-24 mos          True\n",
              "664953597          1.0        9.0  ...  12-24 mos          True\n",
              "664953641          1.0        7.0  ...   > 24 mos          True\n",
              "664953712          1.0        4.0  ...   > 24 mos          True\n",
              "748357622          1.0        6.0  ...   6-12 mos          True\n",
              "865058556          2.0        8.0  ...    3-6 mos          True\n",
              "915775592          1.0        8.0  ...    3-6 mos          True\n",
              "952103533          2.0        2.0  ...    3-6 mos          True\n",
              "959862152          1.0        8.0  ...    3-6 mos          True\n",
              "996806497          1.0        7.0  ...    1-3 mos          True\n",
              "998667509          1.0        4.0  ...    1-3 mos          True\n",
              "\n",
              "[25 rows x 9 columns]"
            ]
          },
          "metadata": {
            "tags": []
          },
          "execution_count": 151
        }
      ]
    },
    {
      "cell_type": "code",
      "metadata": {
        "id": "nC-RKUXdec9g"
      },
      "source": [
        "# Add column - is current % opened higher than subscriber's average % opened\n",
        "past_10_emails['higher_open'] = past_10_emails['percent_opened'] > past_10_emails['avg_open_rate']"
      ],
      "execution_count": null,
      "outputs": []
    },
    {
      "cell_type": "code",
      "metadata": {
        "id": "r0WxCKp5ehA2",
        "outputId": "c225768e-f3fb-4911-cded-ca3d8f830c5d",
        "colab": {
          "base_uri": "https://localhost:8080/"
        }
      },
      "source": [
        "# Subscribers who did vs did not have a higher open rate than their average for the past 10 emails\n",
        "past_10_emails['higher_open'].value_counts()"
      ],
      "execution_count": null,
      "outputs": [
        {
          "output_type": "execute_result",
          "data": {
            "text/plain": [
              "False    573\n",
              "True     198\n",
              "Name: higher_open, dtype: int64"
            ]
          },
          "metadata": {
            "tags": []
          },
          "execution_count": 189
        }
      ]
    },
    {
      "cell_type": "code",
      "metadata": {
        "id": "7yv7eALVemzX",
        "outputId": "f0159f31-9acc-41a3-cdba-be8bbe4129ed",
        "colab": {
          "base_uri": "https://localhost:8080/",
          "height": 396
        }
      },
      "source": [
        "# Subscribers with higher open and higher click rates\n",
        "past_10_emails.loc[(past_10_emails['higher_open']==True) & (past_10_emails['higher_click']==True)].drop(columns=[\"location\", 'first_name', 'email'])"
      ],
      "execution_count": null,
      "outputs": [
        {
          "output_type": "execute_result",
          "data": {
            "text/html": [
              "<div>\n",
              "<style scoped>\n",
              "    .dataframe tbody tr th:only-of-type {\n",
              "        vertical-align: middle;\n",
              "    }\n",
              "\n",
              "    .dataframe tbody tr th {\n",
              "        vertical-align: top;\n",
              "    }\n",
              "\n",
              "    .dataframe thead th {\n",
              "        text-align: right;\n",
              "    }\n",
              "</style>\n",
              "<table border=\"1\" class=\"dataframe\">\n",
              "  <thead>\n",
              "    <tr style=\"text-align: right;\">\n",
              "      <th></th>\n",
              "      <th>percent_opened</th>\n",
              "      <th>percent_clicked</th>\n",
              "      <th>avg_click_rate</th>\n",
              "      <th>avg_open_rate</th>\n",
              "      <th>time_cat</th>\n",
              "      <th>higher_click</th>\n",
              "      <th>higher_open</th>\n",
              "      <th>number_emails</th>\n",
              "      <th>median_open</th>\n",
              "      <th>median_click</th>\n",
              "      <th>higher_med_click</th>\n",
              "      <th>higher_med_open</th>\n",
              "    </tr>\n",
              "    <tr>\n",
              "      <th>subscriber_id</th>\n",
              "      <th></th>\n",
              "      <th></th>\n",
              "      <th></th>\n",
              "      <th></th>\n",
              "      <th></th>\n",
              "      <th></th>\n",
              "      <th></th>\n",
              "      <th></th>\n",
              "      <th></th>\n",
              "      <th></th>\n",
              "      <th></th>\n",
              "      <th></th>\n",
              "    </tr>\n",
              "  </thead>\n",
              "  <tbody>\n",
              "    <tr>\n",
              "      <th>1023765079</th>\n",
              "      <td>20.0</td>\n",
              "      <td>20.0</td>\n",
              "      <td>12.90</td>\n",
              "      <td>19.35</td>\n",
              "      <td>1-3 mos</td>\n",
              "      <td>True</td>\n",
              "      <td>True</td>\n",
              "      <td>31</td>\n",
              "      <td>14.29</td>\n",
              "      <td>4.88</td>\n",
              "      <td>True</td>\n",
              "      <td>True</td>\n",
              "    </tr>\n",
              "    <tr>\n",
              "      <th>1024783122</th>\n",
              "      <td>50.0</td>\n",
              "      <td>10.0</td>\n",
              "      <td>8.33</td>\n",
              "      <td>19.44</td>\n",
              "      <td>1-3 mos</td>\n",
              "      <td>True</td>\n",
              "      <td>True</td>\n",
              "      <td>36</td>\n",
              "      <td>14.29</td>\n",
              "      <td>4.88</td>\n",
              "      <td>True</td>\n",
              "      <td>True</td>\n",
              "    </tr>\n",
              "    <tr>\n",
              "      <th>1035257622</th>\n",
              "      <td>80.0</td>\n",
              "      <td>10.0</td>\n",
              "      <td>7.14</td>\n",
              "      <td>67.86</td>\n",
              "      <td>1-3 mos</td>\n",
              "      <td>True</td>\n",
              "      <td>True</td>\n",
              "      <td>28</td>\n",
              "      <td>14.29</td>\n",
              "      <td>4.88</td>\n",
              "      <td>True</td>\n",
              "      <td>True</td>\n",
              "    </tr>\n",
              "    <tr>\n",
              "      <th>1041338971</th>\n",
              "      <td>10.0</td>\n",
              "      <td>20.0</td>\n",
              "      <td>17.39</td>\n",
              "      <td>4.35</td>\n",
              "      <td>1-3 mos</td>\n",
              "      <td>True</td>\n",
              "      <td>True</td>\n",
              "      <td>23</td>\n",
              "      <td>14.29</td>\n",
              "      <td>4.88</td>\n",
              "      <td>True</td>\n",
              "      <td>False</td>\n",
              "    </tr>\n",
              "    <tr>\n",
              "      <th>664943371</th>\n",
              "      <td>50.0</td>\n",
              "      <td>10.0</td>\n",
              "      <td>0.49</td>\n",
              "      <td>25.24</td>\n",
              "      <td>&gt; 24 mos</td>\n",
              "      <td>True</td>\n",
              "      <td>True</td>\n",
              "      <td>207</td>\n",
              "      <td>32.76</td>\n",
              "      <td>0.97</td>\n",
              "      <td>True</td>\n",
              "      <td>True</td>\n",
              "    </tr>\n",
              "    <tr>\n",
              "      <th>664953588</th>\n",
              "      <td>60.0</td>\n",
              "      <td>10.0</td>\n",
              "      <td>7.77</td>\n",
              "      <td>44.66</td>\n",
              "      <td>12-24 mos</td>\n",
              "      <td>True</td>\n",
              "      <td>True</td>\n",
              "      <td>206</td>\n",
              "      <td>14.04</td>\n",
              "      <td>1.44</td>\n",
              "      <td>True</td>\n",
              "      <td>True</td>\n",
              "    </tr>\n",
              "    <tr>\n",
              "      <th>952103533</th>\n",
              "      <td>60.0</td>\n",
              "      <td>20.0</td>\n",
              "      <td>4.84</td>\n",
              "      <td>16.13</td>\n",
              "      <td>3-6 mos</td>\n",
              "      <td>True</td>\n",
              "      <td>True</td>\n",
              "      <td>62</td>\n",
              "      <td>13.33</td>\n",
              "      <td>1.90</td>\n",
              "      <td>True</td>\n",
              "      <td>True</td>\n",
              "    </tr>\n",
              "    <tr>\n",
              "      <th>996806497</th>\n",
              "      <td>20.0</td>\n",
              "      <td>10.0</td>\n",
              "      <td>4.76</td>\n",
              "      <td>11.90</td>\n",
              "      <td>1-3 mos</td>\n",
              "      <td>True</td>\n",
              "      <td>True</td>\n",
              "      <td>42</td>\n",
              "      <td>14.29</td>\n",
              "      <td>4.88</td>\n",
              "      <td>True</td>\n",
              "      <td>True</td>\n",
              "    </tr>\n",
              "    <tr>\n",
              "      <th>998667509</th>\n",
              "      <td>50.0</td>\n",
              "      <td>10.0</td>\n",
              "      <td>2.56</td>\n",
              "      <td>43.59</td>\n",
              "      <td>1-3 mos</td>\n",
              "      <td>True</td>\n",
              "      <td>True</td>\n",
              "      <td>39</td>\n",
              "      <td>14.29</td>\n",
              "      <td>4.88</td>\n",
              "      <td>True</td>\n",
              "      <td>True</td>\n",
              "    </tr>\n",
              "  </tbody>\n",
              "</table>\n",
              "</div>"
            ],
            "text/plain": [
              "               percent_opened  ...  higher_med_open\n",
              "subscriber_id                  ...                 \n",
              "1023765079               20.0  ...             True\n",
              "1024783122               50.0  ...             True\n",
              "1035257622               80.0  ...             True\n",
              "1041338971               10.0  ...            False\n",
              "664943371                50.0  ...             True\n",
              "664953588                60.0  ...             True\n",
              "952103533                60.0  ...             True\n",
              "996806497                20.0  ...             True\n",
              "998667509                50.0  ...             True\n",
              "\n",
              "[9 rows x 12 columns]"
            ]
          },
          "metadata": {
            "tags": []
          },
          "execution_count": 174
        }
      ]
    },
    {
      "cell_type": "code",
      "metadata": {
        "id": "0qkbv6OPrngr"
      },
      "source": [
        "# Save subscriber email and name \n",
        "sub_info = subscriber_data[['email', 'first_name']].copy()"
      ],
      "execution_count": null,
      "outputs": []
    },
    {
      "cell_type": "code",
      "metadata": {
        "id": "1ebiV0AFr7C9"
      },
      "source": [
        "# Merge subscriber email and name into dataframe\n",
        "past_10_emails = past_10_emails.join(sub_info)"
      ],
      "execution_count": null,
      "outputs": []
    },
    {
      "cell_type": "code",
      "metadata": {
        "id": "WVYC8wP1swL-"
      },
      "source": [
        "# Merge total number of emails received into dataframe\n",
        "past_10_emails = past_10_emails.join(total_emails)"
      ],
      "execution_count": null,
      "outputs": []
    },
    {
      "cell_type": "code",
      "metadata": {
        "id": "shYBNj0OwwOs"
      },
      "source": [
        "# Create columns to store median open and click rates for each subscriber age\n",
        "past_10_emails['median_open'] = past_10_emails['time_cat'].map(median_open_cats)\n",
        "past_10_emails['median_click'] = past_10_emails['time_cat'].map(median_click_cats)"
      ],
      "execution_count": null,
      "outputs": []
    },
    {
      "cell_type": "code",
      "metadata": {
        "id": "D60iF8F5xkxO"
      },
      "source": [
        "# Drop columns we no longer need from dataframe\n",
        "past_10_emails.drop(columns=['clicked', 'delivered', 'opened'], inplace=True)"
      ],
      "execution_count": null,
      "outputs": []
    },
    {
      "cell_type": "code",
      "metadata": {
        "id": "C89eFH25yhQl"
      },
      "source": [
        "# Add columns - did the subscriber have a higher open and/or click rate for the\n",
        "# past 10 emails compared with their age cohort\n",
        "past_10_emails['higher_med_click'] = past_10_emails['percent_clicked'] > past_10_emails['median_click']\n",
        "past_10_emails['higher_med_open'] = past_10_emails['percent_opened'] > past_10_emails['median_open']"
      ],
      "execution_count": null,
      "outputs": []
    },
    {
      "cell_type": "code",
      "metadata": {
        "id": "mUaSRyl6xthQ",
        "outputId": "be9578e9-1c54-4257-dc7c-29f478130f86",
        "colab": {
          "base_uri": "https://localhost:8080/",
          "height": 255
        }
      },
      "source": [
        "# Preview data\n",
        "past_10_emails.drop(columns=['location', 'email', 'first_name']).sample(5)"
      ],
      "execution_count": null,
      "outputs": [
        {
          "output_type": "execute_result",
          "data": {
            "text/html": [
              "<div>\n",
              "<style scoped>\n",
              "    .dataframe tbody tr th:only-of-type {\n",
              "        vertical-align: middle;\n",
              "    }\n",
              "\n",
              "    .dataframe tbody tr th {\n",
              "        vertical-align: top;\n",
              "    }\n",
              "\n",
              "    .dataframe thead th {\n",
              "        text-align: right;\n",
              "    }\n",
              "</style>\n",
              "<table border=\"1\" class=\"dataframe\">\n",
              "  <thead>\n",
              "    <tr style=\"text-align: right;\">\n",
              "      <th></th>\n",
              "      <th>percent_opened</th>\n",
              "      <th>percent_clicked</th>\n",
              "      <th>avg_click_rate</th>\n",
              "      <th>avg_open_rate</th>\n",
              "      <th>time_cat</th>\n",
              "      <th>higher_click</th>\n",
              "      <th>higher_open</th>\n",
              "      <th>number_emails</th>\n",
              "      <th>median_open</th>\n",
              "      <th>median_click</th>\n",
              "      <th>higher_med_click</th>\n",
              "      <th>higher_med_open</th>\n",
              "    </tr>\n",
              "    <tr>\n",
              "      <th>subscriber_id</th>\n",
              "      <th></th>\n",
              "      <th></th>\n",
              "      <th></th>\n",
              "      <th></th>\n",
              "      <th></th>\n",
              "      <th></th>\n",
              "      <th></th>\n",
              "      <th></th>\n",
              "      <th></th>\n",
              "      <th></th>\n",
              "      <th></th>\n",
              "      <th></th>\n",
              "    </tr>\n",
              "  </thead>\n",
              "  <tbody>\n",
              "    <tr>\n",
              "      <th>881422781</th>\n",
              "      <td>0.0</td>\n",
              "      <td>0.0</td>\n",
              "      <td>1.04</td>\n",
              "      <td>3.12</td>\n",
              "      <td>3-6 mos</td>\n",
              "      <td>False</td>\n",
              "      <td>False</td>\n",
              "      <td>96</td>\n",
              "      <td>13.27</td>\n",
              "      <td>1.89</td>\n",
              "      <td>False</td>\n",
              "      <td>False</td>\n",
              "    </tr>\n",
              "    <tr>\n",
              "      <th>664953743</th>\n",
              "      <td>70.0</td>\n",
              "      <td>0.0</td>\n",
              "      <td>0.00</td>\n",
              "      <td>64.88</td>\n",
              "      <td>&gt; 24 mos</td>\n",
              "      <td>False</td>\n",
              "      <td>True</td>\n",
              "      <td>205</td>\n",
              "      <td>32.76</td>\n",
              "      <td>0.97</td>\n",
              "      <td>False</td>\n",
              "      <td>True</td>\n",
              "    </tr>\n",
              "    <tr>\n",
              "      <th>992800309</th>\n",
              "      <td>70.0</td>\n",
              "      <td>0.0</td>\n",
              "      <td>7.32</td>\n",
              "      <td>68.29</td>\n",
              "      <td>1-3 mos</td>\n",
              "      <td>False</td>\n",
              "      <td>True</td>\n",
              "      <td>41</td>\n",
              "      <td>14.29</td>\n",
              "      <td>4.88</td>\n",
              "      <td>False</td>\n",
              "      <td>True</td>\n",
              "    </tr>\n",
              "    <tr>\n",
              "      <th>1015002175</th>\n",
              "      <td>10.0</td>\n",
              "      <td>0.0</td>\n",
              "      <td>0.00</td>\n",
              "      <td>8.82</td>\n",
              "      <td>1-3 mos</td>\n",
              "      <td>False</td>\n",
              "      <td>True</td>\n",
              "      <td>34</td>\n",
              "      <td>14.29</td>\n",
              "      <td>4.88</td>\n",
              "      <td>False</td>\n",
              "      <td>False</td>\n",
              "    </tr>\n",
              "    <tr>\n",
              "      <th>1042047284</th>\n",
              "      <td>10.0</td>\n",
              "      <td>0.0</td>\n",
              "      <td>4.17</td>\n",
              "      <td>8.33</td>\n",
              "      <td>&lt; 1 mo</td>\n",
              "      <td>False</td>\n",
              "      <td>True</td>\n",
              "      <td>24</td>\n",
              "      <td>33.33</td>\n",
              "      <td>11.43</td>\n",
              "      <td>False</td>\n",
              "      <td>False</td>\n",
              "    </tr>\n",
              "  </tbody>\n",
              "</table>\n",
              "</div>"
            ],
            "text/plain": [
              "               percent_opened  ...  higher_med_open\n",
              "subscriber_id                  ...                 \n",
              "881422781                 0.0  ...            False\n",
              "664953743                70.0  ...             True\n",
              "992800309                70.0  ...             True\n",
              "1015002175               10.0  ...            False\n",
              "1042047284               10.0  ...            False\n",
              "\n",
              "[5 rows x 12 columns]"
            ]
          },
          "metadata": {
            "tags": []
          },
          "execution_count": 198
        }
      ]
    },
    {
      "cell_type": "code",
      "metadata": {
        "id": "QYMfhzAzs_S1",
        "outputId": "38cc0a55-ee41-43ce-dc3d-7150efaaedcf",
        "colab": {
          "base_uri": "https://localhost:8080/"
        }
      },
      "source": [
        "# Subscribers who have received exactly 10 emails\n",
        "past_10_emails.loc[past_10_emails['number_emails']==10].shape[0]"
      ],
      "execution_count": null,
      "outputs": [
        {
          "output_type": "execute_result",
          "data": {
            "text/plain": [
              "5"
            ]
          },
          "metadata": {
            "tags": []
          },
          "execution_count": 200
        }
      ]
    },
    {
      "cell_type": "code",
      "metadata": {
        "id": "OaQCTDC-x6Xx",
        "outputId": "36abe713-52d8-461c-c307-053254a0214a",
        "colab": {
          "base_uri": "https://localhost:8080/"
        }
      },
      "source": [
        "# Distribution - number of subscribers who have received 10, 11, 12...20 emails\n",
        "past_10_emails['number_emails'].value_counts().sort_index().head(10)"
      ],
      "execution_count": null,
      "outputs": [
        {
          "output_type": "execute_result",
          "data": {
            "text/plain": [
              "10     5\n",
              "11    14\n",
              "12    10\n",
              "13    12\n",
              "14     2\n",
              "15     6\n",
              "16     1\n",
              "17     7\n",
              "18     2\n",
              "19     2\n",
              "Name: number_emails, dtype: int64"
            ]
          },
          "metadata": {
            "tags": []
          },
          "execution_count": 201
        }
      ]
    },
    {
      "cell_type": "code",
      "metadata": {
        "id": "FAUdFdw7uivo",
        "outputId": "cb93635e-4cea-49e6-802d-a2b407ae4b65",
        "colab": {
          "base_uri": "https://localhost:8080/",
          "height": 365
        }
      },
      "source": [
        "# Subscribers who have higher open and click rates then their average AND than their \n",
        "# subscriber age group's average\n",
        "past_10_emails.loc[(past_10_emails['higher_open']==True) & (past_10_emails['higher_click']==True) & (past_10_emails['higher_med_click']==True) & (past_10_emails['higher_med_open']==True)].drop(columns=['location', 'first_name', 'email']) "
      ],
      "execution_count": null,
      "outputs": [
        {
          "output_type": "execute_result",
          "data": {
            "text/html": [
              "<div>\n",
              "<style scoped>\n",
              "    .dataframe tbody tr th:only-of-type {\n",
              "        vertical-align: middle;\n",
              "    }\n",
              "\n",
              "    .dataframe tbody tr th {\n",
              "        vertical-align: top;\n",
              "    }\n",
              "\n",
              "    .dataframe thead th {\n",
              "        text-align: right;\n",
              "    }\n",
              "</style>\n",
              "<table border=\"1\" class=\"dataframe\">\n",
              "  <thead>\n",
              "    <tr style=\"text-align: right;\">\n",
              "      <th></th>\n",
              "      <th>percent_opened</th>\n",
              "      <th>percent_clicked</th>\n",
              "      <th>avg_click_rate</th>\n",
              "      <th>avg_open_rate</th>\n",
              "      <th>time_cat</th>\n",
              "      <th>higher_click</th>\n",
              "      <th>higher_open</th>\n",
              "      <th>number_emails</th>\n",
              "      <th>median_open</th>\n",
              "      <th>median_click</th>\n",
              "      <th>higher_med_click</th>\n",
              "      <th>higher_med_open</th>\n",
              "    </tr>\n",
              "    <tr>\n",
              "      <th>subscriber_id</th>\n",
              "      <th></th>\n",
              "      <th></th>\n",
              "      <th></th>\n",
              "      <th></th>\n",
              "      <th></th>\n",
              "      <th></th>\n",
              "      <th></th>\n",
              "      <th></th>\n",
              "      <th></th>\n",
              "      <th></th>\n",
              "      <th></th>\n",
              "      <th></th>\n",
              "    </tr>\n",
              "  </thead>\n",
              "  <tbody>\n",
              "    <tr>\n",
              "      <th>1023765079</th>\n",
              "      <td>20.0</td>\n",
              "      <td>20.0</td>\n",
              "      <td>12.90</td>\n",
              "      <td>19.35</td>\n",
              "      <td>1-3 mos</td>\n",
              "      <td>True</td>\n",
              "      <td>True</td>\n",
              "      <td>31</td>\n",
              "      <td>14.29</td>\n",
              "      <td>4.88</td>\n",
              "      <td>True</td>\n",
              "      <td>True</td>\n",
              "    </tr>\n",
              "    <tr>\n",
              "      <th>1024783122</th>\n",
              "      <td>50.0</td>\n",
              "      <td>10.0</td>\n",
              "      <td>8.33</td>\n",
              "      <td>19.44</td>\n",
              "      <td>1-3 mos</td>\n",
              "      <td>True</td>\n",
              "      <td>True</td>\n",
              "      <td>36</td>\n",
              "      <td>14.29</td>\n",
              "      <td>4.88</td>\n",
              "      <td>True</td>\n",
              "      <td>True</td>\n",
              "    </tr>\n",
              "    <tr>\n",
              "      <th>1035257622</th>\n",
              "      <td>80.0</td>\n",
              "      <td>10.0</td>\n",
              "      <td>7.14</td>\n",
              "      <td>67.86</td>\n",
              "      <td>1-3 mos</td>\n",
              "      <td>True</td>\n",
              "      <td>True</td>\n",
              "      <td>28</td>\n",
              "      <td>14.29</td>\n",
              "      <td>4.88</td>\n",
              "      <td>True</td>\n",
              "      <td>True</td>\n",
              "    </tr>\n",
              "    <tr>\n",
              "      <th>664943371</th>\n",
              "      <td>50.0</td>\n",
              "      <td>10.0</td>\n",
              "      <td>0.49</td>\n",
              "      <td>25.24</td>\n",
              "      <td>&gt; 24 mos</td>\n",
              "      <td>True</td>\n",
              "      <td>True</td>\n",
              "      <td>207</td>\n",
              "      <td>32.76</td>\n",
              "      <td>0.97</td>\n",
              "      <td>True</td>\n",
              "      <td>True</td>\n",
              "    </tr>\n",
              "    <tr>\n",
              "      <th>664953588</th>\n",
              "      <td>60.0</td>\n",
              "      <td>10.0</td>\n",
              "      <td>7.77</td>\n",
              "      <td>44.66</td>\n",
              "      <td>12-24 mos</td>\n",
              "      <td>True</td>\n",
              "      <td>True</td>\n",
              "      <td>206</td>\n",
              "      <td>14.69</td>\n",
              "      <td>1.44</td>\n",
              "      <td>True</td>\n",
              "      <td>True</td>\n",
              "    </tr>\n",
              "    <tr>\n",
              "      <th>952103533</th>\n",
              "      <td>60.0</td>\n",
              "      <td>20.0</td>\n",
              "      <td>4.84</td>\n",
              "      <td>16.13</td>\n",
              "      <td>3-6 mos</td>\n",
              "      <td>True</td>\n",
              "      <td>True</td>\n",
              "      <td>62</td>\n",
              "      <td>13.27</td>\n",
              "      <td>1.89</td>\n",
              "      <td>True</td>\n",
              "      <td>True</td>\n",
              "    </tr>\n",
              "    <tr>\n",
              "      <th>996806497</th>\n",
              "      <td>20.0</td>\n",
              "      <td>10.0</td>\n",
              "      <td>4.76</td>\n",
              "      <td>11.90</td>\n",
              "      <td>1-3 mos</td>\n",
              "      <td>True</td>\n",
              "      <td>True</td>\n",
              "      <td>42</td>\n",
              "      <td>14.29</td>\n",
              "      <td>4.88</td>\n",
              "      <td>True</td>\n",
              "      <td>True</td>\n",
              "    </tr>\n",
              "    <tr>\n",
              "      <th>998667509</th>\n",
              "      <td>50.0</td>\n",
              "      <td>10.0</td>\n",
              "      <td>2.56</td>\n",
              "      <td>43.59</td>\n",
              "      <td>1-3 mos</td>\n",
              "      <td>True</td>\n",
              "      <td>True</td>\n",
              "      <td>39</td>\n",
              "      <td>14.29</td>\n",
              "      <td>4.88</td>\n",
              "      <td>True</td>\n",
              "      <td>True</td>\n",
              "    </tr>\n",
              "  </tbody>\n",
              "</table>\n",
              "</div>"
            ],
            "text/plain": [
              "               percent_opened  ...  higher_med_open\n",
              "subscriber_id                  ...                 \n",
              "1023765079               20.0  ...             True\n",
              "1024783122               50.0  ...             True\n",
              "1035257622               80.0  ...             True\n",
              "664943371                50.0  ...             True\n",
              "664953588                60.0  ...             True\n",
              "952103533                60.0  ...             True\n",
              "996806497                20.0  ...             True\n",
              "998667509                50.0  ...             True\n",
              "\n",
              "[8 rows x 12 columns]"
            ]
          },
          "metadata": {
            "tags": []
          },
          "execution_count": 202
        }
      ]
    },
    {
      "cell_type": "markdown",
      "metadata": {
        "id": "51UCecScL8_9"
      },
      "source": [
        "### Subscribers (> 10 emails received) With Higher Open and Click Rates "
      ]
    },
    {
      "cell_type": "markdown",
      "metadata": {
        "id": "K5sjT20lMHUw"
      },
      "source": [
        "high_click_list and high_open_list are subscribers who have been on our email list for > 1 month and for the last 10 emails, have clicked on more emails or opened more emails than their individual average open and click rates. \n",
        "\n",
        "This are the subscribers we will target in our 30 day action plan. We can fine tune the criteria to select these subscribers based on the results we get."
      ]
    },
    {
      "cell_type": "code",
      "metadata": {
        "id": "CkP6VsccLG1D"
      },
      "source": [
        "# Our high click list will be subscribers who have clicked on more emails than their average in the past 10 emails\n",
        "high_click_list = past_10_emails.loc[past_10_emails['higher_click'] == True]"
      ],
      "execution_count": null,
      "outputs": []
    },
    {
      "cell_type": "code",
      "metadata": {
        "id": "rRmy43Rd-WG-"
      },
      "source": [
        "# Save relevant information in a dataframe\n",
        "high_click_list = pd.DataFrame(high_click_list, columns=['email', 'first_name', 'location'])"
      ],
      "execution_count": null,
      "outputs": []
    },
    {
      "cell_type": "code",
      "metadata": {
        "id": "YO3IOD5xWdHZ"
      },
      "source": [
        "# Preview data - REMOVED \n",
        "high_click_list"
      ],
      "execution_count": null,
      "outputs": []
    },
    {
      "cell_type": "code",
      "metadata": {
        "id": "x9YpqyFHLryc"
      },
      "source": [
        "# Our high open list will be subscribers who have opened more emails than their average in the past 10 emails\n",
        "high_open_list = past_10_emails.loc[past_10_emails['higher_open'] == True]"
      ],
      "execution_count": null,
      "outputs": []
    },
    {
      "cell_type": "code",
      "metadata": {
        "id": "gwxSwgDq_foE"
      },
      "source": [
        "# Save relevant information in a dataframe\n",
        "high_open_list = pd.DataFrame(high_open_list, columns=['email', 'first_name', 'location'])"
      ],
      "execution_count": null,
      "outputs": []
    },
    {
      "cell_type": "code",
      "metadata": {
        "id": "qP8x6nkhL5j2",
        "outputId": "0627c608-b8e8-4aee-acbf-5a825f5ab86d",
        "colab": {
          "base_uri": "https://localhost:8080/"
        }
      },
      "source": [
        "# Number of subscribers on high open list\n",
        "len(high_open_list)"
      ],
      "execution_count": null,
      "outputs": [
        {
          "output_type": "execute_result",
          "data": {
            "text/plain": [
              "198"
            ]
          },
          "metadata": {
            "tags": []
          },
          "execution_count": 131
        }
      ]
    },
    {
      "cell_type": "markdown",
      "metadata": {
        "id": "eP-_Jz89hQcI"
      },
      "source": [
        "We will also need to check for duplicates, to make sure that we don't accidentally contact the same subscriber multiple times.\n",
        "\n",
        "If a subscriber is on both the high click list and high open list, we will remove them from the high open list, as having higher click activity is more significant."
      ]
    },
    {
      "cell_type": "code",
      "metadata": {
        "id": "SL4C_kN4_6SQ"
      },
      "source": [
        "# Create a list of duplicates\n",
        "duplicates = high_open_list.loc[high_open_list['email'].isin(high_click_list['email'].to_list())]\n",
        "duplicates"
      ],
      "execution_count": null,
      "outputs": []
    },
    {
      "cell_type": "code",
      "metadata": {
        "id": "5MCBiktAL06a"
      },
      "source": [
        "# Remove these duplicates from the high open list\n",
        "high_open_list = high_open_list.drop(duplicates.index)"
      ],
      "execution_count": null,
      "outputs": []
    },
    {
      "cell_type": "markdown",
      "metadata": {
        "id": "PE4ISl5OH-jr"
      },
      "source": [
        "### Top Click Rates for New Subscribers (< 1 month on email list)"
      ]
    },
    {
      "cell_type": "markdown",
      "metadata": {
        "id": "v3Gmx_cMh0h5"
      },
      "source": [
        "Our new subscribers (< 1 month on email list, in Broadcast segment, have received at least 5 emails) are a special case. From our previous analysis of our subscriber data, we know that subscribers are most likely to buy our target product very soon after joining our email list. Subscribers also tend to be more engaged soon after joining our list. We will target the top 10% most active new subscribers, as measured by their click rates, in our 30 day action plan."
      ]
    },
    {
      "cell_type": "code",
      "metadata": {
        "id": "fX9Q2UQF0oEc"
      },
      "source": [
        "# Filter data for subscribers who have been our our list < 1 month\n",
        "one_mo_less = bcast_seg.loc[bcast_seg['time_cat'] == '< 1 mo'].copy()"
      ],
      "execution_count": null,
      "outputs": []
    },
    {
      "cell_type": "code",
      "metadata": {
        "id": "8ODTf5lWITi9"
      },
      "source": [
        "# Find the top 10% of these new subscribers with the highest click rates\n",
        "top_new_subs = one_mo_less.sort_values('percent_clicked', ascending=False).head(int(one_mo_less.shape[0]*.1))"
      ],
      "execution_count": null,
      "outputs": []
    },
    {
      "cell_type": "code",
      "metadata": {
        "id": "82BP7mwgJyXg",
        "outputId": "7f27cfd7-ce83-472f-be1b-db88bf9b746b",
        "colab": {
          "base_uri": "https://localhost:8080/",
          "height": 441
        }
      },
      "source": [
        "# Add in location data and preview list\n",
        "top_new_subs = top_new_subs.join(location_data)\n",
        "top_new_subs.drop(columns=['location', 'first_name', 'email'])"
      ],
      "execution_count": null,
      "outputs": [
        {
          "output_type": "execute_result",
          "data": {
            "text/html": [
              "<div>\n",
              "<style scoped>\n",
              "    .dataframe tbody tr th:only-of-type {\n",
              "        vertical-align: middle;\n",
              "    }\n",
              "\n",
              "    .dataframe tbody tr th {\n",
              "        vertical-align: top;\n",
              "    }\n",
              "\n",
              "    .dataframe thead th {\n",
              "        text-align: right;\n",
              "    }\n",
              "</style>\n",
              "<table border=\"1\" class=\"dataframe\">\n",
              "  <thead>\n",
              "    <tr style=\"text-align: right;\">\n",
              "      <th></th>\n",
              "      <th>emails_clicked</th>\n",
              "      <th>emails_delivered</th>\n",
              "      <th>emails_opened</th>\n",
              "      <th>percent_clicked</th>\n",
              "      <th>percent_delivered</th>\n",
              "      <th>percent_opened</th>\n",
              "      <th>BBB_Purchased</th>\n",
              "      <th>segments</th>\n",
              "      <th>subscription_date</th>\n",
              "      <th>time_since_sub</th>\n",
              "      <th>time_cat</th>\n",
              "    </tr>\n",
              "    <tr>\n",
              "      <th>subscriber_id</th>\n",
              "      <th></th>\n",
              "      <th></th>\n",
              "      <th></th>\n",
              "      <th></th>\n",
              "      <th></th>\n",
              "      <th></th>\n",
              "      <th></th>\n",
              "      <th></th>\n",
              "      <th></th>\n",
              "      <th></th>\n",
              "      <th></th>\n",
              "    </tr>\n",
              "  </thead>\n",
              "  <tbody>\n",
              "    <tr>\n",
              "      <th>1066508183</th>\n",
              "      <td>4.0</td>\n",
              "      <td>3.0</td>\n",
              "      <td>NaN</td>\n",
              "      <td>57.14</td>\n",
              "      <td>42.86</td>\n",
              "      <td>NaN</td>\n",
              "      <td>No</td>\n",
              "      <td>Broadcast</td>\n",
              "      <td>2020-11-11</td>\n",
              "      <td>6.0</td>\n",
              "      <td>&lt; 1 mo</td>\n",
              "    </tr>\n",
              "    <tr>\n",
              "      <th>1060929923</th>\n",
              "      <td>6.0</td>\n",
              "      <td>6.0</td>\n",
              "      <td>3.0</td>\n",
              "      <td>40.00</td>\n",
              "      <td>40.00</td>\n",
              "      <td>20.00</td>\n",
              "      <td>No</td>\n",
              "      <td>Broadcast</td>\n",
              "      <td>2020-11-06</td>\n",
              "      <td>11.0</td>\n",
              "      <td>&lt; 1 mo</td>\n",
              "    </tr>\n",
              "    <tr>\n",
              "      <th>1063677492</th>\n",
              "      <td>2.0</td>\n",
              "      <td>3.0</td>\n",
              "      <td>2.0</td>\n",
              "      <td>28.57</td>\n",
              "      <td>42.86</td>\n",
              "      <td>28.57</td>\n",
              "      <td>No</td>\n",
              "      <td>Broadcast</td>\n",
              "      <td>2020-11-08</td>\n",
              "      <td>9.0</td>\n",
              "      <td>&lt; 1 mo</td>\n",
              "    </tr>\n",
              "    <tr>\n",
              "      <th>1053323752</th>\n",
              "      <td>3.0</td>\n",
              "      <td>8.0</td>\n",
              "      <td>NaN</td>\n",
              "      <td>27.27</td>\n",
              "      <td>72.73</td>\n",
              "      <td>NaN</td>\n",
              "      <td>No</td>\n",
              "      <td>Broadcast</td>\n",
              "      <td>2020-10-29</td>\n",
              "      <td>19.0</td>\n",
              "      <td>&lt; 1 mo</td>\n",
              "    </tr>\n",
              "    <tr>\n",
              "      <th>1060901892</th>\n",
              "      <td>3.0</td>\n",
              "      <td>1.0</td>\n",
              "      <td>7.0</td>\n",
              "      <td>27.27</td>\n",
              "      <td>9.09</td>\n",
              "      <td>63.64</td>\n",
              "      <td>No</td>\n",
              "      <td>Broadcast</td>\n",
              "      <td>2020-11-06</td>\n",
              "      <td>11.0</td>\n",
              "      <td>&lt; 1 mo</td>\n",
              "    </tr>\n",
              "    <tr>\n",
              "      <th>1050712067</th>\n",
              "      <td>4.0</td>\n",
              "      <td>7.0</td>\n",
              "      <td>4.0</td>\n",
              "      <td>26.67</td>\n",
              "      <td>46.67</td>\n",
              "      <td>26.67</td>\n",
              "      <td>No</td>\n",
              "      <td>Broadcast</td>\n",
              "      <td>2020-10-27</td>\n",
              "      <td>21.0</td>\n",
              "      <td>&lt; 1 mo</td>\n",
              "    </tr>\n",
              "    <tr>\n",
              "      <th>1056407140</th>\n",
              "      <td>3.0</td>\n",
              "      <td>4.0</td>\n",
              "      <td>6.0</td>\n",
              "      <td>23.08</td>\n",
              "      <td>30.77</td>\n",
              "      <td>46.15</td>\n",
              "      <td>No</td>\n",
              "      <td>Broadcast</td>\n",
              "      <td>2020-11-02</td>\n",
              "      <td>15.0</td>\n",
              "      <td>&lt; 1 mo</td>\n",
              "    </tr>\n",
              "    <tr>\n",
              "      <th>1066209280</th>\n",
              "      <td>2.0</td>\n",
              "      <td>4.0</td>\n",
              "      <td>3.0</td>\n",
              "      <td>22.22</td>\n",
              "      <td>44.44</td>\n",
              "      <td>33.33</td>\n",
              "      <td>No</td>\n",
              "      <td>Broadcast</td>\n",
              "      <td>2020-11-10</td>\n",
              "      <td>7.0</td>\n",
              "      <td>&lt; 1 mo</td>\n",
              "    </tr>\n",
              "    <tr>\n",
              "      <th>1056532645</th>\n",
              "      <td>2.0</td>\n",
              "      <td>7.0</td>\n",
              "      <td>1.0</td>\n",
              "      <td>20.00</td>\n",
              "      <td>70.00</td>\n",
              "      <td>10.00</td>\n",
              "      <td>No</td>\n",
              "      <td>Broadcast</td>\n",
              "      <td>2020-11-02</td>\n",
              "      <td>15.0</td>\n",
              "      <td>&lt; 1 mo</td>\n",
              "    </tr>\n",
              "    <tr>\n",
              "      <th>1053919330</th>\n",
              "      <td>2.0</td>\n",
              "      <td>9.0</td>\n",
              "      <td>NaN</td>\n",
              "      <td>18.18</td>\n",
              "      <td>81.82</td>\n",
              "      <td>NaN</td>\n",
              "      <td>No</td>\n",
              "      <td>Broadcast</td>\n",
              "      <td>2020-10-30</td>\n",
              "      <td>18.0</td>\n",
              "      <td>&lt; 1 mo</td>\n",
              "    </tr>\n",
              "    <tr>\n",
              "      <th>1041338971</th>\n",
              "      <td>4.0</td>\n",
              "      <td>18.0</td>\n",
              "      <td>1.0</td>\n",
              "      <td>17.39</td>\n",
              "      <td>78.26</td>\n",
              "      <td>4.35</td>\n",
              "      <td>No</td>\n",
              "      <td>Broadcast</td>\n",
              "      <td>2020-10-19</td>\n",
              "      <td>29.0</td>\n",
              "      <td>&lt; 1 mo</td>\n",
              "    </tr>\n",
              "  </tbody>\n",
              "</table>\n",
              "</div>"
            ],
            "text/plain": [
              "               emails_clicked  emails_delivered  ...  time_since_sub  time_cat\n",
              "subscriber_id                                    ...                          \n",
              "1066508183                4.0               3.0  ...             6.0    < 1 mo\n",
              "1060929923                6.0               6.0  ...            11.0    < 1 mo\n",
              "1063677492                2.0               3.0  ...             9.0    < 1 mo\n",
              "1053323752                3.0               8.0  ...            19.0    < 1 mo\n",
              "1060901892                3.0               1.0  ...            11.0    < 1 mo\n",
              "1050712067                4.0               7.0  ...            21.0    < 1 mo\n",
              "1056407140                3.0               4.0  ...            15.0    < 1 mo\n",
              "1066209280                2.0               4.0  ...             7.0    < 1 mo\n",
              "1056532645                2.0               7.0  ...            15.0    < 1 mo\n",
              "1053919330                2.0               9.0  ...            18.0    < 1 mo\n",
              "1041338971                4.0              18.0  ...            29.0    < 1 mo\n",
              "\n",
              "[11 rows x 11 columns]"
            ]
          },
          "metadata": {
            "tags": []
          },
          "execution_count": 207
        }
      ]
    },
    {
      "cell_type": "code",
      "metadata": {
        "id": "pz4dnC6FKVXo"
      },
      "source": [
        "# Save relevant information into top_new_subs dataframe\n",
        "top_new_subs = pd.DataFrame(top_new_subs, columns=['email', 'first_name', 'location'])"
      ],
      "execution_count": null,
      "outputs": []
    },
    {
      "cell_type": "code",
      "metadata": {
        "id": "YplWD6GmKbMw"
      },
      "source": [
        "# Preview dataframe\n",
        "top_new_subs"
      ],
      "execution_count": null,
      "outputs": []
    },
    {
      "cell_type": "markdown",
      "metadata": {
        "id": "-YQU9Mobjgk8"
      },
      "source": [
        "We also need to check for duplicates with our high open and high click rates. We will drop any duplicates from our high open and high click rates list, as being a new subscriber AND having a high click rate takes precedence over having just a high click rate or a high open rate."
      ]
    },
    {
      "cell_type": "code",
      "metadata": {
        "id": "TxpvHs8hFvY1"
      },
      "source": [
        "# Check for duplicates in high click list\n",
        "dups_click = top_new_subs.loc[top_new_subs['email'].isin(high_click_list['email'].to_list())]"
      ],
      "execution_count": null,
      "outputs": []
    },
    {
      "cell_type": "code",
      "metadata": {
        "id": "Few47K2GF48t"
      },
      "source": [
        "# Check for duplicates in high open list\n",
        "dups_open = top_new_subs.loc[top_new_subs['email'].isin(high_open_list['email'].to_list())]"
      ],
      "execution_count": null,
      "outputs": []
    },
    {
      "cell_type": "code",
      "metadata": {
        "id": "Xwfz9foiJ10l"
      },
      "source": [
        "# Drop duplicates from high click and high open list\n",
        "high_click_list = high_click_list.drop(dups_click.index)\n",
        "high_open_list = high_open_list.drop(dups_open.index)"
      ],
      "execution_count": null,
      "outputs": []
    },
    {
      "cell_type": "code",
      "metadata": {
        "id": "etcdDb-xXI3S"
      },
      "source": [
        "# Add a status column - which category does the subscriber fall in\n",
        "high_open_list['status'] = 'Higher Opens'\n",
        "high_click_list['status'] = 'Higher Clicks'\n",
        "top_new_subs['status'] = 'New + Very Active'"
      ],
      "execution_count": null,
      "outputs": []
    },
    {
      "cell_type": "code",
      "metadata": {
        "id": "AOtN77KmZDTQ"
      },
      "source": [
        "# Create one hot_subs dataframe, that has our higher open, higher click, and top new subscribers in one place\n",
        "hot_subs = pd.concat([high_click_list, high_open_list, top_new_subs])"
      ],
      "execution_count": null,
      "outputs": []
    },
    {
      "cell_type": "code",
      "metadata": {
        "id": "tZTXByF0ZhXT"
      },
      "source": [
        "# Clean location data\n",
        "hot_subs['location'] = hot_subs['location'].str.replace('None, None', '')"
      ],
      "execution_count": null,
      "outputs": []
    },
    {
      "cell_type": "code",
      "metadata": {
        "id": "3rakbE5-ZDEh"
      },
      "source": [
        "# Preview hot_subs\n",
        "hot_subs"
      ],
      "execution_count": null,
      "outputs": []
    },
    {
      "cell_type": "markdown",
      "metadata": {
        "id": "8zehpBiLk7lq"
      },
      "source": [
        "For the most active hot subscribers (top new subscribers and higher click subscribers), we will also get the tags they are subscribed to. This may help us spot trends and/or better refine our messaging."
      ]
    },
    {
      "cell_type": "code",
      "metadata": {
        "id": "CltSZl38aVNE"
      },
      "source": [
        "# Create a list of ids for high click and top new subscribers\n",
        "hot_subs_tags = high_click_list.index.append(top_new_subs.index)"
      ],
      "execution_count": null,
      "outputs": []
    },
    {
      "cell_type": "code",
      "metadata": {
        "id": "DRKAWtMz_epR"
      },
      "source": [
        "# Get tags these subscribers are subscribed to \n",
        "hot_subs_tag_info = {}\n",
        "def get_tags(lis, dic):\n",
        "  for id in lis:\n",
        "    url = 'https://api.convertkit.com/v3/subscribers/' + id + '/tags?api_key=REMOVED'\n",
        "    response = requests.get(url)\n",
        "    response_j = response.json()\n",
        "    tag_list = []\n",
        "    for tag in response_j['tags']:\n",
        "      tag_list.append(tag['name'])\n",
        "      dic[id] = tag_list\n",
        "\n",
        "get_tags(hot_subs_tags, hot_subs_tag_info)"
      ],
      "execution_count": null,
      "outputs": []
    },
    {
      "cell_type": "code",
      "metadata": {
        "id": "4yIl1p_5bIRE"
      },
      "source": [
        "# Load tag data into dataframe\n",
        "hot_subs_tag_info = pd.DataFrame.from_dict(hot_subs_tag_info, orient='index')"
      ],
      "execution_count": null,
      "outputs": []
    },
    {
      "cell_type": "code",
      "metadata": {
        "id": "tc4ZfBNIlXqd",
        "outputId": "8aa565f4-c78e-43b4-f8b8-d283f4007fd0",
        "colab": {
          "base_uri": "https://localhost:8080/",
          "height": 264
        }
      },
      "source": [
        "# Preview tags for several subscribers\n",
        "hot_subs_tag_info.sample(3)"
      ],
      "execution_count": null,
      "outputs": [
        {
          "output_type": "execute_result",
          "data": {
            "text/html": [
              "<div>\n",
              "<style scoped>\n",
              "    .dataframe tbody tr th:only-of-type {\n",
              "        vertical-align: middle;\n",
              "    }\n",
              "\n",
              "    .dataframe tbody tr th {\n",
              "        vertical-align: top;\n",
              "    }\n",
              "\n",
              "    .dataframe thead th {\n",
              "        text-align: right;\n",
              "    }\n",
              "</style>\n",
              "<table border=\"1\" class=\"dataframe\">\n",
              "  <thead>\n",
              "    <tr style=\"text-align: right;\">\n",
              "      <th></th>\n",
              "      <th>0</th>\n",
              "      <th>1</th>\n",
              "      <th>2</th>\n",
              "      <th>3</th>\n",
              "      <th>4</th>\n",
              "      <th>5</th>\n",
              "      <th>6</th>\n",
              "      <th>7</th>\n",
              "      <th>8</th>\n",
              "      <th>9</th>\n",
              "      <th>10</th>\n",
              "      <th>11</th>\n",
              "      <th>12</th>\n",
              "      <th>13</th>\n",
              "      <th>14</th>\n",
              "      <th>15</th>\n",
              "      <th>16</th>\n",
              "      <th>17</th>\n",
              "      <th>18</th>\n",
              "      <th>19</th>\n",
              "      <th>20</th>\n",
              "      <th>21</th>\n",
              "      <th>22</th>\n",
              "      <th>23</th>\n",
              "      <th>24</th>\n",
              "      <th>25</th>\n",
              "      <th>26</th>\n",
              "      <th>27</th>\n",
              "      <th>28</th>\n",
              "      <th>29</th>\n",
              "      <th>30</th>\n",
              "      <th>31</th>\n",
              "      <th>32</th>\n",
              "    </tr>\n",
              "  </thead>\n",
              "  <tbody>\n",
              "    <tr>\n",
              "      <th>664953641</th>\n",
              "      <td>2019Launch-TransformationPackage</td>\n",
              "      <td>2020.01.13-BoTManualStart</td>\n",
              "      <td>BBB-Sales</td>\n",
              "      <td>ImportedFromMC</td>\n",
              "      <td>TransformationPackage-BeginDeadline-SOSLaunch</td>\n",
              "      <td>None</td>\n",
              "      <td>None</td>\n",
              "      <td>None</td>\n",
              "      <td>None</td>\n",
              "      <td>None</td>\n",
              "      <td>None</td>\n",
              "      <td>None</td>\n",
              "      <td>None</td>\n",
              "      <td>None</td>\n",
              "      <td>None</td>\n",
              "      <td>None</td>\n",
              "      <td>None</td>\n",
              "      <td>None</td>\n",
              "      <td>None</td>\n",
              "      <td>None</td>\n",
              "      <td>None</td>\n",
              "      <td>None</td>\n",
              "      <td>None</td>\n",
              "      <td>None</td>\n",
              "      <td>None</td>\n",
              "      <td>None</td>\n",
              "      <td>None</td>\n",
              "      <td>None</td>\n",
              "      <td>None</td>\n",
              "      <td>None</td>\n",
              "      <td>None</td>\n",
              "      <td>None</td>\n",
              "      <td>None</td>\n",
              "    </tr>\n",
              "    <tr>\n",
              "      <th>1066209280</th>\n",
              "      <td>AgeRange-GreaterThan40</td>\n",
              "      <td>FreeCaseStudy-Link-Download-Any</td>\n",
              "      <td>FreeCaseStudy-Link-Download-Diksha</td>\n",
              "      <td>Gender-Female</td>\n",
              "      <td>HeightRange-5ft3To5ft5</td>\n",
              "      <td>LeadMagnet</td>\n",
              "      <td>PCOS-No</td>\n",
              "      <td>Sequence-PreWorkshop-Done</td>\n",
              "      <td>WeightRange-MoreThan190</td>\n",
              "      <td>None</td>\n",
              "      <td>None</td>\n",
              "      <td>None</td>\n",
              "      <td>None</td>\n",
              "      <td>None</td>\n",
              "      <td>None</td>\n",
              "      <td>None</td>\n",
              "      <td>None</td>\n",
              "      <td>None</td>\n",
              "      <td>None</td>\n",
              "      <td>None</td>\n",
              "      <td>None</td>\n",
              "      <td>None</td>\n",
              "      <td>None</td>\n",
              "      <td>None</td>\n",
              "      <td>None</td>\n",
              "      <td>None</td>\n",
              "      <td>None</td>\n",
              "      <td>None</td>\n",
              "      <td>None</td>\n",
              "      <td>None</td>\n",
              "      <td>None</td>\n",
              "      <td>None</td>\n",
              "      <td>None</td>\n",
              "    </tr>\n",
              "    <tr>\n",
              "      <th>1050368065</th>\n",
              "      <td>ChatCoaching-Invited</td>\n",
              "      <td>Gender-Male</td>\n",
              "      <td>Goal-LoseFat</td>\n",
              "      <td>Link-Video-PCOS-Supplements</td>\n",
              "      <td>Past-CalorieMacroCount</td>\n",
              "      <td>Past-Diet</td>\n",
              "      <td>Past-WorkoutProgram</td>\n",
              "      <td>RecentProgress-No</td>\n",
              "      <td>RecentTry-Yes</td>\n",
              "      <td>Sequence-PostWorkshop-Done</td>\n",
              "      <td>Sequence-PreWorkshop-Done</td>\n",
              "      <td>Tendency-Upholder</td>\n",
              "      <td>WillingToPay-1000-2000</td>\n",
              "      <td>Workshop-BBB-Registered</td>\n",
              "      <td>Workshop-BBB-Replay</td>\n",
              "      <td>None</td>\n",
              "      <td>None</td>\n",
              "      <td>None</td>\n",
              "      <td>None</td>\n",
              "      <td>None</td>\n",
              "      <td>None</td>\n",
              "      <td>None</td>\n",
              "      <td>None</td>\n",
              "      <td>None</td>\n",
              "      <td>None</td>\n",
              "      <td>None</td>\n",
              "      <td>None</td>\n",
              "      <td>None</td>\n",
              "      <td>None</td>\n",
              "      <td>None</td>\n",
              "      <td>None</td>\n",
              "      <td>None</td>\n",
              "      <td>None</td>\n",
              "    </tr>\n",
              "  </tbody>\n",
              "</table>\n",
              "</div>"
            ],
            "text/plain": [
              "                                          0   ...    32\n",
              "664953641   2019Launch-TransformationPackage  ...  None\n",
              "1066209280            AgeRange-GreaterThan40  ...  None\n",
              "1050368065              ChatCoaching-Invited  ...  None\n",
              "\n",
              "[3 rows x 33 columns]"
            ]
          },
          "metadata": {
            "tags": []
          },
          "execution_count": 220
        }
      ]
    },
    {
      "cell_type": "code",
      "metadata": {
        "id": "UsAcnnltev9t"
      },
      "source": [
        "# Select relevant columns from hot_subs\n",
        "hot_subs = hot_subs.iloc[:, :4]"
      ],
      "execution_count": null,
      "outputs": []
    },
    {
      "cell_type": "code",
      "metadata": {
        "id": "hPmve6n6fRW6"
      },
      "source": [
        "# Get columns from hot_subs\n",
        "cols = hot_subs.columns.to_list()"
      ],
      "execution_count": null,
      "outputs": []
    },
    {
      "cell_type": "code",
      "metadata": {
        "id": "ZkqW7X10f4yX"
      },
      "source": [
        "# Reorder list of columns in hot_subs \n",
        "cols = ['first_name', 'email', 'status', 'location']\n",
        "hot_subs = hot_subs[cols]"
      ],
      "execution_count": null,
      "outputs": []
    },
    {
      "cell_type": "code",
      "metadata": {
        "id": "iupshQzQZ91b"
      },
      "source": [
        "# Merge tags into dataframes\n",
        "hot_subs = hot_subs.join(hot_subs_tag_info)"
      ],
      "execution_count": null,
      "outputs": []
    },
    {
      "cell_type": "code",
      "metadata": {
        "id": "POoPEmKRgitw"
      },
      "source": [
        "# Preview final data - REMOVED\n",
        "hot_subs"
      ],
      "execution_count": null,
      "outputs": []
    },
    {
      "cell_type": "code",
      "metadata": {
        "id": "CXYFiAGd_m4C"
      },
      "source": [
        "# Save hot_subs dataframe to CSV\n",
        "hot_subs.to_csv('hot_subs.csv', header=False, index=True)"
      ],
      "execution_count": null,
      "outputs": []
    },
    {
      "cell_type": "markdown",
      "metadata": {
        "id": "WRhIoSjV7EUy"
      },
      "source": [
        "# Files To Download"
      ]
    },
    {
      "cell_type": "code",
      "metadata": {
        "id": "0Tl7c4cc7GVU",
        "outputId": "70daee76-5296-499b-b1ab-dfbac02952f1",
        "colab": {
          "base_uri": "https://localhost:8080/",
          "height": 17
        }
      },
      "source": [
        "# Download CSV files\n",
        "files.download('no_clicks_past_6_mos.csv')\n",
        "files.download('hot_subs.csv')"
      ],
      "execution_count": null,
      "outputs": [
        {
          "output_type": "display_data",
          "data": {
            "application/javascript": [
              "\n",
              "    async function download(id, filename, size) {\n",
              "      if (!google.colab.kernel.accessAllowed) {\n",
              "        return;\n",
              "      }\n",
              "      const div = document.createElement('div');\n",
              "      const label = document.createElement('label');\n",
              "      label.textContent = `Downloading \"${filename}\": `;\n",
              "      div.appendChild(label);\n",
              "      const progress = document.createElement('progress');\n",
              "      progress.max = size;\n",
              "      div.appendChild(progress);\n",
              "      document.body.appendChild(div);\n",
              "\n",
              "      const buffers = [];\n",
              "      let downloaded = 0;\n",
              "\n",
              "      const channel = await google.colab.kernel.comms.open(id);\n",
              "      // Send a message to notify the kernel that we're ready.\n",
              "      channel.send({})\n",
              "\n",
              "      for await (const message of channel.messages) {\n",
              "        // Send a message to notify the kernel that we're ready.\n",
              "        channel.send({})\n",
              "        if (message.buffers) {\n",
              "          for (const buffer of message.buffers) {\n",
              "            buffers.push(buffer);\n",
              "            downloaded += buffer.byteLength;\n",
              "            progress.value = downloaded;\n",
              "          }\n",
              "        }\n",
              "      }\n",
              "      const blob = new Blob(buffers, {type: 'application/binary'});\n",
              "      const a = document.createElement('a');\n",
              "      a.href = window.URL.createObjectURL(blob);\n",
              "      a.download = filename;\n",
              "      div.appendChild(a);\n",
              "      a.click();\n",
              "      div.remove();\n",
              "    }\n",
              "  "
            ],
            "text/plain": [
              "<IPython.core.display.Javascript object>"
            ]
          },
          "metadata": {
            "tags": []
          }
        },
        {
          "output_type": "display_data",
          "data": {
            "application/javascript": [
              "download(\"download_3812ec70-69bd-4490-8bc0-e34c55d9b8ef\", \"no_clicks_past_6_mos.csv\", 4625)"
            ],
            "text/plain": [
              "<IPython.core.display.Javascript object>"
            ]
          },
          "metadata": {
            "tags": []
          }
        },
        {
          "output_type": "display_data",
          "data": {
            "application/javascript": [
              "\n",
              "    async function download(id, filename, size) {\n",
              "      if (!google.colab.kernel.accessAllowed) {\n",
              "        return;\n",
              "      }\n",
              "      const div = document.createElement('div');\n",
              "      const label = document.createElement('label');\n",
              "      label.textContent = `Downloading \"${filename}\": `;\n",
              "      div.appendChild(label);\n",
              "      const progress = document.createElement('progress');\n",
              "      progress.max = size;\n",
              "      div.appendChild(progress);\n",
              "      document.body.appendChild(div);\n",
              "\n",
              "      const buffers = [];\n",
              "      let downloaded = 0;\n",
              "\n",
              "      const channel = await google.colab.kernel.comms.open(id);\n",
              "      // Send a message to notify the kernel that we're ready.\n",
              "      channel.send({})\n",
              "\n",
              "      for await (const message of channel.messages) {\n",
              "        // Send a message to notify the kernel that we're ready.\n",
              "        channel.send({})\n",
              "        if (message.buffers) {\n",
              "          for (const buffer of message.buffers) {\n",
              "            buffers.push(buffer);\n",
              "            downloaded += buffer.byteLength;\n",
              "            progress.value = downloaded;\n",
              "          }\n",
              "        }\n",
              "      }\n",
              "      const blob = new Blob(buffers, {type: 'application/binary'});\n",
              "      const a = document.createElement('a');\n",
              "      a.href = window.URL.createObjectURL(blob);\n",
              "      a.download = filename;\n",
              "      div.appendChild(a);\n",
              "      a.click();\n",
              "      div.remove();\n",
              "    }\n",
              "  "
            ],
            "text/plain": [
              "<IPython.core.display.Javascript object>"
            ]
          },
          "metadata": {
            "tags": []
          }
        },
        {
          "output_type": "display_data",
          "data": {
            "application/javascript": [
              "download(\"download_fb460d57-0739-4dbb-83cf-f7e6796d7f92\", \"hot_subs.csv\", 30981)"
            ],
            "text/plain": [
              "<IPython.core.display.Javascript object>"
            ]
          },
          "metadata": {
            "tags": []
          }
        }
      ]
    }
  ]
}